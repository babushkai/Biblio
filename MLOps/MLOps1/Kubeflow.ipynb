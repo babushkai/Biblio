{
 "cells": [
  {
   "cell_type": "code",
   "execution_count": 1,
   "id": "1b1b9051-5cfa-4d1c-8403-7d4c11b91f53",
   "metadata": {},
   "outputs": [],
   "source": [
    "from typing import NamedTuple\n",
    "\n",
    "from kfp import dsl\n",
    "from kfp.v2 import compiler\n",
    "from kfp.v2.dsl import component\n",
    "\n",
    "import google.cloud.aiplatform as aip"
   ]
  },
  {
   "cell_type": "code",
   "execution_count": 2,
   "id": "c994ecf9-b2ba-47b3-9e39-f4752f8b1501",
   "metadata": {},
   "outputs": [],
   "source": [
    "# If you are running this notebook in Colab, run this cell and follow the\n",
    "# instructions to authenticate your GCP account. This provides access to your\n",
    "# Cloud Storage bucket and lets you submit training jobs and prediction\n",
    "# requests.\n",
    "\n",
    "import os\n",
    "import sys\n",
    "\n",
    "# If on Google Cloud Notebook, then don't execute this code\n",
    "if not os.path.exists(\"/opt/deeplearning/metadata/env_version\"):\n",
    "    if \"google.colab\" in sys.modules:\n",
    "        from google.colab import auth as google_auth\n",
    "\n",
    "        google_auth.authenticate_user()\n",
    "\n",
    "    # If you are running this notebook locally, replace the string below with the\n",
    "    # path to your service account key and run this cell to authenticate your GCP\n",
    "    # account.\n",
    "    elif not os.getenv(\"IS_TESTING\"):\n",
    "        %env GOOGLE_APPLICATION_CREDENTIALS ''"
   ]
  },
  {
   "cell_type": "code",
   "execution_count": 3,
   "id": "2450e7d3-1cc6-4461-b7ae-742e7e5b9e21",
   "metadata": {},
   "outputs": [
    {
     "name": "stdout",
     "output_type": "stream",
     "text": [
      "Project ID: even-impulse-332807\n",
      "Updated property [core/project].\n"
     ]
    }
   ],
   "source": [
    "PROJECT_ID = \"[your-project-id]\" \n",
    "if PROJECT_ID == \"\" or PROJECT_ID is None or PROJECT_ID == \"[your-project-id]\":\n",
    "    # Get your GCP project id from gcloud\n",
    "    shell_output = ! gcloud config list --format 'value(core.project)' 2>/dev/null\n",
    "    PROJECT_ID = shell_output[0]\n",
    "    print(\"Project ID:\", PROJECT_ID)\n",
    "    \n",
    "! gcloud config set project $PROJECT_ID"
   ]
  },
  {
   "cell_type": "code",
   "execution_count": 4,
   "id": "c25ac97f-5ab8-4504-8ce7-2c2b0e210795",
   "metadata": {},
   "outputs": [],
   "source": [
    "BUCKET = \"gs://dkpipe\""
   ]
  },
  {
   "cell_type": "code",
   "execution_count": 5,
   "id": "dec947aa-518e-443d-8012-2edec67b2d79",
   "metadata": {},
   "outputs": [],
   "source": [
    "PIPELINE_ROOT = \"gs://dkpipe/pipeline_root\""
   ]
  },
  {
   "cell_type": "code",
   "execution_count": 6,
   "id": "38899aee-53b3-492f-8fea-4405bd65d927",
   "metadata": {},
   "outputs": [],
   "source": [
    "aip.init(project=PROJECT_ID, staging_bucket=BUCKET)"
   ]
  },
  {
   "cell_type": "code",
   "execution_count": 7,
   "id": "42eacbe4-c3ac-4c86-baa1-6fc62aef2e68",
   "metadata": {},
   "outputs": [],
   "source": [
    "@component(output_component_file=\"hw.yaml\", base_image = \"python:3.9\")\n",
    "def hello_world(text: str) -> str:\n",
    "    print(text)\n",
    "    return text"
   ]
  },
  {
   "cell_type": "code",
   "execution_count": 8,
   "id": "aae4ce36-2de1-4585-ba82-192f955c3693",
   "metadata": {},
   "outputs": [],
   "source": [
    "@component(packages_to_install = [\"google-cloud-storage\"])\n",
    "def two_outputs(text: str) -> NamedTuple(\n",
    "    \"Outputs\", [(\"output_one\", str), (\"output_two\", str)\n",
    "               ],):\n",
    "    from google.cloud import storage\n",
    "    o1 = f\"output{text}\"\n",
    "    o2 = f\"output{text}\"\n",
    "    print(f\"{o1}, {o2}\")\n",
    "    return (o1, o2)"
   ]
  },
  {
   "cell_type": "code",
   "execution_count": 9,
   "id": "66683ed2-13b1-4146-ac44-faa63d4234bf",
   "metadata": {},
   "outputs": [],
   "source": [
    "@component\n",
    "def consumer(text1: str, text2: str, text3: str):\n",
    "    print(f\"text1 {text1}, text2 {text2}, text3 {text3}\")"
   ]
  },
  {
   "cell_type": "code",
   "execution_count": 10,
   "id": "c4f0b52a-d709-4873-a0cc-345fd148ec4a",
   "metadata": {},
   "outputs": [],
   "source": [
    "@dsl.pipeline(name= \"hello-world-pipe\", \n",
    "             description = \"simple pipeline\")\n",
    "def pipeline(text: str = \"hi everyone\"):\n",
    "    hw_task = hello_world(text)\n",
    "    two_outputs_task = two_outputs(text)\n",
    "    consumer_task = consumer(\n",
    "    hw_task.output,\n",
    "    two_outputs_task.outputs[\"output_one\"],\n",
    "    two_outputs_task.outputs[\"output_two\"])"
   ]
  },
  {
   "cell_type": "code",
   "execution_count": 11,
   "id": "5c146233-944f-41f0-9209-02a817f16b5c",
   "metadata": {},
   "outputs": [
    {
     "name": "stderr",
     "output_type": "stream",
     "text": [
      "/opt/conda/lib/python3.7/site-packages/kfp/v2/compiler/compiler.py:1266: FutureWarning: APIs imported from the v1 namespace (e.g. kfp.dsl, kfp.components, etc) will not be supported by the v2 compiler since v2.0.0\n",
      "  category=FutureWarning,\n"
     ]
    }
   ],
   "source": [
    "from kfp.v2 import compiler\n",
    "\n",
    "compiler.Compiler().compile(\n",
    "    pipeline_func = pipeline, package_path = \"intro_pipeline.json\".replace(\" \", \"_\"))"
   ]
  },
  {
   "cell_type": "code",
   "execution_count": null,
   "id": "552aeed7-5af7-4c60-b011-c7622b1236c3",
   "metadata": {},
   "outputs": [
    {
     "name": "stdout",
     "output_type": "stream",
     "text": [
      "INFO:google.cloud.aiplatform.pipeline_jobs:Creating PipelineJob\n",
      "INFO:google.cloud.aiplatform.pipeline_jobs:PipelineJob created. Resource name: projects/72552027929/locations/us-central1/pipelineJobs/hello-world-pipe-20211202085417\n",
      "INFO:google.cloud.aiplatform.pipeline_jobs:To use this PipelineJob in another session:\n",
      "INFO:google.cloud.aiplatform.pipeline_jobs:pipeline_job = aiplatform.PipelineJob.get('projects/72552027929/locations/us-central1/pipelineJobs/hello-world-pipe-20211202085417')\n",
      "INFO:google.cloud.aiplatform.pipeline_jobs:View Pipeline Job:\n",
      "https://console.cloud.google.com/vertex-ai/locations/us-central1/pipelines/runs/hello-world-pipe-20211202085417?project=72552027929\n",
      "INFO:google.cloud.aiplatform.pipeline_jobs:PipelineJob projects/72552027929/locations/us-central1/pipelineJobs/hello-world-pipe-20211202085417 current state:\n",
      "PipelineState.PIPELINE_STATE_RUNNING\n",
      "INFO:google.cloud.aiplatform.pipeline_jobs:PipelineJob projects/72552027929/locations/us-central1/pipelineJobs/hello-world-pipe-20211202085417 current state:\n",
      "PipelineState.PIPELINE_STATE_RUNNING\n",
      "INFO:google.cloud.aiplatform.pipeline_jobs:PipelineJob projects/72552027929/locations/us-central1/pipelineJobs/hello-world-pipe-20211202085417 current state:\n",
      "PipelineState.PIPELINE_STATE_RUNNING\n",
      "INFO:google.cloud.aiplatform.pipeline_jobs:PipelineJob projects/72552027929/locations/us-central1/pipelineJobs/hello-world-pipe-20211202085417 current state:\n",
      "PipelineState.PIPELINE_STATE_RUNNING\n"
     ]
    }
   ],
   "source": [
    "job = aip.PipelineJob(\n",
    "    display_name = \"job1\",\n",
    "    template_path = \"intro_pipeline.json\".replace(\" \", \"_\"),\n",
    "    pipeline_root = PIPELINE_ROOT,\n",
    "    enable_caching=False,\n",
    "    )\n",
    "job.run()"
   ]
  }
 ],
 "metadata": {
  "environment": {
   "kernel": "python3",
   "name": "tf2-gpu.2-6.m86",
   "type": "gcloud",
   "uri": "gcr.io/deeplearning-platform-release/tf2-gpu.2-6:m86"
  },
  "kernelspec": {
   "display_name": "Python 3",
   "language": "python",
   "name": "python3"
  },
  "language_info": {
   "codemirror_mode": {
    "name": "ipython",
    "version": 3
   },
   "file_extension": ".py",
   "mimetype": "text/x-python",
   "name": "python",
   "nbconvert_exporter": "python",
   "pygments_lexer": "ipython3",
   "version": "3.7.12"
  }
 },
 "nbformat": 4,
 "nbformat_minor": 5
}
