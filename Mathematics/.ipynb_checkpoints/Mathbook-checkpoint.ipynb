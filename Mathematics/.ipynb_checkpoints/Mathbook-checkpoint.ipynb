{
 "cells": [
  {
   "cell_type": "markdown",
   "id": "4f5d63b3-276c-47c7-ad92-fc2d8ec295fa",
   "metadata": {},
   "source": [
    "### Basic Math"
   ]
  },
  {
   "cell_type": "code",
   "execution_count": 1,
   "id": "5724a065-2689-43e3-aba5-5daa6bb6c7ad",
   "metadata": {},
   "outputs": [],
   "source": [
    "import numpy as np"
   ]
  },
  {
   "cell_type": "markdown",
   "id": "351ccb8b-199c-45b2-9dbd-fec6b1b95a10",
   "metadata": {},
   "source": [
    "$log_b(a) = c \\Leftrightarrow  b^c = a $"
   ]
  },
  {
   "cell_type": "code",
   "execution_count": 20,
   "id": "ccf085bc-bc85-4034-98ee-9d0139df6403",
   "metadata": {},
   "outputs": [],
   "source": [
    "a = 400\n",
    "c = np.log2(a) \n",
    "assert 2**c - a < 0.00001"
   ]
  },
  {
   "cell_type": "markdown",
   "id": "4f68831e-166a-434f-8622-baf3c519d12e",
   "metadata": {},
   "source": [
    "Change of base"
   ]
  },
  {
   "cell_type": "markdown",
   "id": "7db4d792-c29f-4d86-8db0-050d115fc72f",
   "metadata": {},
   "source": [
    "${\\displaystyle \\log _{b}x={\\frac {\\log _{k}x}{\\log _{k}b}}.\\,}$"
   ]
  },
  {
   "cell_type": "code",
   "execution_count": 24,
   "id": "0972de88-42bf-4a7f-9e32-e56c3c14a345",
   "metadata": {},
   "outputs": [],
   "source": [
    "assert np.log2(10) - np.log10(10)/np.log10(2) < 0.001"
   ]
  },
  {
   "cell_type": "markdown",
   "id": "13ec6491-f59d-44ed-ad8f-ef4b1b2ae5eb",
   "metadata": {},
   "source": [
    "$log \\frac{p(x}{q(x)}  \\Leftrightarrow　p(x) - q(x)$"
   ]
  },
  {
   "cell_type": "code",
   "execution_count": 6,
   "id": "3ca4cf96-92a6-4cb7-b77e-d991af1abb70",
   "metadata": {},
   "outputs": [
    {
     "data": {
      "text/plain": [
       "True"
      ]
     },
     "execution_count": 6,
     "metadata": {},
     "output_type": "execute_result"
    }
   ],
   "source": [
    "np.log(2/4) == np.log(2) - np.log(4)"
   ]
  },
  {
   "cell_type": "markdown",
   "id": "e90c80ac-03d5-4121-aab5-10fd548b52c4",
   "metadata": {},
   "source": [
    "### Calculus"
   ]
  },
  {
   "cell_type": "markdown",
   "id": "18b70aa2-896c-4970-9de8-0df72e6eb9bd",
   "metadata": {},
   "source": [
    "Function \\\n",
    "$x \\in X f(x) = y \\in Y$ \\\n",
    "$x \\in \\mathbb{R} f y = f(x) \\in \\mathbb{R}$"
   ]
  },
  {
   "cell_type": "markdown",
   "id": "cbf85888-7d00-4c5d-949c-2e57a7a29b83",
   "metadata": {},
   "source": [
    "Property \\\n",
    "$f(\\alpha x) = \\alpha f(x)$ \\\n",
    "$f(x_1 + x_2) = f(x_1) + f(x_2)$\n",
    "\n",
    "$f(x) = ax $ linear \\\n",
    "$f(x) = ax + b $ affine "
   ]
  },
  {
   "cell_type": "markdown",
   "id": "a443201d-65d9-4d89-a7a8-674ff0890d59",
   "metadata": {},
   "source": [
    "Nonlinear functions: all others \n",
    "- power function: $f(x) = cx^a$ \\\n",
    "a = 2 square \\\n",
    "a 1/2 = square root \\\n",
    "$-1$ = inverse\n",
    "\n",
    "- exponential functions: $f(x) = ca^x$ for some a $\\in \\mathbb{r}$\n",
    "a = e 2.7\n",
    "\n",
    "- logarithm functions: $y=a^x x$ \\\n",
    "$y=a^x$ \\\n",
    "$x = log_a y$"
   ]
  },
  {
   "cell_type": "markdown",
   "id": "5ab872af-3bdc-4c0d-b01e-80ea67b947e5",
   "metadata": {},
   "source": [
    "Derivative \\\n",
    "if I slightly move x, how does f(x) change \\\n",
    "limit of rate of variation of function = derivative =  slope of tangent\\\n",
    "tangent is flat = no variation from small perturbation of f(x)"
   ]
  },
  {
   "cell_type": "markdown",
   "id": "8577da24-6019-4215-afad-60d0ca879f01",
   "metadata": {},
   "source": [
    "$(cf(x))' = cf'(x) $ \\\n",
    "$(f(x)+g(x))' = f'(x) + g'(x)$"
   ]
  },
  {
   "cell_type": "markdown",
   "id": "2722728a-dbe9-4419-a4a8-1655c8c43112",
   "metadata": {},
   "source": [
    "$(\\frac{u}{v})' = \\frac{u'v - uv'}{v^2}$ \\\n",
    "$\\frac{u}{v} = u \\times \\frac{1}{v} = u' \\times \\frac{1}{v} + u \\times (\\frac{1}{v})' $"
   ]
  },
  {
   "cell_type": "markdown",
   "id": "69fe973f-82eb-466d-afd2-617d8c0a305b",
   "metadata": {},
   "source": [
    "$f(x) = (2x)^3 = u^3$ with $u = 2x \\rightarrow 3(2x)^2 * 2$ \\\n",
    "$f(x) = 8 x^3 \\rightarrow f'(x) = 8 \\times 3x^2 = 24x^2$"
   ]
  },
  {
   "cell_type": "markdown",
   "id": "653e6d56-8d6c-44d8-967e-ea47f24fe481",
   "metadata": {},
   "source": [
    "Polynomial function, derivative gives one degree lower polynomial"
   ]
  },
  {
   "cell_type": "markdown",
   "id": "7d39bd50-0d8d-4b9b-b3ea-30a690aeddc6",
   "metadata": {},
   "source": [
    "![](https://demonstrations.wolfram.com/AFifthDegreePolynomialAndItsDerivatives/img/popup_3.png)"
   ]
  },
  {
   "cell_type": "markdown",
   "id": "01145d86-ad84-465d-9997-2b35798651e9",
   "metadata": {},
   "source": [
    "Approximation"
   ]
  },
  {
   "cell_type": "markdown",
   "id": "2c0dd668-d7fe-46fd-a1aa-2cee7893c66a",
   "metadata": {},
   "source": [
    "Taylor function"
   ]
  },
  {
   "cell_type": "markdown",
   "id": "1d0c5343-d697-4373-9eee-d515df2d96bf",
   "metadata": {},
   "source": [
    "Mean Value theorem\n",
    "\n",
    "$f'(c) = \\frac{f(b) - f(a)}{b - a}$\n",
    "$f(a) = f(b) \\Rightarrow$  $\\exists$ c s.t. $f'(c) = 0$\n",
    "$\\int_a^bf(t)dt = f(c) \\times (b -a )$ where $f(c) = $ mean value"
   ]
  },
  {
   "cell_type": "markdown",
   "id": "057d6142-e261-4623-a525-3bcd7c1993cb",
   "metadata": {},
   "source": [
    "Integration by part $\\Leftarrow$ (uv)' = u'v + uv'"
   ]
  },
  {
   "cell_type": "markdown",
   "id": "29cd73e5-e376-4140-9e87-0756825d5ec7",
   "metadata": {},
   "source": [
    "$\\int u'(x) \\times v(x) dx = - \\int u(x) v'(x) + u(x)v(x)$"
   ]
  },
  {
   "cell_type": "markdown",
   "id": "72db3b23-7f14-44a6-aa61-6f0fe96f476d",
   "metadata": {},
   "source": [
    "$\\int ln x dx = x ln x - x + C$"
   ]
  },
  {
   "cell_type": "markdown",
   "id": "8b92832e-2bac-4120-bad2-5e4f5a284af7",
   "metadata": {},
   "source": [
    "Substitution rule\n",
    "$\\int f'(u) \\times u' = f(u)(+C)$ \\\n",
    "$(f(u))' = f'(u) \\times u'$ \\\n",
    "$\\int f(u) \\times u' = F(u)$ \\\n",
    "$(F(u))' = F'(u) \\times u' = f(u) \\times u'$\n",
    "$\\int cos(e^x) \\times e^x dx = sin(e^x) + C$"
   ]
  },
  {
   "cell_type": "markdown",
   "id": "e4f2e3aa-e9b1-4c5c-87c1-15f5d2baa2c4",
   "metadata": {},
   "source": [
    "### Linear Algebra"
   ]
  },
  {
   "cell_type": "code",
   "execution_count": 3,
   "id": "fdf3860b-fcc8-4982-937a-690dea0c5169",
   "metadata": {},
   "outputs": [
    {
     "name": "stdout",
     "output_type": "stream",
     "text": [
      "x:  [1 2 3]\n",
      "y:  [6 7 8]\n",
      "A:  [[1 2 3]\n",
      " [4 5 6]\n",
      " [7 8 9]]\n",
      "B:  [[4 2 3]\n",
      " [5 6 9]\n",
      " [6 4 3]]\n"
     ]
    }
   ],
   "source": [
    "import numpy as np\n",
    "from numpy import random\n",
    "x = np.arange(1, 4)\n",
    "y = np.arange(6, 9)\n",
    "A = np.arange(1, 10).reshape(3, 3)\n",
    "B = random.randint(1, 10, (3, 3))\n",
    "\n",
    "print(\"x: \", x)\n",
    "print(\"y: \", y)\n",
    "print(\"A: \", A)\n",
    "print(\"B: \", B)"
   ]
  },
  {
   "cell_type": "code",
   "execution_count": 8,
   "id": "fafc9ca8-aafd-405b-9918-6b0bc96967de",
   "metadata": {},
   "outputs": [
    {
     "name": "stdout",
     "output_type": "stream",
     "text": [
      "44\n",
      "44\n",
      "44\n",
      "[[ 32  26  30]\n",
      " [ 77  62  75]\n",
      " [122  98 120]]\n",
      "[[ 32  26  30]\n",
      " [ 77  62  75]\n",
      " [122  98 120]]\n",
      "[[ 32  26  30]\n",
      " [ 77  62  75]\n",
      " [122  98 120]]\n"
     ]
    }
   ],
   "source": [
    "#\"Inner product of x and y\"\n",
    "print(np.dot(x, y))\n",
    "print(np.matmul(x, y))\n",
    "print(x@y)\n",
    "\n",
    "#outer product\n",
    "np.outer(x, y)\n",
    "\n",
    "#\"Matrix Multiplication of A and B\"\n",
    "print(np.dot(A, B))\n",
    "print(np.matmul(A, B))\n",
    "print(A@B)"
   ]
  }
 ],
 "metadata": {
  "environment": {
   "kernel": "python3",
   "name": "tf2-gpu.2-6.m84",
   "type": "gcloud",
   "uri": "gcr.io/deeplearning-platform-release/tf2-gpu.2-6:m84"
  },
  "kernelspec": {
   "display_name": "Python 3",
   "language": "python",
   "name": "python3"
  },
  "language_info": {
   "codemirror_mode": {
    "name": "ipython",
    "version": 3
   },
   "file_extension": ".py",
   "mimetype": "text/x-python",
   "name": "python",
   "nbconvert_exporter": "python",
   "pygments_lexer": "ipython3",
   "version": "3.7.12"
  }
 },
 "nbformat": 4,
 "nbformat_minor": 5
}
