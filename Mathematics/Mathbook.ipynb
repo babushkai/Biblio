{
 "cells": [
  {
   "cell_type": "code",
   "execution_count": 1,
   "id": "5724a065-2689-43e3-aba5-5daa6bb6c7ad",
   "metadata": {},
   "outputs": [],
   "source": [
    "import numpy as np"
   ]
  },
  {
   "cell_type": "markdown",
   "id": "351ccb8b-199c-45b2-9dbd-fec6b1b95a10",
   "metadata": {},
   "source": [
    "$log_b(a) = c \\Leftrightarrow  b^c = a $"
   ]
  },
  {
   "cell_type": "code",
   "execution_count": 20,
   "id": "ccf085bc-bc85-4034-98ee-9d0139df6403",
   "metadata": {},
   "outputs": [],
   "source": [
    "a = 400\n",
    "c = np.log2(a) \n",
    "assert 2**c - a < 0.00001"
   ]
  },
  {
   "cell_type": "markdown",
   "id": "4f68831e-166a-434f-8622-baf3c519d12e",
   "metadata": {},
   "source": [
    "Change of base"
   ]
  },
  {
   "cell_type": "markdown",
   "id": "7db4d792-c29f-4d86-8db0-050d115fc72f",
   "metadata": {},
   "source": [
    "\n",
    "${\\displaystyle \\log _{b}x={\\frac {\\log _{k}x}{\\log _{k}b}}.\\,}$"
   ]
  },
  {
   "cell_type": "code",
   "execution_count": 24,
   "id": "0972de88-42bf-4a7f-9e32-e56c3c14a345",
   "metadata": {},
   "outputs": [],
   "source": [
    "assert np.log2(10) - np.log10(10)/np.log10(2) < 0.001"
   ]
  },
  {
   "cell_type": "markdown",
   "id": "13ec6491-f59d-44ed-ad8f-ef4b1b2ae5eb",
   "metadata": {},
   "source": [
    "$log \\frac{p(x}{q(x)}  \\Leftrightarrow　p(x) - q(x)$"
   ]
  },
  {
   "cell_type": "code",
   "execution_count": 6,
   "id": "3ca4cf96-92a6-4cb7-b77e-d991af1abb70",
   "metadata": {},
   "outputs": [
    {
     "data": {
      "text/plain": [
       "True"
      ]
     },
     "execution_count": 6,
     "metadata": {},
     "output_type": "execute_result"
    }
   ],
   "source": [
    "np.log(2/4) == np.log(2) - np.log(4)"
   ]
  }
 ],
 "metadata": {
  "environment": {
   "kernel": "python3",
   "name": "tf2-gpu.2-6.m86",
   "type": "gcloud",
   "uri": "gcr.io/deeplearning-platform-release/tf2-gpu.2-6:m86"
  },
  "kernelspec": {
   "display_name": "Python 3",
   "language": "python",
   "name": "python3"
  },
  "language_info": {
   "codemirror_mode": {
    "name": "ipython",
    "version": 3
   },
   "file_extension": ".py",
   "mimetype": "text/x-python",
   "name": "python",
   "nbconvert_exporter": "python",
   "pygments_lexer": "ipython3",
   "version": "3.7.12"
  }
 },
 "nbformat": 4,
 "nbformat_minor": 5
}
