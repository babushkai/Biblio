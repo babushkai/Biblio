{
 "cells": [
  {
   "cell_type": "code",
   "execution_count": 79,
   "id": "cc579b5a-ef29-411a-8e2b-7493da3e8d97",
   "metadata": {},
   "outputs": [],
   "source": [
    "num_list = [0, 6, 0, 2, 0, 1, 5]\n",
    "# new_num_list_0 = []\n",
    "# new_num_list = []\n",
    "# for num in num_list:\n",
    "#     if int(num) == 0:\n",
    "#         new_num_list_0.append(num)\n",
    "#     else:\n",
    "#         new_num_list.append(num)\n",
    "# num_list = []\n",
    "# for num in  new_num_list:\n",
    "#     num_list.append(num)\n",
    "# for num in  new_num_list_0:\n",
    "#     num_list.append(num)   "
   ]
  },
  {
   "cell_type": "code",
   "execution_count": 80,
   "id": "fbe377e8-0cf2-4e6f-b377-f23a5b7a2846",
   "metadata": {},
   "outputs": [],
   "source": [
    "for i in range(len(num_list)-1):\n",
    "    for i in range(len(num_list)-1):\n",
    "        if num_list[i]== 0:\n",
    "            num_list[i], num_list[i+1] = num_list[i+1], num_list[i]"
   ]
  },
  {
   "cell_type": "code",
   "execution_count": 81,
   "id": "b1ad2968-cfb3-4fbd-a826-6aa780d4ad32",
   "metadata": {},
   "outputs": [
    {
     "data": {
      "text/plain": [
       "[6, 2, 1, 5, 0, 0, 0]"
      ]
     },
     "execution_count": 81,
     "metadata": {},
     "output_type": "execute_result"
    }
   ],
   "source": [
    "num_list"
   ]
  },
  {
   "cell_type": "code",
   "execution_count": 41,
   "id": "d2a75974-c47f-4a75-8b24-ba4c685512a0",
   "metadata": {},
   "outputs": [],
   "source": [
    "a = 50\n",
    "b = 42\n",
    "divide_list_a = []\n",
    "divide_list_b = []\n",
    "i = 2\n",
    "while i < a:\n",
    "    if  a % i == 0:\n",
    "       divide_list_a.append(i)\n",
    "    i += 1\n",
    "i = 2\n",
    "while i < b:\n",
    "    if  b % i == 0:\n",
    "       divide_list_b.append(i)\n",
    "    i += 1\n",
    "\n",
    "a_b_and = set(divide_list_a) & set(divide_list_b)\n",
    "gcd = max(a_b_and)\n"
   ]
  },
  {
   "cell_type": "code",
   "execution_count": 11,
   "id": "49d2f8f5-dfd1-400e-9573-5c8cb5b37605",
   "metadata": {},
   "outputs": [
    {
     "data": {
      "text/plain": [
       "{2}"
      ]
     },
     "execution_count": 11,
     "metadata": {},
     "output_type": "execute_result"
    }
   ],
   "source": [
    "a_b_and"
   ]
  },
  {
   "cell_type": "code",
   "execution_count": 82,
   "id": "867b6eb0-8460-4b22-93fa-d794d8e400e7",
   "metadata": {},
   "outputs": [],
   "source": [
    "def computeGCD(x, y):\n",
    "  \n",
    "   while(y):\n",
    "       x, y = y, x % y\n",
    "  \n",
    "   return x\n",
    "  \n",
    "a = 60\n",
    "b= 48"
   ]
  },
  {
   "cell_type": "code",
   "execution_count": 83,
   "id": "044782b6-0136-4886-a97c-578201458e98",
   "metadata": {},
   "outputs": [
    {
     "data": {
      "text/plain": [
       "12"
      ]
     },
     "execution_count": 83,
     "metadata": {},
     "output_type": "execute_result"
    }
   ],
   "source": [
    "computeGCD(a, b)"
   ]
  },
  {
   "cell_type": "code",
   "execution_count": null,
   "id": "0aba9593-6db9-49f3-bfe1-f408dac143d0",
   "metadata": {},
   "outputs": [],
   "source": []
  }
 ],
 "metadata": {
  "kernelspec": {
   "display_name": "Python 3 (ipykernel)",
   "language": "python",
   "name": "python3"
  },
  "language_info": {
   "codemirror_mode": {
    "name": "ipython",
    "version": 3
   },
   "file_extension": ".py",
   "mimetype": "text/x-python",
   "name": "python",
   "nbconvert_exporter": "python",
   "pygments_lexer": "ipython3",
   "version": "3.9.6"
  }
 },
 "nbformat": 4,
 "nbformat_minor": 5
}
