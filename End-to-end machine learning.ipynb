{
 "cells": [
  {
   "cell_type": "code",
   "execution_count": 529,
   "id": "south-tragedy",
   "metadata": {},
   "outputs": [],
   "source": [
    "import os\n",
    "import numpy as np\n",
    "import pandas as pd\n",
    "from sklearn.cluster import KMeans\n",
    "from sklearn.model_selection import cross_val_score\n",
    "from sklearn.feature_selection import mutual_info_regression\n",
    "from xgboost import XGBClassifier\n",
    "from sklearn.ensemble import RandomForestClassifier\n",
    "from sklearn.neural_network import MLPClassifier\n",
    "\n",
    "import matplotlib.pyplot as plt\n",
    "import seaborn as sns\n",
    "\n",
    "plt.style.use(\"seaborn-whitegrid\")\n",
    "plt.rc(\"figure\", autolayout=True)\n",
    "plt.rc(\n",
    "    \"axes\",\n",
    "    labelweight=\"bold\",\n",
    "    labelsize=\"large\",\n",
    "    titleweight=\"bold\",\n",
    "    titlesize=14,\n",
    "    titlepad=10,\n",
    ")\n",
    "\n",
    "def score_dataset(X, y, model=XGBClassifier()):\n",
    "    # Label encoding for categoricals\n",
    "    for colname in X.select_dtypes([\"category\", \"object\"]):\n",
    "        X[colname], _ = X[colname].factorize()\n",
    "    # Metric for Housing competition is RMSLE (Root Mean Squared Log Error)\n",
    "    score = cross_val_score(\n",
    "        model, X, y, cv=10, scoring=\"recall\",\n",
    "    )\n",
    "    return score.mean()\n",
    "\n",
    "def plot_variance(pca, width=8, dpi=100):\n",
    "    # Create figure\n",
    "    fig, axs = plt.subplots(1, 2)\n",
    "    n = pca.n_components_\n",
    "    grid = np.arange(1, n + 1)\n",
    "    # Explained variance\n",
    "    evr = pca.explained_variance_ratio_\n",
    "    axs[0].bar(grid, evr)\n",
    "    axs[0].set(\n",
    "        xlabel=\"Component\", title=\"% Explained Variance\", ylim=(0.0, 1.0)\n",
    "    )\n",
    "    # Cumulative Variance\n",
    "    cv = np.cumsum(evr)\n",
    "    axs[1].plot(np.r_[0, grid], np.r_[0, cv], \"o-\")\n",
    "    axs[1].set(\n",
    "        xlabel=\"Component\", title=\"% Cumulative Variance\", ylim=(0.0, 1.0)\n",
    "    )\n",
    "    # Set up figure\n",
    "    fig.set(figwidth=8, dpi=100)\n",
    "    return axs\n",
    "\n",
    "def make_mi_scores(X, y, discrete_features):\n",
    "    mi_scores = mutual_info_regression(X, y, discrete_features=discrete_features)\n",
    "    mi_scores = pd.Series(mi_scores, name=\"MI Scores\", index=X.columns)\n",
    "    mi_scores = mi_scores.sort_values(ascending=False)\n",
    "    return mi_scores"
   ]
  },
  {
   "cell_type": "markdown",
   "id": "adopted-community",
   "metadata": {},
   "source": [
    "## Preprocessing"
   ]
  },
  {
   "cell_type": "code",
   "execution_count": 478,
   "id": "prospective-hopkins",
   "metadata": {},
   "outputs": [
    {
     "data": {
      "text/html": [
       "<div>\n",
       "<style scoped>\n",
       "    .dataframe tbody tr th:only-of-type {\n",
       "        vertical-align: middle;\n",
       "    }\n",
       "\n",
       "    .dataframe tbody tr th {\n",
       "        vertical-align: top;\n",
       "    }\n",
       "\n",
       "    .dataframe thead th {\n",
       "        text-align: right;\n",
       "    }\n",
       "</style>\n",
       "<table border=\"1\" class=\"dataframe\">\n",
       "  <thead>\n",
       "    <tr style=\"text-align: right;\">\n",
       "      <th></th>\n",
       "      <th>Unnamed: 0</th>\n",
       "      <th>checking</th>\n",
       "      <th>duration</th>\n",
       "      <th>credithistory</th>\n",
       "      <th>creditamount</th>\n",
       "      <th>savings</th>\n",
       "      <th>employment</th>\n",
       "      <th>installmentrate</th>\n",
       "      <th>guarantors</th>\n",
       "      <th>residence</th>\n",
       "      <th>...</th>\n",
       "      <th>d$purpose_A42</th>\n",
       "      <th>d$purpose_A43</th>\n",
       "      <th>d$purpose_A44</th>\n",
       "      <th>d$purpose_A45</th>\n",
       "      <th>d$purpose_A46</th>\n",
       "      <th>d$purpose_A48</th>\n",
       "      <th>d$purpose_A49</th>\n",
       "      <th>nmac</th>\n",
       "      <th>male</th>\n",
       "      <th>married</th>\n",
       "    </tr>\n",
       "  </thead>\n",
       "  <tbody>\n",
       "    <tr>\n",
       "      <th>0</th>\n",
       "      <td>1</td>\n",
       "      <td>1.0</td>\n",
       "      <td>6.0</td>\n",
       "      <td>0.0</td>\n",
       "      <td>1169.0</td>\n",
       "      <td>0.0</td>\n",
       "      <td>4.0</td>\n",
       "      <td>4.0</td>\n",
       "      <td>0.0</td>\n",
       "      <td>4.0</td>\n",
       "      <td>...</td>\n",
       "      <td>0</td>\n",
       "      <td>1</td>\n",
       "      <td>0</td>\n",
       "      <td>0</td>\n",
       "      <td>0</td>\n",
       "      <td>0</td>\n",
       "      <td>0</td>\n",
       "      <td>0</td>\n",
       "      <td>1</td>\n",
       "      <td>0</td>\n",
       "    </tr>\n",
       "    <tr>\n",
       "      <th>1</th>\n",
       "      <td>2</td>\n",
       "      <td>2.0</td>\n",
       "      <td>48.0</td>\n",
       "      <td>2.0</td>\n",
       "      <td>5951.0</td>\n",
       "      <td>0.0</td>\n",
       "      <td>2.0</td>\n",
       "      <td>2.0</td>\n",
       "      <td>0.0</td>\n",
       "      <td>2.0</td>\n",
       "      <td>...</td>\n",
       "      <td>0</td>\n",
       "      <td>1</td>\n",
       "      <td>0</td>\n",
       "      <td>0</td>\n",
       "      <td>0</td>\n",
       "      <td>0</td>\n",
       "      <td>0</td>\n",
       "      <td>1</td>\n",
       "      <td>0</td>\n",
       "      <td>1</td>\n",
       "    </tr>\n",
       "    <tr>\n",
       "      <th>2</th>\n",
       "      <td>3</td>\n",
       "      <td>0.0</td>\n",
       "      <td>12.0</td>\n",
       "      <td>0.0</td>\n",
       "      <td>2096.0</td>\n",
       "      <td>0.0</td>\n",
       "      <td>3.0</td>\n",
       "      <td>2.0</td>\n",
       "      <td>0.0</td>\n",
       "      <td>3.0</td>\n",
       "      <td>...</td>\n",
       "      <td>0</td>\n",
       "      <td>0</td>\n",
       "      <td>0</td>\n",
       "      <td>0</td>\n",
       "      <td>1</td>\n",
       "      <td>0</td>\n",
       "      <td>0</td>\n",
       "      <td>1</td>\n",
       "      <td>1</td>\n",
       "      <td>0</td>\n",
       "    </tr>\n",
       "    <tr>\n",
       "      <th>3</th>\n",
       "      <td>4</td>\n",
       "      <td>1.0</td>\n",
       "      <td>42.0</td>\n",
       "      <td>2.0</td>\n",
       "      <td>7882.0</td>\n",
       "      <td>0.0</td>\n",
       "      <td>3.0</td>\n",
       "      <td>2.0</td>\n",
       "      <td>1.0</td>\n",
       "      <td>4.0</td>\n",
       "      <td>...</td>\n",
       "      <td>1</td>\n",
       "      <td>0</td>\n",
       "      <td>0</td>\n",
       "      <td>0</td>\n",
       "      <td>0</td>\n",
       "      <td>0</td>\n",
       "      <td>0</td>\n",
       "      <td>1</td>\n",
       "      <td>1</td>\n",
       "      <td>0</td>\n",
       "    </tr>\n",
       "    <tr>\n",
       "      <th>4</th>\n",
       "      <td>5</td>\n",
       "      <td>1.0</td>\n",
       "      <td>24.0</td>\n",
       "      <td>1.0</td>\n",
       "      <td>4870.0</td>\n",
       "      <td>0.0</td>\n",
       "      <td>2.0</td>\n",
       "      <td>3.0</td>\n",
       "      <td>0.0</td>\n",
       "      <td>4.0</td>\n",
       "      <td>...</td>\n",
       "      <td>0</td>\n",
       "      <td>0</td>\n",
       "      <td>0</td>\n",
       "      <td>0</td>\n",
       "      <td>0</td>\n",
       "      <td>0</td>\n",
       "      <td>0</td>\n",
       "      <td>1</td>\n",
       "      <td>1</td>\n",
       "      <td>0</td>\n",
       "    </tr>\n",
       "  </tbody>\n",
       "</table>\n",
       "<p>5 rows × 29 columns</p>\n",
       "</div>"
      ],
      "text/plain": [
       "   Unnamed: 0  checking  duration  credithistory  creditamount  savings  \\\n",
       "0           1       1.0       6.0            0.0        1169.0      0.0   \n",
       "1           2       2.0      48.0            2.0        5951.0      0.0   \n",
       "2           3       0.0      12.0            0.0        2096.0      0.0   \n",
       "3           4       1.0      42.0            2.0        7882.0      0.0   \n",
       "4           5       1.0      24.0            1.0        4870.0      0.0   \n",
       "\n",
       "   employment  installmentrate  guarantors  residence  ...  d$purpose_A42  \\\n",
       "0         4.0              4.0         0.0        4.0  ...              0   \n",
       "1         2.0              2.0         0.0        2.0  ...              0   \n",
       "2         3.0              2.0         0.0        3.0  ...              0   \n",
       "3         3.0              2.0         1.0        4.0  ...              1   \n",
       "4         2.0              3.0         0.0        4.0  ...              0   \n",
       "\n",
       "   d$purpose_A43  d$purpose_A44  d$purpose_A45  d$purpose_A46  d$purpose_A48  \\\n",
       "0              1              0              0              0              0   \n",
       "1              1              0              0              0              0   \n",
       "2              0              0              0              1              0   \n",
       "3              0              0              0              0              0   \n",
       "4              0              0              0              0              0   \n",
       "\n",
       "   d$purpose_A49  nmac  male  married  \n",
       "0              0     0     1        0  \n",
       "1              0     1     0        1  \n",
       "2              0     1     1        0  \n",
       "3              0     1     1        0  \n",
       "4              0     1     1        0  \n",
       "\n",
       "[5 rows x 29 columns]"
      ]
     },
     "execution_count": 478,
     "metadata": {},
     "output_type": "execute_result"
    }
   ],
   "source": [
    "cwd= os.getcwd()\n",
    "df=pd.read_csv(cwd+\"\\\\credit_rating.csv\")\n",
    "df.head(5)"
   ]
  },
  {
   "cell_type": "code",
   "execution_count": 479,
   "id": "approximate-burlington",
   "metadata": {
    "scrolled": true
   },
   "outputs": [],
   "source": [
    "df.drop(['Unnamed: 0', 'd$purpose_A40', 'd$purpose_A41', 'd$purpose_A42',\n",
    "       'd$purpose_A43', 'd$purpose_A44', 'd$purpose_A45', 'd$purpose_A46',\n",
    "       'd$purpose_A48', 'd$purpose_A49'], axis=1, inplace=True)\n",
    "df = df.dropna()"
   ]
  },
  {
   "cell_type": "code",
   "execution_count": 480,
   "id": "cooperative-doubt",
   "metadata": {
    "scrolled": true
   },
   "outputs": [
    {
     "data": {
      "text/plain": [
       "creditamount          2822.736876\n",
       "duration                12.058814\n",
       "age                     11.375469\n",
       "employment               1.208306\n",
       "installmentrate          1.118715\n",
       "residence                1.103718\n",
       "credithistory            1.083120\n",
       "property                 1.050209\n",
       "checking                 0.957034\n",
       "savings                  0.805307\n",
       "job                      0.653614\n",
       "numexistingcredits       0.577654\n",
       "married                  0.497940\n",
       "male                     0.462725\n",
       "creditrating             0.458487\n",
       "nmac                     0.386860\n",
       "housing                  0.383544\n",
       "guarantors               0.290578\n",
       "foreigner                0.188856\n",
       "Name: std, dtype: float64"
      ]
     },
     "execution_count": 480,
     "metadata": {},
     "output_type": "execute_result"
    }
   ],
   "source": [
    "df.describe().T[\"std\"].sort_values(ascending=False)"
   ]
  },
  {
   "cell_type": "code",
   "execution_count": 481,
   "id": "approximate-longer",
   "metadata": {
    "scrolled": true
   },
   "outputs": [
    {
     "name": "stderr",
     "output_type": "stream",
     "text": [
      "C:\\Users\\daisu\\anaconda3\\lib\\site-packages\\pandas\\plotting\\_matplotlib\\tools.py:400: MatplotlibDeprecationWarning: \n",
      "The is_first_col function was deprecated in Matplotlib 3.4 and will be removed two minor releases later. Use ax.get_subplotspec().is_first_col() instead.\n",
      "  if ax.is_first_col():\n",
      "C:\\Users\\daisu\\anaconda3\\lib\\site-packages\\pandas\\plotting\\_matplotlib\\tools.py:400: MatplotlibDeprecationWarning: \n",
      "The is_first_col function was deprecated in Matplotlib 3.4 and will be removed two minor releases later. Use ax.get_subplotspec().is_first_col() instead.\n",
      "  if ax.is_first_col():\n",
      "C:\\Users\\daisu\\anaconda3\\lib\\site-packages\\pandas\\plotting\\_matplotlib\\tools.py:400: MatplotlibDeprecationWarning: \n",
      "The is_first_col function was deprecated in Matplotlib 3.4 and will be removed two minor releases later. Use ax.get_subplotspec().is_first_col() instead.\n",
      "  if ax.is_first_col():\n"
     ]
    },
    {
     "data": {
      "text/plain": [
       "<AxesSubplot:>"
      ]
     },
     "execution_count": 481,
     "metadata": {},
     "output_type": "execute_result"
    },
    {
     "data": {
      "image/png": "[encoded data removed]",
      "text/plain": [
       "<Figure size 576x396 with 3 Axes>"
      ]
     },
     "metadata": {},
     "output_type": "display_data"
    }
   ],
   "source": [
    "fig, ax = plt.subplots(1,3)\n",
    "df.creditamount.plot.box(ax=ax[0])\n",
    "df.duration.plot.box(ax=ax[1])\n",
    "df.age.plot.box(ax=ax[2])"
   ]
  },
  {
   "cell_type": "code",
   "execution_count": 482,
   "id": "irish-automation",
   "metadata": {
    "scrolled": true
   },
   "outputs": [
    {
     "data": {
      "text/plain": [
       "<AxesSubplot:xlabel='age', ylabel='Density'>"
      ]
     },
     "execution_count": 482,
     "metadata": {},
     "output_type": "execute_result"
    },
    {
     "data": {
      "image/png": "[encoded data removed]",
      "text/plain": [
       "<Figure size 576x396 with 1 Axes>"
      ]
     },
     "metadata": {},
     "output_type": "display_data"
    }
   ],
   "source": [
    "sns.kdeplot(df.age, shade=True, hue=df.male)"
   ]
  },
  {
   "cell_type": "markdown",
   "id": "large-looking",
   "metadata": {},
   "source": [
    "## Clustering"
   ]
  },
  {
   "cell_type": "markdown",
   "id": "increased-queue",
   "metadata": {},
   "source": [
    "### K-Means"
   ]
  },
  {
   "cell_type": "code",
   "execution_count": 483,
   "id": "demanding-rebecca",
   "metadata": {},
   "outputs": [],
   "source": [
    "y, X = df.pop(\"creditrating\"), df\n",
    "X_scaled=(X - X.mean(axis=0))/X.std(axis=0)"
   ]
  },
  {
   "cell_type": "markdown",
   "id": "metropolitan-opinion",
   "metadata": {},
   "source": [
    "**Inertia** is the mean squared distance between each instance and its closest centroid"
   ]
  },
  {
   "cell_type": "code",
   "execution_count": 484,
   "id": "hairy-architecture",
   "metadata": {
    "scrolled": false
   },
   "outputs": [
    {
     "data": {
      "image/png": "[encoded data removed]",
      "text/plain": [
       "<Figure size 576x396 with 2 Axes>"
      ]
     },
     "metadata": {},
     "output_type": "display_data"
    },
    {
     "data": {
      "text/plain": [
       "<AxesSubplot:title={'center':'Distortion Score Elbow for KMeans Clustering'}, xlabel='k', ylabel='distortion score'>"
      ]
     },
     "execution_count": 484,
     "metadata": {},
     "output_type": "execute_result"
    }
   ],
   "source": [
    "from yellowbrick.cluster import KElbowVisualizer\n",
    "kmeans = KMeans()\n",
    "visualizer = KElbowVisualizer(kmeans, k=(1,30))\n",
    "visualizer.fit(X_scaled)\n",
    "visualizer.show()"
   ]
  },
  {
   "cell_type": "markdown",
   "id": "dried-repository",
   "metadata": {},
   "source": [
    "$\\text{silhouette_score} = \\frac{(b-a)}{max(a,b)}$"
   ]
  },
  {
   "cell_type": "code",
   "execution_count": 485,
   "id": "vanilla-distributor",
   "metadata": {
    "scrolled": false
   },
   "outputs": [
    {
     "data": {
      "image/png": "[encoded data removed]",
      "text/plain": [
       "<Figure size 576x396 with 2 Axes>"
      ]
     },
     "metadata": {},
     "output_type": "display_data"
    },
    {
     "data": {
      "text/plain": [
       "<AxesSubplot:title={'center':'Silhouette Score Elbow for KMeans Clustering'}, xlabel='k', ylabel='silhouette score'>"
      ]
     },
     "execution_count": 485,
     "metadata": {},
     "output_type": "execute_result"
    }
   ],
   "source": [
    "visualizer = KElbowVisualizer(kmeans, k=(2,30), metric=\"silhouette\")\n",
    "visualizer.fit(X)\n",
    "visualizer.show()"
   ]
  },
  {
   "cell_type": "code",
   "execution_count": 486,
   "id": "collected-curtis",
   "metadata": {
    "scrolled": false
   },
   "outputs": [
    {
     "data": {
      "text/plain": [
       "0.10370315885828442"
      ]
     },
     "execution_count": 486,
     "metadata": {},
     "output_type": "execute_result"
    }
   ],
   "source": [
    "kmeans = KMeans(n_clusters=9)\n",
    "X[\"Cluster\"] = kmeans.fit_predict(X_scaled)\n",
    "X[\"Cluster\"] = X[\"Cluster\"].astype(\"category\")\n",
    "X.head()\n",
    "\n",
    "from sklearn.metrics import silhouette_score\n",
    "silhouette_score(X_scaled, kmeans.labels_)"
   ]
  },
  {
   "cell_type": "code",
   "execution_count": 487,
   "id": "seasonal-robin",
   "metadata": {
    "scrolled": true
   },
   "outputs": [
    {
     "data": {
      "image/png": "[encoded data removed]",
      "text/plain": [
       "<Figure size 478.125x432 with 1 Axes>"
      ]
     },
     "metadata": {},
     "output_type": "display_data"
    }
   ],
   "source": [
    "sns.relplot(\n",
    "    x=\"duration\", y=\"creditamount\", hue=\"Cluster\", data=X, height=6,\n",
    ");"
   ]
  },
  {
   "cell_type": "code",
   "execution_count": 488,
   "id": "administrative-uzbekistan",
   "metadata": {
    "scrolled": true
   },
   "outputs": [],
   "source": [
    "kmeans = KMeans(n_clusters=10, n_init=10, random_state=0)\n",
    "X_cd=kmeans.fit_transform(X_scaled)"
   ]
  },
  {
   "cell_type": "markdown",
   "id": "racial-aspect",
   "metadata": {},
   "source": [
    "Add centroids to the original dataset"
   ]
  },
  {
   "cell_type": "code",
   "execution_count": 489,
   "id": "recreational-peninsula",
   "metadata": {},
   "outputs": [],
   "source": [
    "X_cd = pd.DataFrame(X_cd, columns=[f\"Centroid_{i}\" for i in range(X_cd.shape[1])])\n",
    "X = X.join(X_cd)"
   ]
  },
  {
   "cell_type": "markdown",
   "id": "several-zimbabwe",
   "metadata": {},
   "source": [
    "## Prediction without Cluster-Distance Features"
   ]
  },
  {
   "cell_type": "code",
   "execution_count": 490,
   "id": "healthy-charity",
   "metadata": {
    "scrolled": false
   },
   "outputs": [
    {
     "name": "stderr",
     "output_type": "stream",
     "text": [
      "C:\\Users\\daisu\\anaconda3\\lib\\site-packages\\xgboost\\sklearn.py:888: UserWarning: The use of label encoder in XGBClassifier is deprecated and will be removed in a future release. To remove this warning, do the following: 1) Pass option use_label_encoder=False when constructing XGBClassifier object; and 2) Encode your labels (y) as integers starting with 0, i.e. 0, 1, 2, ..., [num_class - 1].\n",
      "  warnings.warn(label_encoder_deprecation_msg, UserWarning)\n",
      "C:\\Users\\daisu\\anaconda3\\lib\\site-packages\\xgboost\\sklearn.py:888: UserWarning: The use of label encoder in XGBClassifier is deprecated and will be removed in a future release. To remove this warning, do the following: 1) Pass option use_label_encoder=False when constructing XGBClassifier object; and 2) Encode your labels (y) as integers starting with 0, i.e. 0, 1, 2, ..., [num_class - 1].\n",
      "  warnings.warn(label_encoder_deprecation_msg, UserWarning)\n",
      "C:\\Users\\daisu\\anaconda3\\lib\\site-packages\\xgboost\\sklearn.py:888: UserWarning: The use of label encoder in XGBClassifier is deprecated and will be removed in a future release. To remove this warning, do the following: 1) Pass option use_label_encoder=False when constructing XGBClassifier object; and 2) Encode your labels (y) as integers starting with 0, i.e. 0, 1, 2, ..., [num_class - 1].\n",
      "  warnings.warn(label_encoder_deprecation_msg, UserWarning)\n"
     ]
    },
    {
     "name": "stdout",
     "output_type": "stream",
     "text": [
      "[19:42:53] WARNING: C:/Users/Administrator/workspace/xgboost-win64_release_1.3.0/src/learner.cc:1061: Starting in XGBoost 1.3.0, the default evaluation metric used with the objective 'binary:logistic' was changed from 'error' to 'logloss'. Explicitly set eval_metric if you'd like to restore the old behavior.\n",
      "[19:42:53] WARNING: C:/Users/Administrator/workspace/xgboost-win64_release_1.3.0/src/learner.cc:1061: Starting in XGBoost 1.3.0, the default evaluation metric used with the objective 'binary:logistic' was changed from 'error' to 'logloss'. Explicitly set eval_metric if you'd like to restore the old behavior.\n",
      "[19:42:53] WARNING: C:/Users/Administrator/workspace/xgboost-win64_release_1.3.0/src/learner.cc:1061: Starting in XGBoost 1.3.0, the default evaluation metric used with the objective 'binary:logistic' was changed from 'error' to 'logloss'. Explicitly set eval_metric if you'd like to restore the old behavior.\n"
     ]
    },
    {
     "name": "stderr",
     "output_type": "stream",
     "text": [
      "C:\\Users\\daisu\\anaconda3\\lib\\site-packages\\xgboost\\sklearn.py:888: UserWarning: The use of label encoder in XGBClassifier is deprecated and will be removed in a future release. To remove this warning, do the following: 1) Pass option use_label_encoder=False when constructing XGBClassifier object; and 2) Encode your labels (y) as integers starting with 0, i.e. 0, 1, 2, ..., [num_class - 1].\n",
      "  warnings.warn(label_encoder_deprecation_msg, UserWarning)\n",
      "C:\\Users\\daisu\\anaconda3\\lib\\site-packages\\xgboost\\sklearn.py:888: UserWarning: The use of label encoder in XGBClassifier is deprecated and will be removed in a future release. To remove this warning, do the following: 1) Pass option use_label_encoder=False when constructing XGBClassifier object; and 2) Encode your labels (y) as integers starting with 0, i.e. 0, 1, 2, ..., [num_class - 1].\n",
      "  warnings.warn(label_encoder_deprecation_msg, UserWarning)\n",
      "C:\\Users\\daisu\\anaconda3\\lib\\site-packages\\xgboost\\sklearn.py:888: UserWarning: The use of label encoder in XGBClassifier is deprecated and will be removed in a future release. To remove this warning, do the following: 1) Pass option use_label_encoder=False when constructing XGBClassifier object; and 2) Encode your labels (y) as integers starting with 0, i.e. 0, 1, 2, ..., [num_class - 1].\n",
      "  warnings.warn(label_encoder_deprecation_msg, UserWarning)\n"
     ]
    },
    {
     "name": "stdout",
     "output_type": "stream",
     "text": [
      "[19:42:53] WARNING: C:/Users/Administrator/workspace/xgboost-win64_release_1.3.0/src/learner.cc:1061: Starting in XGBoost 1.3.0, the default evaluation metric used with the objective 'binary:logistic' was changed from 'error' to 'logloss'. Explicitly set eval_metric if you'd like to restore the old behavior.\n",
      "[19:42:53] WARNING: C:/Users/Administrator/workspace/xgboost-win64_release_1.3.0/src/learner.cc:1061: Starting in XGBoost 1.3.0, the default evaluation metric used with the objective 'binary:logistic' was changed from 'error' to 'logloss'. Explicitly set eval_metric if you'd like to restore the old behavior.\n",
      "[19:42:53] WARNING: C:/Users/Administrator/workspace/xgboost-win64_release_1.3.0/src/learner.cc:1061: Starting in XGBoost 1.3.0, the default evaluation metric used with the objective 'binary:logistic' was changed from 'error' to 'logloss'. Explicitly set eval_metric if you'd like to restore the old behavior.\n"
     ]
    },
    {
     "name": "stderr",
     "output_type": "stream",
     "text": [
      "C:\\Users\\daisu\\anaconda3\\lib\\site-packages\\xgboost\\sklearn.py:888: UserWarning: The use of label encoder in XGBClassifier is deprecated and will be removed in a future release. To remove this warning, do the following: 1) Pass option use_label_encoder=False when constructing XGBClassifier object; and 2) Encode your labels (y) as integers starting with 0, i.e. 0, 1, 2, ..., [num_class - 1].\n",
      "  warnings.warn(label_encoder_deprecation_msg, UserWarning)\n",
      "C:\\Users\\daisu\\anaconda3\\lib\\site-packages\\xgboost\\sklearn.py:888: UserWarning: The use of label encoder in XGBClassifier is deprecated and will be removed in a future release. To remove this warning, do the following: 1) Pass option use_label_encoder=False when constructing XGBClassifier object; and 2) Encode your labels (y) as integers starting with 0, i.e. 0, 1, 2, ..., [num_class - 1].\n",
      "  warnings.warn(label_encoder_deprecation_msg, UserWarning)\n",
      "C:\\Users\\daisu\\anaconda3\\lib\\site-packages\\xgboost\\sklearn.py:888: UserWarning: The use of label encoder in XGBClassifier is deprecated and will be removed in a future release. To remove this warning, do the following: 1) Pass option use_label_encoder=False when constructing XGBClassifier object; and 2) Encode your labels (y) as integers starting with 0, i.e. 0, 1, 2, ..., [num_class - 1].\n",
      "  warnings.warn(label_encoder_deprecation_msg, UserWarning)\n"
     ]
    },
    {
     "name": "stdout",
     "output_type": "stream",
     "text": [
      "[19:42:53] WARNING: C:/Users/Administrator/workspace/xgboost-win64_release_1.3.0/src/learner.cc:1061: Starting in XGBoost 1.3.0, the default evaluation metric used with the objective 'binary:logistic' was changed from 'error' to 'logloss'. Explicitly set eval_metric if you'd like to restore the old behavior.\n",
      "[19:42:53] WARNING: C:/Users/Administrator/workspace/xgboost-win64_release_1.3.0/src/learner.cc:1061: Starting in XGBoost 1.3.0, the default evaluation metric used with the objective 'binary:logistic' was changed from 'error' to 'logloss'. Explicitly set eval_metric if you'd like to restore the old behavior.\n",
      "[19:42:53] WARNING: C:/Users/Administrator/workspace/xgboost-win64_release_1.3.0/src/learner.cc:1061: Starting in XGBoost 1.3.0, the default evaluation metric used with the objective 'binary:logistic' was changed from 'error' to 'logloss'. Explicitly set eval_metric if you'd like to restore the old behavior.\n",
      "[19:42:54] WARNING: C:/Users/Administrator/workspace/xgboost-win64_release_1.3.0/src/learner.cc:1061: Starting in XGBoost 1.3.0, the default evaluation metric used with the objective 'binary:logistic' was changed from 'error' to 'logloss'. Explicitly set eval_metric if you'd like to restore the old behavior.\n"
     ]
    },
    {
     "name": "stderr",
     "output_type": "stream",
     "text": [
      "C:\\Users\\daisu\\anaconda3\\lib\\site-packages\\xgboost\\sklearn.py:888: UserWarning: The use of label encoder in XGBClassifier is deprecated and will be removed in a future release. To remove this warning, do the following: 1) Pass option use_label_encoder=False when constructing XGBClassifier object; and 2) Encode your labels (y) as integers starting with 0, i.e. 0, 1, 2, ..., [num_class - 1].\n",
      "  warnings.warn(label_encoder_deprecation_msg, UserWarning)\n"
     ]
    },
    {
     "data": {
      "text/plain": [
       "0.8642857142857142"
      ]
     },
     "execution_count": 490,
     "metadata": {},
     "output_type": "execute_result"
    }
   ],
   "source": [
    "score_dataset(df, y)"
   ]
  },
  {
   "cell_type": "markdown",
   "id": "democratic-building",
   "metadata": {},
   "source": [
    "## Prediction with Cluster-Distance Features"
   ]
  },
  {
   "cell_type": "code",
   "execution_count": 491,
   "id": "determined-accuracy",
   "metadata": {
    "scrolled": true
   },
   "outputs": [
    {
     "name": "stderr",
     "output_type": "stream",
     "text": [
      "C:\\Users\\daisu\\anaconda3\\lib\\site-packages\\xgboost\\sklearn.py:888: UserWarning: The use of label encoder in XGBClassifier is deprecated and will be removed in a future release. To remove this warning, do the following: 1) Pass option use_label_encoder=False when constructing XGBClassifier object; and 2) Encode your labels (y) as integers starting with 0, i.e. 0, 1, 2, ..., [num_class - 1].\n",
      "  warnings.warn(label_encoder_deprecation_msg, UserWarning)\n",
      "C:\\Users\\daisu\\anaconda3\\lib\\site-packages\\xgboost\\sklearn.py:888: UserWarning: The use of label encoder in XGBClassifier is deprecated and will be removed in a future release. To remove this warning, do the following: 1) Pass option use_label_encoder=False when constructing XGBClassifier object; and 2) Encode your labels (y) as integers starting with 0, i.e. 0, 1, 2, ..., [num_class - 1].\n",
      "  warnings.warn(label_encoder_deprecation_msg, UserWarning)\n"
     ]
    },
    {
     "name": "stdout",
     "output_type": "stream",
     "text": [
      "[19:42:54] WARNING: C:/Users/Administrator/workspace/xgboost-win64_release_1.3.0/src/learner.cc:1061: Starting in XGBoost 1.3.0, the default evaluation metric used with the objective 'binary:logistic' was changed from 'error' to 'logloss'. Explicitly set eval_metric if you'd like to restore the old behavior.\n",
      "[19:42:54] WARNING: C:/Users/Administrator/workspace/xgboost-win64_release_1.3.0/src/learner.cc:1061: Starting in XGBoost 1.3.0, the default evaluation metric used with the objective 'binary:logistic' was changed from 'error' to 'logloss'. Explicitly set eval_metric if you'd like to restore the old behavior.\n",
      "[19:42:54] WARNING: C:/Users/Administrator/workspace/xgboost-win64_release_1.3.0/src/learner.cc:1061: Starting in XGBoost 1.3.0, the default evaluation metric used with the objective 'binary:logistic' was changed from 'error' to 'logloss'. Explicitly set eval_metric if you'd like to restore the old behavior.\n"
     ]
    },
    {
     "name": "stderr",
     "output_type": "stream",
     "text": [
      "C:\\Users\\daisu\\anaconda3\\lib\\site-packages\\xgboost\\sklearn.py:888: UserWarning: The use of label encoder in XGBClassifier is deprecated and will be removed in a future release. To remove this warning, do the following: 1) Pass option use_label_encoder=False when constructing XGBClassifier object; and 2) Encode your labels (y) as integers starting with 0, i.e. 0, 1, 2, ..., [num_class - 1].\n",
      "  warnings.warn(label_encoder_deprecation_msg, UserWarning)\n"
     ]
    },
    {
     "name": "stdout",
     "output_type": "stream",
     "text": [
      "[19:42:54] WARNING: C:/Users/Administrator/workspace/xgboost-win64_release_1.3.0/src/learner.cc:1061: Starting in XGBoost 1.3.0, the default evaluation metric used with the objective 'binary:logistic' was changed from 'error' to 'logloss'. Explicitly set eval_metric if you'd like to restore the old behavior.\n",
      "[19:42:54] WARNING: C:/Users/Administrator/workspace/xgboost-win64_release_1.3.0/src/learner.cc:1061: Starting in XGBoost 1.3.0, the default evaluation metric used with the objective 'binary:logistic' was changed from 'error' to 'logloss'. Explicitly set eval_metric if you'd like to restore the old behavior.\n"
     ]
    },
    {
     "name": "stderr",
     "output_type": "stream",
     "text": [
      "C:\\Users\\daisu\\anaconda3\\lib\\site-packages\\xgboost\\sklearn.py:888: UserWarning: The use of label encoder in XGBClassifier is deprecated and will be removed in a future release. To remove this warning, do the following: 1) Pass option use_label_encoder=False when constructing XGBClassifier object; and 2) Encode your labels (y) as integers starting with 0, i.e. 0, 1, 2, ..., [num_class - 1].\n",
      "  warnings.warn(label_encoder_deprecation_msg, UserWarning)\n",
      "C:\\Users\\daisu\\anaconda3\\lib\\site-packages\\xgboost\\sklearn.py:888: UserWarning: The use of label encoder in XGBClassifier is deprecated and will be removed in a future release. To remove this warning, do the following: 1) Pass option use_label_encoder=False when constructing XGBClassifier object; and 2) Encode your labels (y) as integers starting with 0, i.e. 0, 1, 2, ..., [num_class - 1].\n",
      "  warnings.warn(label_encoder_deprecation_msg, UserWarning)\n"
     ]
    },
    {
     "name": "stdout",
     "output_type": "stream",
     "text": [
      "[19:42:54] WARNING: C:/Users/Administrator/workspace/xgboost-win64_release_1.3.0/src/learner.cc:1061: Starting in XGBoost 1.3.0, the default evaluation metric used with the objective 'binary:logistic' was changed from 'error' to 'logloss'. Explicitly set eval_metric if you'd like to restore the old behavior.\n"
     ]
    },
    {
     "name": "stderr",
     "output_type": "stream",
     "text": [
      "C:\\Users\\daisu\\anaconda3\\lib\\site-packages\\xgboost\\sklearn.py:888: UserWarning: The use of label encoder in XGBClassifier is deprecated and will be removed in a future release. To remove this warning, do the following: 1) Pass option use_label_encoder=False when constructing XGBClassifier object; and 2) Encode your labels (y) as integers starting with 0, i.e. 0, 1, 2, ..., [num_class - 1].\n",
      "  warnings.warn(label_encoder_deprecation_msg, UserWarning)\n"
     ]
    },
    {
     "name": "stdout",
     "output_type": "stream",
     "text": [
      "[19:42:54] WARNING: C:/Users/Administrator/workspace/xgboost-win64_release_1.3.0/src/learner.cc:1061: Starting in XGBoost 1.3.0, the default evaluation metric used with the objective 'binary:logistic' was changed from 'error' to 'logloss'. Explicitly set eval_metric if you'd like to restore the old behavior.\n",
      "[19:42:54] WARNING: C:/Users/Administrator/workspace/xgboost-win64_release_1.3.0/src/learner.cc:1061: Starting in XGBoost 1.3.0, the default evaluation metric used with the objective 'binary:logistic' was changed from 'error' to 'logloss'. Explicitly set eval_metric if you'd like to restore the old behavior.\n"
     ]
    },
    {
     "name": "stderr",
     "output_type": "stream",
     "text": [
      "C:\\Users\\daisu\\anaconda3\\lib\\site-packages\\xgboost\\sklearn.py:888: UserWarning: The use of label encoder in XGBClassifier is deprecated and will be removed in a future release. To remove this warning, do the following: 1) Pass option use_label_encoder=False when constructing XGBClassifier object; and 2) Encode your labels (y) as integers starting with 0, i.e. 0, 1, 2, ..., [num_class - 1].\n",
      "  warnings.warn(label_encoder_deprecation_msg, UserWarning)\n",
      "C:\\Users\\daisu\\anaconda3\\lib\\site-packages\\xgboost\\sklearn.py:888: UserWarning: The use of label encoder in XGBClassifier is deprecated and will be removed in a future release. To remove this warning, do the following: 1) Pass option use_label_encoder=False when constructing XGBClassifier object; and 2) Encode your labels (y) as integers starting with 0, i.e. 0, 1, 2, ..., [num_class - 1].\n",
      "  warnings.warn(label_encoder_deprecation_msg, UserWarning)\n"
     ]
    },
    {
     "name": "stdout",
     "output_type": "stream",
     "text": [
      "[19:42:54] WARNING: C:/Users/Administrator/workspace/xgboost-win64_release_1.3.0/src/learner.cc:1061: Starting in XGBoost 1.3.0, the default evaluation metric used with the objective 'binary:logistic' was changed from 'error' to 'logloss'. Explicitly set eval_metric if you'd like to restore the old behavior.\n"
     ]
    },
    {
     "name": "stderr",
     "output_type": "stream",
     "text": [
      "C:\\Users\\daisu\\anaconda3\\lib\\site-packages\\xgboost\\sklearn.py:888: UserWarning: The use of label encoder in XGBClassifier is deprecated and will be removed in a future release. To remove this warning, do the following: 1) Pass option use_label_encoder=False when constructing XGBClassifier object; and 2) Encode your labels (y) as integers starting with 0, i.e. 0, 1, 2, ..., [num_class - 1].\n",
      "  warnings.warn(label_encoder_deprecation_msg, UserWarning)\n"
     ]
    },
    {
     "name": "stdout",
     "output_type": "stream",
     "text": [
      "[19:42:54] WARNING: C:/Users/Administrator/workspace/xgboost-win64_release_1.3.0/src/learner.cc:1061: Starting in XGBoost 1.3.0, the default evaluation metric used with the objective 'binary:logistic' was changed from 'error' to 'logloss'. Explicitly set eval_metric if you'd like to restore the old behavior.\n"
     ]
    },
    {
     "name": "stderr",
     "output_type": "stream",
     "text": [
      "C:\\Users\\daisu\\anaconda3\\lib\\site-packages\\xgboost\\sklearn.py:888: UserWarning: The use of label encoder in XGBClassifier is deprecated and will be removed in a future release. To remove this warning, do the following: 1) Pass option use_label_encoder=False when constructing XGBClassifier object; and 2) Encode your labels (y) as integers starting with 0, i.e. 0, 1, 2, ..., [num_class - 1].\n",
      "  warnings.warn(label_encoder_deprecation_msg, UserWarning)\n"
     ]
    },
    {
     "data": {
      "text/plain": [
       "0.8714285714285713"
      ]
     },
     "execution_count": 491,
     "metadata": {},
     "output_type": "execute_result"
    }
   ],
   "source": [
    "import sklearn\n",
    "pd.DataFrame(sorted(sklearn.metrics.SCORERS.keys()), columns=[\"Metrics\"])\n",
    "\n",
    "score_dataset(X, y)"
   ]
  },
  {
   "cell_type": "markdown",
   "id": "registered-voluntary",
   "metadata": {},
   "source": [
    "## DBSCAN"
   ]
  },
  {
   "cell_type": "markdown",
   "id": "built-nurse",
   "metadata": {},
   "source": [
    "This method is sensitive to the dimensionality(i.e. [curse of dimensionality](https://en.wikipedia.org/wiki/Curse_of_dimensionality)) \\\n",
    "Clustering result shows `-1` which means all observations are outliers"
   ]
  },
  {
   "cell_type": "code",
   "execution_count": 492,
   "id": "noble-chemistry",
   "metadata": {
    "scrolled": false
   },
   "outputs": [
    {
     "data": {
      "text/plain": [
       "array([-1, -1, -1, -1, -1, -1, -1, -1, -1, -1, -1, -1, -1, -1, -1, -1, -1,\n",
       "       -1, -1, -1, -1, -1, -1, -1, -1, -1, -1, -1, -1, -1, -1, -1, -1, -1,\n",
       "       -1, -1, -1, -1, -1, -1, -1, -1, -1, -1, -1, -1, -1, -1, -1, -1, -1,\n",
       "       -1, -1, -1, -1, -1, -1, -1, -1, -1, -1, -1, -1, -1, -1, -1, -1, -1,\n",
       "       -1, -1, -1, -1, -1, -1, -1, -1, -1, -1, -1, -1, -1, -1, -1, -1, -1,\n",
       "       -1, -1, -1, -1, -1, -1, -1, -1, -1, -1, -1, -1, -1, -1, -1, -1, -1,\n",
       "       -1, -1, -1, -1, -1, -1, -1, -1, -1, -1, -1, -1, -1, -1, -1, -1, -1,\n",
       "       -1, -1, -1, -1, -1, -1, -1, -1, -1, -1, -1, -1, -1, -1, -1, -1, -1,\n",
       "       -1, -1, -1, -1, -1, -1, -1, -1, -1, -1, -1, -1, -1, -1, -1, -1, -1,\n",
       "       -1, -1, -1, -1, -1, -1, -1, -1, -1, -1, -1, -1, -1, -1, -1, -1, -1,\n",
       "       -1, -1, -1, -1, -1, -1, -1, -1, -1, -1, -1, -1, -1, -1, -1, -1, -1,\n",
       "       -1, -1, -1, -1, -1, -1, -1, -1, -1, -1, -1, -1, -1, -1, -1, -1, -1,\n",
       "       -1, -1, -1, -1, -1, -1, -1, -1, -1, -1, -1, -1, -1, -1, -1, -1, -1,\n",
       "       -1, -1, -1, -1, -1, -1, -1, -1, -1, -1, -1, -1, -1, -1, -1, -1, -1,\n",
       "       -1, -1, -1, -1, -1, -1, -1, -1, -1, -1, -1, -1, -1, -1, -1, -1, -1,\n",
       "       -1, -1, -1, -1, -1, -1, -1, -1, -1, -1, -1, -1, -1, -1, -1, -1, -1,\n",
       "       -1, -1, -1, -1, -1, -1, -1, -1, -1, -1, -1, -1, -1, -1, -1, -1, -1,\n",
       "       -1, -1, -1, -1, -1, -1, -1, -1, -1, -1, -1, -1, -1, -1, -1, -1, -1,\n",
       "       -1, -1, -1, -1, -1, -1, -1, -1, -1, -1, -1, -1, -1, -1, -1, -1, -1,\n",
       "       -1, -1, -1, -1, -1, -1, -1, -1, -1, -1, -1, -1, -1, -1, -1, -1, -1,\n",
       "       -1, -1, -1, -1, -1, -1, -1, -1, -1, -1, -1, -1, -1, -1, -1, -1, -1,\n",
       "       -1, -1, -1, -1, -1, -1, -1, -1, -1, -1, -1, -1, -1, -1, -1, -1, -1,\n",
       "       -1, -1, -1, -1, -1, -1, -1, -1, -1, -1, -1, -1, -1, -1, -1, -1, -1,\n",
       "       -1, -1, -1, -1, -1, -1, -1, -1, -1, -1, -1, -1, -1, -1, -1, -1, -1,\n",
       "       -1, -1, -1, -1, -1, -1, -1, -1, -1, -1, -1, -1, -1, -1, -1, -1, -1,\n",
       "       -1, -1, -1, -1, -1, -1, -1, -1, -1, -1, -1, -1, -1, -1, -1, -1, -1,\n",
       "       -1, -1, -1, -1, -1, -1, -1, -1, -1, -1, -1, -1, -1, -1, -1, -1, -1,\n",
       "       -1, -1, -1, -1, -1, -1, -1, -1, -1, -1, -1, -1, -1, -1, -1, -1, -1,\n",
       "       -1, -1, -1, -1, -1, -1, -1, -1, -1, -1, -1, -1, -1, -1, -1, -1, -1,\n",
       "       -1, -1, -1, -1, -1, -1, -1, -1, -1, -1, -1, -1, -1, -1, -1, -1, -1,\n",
       "       -1, -1, -1, -1, -1, -1, -1, -1, -1, -1, -1, -1, -1, -1, -1, -1, -1,\n",
       "       -1, -1, -1, -1, -1, -1, -1, -1, -1, -1, -1, -1, -1, -1, -1, -1, -1,\n",
       "       -1, -1, -1, -1, -1, -1, -1, -1, -1, -1, -1, -1, -1, -1, -1, -1, -1,\n",
       "       -1, -1, -1, -1, -1, -1, -1, -1, -1, -1, -1, -1, -1, -1, -1, -1, -1,\n",
       "       -1, -1, -1, -1, -1, -1, -1, -1, -1, -1, -1, -1, -1, -1, -1, -1, -1,\n",
       "       -1, -1, -1, -1, -1, -1, -1, -1, -1, -1, -1, -1, -1, -1, -1, -1, -1,\n",
       "       -1, -1, -1, -1, -1, -1, -1, -1, -1, -1, -1, -1, -1, -1, -1, -1, -1,\n",
       "       -1, -1, -1, -1, -1, -1, -1, -1, -1, -1, -1, -1, -1, -1, -1, -1, -1,\n",
       "       -1, -1, -1, -1, -1, -1, -1, -1, -1, -1, -1, -1, -1, -1, -1, -1, -1,\n",
       "       -1, -1, -1, -1, -1, -1, -1, -1, -1, -1, -1, -1, -1, -1, -1, -1, -1,\n",
       "       -1, -1, -1, -1, -1, -1, -1, -1, -1, -1, -1, -1, -1, -1, -1, -1, -1,\n",
       "       -1, -1, -1, -1, -1, -1, -1, -1, -1, -1, -1, -1, -1, -1, -1, -1, -1,\n",
       "       -1, -1, -1, -1, -1, -1, -1, -1, -1, -1, -1, -1, -1, -1, -1, -1, -1,\n",
       "       -1, -1, -1, -1, -1, -1, -1, -1, -1, -1, -1, -1, -1, -1, -1, -1, -1,\n",
       "       -1, -1, -1, -1, -1, -1, -1, -1, -1, -1, -1, -1, -1, -1, -1, -1, -1,\n",
       "       -1, -1, -1, -1, -1, -1, -1, -1, -1, -1, -1, -1, -1, -1, -1, -1, -1,\n",
       "       -1, -1, -1, -1, -1, -1, -1, -1, -1, -1, -1, -1, -1, -1, -1, -1, -1,\n",
       "       -1, -1, -1, -1, -1, -1, -1, -1, -1, -1, -1, -1, -1, -1, -1, -1, -1,\n",
       "       -1, -1, -1, -1, -1, -1, -1, -1, -1, -1, -1, -1, -1, -1, -1, -1, -1,\n",
       "       -1, -1, -1, -1, -1, -1, -1, -1, -1, -1, -1, -1, -1, -1, -1, -1, -1,\n",
       "       -1, -1, -1, -1, -1, -1, -1, -1, -1, -1, -1, -1, -1, -1, -1, -1, -1,\n",
       "       -1, -1, -1, -1, -1, -1, -1, -1, -1, -1, -1, -1, -1, -1, -1, -1, -1,\n",
       "       -1, -1, -1, -1, -1, -1, -1, -1, -1, -1, -1, -1, -1, -1, -1, -1, -1,\n",
       "       -1, -1, -1, -1, -1, -1, -1, -1, -1, -1, -1, -1, -1, -1, -1, -1, -1,\n",
       "       -1, -1, -1, -1, -1, -1, -1, -1, -1, -1, -1, -1, -1, -1, -1, -1, -1,\n",
       "       -1, -1, -1, -1, -1, -1, -1, -1, -1, -1, -1, -1, -1, -1, -1, -1, -1,\n",
       "       -1, -1, -1, -1, -1, -1, -1, -1, -1, -1, -1, -1, -1, -1, -1, -1, -1,\n",
       "       -1, -1, -1, -1, -1, -1, -1, -1, -1, -1, -1, -1, -1, -1, -1, -1, -1,\n",
       "       -1, -1, -1, -1, -1, -1, -1, -1, -1, -1, -1, -1, -1, -1],\n",
       "      dtype=int64)"
      ]
     },
     "execution_count": 492,
     "metadata": {},
     "output_type": "execute_result"
    }
   ],
   "source": [
    "from sklearn.cluster import DBSCAN\n",
    "dbscan=DBSCAN(eps=0.05, min_samples=10).fit(X)\n",
    "dbscan.labels_"
   ]
  },
  {
   "cell_type": "markdown",
   "id": "wicked-substitute",
   "metadata": {},
   "source": [
    "## Principal Component Analysis"
   ]
  },
  {
   "cell_type": "code",
   "execution_count": 493,
   "id": "spectacular-capability",
   "metadata": {},
   "outputs": [],
   "source": [
    "_, X=df.pop(\"Cluster\"), df"
   ]
  },
  {
   "cell_type": "code",
   "execution_count": 494,
   "id": "blind-referral",
   "metadata": {},
   "outputs": [
    {
     "data": {
      "text/html": [
       "<div>\n",
       "<style scoped>\n",
       "    .dataframe tbody tr th:only-of-type {\n",
       "        vertical-align: middle;\n",
       "    }\n",
       "\n",
       "    .dataframe tbody tr th {\n",
       "        vertical-align: top;\n",
       "    }\n",
       "\n",
       "    .dataframe thead th {\n",
       "        text-align: right;\n",
       "    }\n",
       "</style>\n",
       "<table border=\"1\" class=\"dataframe\">\n",
       "  <thead>\n",
       "    <tr style=\"text-align: right;\">\n",
       "      <th></th>\n",
       "      <th>PC1</th>\n",
       "      <th>PC2</th>\n",
       "      <th>PC3</th>\n",
       "      <th>PC4</th>\n",
       "      <th>PC5</th>\n",
       "      <th>PC6</th>\n",
       "      <th>PC7</th>\n",
       "      <th>PC8</th>\n",
       "      <th>PC9</th>\n",
       "      <th>PC10</th>\n",
       "      <th>PC11</th>\n",
       "      <th>PC12</th>\n",
       "      <th>PC13</th>\n",
       "      <th>PC14</th>\n",
       "      <th>PC15</th>\n",
       "      <th>PC16</th>\n",
       "      <th>PC17</th>\n",
       "      <th>PC18</th>\n",
       "    </tr>\n",
       "  </thead>\n",
       "  <tbody>\n",
       "    <tr>\n",
       "      <th>0</th>\n",
       "      <td>2.032307</td>\n",
       "      <td>-3.271736</td>\n",
       "      <td>-0.930733</td>\n",
       "      <td>0.506708</td>\n",
       "      <td>1.541232</td>\n",
       "      <td>-1.170940</td>\n",
       "      <td>-0.471635</td>\n",
       "      <td>-1.023304</td>\n",
       "      <td>0.360792</td>\n",
       "      <td>0.053358</td>\n",
       "      <td>-0.029694</td>\n",
       "      <td>-0.908071</td>\n",
       "      <td>1.328994</td>\n",
       "      <td>-0.613269</td>\n",
       "      <td>0.370322</td>\n",
       "      <td>-0.137041</td>\n",
       "      <td>0.285807</td>\n",
       "      <td>0.010534</td>\n",
       "    </tr>\n",
       "    <tr>\n",
       "      <th>1</th>\n",
       "      <td>-1.330358</td>\n",
       "      <td>2.568534</td>\n",
       "      <td>0.288096</td>\n",
       "      <td>0.599256</td>\n",
       "      <td>-0.904404</td>\n",
       "      <td>-0.237146</td>\n",
       "      <td>0.059694</td>\n",
       "      <td>-0.644963</td>\n",
       "      <td>0.407444</td>\n",
       "      <td>-0.885653</td>\n",
       "      <td>0.900114</td>\n",
       "      <td>-1.084985</td>\n",
       "      <td>-0.616704</td>\n",
       "      <td>-1.331077</td>\n",
       "      <td>-0.849765</td>\n",
       "      <td>0.178256</td>\n",
       "      <td>-0.293594</td>\n",
       "      <td>-0.737374</td>\n",
       "    </tr>\n",
       "    <tr>\n",
       "      <th>2</th>\n",
       "      <td>0.322098</td>\n",
       "      <td>-2.185407</td>\n",
       "      <td>0.467993</td>\n",
       "      <td>0.589244</td>\n",
       "      <td>0.136258</td>\n",
       "      <td>0.157628</td>\n",
       "      <td>-1.205714</td>\n",
       "      <td>-0.224479</td>\n",
       "      <td>-0.065698</td>\n",
       "      <td>-1.107821</td>\n",
       "      <td>-0.828115</td>\n",
       "      <td>0.281326</td>\n",
       "      <td>-0.429367</td>\n",
       "      <td>-0.682416</td>\n",
       "      <td>-0.879419</td>\n",
       "      <td>-1.320100</td>\n",
       "      <td>0.147560</td>\n",
       "      <td>-0.158537</td>\n",
       "    </tr>\n",
       "    <tr>\n",
       "      <th>3</th>\n",
       "      <td>1.721940</td>\n",
       "      <td>1.286649</td>\n",
       "      <td>1.151377</td>\n",
       "      <td>1.210902</td>\n",
       "      <td>1.341643</td>\n",
       "      <td>1.543908</td>\n",
       "      <td>1.592298</td>\n",
       "      <td>-0.280716</td>\n",
       "      <td>1.136721</td>\n",
       "      <td>-2.121756</td>\n",
       "      <td>-0.728131</td>\n",
       "      <td>0.246561</td>\n",
       "      <td>0.085906</td>\n",
       "      <td>-0.245122</td>\n",
       "      <td>-0.634555</td>\n",
       "      <td>0.006832</td>\n",
       "      <td>-0.149396</td>\n",
       "      <td>-0.202108</td>\n",
       "    </tr>\n",
       "    <tr>\n",
       "      <th>4</th>\n",
       "      <td>2.211287</td>\n",
       "      <td>-0.150288</td>\n",
       "      <td>-0.553861</td>\n",
       "      <td>0.237408</td>\n",
       "      <td>-0.172611</td>\n",
       "      <td>0.525674</td>\n",
       "      <td>-0.012656</td>\n",
       "      <td>-1.090346</td>\n",
       "      <td>-0.195145</td>\n",
       "      <td>0.632689</td>\n",
       "      <td>-0.400701</td>\n",
       "      <td>1.506208</td>\n",
       "      <td>0.106434</td>\n",
       "      <td>0.046267</td>\n",
       "      <td>0.226198</td>\n",
       "      <td>-0.010680</td>\n",
       "      <td>-0.024682</td>\n",
       "      <td>0.014157</td>\n",
       "    </tr>\n",
       "  </tbody>\n",
       "</table>\n",
       "</div>"
      ],
      "text/plain": [
       "        PC1       PC2       PC3       PC4       PC5       PC6       PC7  \\\n",
       "0  2.032307 -3.271736 -0.930733  0.506708  1.541232 -1.170940 -0.471635   \n",
       "1 -1.330358  2.568534  0.288096  0.599256 -0.904404 -0.237146  0.059694   \n",
       "2  0.322098 -2.185407  0.467993  0.589244  0.136258  0.157628 -1.205714   \n",
       "3  1.721940  1.286649  1.151377  1.210902  1.341643  1.543908  1.592298   \n",
       "4  2.211287 -0.150288 -0.553861  0.237408 -0.172611  0.525674 -0.012656   \n",
       "\n",
       "        PC8       PC9      PC10      PC11      PC12      PC13      PC14  \\\n",
       "0 -1.023304  0.360792  0.053358 -0.029694 -0.908071  1.328994 -0.613269   \n",
       "1 -0.644963  0.407444 -0.885653  0.900114 -1.084985 -0.616704 -1.331077   \n",
       "2 -0.224479 -0.065698 -1.107821 -0.828115  0.281326 -0.429367 -0.682416   \n",
       "3 -0.280716  1.136721 -2.121756 -0.728131  0.246561  0.085906 -0.245122   \n",
       "4 -1.090346 -0.195145  0.632689 -0.400701  1.506208  0.106434  0.046267   \n",
       "\n",
       "       PC15      PC16      PC17      PC18  \n",
       "0  0.370322 -0.137041  0.285807  0.010534  \n",
       "1 -0.849765  0.178256 -0.293594 -0.737374  \n",
       "2 -0.879419 -1.320100  0.147560 -0.158537  \n",
       "3 -0.634555  0.006832 -0.149396 -0.202108  \n",
       "4  0.226198 -0.010680 -0.024682  0.014157  "
      ]
     },
     "execution_count": 494,
     "metadata": {},
     "output_type": "execute_result"
    }
   ],
   "source": [
    "from sklearn.decomposition import PCA\n",
    "\n",
    "pca = PCA()\n",
    "X_pca = pca.fit_transform(X_scaled)\n",
    "\n",
    "# Convert to dataframe\n",
    "component_names = [f\"PC{i+1}\" for i in range(X_pca.shape[1])]\n",
    "X_pca = pd.DataFrame(X_pca, columns=component_names)\n",
    "\n",
    "X_pca.head()"
   ]
  },
  {
   "cell_type": "markdown",
   "id": "precious-fields",
   "metadata": {},
   "source": [
    "These new features are called the **principal components** of the data. \\\n",
    "The weights themselves are called **loadings**."
   ]
  },
  {
   "cell_type": "code",
   "execution_count": 495,
   "id": "virgin-softball",
   "metadata": {
    "scrolled": false
   },
   "outputs": [
    {
     "data": {
      "text/html": [
       "<div>\n",
       "<style scoped>\n",
       "    .dataframe tbody tr th:only-of-type {\n",
       "        vertical-align: middle;\n",
       "    }\n",
       "\n",
       "    .dataframe tbody tr th {\n",
       "        vertical-align: top;\n",
       "    }\n",
       "\n",
       "    .dataframe thead th {\n",
       "        text-align: right;\n",
       "    }\n",
       "</style>\n",
       "<table border=\"1\" class=\"dataframe\">\n",
       "  <thead>\n",
       "    <tr style=\"text-align: right;\">\n",
       "      <th></th>\n",
       "      <th>PC1</th>\n",
       "      <th>PC2</th>\n",
       "      <th>PC3</th>\n",
       "      <th>PC4</th>\n",
       "      <th>PC5</th>\n",
       "      <th>PC6</th>\n",
       "      <th>PC7</th>\n",
       "      <th>PC8</th>\n",
       "      <th>PC9</th>\n",
       "      <th>PC10</th>\n",
       "      <th>PC11</th>\n",
       "      <th>PC12</th>\n",
       "      <th>PC13</th>\n",
       "      <th>PC14</th>\n",
       "      <th>PC15</th>\n",
       "      <th>PC16</th>\n",
       "      <th>PC17</th>\n",
       "      <th>PC18</th>\n",
       "    </tr>\n",
       "  </thead>\n",
       "  <tbody>\n",
       "    <tr>\n",
       "      <th>checking</th>\n",
       "      <td>-0.096645</td>\n",
       "      <td>0.160007</td>\n",
       "      <td>0.214766</td>\n",
       "      <td>-0.055267</td>\n",
       "      <td>0.079191</td>\n",
       "      <td>0.199230</td>\n",
       "      <td>0.205498</td>\n",
       "      <td>-0.659113</td>\n",
       "      <td>-0.185894</td>\n",
       "      <td>0.342411</td>\n",
       "      <td>0.211767</td>\n",
       "      <td>-0.404006</td>\n",
       "      <td>0.157087</td>\n",
       "      <td>0.043832</td>\n",
       "      <td>-0.068031</td>\n",
       "      <td>-0.006561</td>\n",
       "      <td>0.039606</td>\n",
       "      <td>-0.023442</td>\n",
       "    </tr>\n",
       "    <tr>\n",
       "      <th>duration</th>\n",
       "      <td>0.289848</td>\n",
       "      <td>0.440102</td>\n",
       "      <td>-0.030772</td>\n",
       "      <td>0.061129</td>\n",
       "      <td>-0.106228</td>\n",
       "      <td>0.023094</td>\n",
       "      <td>0.144436</td>\n",
       "      <td>0.025877</td>\n",
       "      <td>-0.001795</td>\n",
       "      <td>-0.288446</td>\n",
       "      <td>0.437071</td>\n",
       "      <td>0.021785</td>\n",
       "      <td>-0.067290</td>\n",
       "      <td>-0.223064</td>\n",
       "      <td>-0.072197</td>\n",
       "      <td>-0.084246</td>\n",
       "      <td>-0.487138</td>\n",
       "      <td>-0.325050</td>\n",
       "    </tr>\n",
       "    <tr>\n",
       "      <th>credithistory</th>\n",
       "      <td>-0.150479</td>\n",
       "      <td>0.331777</td>\n",
       "      <td>0.237761</td>\n",
       "      <td>-0.327885</td>\n",
       "      <td>0.364010</td>\n",
       "      <td>0.098067</td>\n",
       "      <td>-0.152168</td>\n",
       "      <td>-0.002837</td>\n",
       "      <td>0.022633</td>\n",
       "      <td>-0.109917</td>\n",
       "      <td>-0.047031</td>\n",
       "      <td>0.104335</td>\n",
       "      <td>-0.134136</td>\n",
       "      <td>-0.144493</td>\n",
       "      <td>0.453925</td>\n",
       "      <td>0.516983</td>\n",
       "      <td>-0.006867</td>\n",
       "      <td>-0.005407</td>\n",
       "    </tr>\n",
       "    <tr>\n",
       "      <th>creditamount</th>\n",
       "      <td>0.287535</td>\n",
       "      <td>0.468608</td>\n",
       "      <td>0.000714</td>\n",
       "      <td>0.322825</td>\n",
       "      <td>-0.100338</td>\n",
       "      <td>0.155450</td>\n",
       "      <td>-0.076087</td>\n",
       "      <td>0.022462</td>\n",
       "      <td>0.057647</td>\n",
       "      <td>-0.133397</td>\n",
       "      <td>0.066905</td>\n",
       "      <td>-0.013568</td>\n",
       "      <td>0.055057</td>\n",
       "      <td>-0.152607</td>\n",
       "      <td>0.004830</td>\n",
       "      <td>-0.036460</td>\n",
       "      <td>0.570087</td>\n",
       "      <td>0.417776</td>\n",
       "    </tr>\n",
       "    <tr>\n",
       "      <th>savings</th>\n",
       "      <td>-0.044004</td>\n",
       "      <td>-0.095574</td>\n",
       "      <td>-0.124825</td>\n",
       "      <td>-0.329138</td>\n",
       "      <td>-0.292000</td>\n",
       "      <td>0.530375</td>\n",
       "      <td>-0.185326</td>\n",
       "      <td>0.220915</td>\n",
       "      <td>0.108686</td>\n",
       "      <td>-0.186469</td>\n",
       "      <td>0.256141</td>\n",
       "      <td>-0.192302</td>\n",
       "      <td>0.407547</td>\n",
       "      <td>0.292890</td>\n",
       "      <td>0.063298</td>\n",
       "      <td>0.098745</td>\n",
       "      <td>0.020263</td>\n",
       "      <td>-0.009359</td>\n",
       "    </tr>\n",
       "    <tr>\n",
       "      <th>employment</th>\n",
       "      <td>0.298098</td>\n",
       "      <td>-0.199476</td>\n",
       "      <td>-0.193162</td>\n",
       "      <td>-0.115213</td>\n",
       "      <td>0.226388</td>\n",
       "      <td>0.130400</td>\n",
       "      <td>0.044190</td>\n",
       "      <td>0.074828</td>\n",
       "      <td>0.140598</td>\n",
       "      <td>-0.092836</td>\n",
       "      <td>0.022665</td>\n",
       "      <td>-0.596599</td>\n",
       "      <td>-0.583820</td>\n",
       "      <td>0.019882</td>\n",
       "      <td>0.093037</td>\n",
       "      <td>-0.069980</td>\n",
       "      <td>0.053894</td>\n",
       "      <td>0.049242</td>\n",
       "    </tr>\n",
       "    <tr>\n",
       "      <th>installmentrate</th>\n",
       "      <td>0.115537</td>\n",
       "      <td>-0.155684</td>\n",
       "      <td>-0.059157</td>\n",
       "      <td>-0.496518</td>\n",
       "      <td>0.054112</td>\n",
       "      <td>-0.337227</td>\n",
       "      <td>0.455784</td>\n",
       "      <td>0.093798</td>\n",
       "      <td>0.011041</td>\n",
       "      <td>0.049576</td>\n",
       "      <td>0.436518</td>\n",
       "      <td>0.167093</td>\n",
       "      <td>0.117246</td>\n",
       "      <td>-0.153044</td>\n",
       "      <td>0.073643</td>\n",
       "      <td>-0.048901</td>\n",
       "      <td>0.263363</td>\n",
       "      <td>0.209293</td>\n",
       "    </tr>\n",
       "    <tr>\n",
       "      <th>guarantors</th>\n",
       "      <td>-0.059623</td>\n",
       "      <td>-0.016219</td>\n",
       "      <td>0.232874</td>\n",
       "      <td>0.241259</td>\n",
       "      <td>0.227291</td>\n",
       "      <td>0.156236</td>\n",
       "      <td>0.654854</td>\n",
       "      <td>0.042224</td>\n",
       "      <td>0.304536</td>\n",
       "      <td>-0.341153</td>\n",
       "      <td>-0.175938</td>\n",
       "      <td>0.037970</td>\n",
       "      <td>0.125360</td>\n",
       "      <td>0.341597</td>\n",
       "      <td>0.046270</td>\n",
       "      <td>0.019864</td>\n",
       "      <td>-0.023645</td>\n",
       "      <td>0.006034</td>\n",
       "    </tr>\n",
       "    <tr>\n",
       "      <th>residence</th>\n",
       "      <td>0.161135</td>\n",
       "      <td>-0.076506</td>\n",
       "      <td>-0.441509</td>\n",
       "      <td>0.003575</td>\n",
       "      <td>0.447416</td>\n",
       "      <td>0.280809</td>\n",
       "      <td>0.043476</td>\n",
       "      <td>-0.079229</td>\n",
       "      <td>-0.136745</td>\n",
       "      <td>0.004505</td>\n",
       "      <td>-0.007401</td>\n",
       "      <td>0.238323</td>\n",
       "      <td>0.079856</td>\n",
       "      <td>-0.062468</td>\n",
       "      <td>-0.517503</td>\n",
       "      <td>0.361438</td>\n",
       "      <td>-0.013235</td>\n",
       "      <td>0.039529</td>\n",
       "    </tr>\n",
       "    <tr>\n",
       "      <th>property</th>\n",
       "      <td>-0.279435</td>\n",
       "      <td>-0.303906</td>\n",
       "      <td>0.179979</td>\n",
       "      <td>0.164935</td>\n",
       "      <td>0.023319</td>\n",
       "      <td>-0.058148</td>\n",
       "      <td>-0.007149</td>\n",
       "      <td>0.077269</td>\n",
       "      <td>-0.009519</td>\n",
       "      <td>-0.349752</td>\n",
       "      <td>0.036594</td>\n",
       "      <td>-0.352292</td>\n",
       "      <td>0.225136</td>\n",
       "      <td>-0.632970</td>\n",
       "      <td>-0.166506</td>\n",
       "      <td>0.157136</td>\n",
       "      <td>0.076624</td>\n",
       "      <td>-0.050242</td>\n",
       "    </tr>\n",
       "    <tr>\n",
       "      <th>age</th>\n",
       "      <td>0.273676</td>\n",
       "      <td>-0.233021</td>\n",
       "      <td>-0.151363</td>\n",
       "      <td>0.006111</td>\n",
       "      <td>0.190804</td>\n",
       "      <td>0.135983</td>\n",
       "      <td>-0.169028</td>\n",
       "      <td>-0.402328</td>\n",
       "      <td>0.375684</td>\n",
       "      <td>-0.045636</td>\n",
       "      <td>-0.102354</td>\n",
       "      <td>0.187497</td>\n",
       "      <td>0.287804</td>\n",
       "      <td>-0.277595</td>\n",
       "      <td>0.377674</td>\n",
       "      <td>-0.318825</td>\n",
       "      <td>-0.089244</td>\n",
       "      <td>-0.039043</td>\n",
       "    </tr>\n",
       "    <tr>\n",
       "      <th>housing</th>\n",
       "      <td>0.223639</td>\n",
       "      <td>-0.116396</td>\n",
       "      <td>0.256494</td>\n",
       "      <td>-0.123495</td>\n",
       "      <td>-0.287677</td>\n",
       "      <td>-0.230514</td>\n",
       "      <td>-0.173074</td>\n",
       "      <td>-0.356249</td>\n",
       "      <td>0.486273</td>\n",
       "      <td>-0.142521</td>\n",
       "      <td>0.044161</td>\n",
       "      <td>0.066620</td>\n",
       "      <td>-0.144987</td>\n",
       "      <td>0.137119</td>\n",
       "      <td>-0.341046</td>\n",
       "      <td>0.376671</td>\n",
       "      <td>0.029273</td>\n",
       "      <td>0.024492</td>\n",
       "    </tr>\n",
       "    <tr>\n",
       "      <th>numexistingcredits</th>\n",
       "      <td>0.175323</td>\n",
       "      <td>-0.271657</td>\n",
       "      <td>-0.223703</td>\n",
       "      <td>0.374349</td>\n",
       "      <td>-0.353750</td>\n",
       "      <td>0.007693</td>\n",
       "      <td>0.217778</td>\n",
       "      <td>-0.113318</td>\n",
       "      <td>-0.219478</td>\n",
       "      <td>0.087168</td>\n",
       "      <td>0.099683</td>\n",
       "      <td>0.033975</td>\n",
       "      <td>-0.043456</td>\n",
       "      <td>-0.011076</td>\n",
       "      <td>0.441868</td>\n",
       "      <td>0.504156</td>\n",
       "      <td>-0.036947</td>\n",
       "      <td>-0.012664</td>\n",
       "    </tr>\n",
       "    <tr>\n",
       "      <th>job</th>\n",
       "      <td>0.233712</td>\n",
       "      <td>0.255313</td>\n",
       "      <td>-0.123015</td>\n",
       "      <td>-0.132853</td>\n",
       "      <td>-0.116243</td>\n",
       "      <td>-0.116810</td>\n",
       "      <td>0.197157</td>\n",
       "      <td>0.252207</td>\n",
       "      <td>0.287634</td>\n",
       "      <td>0.420384</td>\n",
       "      <td>-0.423475</td>\n",
       "      <td>-0.292675</td>\n",
       "      <td>0.304044</td>\n",
       "      <td>-0.191671</td>\n",
       "      <td>-0.044851</td>\n",
       "      <td>0.199464</td>\n",
       "      <td>-0.096321</td>\n",
       "      <td>-0.114337</td>\n",
       "    </tr>\n",
       "    <tr>\n",
       "      <th>foreigner</th>\n",
       "      <td>0.081762</td>\n",
       "      <td>0.138674</td>\n",
       "      <td>-0.254490</td>\n",
       "      <td>-0.296402</td>\n",
       "      <td>-0.155120</td>\n",
       "      <td>-0.237031</td>\n",
       "      <td>0.065103</td>\n",
       "      <td>-0.296091</td>\n",
       "      <td>-0.383259</td>\n",
       "      <td>-0.524848</td>\n",
       "      <td>-0.428149</td>\n",
       "      <td>-0.130605</td>\n",
       "      <td>0.116376</td>\n",
       "      <td>0.095815</td>\n",
       "      <td>0.029882</td>\n",
       "      <td>-0.040469</td>\n",
       "      <td>0.028836</td>\n",
       "      <td>0.022429</td>\n",
       "    </tr>\n",
       "    <tr>\n",
       "      <th>nmac</th>\n",
       "      <td>-0.137898</td>\n",
       "      <td>-0.031127</td>\n",
       "      <td>0.060966</td>\n",
       "      <td>-0.246412</td>\n",
       "      <td>-0.400504</td>\n",
       "      <td>0.496509</td>\n",
       "      <td>0.284632</td>\n",
       "      <td>-0.077073</td>\n",
       "      <td>0.010840</td>\n",
       "      <td>0.047069</td>\n",
       "      <td>-0.255884</td>\n",
       "      <td>0.266738</td>\n",
       "      <td>-0.361590</td>\n",
       "      <td>-0.358879</td>\n",
       "      <td>-0.097791</td>\n",
       "      <td>-0.108494</td>\n",
       "      <td>0.042245</td>\n",
       "      <td>0.008924</td>\n",
       "    </tr>\n",
       "    <tr>\n",
       "      <th>male</th>\n",
       "      <td>0.393925</td>\n",
       "      <td>-0.171092</td>\n",
       "      <td>0.445551</td>\n",
       "      <td>-0.061491</td>\n",
       "      <td>0.026908</td>\n",
       "      <td>0.103676</td>\n",
       "      <td>-0.044118</td>\n",
       "      <td>0.122447</td>\n",
       "      <td>-0.293909</td>\n",
       "      <td>0.025061</td>\n",
       "      <td>-0.106228</td>\n",
       "      <td>-0.011765</td>\n",
       "      <td>0.103954</td>\n",
       "      <td>-0.033571</td>\n",
       "      <td>-0.036294</td>\n",
       "      <td>-0.010014</td>\n",
       "      <td>-0.425578</td>\n",
       "      <td>0.540314</td>\n",
       "    </tr>\n",
       "    <tr>\n",
       "      <th>married</th>\n",
       "      <td>-0.445451</td>\n",
       "      <td>0.151987</td>\n",
       "      <td>-0.370916</td>\n",
       "      <td>0.049967</td>\n",
       "      <td>-0.070975</td>\n",
       "      <td>-0.092407</td>\n",
       "      <td>0.033584</td>\n",
       "      <td>-0.115423</td>\n",
       "      <td>0.276549</td>\n",
       "      <td>-0.008571</td>\n",
       "      <td>0.081550</td>\n",
       "      <td>-0.085457</td>\n",
       "      <td>-0.055006</td>\n",
       "      <td>-0.038558</td>\n",
       "      <td>0.018580</td>\n",
       "      <td>0.022282</td>\n",
       "      <td>-0.391923</td>\n",
       "      <td>0.600756</td>\n",
       "    </tr>\n",
       "  </tbody>\n",
       "</table>\n",
       "</div>"
      ],
      "text/plain": [
       "                         PC1       PC2       PC3       PC4       PC5  \\\n",
       "checking           -0.096645  0.160007  0.214766 -0.055267  0.079191   \n",
       "duration            0.289848  0.440102 -0.030772  0.061129 -0.106228   \n",
       "credithistory      -0.150479  0.331777  0.237761 -0.327885  0.364010   \n",
       "creditamount        0.287535  0.468608  0.000714  0.322825 -0.100338   \n",
       "savings            -0.044004 -0.095574 -0.124825 -0.329138 -0.292000   \n",
       "employment          0.298098 -0.199476 -0.193162 -0.115213  0.226388   \n",
       "installmentrate     0.115537 -0.155684 -0.059157 -0.496518  0.054112   \n",
       "guarantors         -0.059623 -0.016219  0.232874  0.241259  0.227291   \n",
       "residence           0.161135 -0.076506 -0.441509  0.003575  0.447416   \n",
       "property           -0.279435 -0.303906  0.179979  0.164935  0.023319   \n",
       "age                 0.273676 -0.233021 -0.151363  0.006111  0.190804   \n",
       "housing             0.223639 -0.116396  0.256494 -0.123495 -0.287677   \n",
       "numexistingcredits  0.175323 -0.271657 -0.223703  0.374349 -0.353750   \n",
       "job                 0.233712  0.255313 -0.123015 -0.132853 -0.116243   \n",
       "foreigner           0.081762  0.138674 -0.254490 -0.296402 -0.155120   \n",
       "nmac               -0.137898 -0.031127  0.060966 -0.246412 -0.400504   \n",
       "male                0.393925 -0.171092  0.445551 -0.061491  0.026908   \n",
       "married            -0.445451  0.151987 -0.370916  0.049967 -0.070975   \n",
       "\n",
       "                         PC6       PC7       PC8       PC9      PC10  \\\n",
       "checking            0.199230  0.205498 -0.659113 -0.185894  0.342411   \n",
       "duration            0.023094  0.144436  0.025877 -0.001795 -0.288446   \n",
       "credithistory       0.098067 -0.152168 -0.002837  0.022633 -0.109917   \n",
       "creditamount        0.155450 -0.076087  0.022462  0.057647 -0.133397   \n",
       "savings             0.530375 -0.185326  0.220915  0.108686 -0.186469   \n",
       "employment          0.130400  0.044190  0.074828  0.140598 -0.092836   \n",
       "installmentrate    -0.337227  0.455784  0.093798  0.011041  0.049576   \n",
       "guarantors          0.156236  0.654854  0.042224  0.304536 -0.341153   \n",
       "residence           0.280809  0.043476 -0.079229 -0.136745  0.004505   \n",
       "property           -0.058148 -0.007149  0.077269 -0.009519 -0.349752   \n",
       "age                 0.135983 -0.169028 -0.402328  0.375684 -0.045636   \n",
       "housing            -0.230514 -0.173074 -0.356249  0.486273 -0.142521   \n",
       "numexistingcredits  0.007693  0.217778 -0.113318 -0.219478  0.087168   \n",
       "job                -0.116810  0.197157  0.252207  0.287634  0.420384   \n",
       "foreigner          -0.237031  0.065103 -0.296091 -0.383259 -0.524848   \n",
       "nmac                0.496509  0.284632 -0.077073  0.010840  0.047069   \n",
       "male                0.103676 -0.044118  0.122447 -0.293909  0.025061   \n",
       "married            -0.092407  0.033584 -0.115423  0.276549 -0.008571   \n",
       "\n",
       "                        PC11      PC12      PC13      PC14      PC15  \\\n",
       "checking            0.211767 -0.404006  0.157087  0.043832 -0.068031   \n",
       "duration            0.437071  0.021785 -0.067290 -0.223064 -0.072197   \n",
       "credithistory      -0.047031  0.104335 -0.134136 -0.144493  0.453925   \n",
       "creditamount        0.066905 -0.013568  0.055057 -0.152607  0.004830   \n",
       "savings             0.256141 -0.192302  0.407547  0.292890  0.063298   \n",
       "employment          0.022665 -0.596599 -0.583820  0.019882  0.093037   \n",
       "installmentrate     0.436518  0.167093  0.117246 -0.153044  0.073643   \n",
       "guarantors         -0.175938  0.037970  0.125360  0.341597  0.046270   \n",
       "residence          -0.007401  0.238323  0.079856 -0.062468 -0.517503   \n",
       "property            0.036594 -0.352292  0.225136 -0.632970 -0.166506   \n",
       "age                -0.102354  0.187497  0.287804 -0.277595  0.377674   \n",
       "housing             0.044161  0.066620 -0.144987  0.137119 -0.341046   \n",
       "numexistingcredits  0.099683  0.033975 -0.043456 -0.011076  0.441868   \n",
       "job                -0.423475 -0.292675  0.304044 -0.191671 -0.044851   \n",
       "foreigner          -0.428149 -0.130605  0.116376  0.095815  0.029882   \n",
       "nmac               -0.255884  0.266738 -0.361590 -0.358879 -0.097791   \n",
       "male               -0.106228 -0.011765  0.103954 -0.033571 -0.036294   \n",
       "married             0.081550 -0.085457 -0.055006 -0.038558  0.018580   \n",
       "\n",
       "                        PC16      PC17      PC18  \n",
       "checking           -0.006561  0.039606 -0.023442  \n",
       "duration           -0.084246 -0.487138 -0.325050  \n",
       "credithistory       0.516983 -0.006867 -0.005407  \n",
       "creditamount       -0.036460  0.570087  0.417776  \n",
       "savings             0.098745  0.020263 -0.009359  \n",
       "employment         -0.069980  0.053894  0.049242  \n",
       "installmentrate    -0.048901  0.263363  0.209293  \n",
       "guarantors          0.019864 -0.023645  0.006034  \n",
       "residence           0.361438 -0.013235  0.039529  \n",
       "property            0.157136  0.076624 -0.050242  \n",
       "age                -0.318825 -0.089244 -0.039043  \n",
       "housing             0.376671  0.029273  0.024492  \n",
       "numexistingcredits  0.504156 -0.036947 -0.012664  \n",
       "job                 0.199464 -0.096321 -0.114337  \n",
       "foreigner          -0.040469  0.028836  0.022429  \n",
       "nmac               -0.108494  0.042245  0.008924  \n",
       "male               -0.010014 -0.425578  0.540314  \n",
       "married             0.022282 -0.391923  0.600756  "
      ]
     },
     "execution_count": 495,
     "metadata": {},
     "output_type": "execute_result"
    }
   ],
   "source": [
    "loadings = pd.DataFrame(\n",
    "    pca.components_.T,  # transpose the matrix of loadings\n",
    "    columns=component_names,  # so the columns are the principal components\n",
    "    index=X.columns,  # and the rows are the original features\n",
    ")\n",
    "loadings"
   ]
  },
  {
   "cell_type": "markdown",
   "id": "amended-pakistan",
   "metadata": {},
   "source": [
    "Look at the MI scores of the components"
   ]
  },
  {
   "cell_type": "code",
   "execution_count": 496,
   "id": "adequate-consequence",
   "metadata": {},
   "outputs": [
    {
     "data": {
      "image/png": "[encoded data removed]",
      "text/plain": [
       "<Figure size 800x550 with 2 Axes>"
      ]
     },
     "metadata": {},
     "output_type": "display_data"
    }
   ],
   "source": [
    "# Look at explained variance\n",
    "plot_variance(pca);"
   ]
  },
  {
   "cell_type": "code",
   "execution_count": 497,
   "id": "rocky-interstate",
   "metadata": {},
   "outputs": [
    {
     "data": {
      "text/plain": [
       "PC2     0.052333\n",
       "PC17    0.024649\n",
       "PC11    0.020219\n",
       "PC7     0.019149\n",
       "PC13    0.016655\n",
       "PC6     0.014629\n",
       "PC18    0.012474\n",
       "PC9     0.012019\n",
       "PC16    0.005724\n",
       "PC8     0.005715\n",
       "PC10    0.002722\n",
       "PC15    0.002129\n",
       "PC4     0.001332\n",
       "PC12    0.000000\n",
       "PC5     0.000000\n",
       "PC14    0.000000\n",
       "PC3     0.000000\n",
       "PC1     0.000000\n",
       "Name: MI Scores, dtype: float64"
      ]
     },
     "execution_count": 497,
     "metadata": {},
     "output_type": "execute_result"
    }
   ],
   "source": [
    "mi_scores = make_mi_scores(X_pca, y, discrete_features=False)\n",
    "mi_scores"
   ]
  },
  {
   "cell_type": "code",
   "execution_count": 498,
   "id": "sublime-sudan",
   "metadata": {
    "scrolled": true
   },
   "outputs": [
    {
     "data": {
      "text/html": [
       "<div>\n",
       "<style scoped>\n",
       "    .dataframe tbody tr th:only-of-type {\n",
       "        vertical-align: middle;\n",
       "    }\n",
       "\n",
       "    .dataframe tbody tr th {\n",
       "        vertical-align: top;\n",
       "    }\n",
       "\n",
       "    .dataframe thead th {\n",
       "        text-align: right;\n",
       "    }\n",
       "</style>\n",
       "<table border=\"1\" class=\"dataframe\">\n",
       "  <thead>\n",
       "    <tr style=\"text-align: right;\">\n",
       "      <th></th>\n",
       "      <th>checking</th>\n",
       "      <th>duration</th>\n",
       "      <th>credithistory</th>\n",
       "      <th>creditamount</th>\n",
       "      <th>savings</th>\n",
       "      <th>employment</th>\n",
       "      <th>installmentrate</th>\n",
       "      <th>guarantors</th>\n",
       "      <th>residence</th>\n",
       "      <th>property</th>\n",
       "      <th>age</th>\n",
       "      <th>housing</th>\n",
       "      <th>numexistingcredits</th>\n",
       "      <th>job</th>\n",
       "      <th>foreigner</th>\n",
       "      <th>nmac</th>\n",
       "      <th>male</th>\n",
       "      <th>married</th>\n",
       "    </tr>\n",
       "  </thead>\n",
       "  <tbody>\n",
       "    <tr>\n",
       "      <th>915</th>\n",
       "      <td>2.0</td>\n",
       "      <td>48.0</td>\n",
       "      <td>4.0</td>\n",
       "      <td>18424.0</td>\n",
       "      <td>0.0</td>\n",
       "      <td>2.0</td>\n",
       "      <td>1.0</td>\n",
       "      <td>0.0</td>\n",
       "      <td>2.0</td>\n",
       "      <td>2.0</td>\n",
       "      <td>32.0</td>\n",
       "      <td>1.0</td>\n",
       "      <td>0.0</td>\n",
       "      <td>3.0</td>\n",
       "      <td>0.0</td>\n",
       "      <td>1</td>\n",
       "      <td>0</td>\n",
       "      <td>1</td>\n",
       "    </tr>\n",
       "    <tr>\n",
       "      <th>95</th>\n",
       "      <td>2.0</td>\n",
       "      <td>54.0</td>\n",
       "      <td>4.0</td>\n",
       "      <td>15945.0</td>\n",
       "      <td>0.0</td>\n",
       "      <td>1.0</td>\n",
       "      <td>3.0</td>\n",
       "      <td>0.0</td>\n",
       "      <td>4.0</td>\n",
       "      <td>0.0</td>\n",
       "      <td>58.0</td>\n",
       "      <td>0.0</td>\n",
       "      <td>0.0</td>\n",
       "      <td>2.0</td>\n",
       "      <td>1.0</td>\n",
       "      <td>1</td>\n",
       "      <td>1</td>\n",
       "      <td>0</td>\n",
       "    </tr>\n",
       "    <tr>\n",
       "      <th>63</th>\n",
       "      <td>2.0</td>\n",
       "      <td>48.0</td>\n",
       "      <td>4.0</td>\n",
       "      <td>14421.0</td>\n",
       "      <td>0.0</td>\n",
       "      <td>2.0</td>\n",
       "      <td>2.0</td>\n",
       "      <td>0.0</td>\n",
       "      <td>2.0</td>\n",
       "      <td>1.0</td>\n",
       "      <td>25.0</td>\n",
       "      <td>1.0</td>\n",
       "      <td>0.0</td>\n",
       "      <td>2.0</td>\n",
       "      <td>1.0</td>\n",
       "      <td>1</td>\n",
       "      <td>1</td>\n",
       "      <td>0</td>\n",
       "    </tr>\n",
       "    <tr>\n",
       "      <th>714</th>\n",
       "      <td>2.0</td>\n",
       "      <td>60.0</td>\n",
       "      <td>2.0</td>\n",
       "      <td>14027.0</td>\n",
       "      <td>0.0</td>\n",
       "      <td>3.0</td>\n",
       "      <td>4.0</td>\n",
       "      <td>0.0</td>\n",
       "      <td>2.0</td>\n",
       "      <td>0.0</td>\n",
       "      <td>27.0</td>\n",
       "      <td>1.0</td>\n",
       "      <td>0.0</td>\n",
       "      <td>3.0</td>\n",
       "      <td>1.0</td>\n",
       "      <td>1</td>\n",
       "      <td>1</td>\n",
       "      <td>0</td>\n",
       "    </tr>\n",
       "    <tr>\n",
       "      <th>272</th>\n",
       "      <td>2.0</td>\n",
       "      <td>48.0</td>\n",
       "      <td>3.0</td>\n",
       "      <td>12169.0</td>\n",
       "      <td>0.0</td>\n",
       "      <td>0.0</td>\n",
       "      <td>4.0</td>\n",
       "      <td>1.0</td>\n",
       "      <td>4.0</td>\n",
       "      <td>0.0</td>\n",
       "      <td>36.0</td>\n",
       "      <td>1.0</td>\n",
       "      <td>0.0</td>\n",
       "      <td>3.0</td>\n",
       "      <td>1.0</td>\n",
       "      <td>0</td>\n",
       "      <td>1</td>\n",
       "      <td>0</td>\n",
       "    </tr>\n",
       "    <tr>\n",
       "      <th>...</th>\n",
       "      <td>...</td>\n",
       "      <td>...</td>\n",
       "      <td>...</td>\n",
       "      <td>...</td>\n",
       "      <td>...</td>\n",
       "      <td>...</td>\n",
       "      <td>...</td>\n",
       "      <td>...</td>\n",
       "      <td>...</td>\n",
       "      <td>...</td>\n",
       "      <td>...</td>\n",
       "      <td>...</td>\n",
       "      <td>...</td>\n",
       "      <td>...</td>\n",
       "      <td>...</td>\n",
       "      <td>...</td>\n",
       "      <td>...</td>\n",
       "      <td>...</td>\n",
       "    </tr>\n",
       "    <tr>\n",
       "      <th>544</th>\n",
       "      <td>0.0</td>\n",
       "      <td>12.0</td>\n",
       "      <td>0.0</td>\n",
       "      <td>1255.0</td>\n",
       "      <td>0.0</td>\n",
       "      <td>4.0</td>\n",
       "      <td>4.0</td>\n",
       "      <td>0.0</td>\n",
       "      <td>4.0</td>\n",
       "      <td>3.0</td>\n",
       "      <td>61.0</td>\n",
       "      <td>1.0</td>\n",
       "      <td>1.0</td>\n",
       "      <td>1.0</td>\n",
       "      <td>1.0</td>\n",
       "      <td>1</td>\n",
       "      <td>1</td>\n",
       "      <td>0</td>\n",
       "    </tr>\n",
       "    <tr>\n",
       "      <th>156</th>\n",
       "      <td>1.0</td>\n",
       "      <td>9.0</td>\n",
       "      <td>0.0</td>\n",
       "      <td>1288.0</td>\n",
       "      <td>1.0</td>\n",
       "      <td>4.0</td>\n",
       "      <td>3.0</td>\n",
       "      <td>1.0</td>\n",
       "      <td>4.0</td>\n",
       "      <td>3.0</td>\n",
       "      <td>48.0</td>\n",
       "      <td>1.0</td>\n",
       "      <td>1.0</td>\n",
       "      <td>2.0</td>\n",
       "      <td>0.0</td>\n",
       "      <td>1</td>\n",
       "      <td>1</td>\n",
       "      <td>0</td>\n",
       "    </tr>\n",
       "    <tr>\n",
       "      <th>264</th>\n",
       "      <td>0.0</td>\n",
       "      <td>10.0</td>\n",
       "      <td>0.0</td>\n",
       "      <td>1231.0</td>\n",
       "      <td>0.0</td>\n",
       "      <td>4.0</td>\n",
       "      <td>3.0</td>\n",
       "      <td>0.0</td>\n",
       "      <td>4.0</td>\n",
       "      <td>3.0</td>\n",
       "      <td>32.0</td>\n",
       "      <td>1.0</td>\n",
       "      <td>1.0</td>\n",
       "      <td>1.0</td>\n",
       "      <td>0.0</td>\n",
       "      <td>1</td>\n",
       "      <td>1</td>\n",
       "      <td>0</td>\n",
       "    </tr>\n",
       "    <tr>\n",
       "      <th>807</th>\n",
       "      <td>0.0</td>\n",
       "      <td>12.0</td>\n",
       "      <td>0.0</td>\n",
       "      <td>930.0</td>\n",
       "      <td>0.0</td>\n",
       "      <td>4.0</td>\n",
       "      <td>4.0</td>\n",
       "      <td>0.0</td>\n",
       "      <td>4.0</td>\n",
       "      <td>3.0</td>\n",
       "      <td>65.0</td>\n",
       "      <td>1.0</td>\n",
       "      <td>3.0</td>\n",
       "      <td>2.0</td>\n",
       "      <td>1.0</td>\n",
       "      <td>0</td>\n",
       "      <td>1</td>\n",
       "      <td>0</td>\n",
       "    </tr>\n",
       "    <tr>\n",
       "      <th>756</th>\n",
       "      <td>3.0</td>\n",
       "      <td>6.0</td>\n",
       "      <td>0.0</td>\n",
       "      <td>1299.0</td>\n",
       "      <td>0.0</td>\n",
       "      <td>2.0</td>\n",
       "      <td>1.0</td>\n",
       "      <td>0.0</td>\n",
       "      <td>1.0</td>\n",
       "      <td>3.0</td>\n",
       "      <td>74.0</td>\n",
       "      <td>1.0</td>\n",
       "      <td>2.0</td>\n",
       "      <td>0.0</td>\n",
       "      <td>0.0</td>\n",
       "      <td>1</td>\n",
       "      <td>1</td>\n",
       "      <td>0</td>\n",
       "    </tr>\n",
       "  </tbody>\n",
       "</table>\n",
       "<p>1000 rows × 18 columns</p>\n",
       "</div>"
      ],
      "text/plain": [
       "     checking  duration  credithistory  creditamount  savings  employment  \\\n",
       "915       2.0      48.0            4.0       18424.0      0.0         2.0   \n",
       "95        2.0      54.0            4.0       15945.0      0.0         1.0   \n",
       "63        2.0      48.0            4.0       14421.0      0.0         2.0   \n",
       "714       2.0      60.0            2.0       14027.0      0.0         3.0   \n",
       "272       2.0      48.0            3.0       12169.0      0.0         0.0   \n",
       "..        ...       ...            ...           ...      ...         ...   \n",
       "544       0.0      12.0            0.0        1255.0      0.0         4.0   \n",
       "156       1.0       9.0            0.0        1288.0      1.0         4.0   \n",
       "264       0.0      10.0            0.0        1231.0      0.0         4.0   \n",
       "807       0.0      12.0            0.0         930.0      0.0         4.0   \n",
       "756       3.0       6.0            0.0        1299.0      0.0         2.0   \n",
       "\n",
       "     installmentrate  guarantors  residence  property   age  housing  \\\n",
       "915              1.0         0.0        2.0       2.0  32.0      1.0   \n",
       "95               3.0         0.0        4.0       0.0  58.0      0.0   \n",
       "63               2.0         0.0        2.0       1.0  25.0      1.0   \n",
       "714              4.0         0.0        2.0       0.0  27.0      1.0   \n",
       "272              4.0         1.0        4.0       0.0  36.0      1.0   \n",
       "..               ...         ...        ...       ...   ...      ...   \n",
       "544              4.0         0.0        4.0       3.0  61.0      1.0   \n",
       "156              3.0         1.0        4.0       3.0  48.0      1.0   \n",
       "264              3.0         0.0        4.0       3.0  32.0      1.0   \n",
       "807              4.0         0.0        4.0       3.0  65.0      1.0   \n",
       "756              1.0         0.0        1.0       3.0  74.0      1.0   \n",
       "\n",
       "     numexistingcredits  job  foreigner  nmac  male  married  \n",
       "915                 0.0  3.0        0.0     1     0        1  \n",
       "95                  0.0  2.0        1.0     1     1        0  \n",
       "63                  0.0  2.0        1.0     1     1        0  \n",
       "714                 0.0  3.0        1.0     1     1        0  \n",
       "272                 0.0  3.0        1.0     0     1        0  \n",
       "..                  ...  ...        ...   ...   ...      ...  \n",
       "544                 1.0  1.0        1.0     1     1        0  \n",
       "156                 1.0  2.0        0.0     1     1        0  \n",
       "264                 1.0  1.0        0.0     1     1        0  \n",
       "807                 3.0  2.0        1.0     0     1        0  \n",
       "756                 2.0  0.0        0.0     1     1        0  \n",
       "\n",
       "[1000 rows x 18 columns]"
      ]
     },
     "execution_count": 498,
     "metadata": {},
     "output_type": "execute_result"
    }
   ],
   "source": [
    "# Show dataframe sorted by PC3\n",
    "idx = X_pca[\"PC2\"].sort_values(ascending=False).index\n",
    "cols = [\"creditamount\", \"duration\", \"numexistingcredits\", \"property\"]\n",
    "df.loc[idx, :]"
   ]
  },
  {
   "cell_type": "markdown",
   "id": "subjective-berlin",
   "metadata": {},
   "source": [
    "## Anomaly Detection"
   ]
  },
  {
   "cell_type": "code",
   "execution_count": 500,
   "id": "derived-discharge",
   "metadata": {},
   "outputs": [
    {
     "data": {
      "image/png": "[encoded data removed]",
      "text/plain": [
       "<Figure size 2160x1080 with 18 Axes>"
      ]
     },
     "metadata": {},
     "output_type": "display_data"
    }
   ],
   "source": [
    "sns.catplot(\n",
    "    y=\"value\",\n",
    "    col=\"variable\",\n",
    "    data=X_pca.melt(),\n",
    "    kind='boxen',\n",
    "    sharey=False,\n",
    "    col_wrap=6,\n",
    ");"
   ]
  },
  {
   "cell_type": "code",
   "execution_count": 506,
   "id": "associate-reply",
   "metadata": {
    "scrolled": true
   },
   "outputs": [
    {
     "data": {
      "text/plain": [
       "checking                 2.000000\n",
       "duration                48.000000\n",
       "credithistory            2.000000\n",
       "creditamount          5951.000000\n",
       "savings                  0.000000\n",
       "employment               2.000000\n",
       "installmentrate          2.000000\n",
       "guarantors               0.000000\n",
       "residence                2.000000\n",
       "property                 3.000000\n",
       "age                     22.000000\n",
       "housing                  1.000000\n",
       "numexistingcredits       0.000000\n",
       "job                      2.000000\n",
       "foreigner                1.000000\n",
       "nmac                     1.000000\n",
       "male                     0.000000\n",
       "married                  1.000000\n",
       "credit_or_property    1983.666667\n",
       "Name: 1, dtype: float64"
      ]
     },
     "execution_count": 506,
     "metadata": {},
     "output_type": "execute_result"
    }
   ],
   "source": [
    "# You can change PC1 to PC2, PC3, or PC4\n",
    "component = \"PC1\"\n",
    "\n",
    "idx = X_pca[component].sort_values(ascending=False).index\n",
    "df.loc[idx, :].loc[1,:]"
   ]
  },
  {
   "cell_type": "markdown",
   "id": "regular-archive",
   "metadata": {},
   "source": [
    "## Model Training"
   ]
  },
  {
   "cell_type": "markdown",
   "id": "breathing-sacrifice",
   "metadata": {},
   "source": [
    "### Random Forest"
   ]
  },
  {
   "cell_type": "code",
   "execution_count": 546,
   "id": "split-merchant",
   "metadata": {
    "scrolled": true
   },
   "outputs": [
    {
     "name": "stderr",
     "output_type": "stream",
     "text": [
      "C:\\Users\\daisu\\anaconda3\\lib\\site-packages\\sklearn\\linear_model\\_logistic.py:763: ConvergenceWarning: lbfgs failed to converge (status=1):\n",
      "STOP: TOTAL NO. of ITERATIONS REACHED LIMIT.\n",
      "\n",
      "Increase the number of iterations (max_iter) or scale the data as shown in:\n",
      "    https://scikit-learn.org/stable/modules/preprocessing.html\n",
      "Please also refer to the documentation for alternative solver options:\n",
      "    https://scikit-learn.org/stable/modules/linear_model.html#logistic-regression\n",
      "C:\\Users\\daisu\\anaconda3\\lib\\site-packages\\sklearn\\linear_model\\_logistic.py:763: ConvergenceWarning: lbfgs failed to converge (status=1):\n",
      "STOP: TOTAL NO. of ITERATIONS REACHED LIMIT.\n",
      "\n",
      "Increase the number of iterations (max_iter) or scale the data as shown in:\n",
      "    https://scikit-learn.org/stable/modules/preprocessing.html\n",
      "Please also refer to the documentation for alternative solver options:\n",
      "    https://scikit-learn.org/stable/modules/linear_model.html#logistic-regression\n",
      "C:\\Users\\daisu\\anaconda3\\lib\\site-packages\\sklearn\\linear_model\\_logistic.py:763: ConvergenceWarning: lbfgs failed to converge (status=1):\n",
      "STOP: TOTAL NO. of ITERATIONS REACHED LIMIT.\n",
      "\n",
      "Increase the number of iterations (max_iter) or scale the data as shown in:\n",
      "    https://scikit-learn.org/stable/modules/preprocessing.html\n",
      "Please also refer to the documentation for alternative solver options:\n",
      "    https://scikit-learn.org/stable/modules/linear_model.html#logistic-regression\n",
      "C:\\Users\\daisu\\anaconda3\\lib\\site-packages\\sklearn\\linear_model\\_logistic.py:763: ConvergenceWarning: lbfgs failed to converge (status=1):\n",
      "STOP: TOTAL NO. of ITERATIONS REACHED LIMIT.\n",
      "\n",
      "Increase the number of iterations (max_iter) or scale the data as shown in:\n",
      "    https://scikit-learn.org/stable/modules/preprocessing.html\n",
      "Please also refer to the documentation for alternative solver options:\n",
      "    https://scikit-learn.org/stable/modules/linear_model.html#logistic-regression\n",
      "C:\\Users\\daisu\\anaconda3\\lib\\site-packages\\sklearn\\linear_model\\_logistic.py:763: ConvergenceWarning: lbfgs failed to converge (status=1):\n",
      "STOP: TOTAL NO. of ITERATIONS REACHED LIMIT.\n",
      "\n",
      "Increase the number of iterations (max_iter) or scale the data as shown in:\n",
      "    https://scikit-learn.org/stable/modules/preprocessing.html\n",
      "Please also refer to the documentation for alternative solver options:\n",
      "    https://scikit-learn.org/stable/modules/linear_model.html#logistic-regression\n",
      "C:\\Users\\daisu\\anaconda3\\lib\\site-packages\\sklearn\\linear_model\\_logistic.py:763: ConvergenceWarning: lbfgs failed to converge (status=1):\n",
      "STOP: TOTAL NO. of ITERATIONS REACHED LIMIT.\n",
      "\n",
      "Increase the number of iterations (max_iter) or scale the data as shown in:\n",
      "    https://scikit-learn.org/stable/modules/preprocessing.html\n",
      "Please also refer to the documentation for alternative solver options:\n",
      "    https://scikit-learn.org/stable/modules/linear_model.html#logistic-regression\n",
      "C:\\Users\\daisu\\anaconda3\\lib\\site-packages\\sklearn\\linear_model\\_logistic.py:763: ConvergenceWarning: lbfgs failed to converge (status=1):\n",
      "STOP: TOTAL NO. of ITERATIONS REACHED LIMIT.\n",
      "\n",
      "Increase the number of iterations (max_iter) or scale the data as shown in:\n",
      "    https://scikit-learn.org/stable/modules/preprocessing.html\n",
      "Please also refer to the documentation for alternative solver options:\n",
      "    https://scikit-learn.org/stable/modules/linear_model.html#logistic-regression\n",
      "C:\\Users\\daisu\\anaconda3\\lib\\site-packages\\sklearn\\linear_model\\_logistic.py:763: ConvergenceWarning: lbfgs failed to converge (status=1):\n",
      "STOP: TOTAL NO. of ITERATIONS REACHED LIMIT.\n",
      "\n",
      "Increase the number of iterations (max_iter) or scale the data as shown in:\n",
      "    https://scikit-learn.org/stable/modules/preprocessing.html\n",
      "Please also refer to the documentation for alternative solver options:\n",
      "    https://scikit-learn.org/stable/modules/linear_model.html#logistic-regression\n",
      "C:\\Users\\daisu\\anaconda3\\lib\\site-packages\\sklearn\\linear_model\\_logistic.py:763: ConvergenceWarning: lbfgs failed to converge (status=1):\n",
      "STOP: TOTAL NO. of ITERATIONS REACHED LIMIT.\n",
      "\n",
      "Increase the number of iterations (max_iter) or scale the data as shown in:\n",
      "    https://scikit-learn.org/stable/modules/preprocessing.html\n",
      "Please also refer to the documentation for alternative solver options:\n",
      "    https://scikit-learn.org/stable/modules/linear_model.html#logistic-regression\n",
      "C:\\Users\\daisu\\anaconda3\\lib\\site-packages\\sklearn\\linear_model\\_logistic.py:763: ConvergenceWarning: lbfgs failed to converge (status=1):\n",
      "STOP: TOTAL NO. of ITERATIONS REACHED LIMIT.\n",
      "\n",
      "Increase the number of iterations (max_iter) or scale the data as shown in:\n",
      "    https://scikit-learn.org/stable/modules/preprocessing.html\n",
      "Please also refer to the documentation for alternative solver options:\n",
      "    https://scikit-learn.org/stable/modules/linear_model.html#logistic-regression\n"
     ]
    },
    {
     "data": {
      "text/plain": [
       "0.8971428571428571"
      ]
     },
     "execution_count": 546,
     "metadata": {},
     "output_type": "execute_result"
    }
   ],
   "source": [
    "score_dataset(X.iloc[:, :-1],y, RandomForestClassifier())"
   ]
  },
  {
   "cell_type": "code",
   "execution_count": 545,
   "id": "young-kennedy",
   "metadata": {
    "scrolled": true
   },
   "outputs": [
    {
     "name": "stdout",
     "output_type": "stream",
     "text": [
      "Accuracy: 0.905 (0.030)\n"
     ]
    }
   ],
   "source": [
    "# automatic nested cross-validation for random forest on a classification dataset\n",
    "from numpy import mean\n",
    "from numpy import std\n",
    "from sklearn.model_selection import cross_val_score\n",
    "from sklearn.model_selection import KFold\n",
    "from sklearn.model_selection import GridSearchCV\n",
    "from sklearn.ensemble import RandomForestClassifier\n",
    "from sklearn.linear_model import LogisticRegression\n",
    "\n",
    "# configure the cross-validation procedure\n",
    "cv_inner = KFold(n_splits=3, shuffle=True, random_state=1)\n",
    "# define the model\n",
    "model = RandomForestClassifier(random_state=1)\n",
    "# define search space\n",
    "space = dict()\n",
    "space['n_estimators'] = [10, 100, 500]\n",
    "space['max_features'] = [2, 4, 6]\n",
    "# define search\n",
    "search = GridSearchCV(model, space, scoring='accuracy',  cv=cv_inner)\n",
    "# configure the cross-validation procedure\n",
    "cv_outer = KFold(n_splits=10, shuffle=True, random_state=1)\n",
    "# execute the nested cross-validation\n",
    "scores = cross_val_score(search, X.iloc[:, :-1], y, scoring='recall', cv=cv_outer)\n",
    "# report performance\n",
    "print('Accuracy: %.3f (%.3f)' % (mean(scores), std(scores)))"
   ]
  },
  {
   "cell_type": "markdown",
   "id": "guilty-couple",
   "metadata": {},
   "source": [
    "### Logistic Regression"
   ]
  },
  {
   "cell_type": "code",
   "execution_count": 547,
   "id": "worst-illinois",
   "metadata": {},
   "outputs": [
    {
     "name": "stderr",
     "output_type": "stream",
     "text": [
      "C:\\Users\\daisu\\anaconda3\\lib\\site-packages\\sklearn\\linear_model\\_logistic.py:763: ConvergenceWarning: lbfgs failed to converge (status=1):\n",
      "STOP: TOTAL NO. of ITERATIONS REACHED LIMIT.\n",
      "\n",
      "Increase the number of iterations (max_iter) or scale the data as shown in:\n",
      "    https://scikit-learn.org/stable/modules/preprocessing.html\n",
      "Please also refer to the documentation for alternative solver options:\n",
      "    https://scikit-learn.org/stable/modules/linear_model.html#logistic-regression\n",
      "C:\\Users\\daisu\\anaconda3\\lib\\site-packages\\sklearn\\linear_model\\_logistic.py:763: ConvergenceWarning: lbfgs failed to converge (status=1):\n",
      "STOP: TOTAL NO. of ITERATIONS REACHED LIMIT.\n",
      "\n",
      "Increase the number of iterations (max_iter) or scale the data as shown in:\n",
      "    https://scikit-learn.org/stable/modules/preprocessing.html\n",
      "Please also refer to the documentation for alternative solver options:\n",
      "    https://scikit-learn.org/stable/modules/linear_model.html#logistic-regression\n",
      "C:\\Users\\daisu\\anaconda3\\lib\\site-packages\\sklearn\\linear_model\\_logistic.py:763: ConvergenceWarning: lbfgs failed to converge (status=1):\n",
      "STOP: TOTAL NO. of ITERATIONS REACHED LIMIT.\n",
      "\n",
      "Increase the number of iterations (max_iter) or scale the data as shown in:\n",
      "    https://scikit-learn.org/stable/modules/preprocessing.html\n",
      "Please also refer to the documentation for alternative solver options:\n",
      "    https://scikit-learn.org/stable/modules/linear_model.html#logistic-regression\n",
      "C:\\Users\\daisu\\anaconda3\\lib\\site-packages\\sklearn\\linear_model\\_logistic.py:763: ConvergenceWarning: lbfgs failed to converge (status=1):\n",
      "STOP: TOTAL NO. of ITERATIONS REACHED LIMIT.\n",
      "\n",
      "Increase the number of iterations (max_iter) or scale the data as shown in:\n",
      "    https://scikit-learn.org/stable/modules/preprocessing.html\n",
      "Please also refer to the documentation for alternative solver options:\n",
      "    https://scikit-learn.org/stable/modules/linear_model.html#logistic-regression\n",
      "C:\\Users\\daisu\\anaconda3\\lib\\site-packages\\sklearn\\linear_model\\_logistic.py:763: ConvergenceWarning: lbfgs failed to converge (status=1):\n",
      "STOP: TOTAL NO. of ITERATIONS REACHED LIMIT.\n",
      "\n",
      "Increase the number of iterations (max_iter) or scale the data as shown in:\n",
      "    https://scikit-learn.org/stable/modules/preprocessing.html\n",
      "Please also refer to the documentation for alternative solver options:\n",
      "    https://scikit-learn.org/stable/modules/linear_model.html#logistic-regression\n",
      "C:\\Users\\daisu\\anaconda3\\lib\\site-packages\\sklearn\\linear_model\\_logistic.py:763: ConvergenceWarning: lbfgs failed to converge (status=1):\n",
      "STOP: TOTAL NO. of ITERATIONS REACHED LIMIT.\n",
      "\n",
      "Increase the number of iterations (max_iter) or scale the data as shown in:\n",
      "    https://scikit-learn.org/stable/modules/preprocessing.html\n",
      "Please also refer to the documentation for alternative solver options:\n",
      "    https://scikit-learn.org/stable/modules/linear_model.html#logistic-regression\n",
      "C:\\Users\\daisu\\anaconda3\\lib\\site-packages\\sklearn\\linear_model\\_logistic.py:763: ConvergenceWarning: lbfgs failed to converge (status=1):\n",
      "STOP: TOTAL NO. of ITERATIONS REACHED LIMIT.\n",
      "\n",
      "Increase the number of iterations (max_iter) or scale the data as shown in:\n",
      "    https://scikit-learn.org/stable/modules/preprocessing.html\n",
      "Please also refer to the documentation for alternative solver options:\n",
      "    https://scikit-learn.org/stable/modules/linear_model.html#logistic-regression\n",
      "C:\\Users\\daisu\\anaconda3\\lib\\site-packages\\sklearn\\linear_model\\_logistic.py:763: ConvergenceWarning: lbfgs failed to converge (status=1):\n",
      "STOP: TOTAL NO. of ITERATIONS REACHED LIMIT.\n",
      "\n",
      "Increase the number of iterations (max_iter) or scale the data as shown in:\n",
      "    https://scikit-learn.org/stable/modules/preprocessing.html\n",
      "Please also refer to the documentation for alternative solver options:\n",
      "    https://scikit-learn.org/stable/modules/linear_model.html#logistic-regression\n",
      "C:\\Users\\daisu\\anaconda3\\lib\\site-packages\\sklearn\\linear_model\\_logistic.py:763: ConvergenceWarning: lbfgs failed to converge (status=1):\n",
      "STOP: TOTAL NO. of ITERATIONS REACHED LIMIT.\n",
      "\n",
      "Increase the number of iterations (max_iter) or scale the data as shown in:\n",
      "    https://scikit-learn.org/stable/modules/preprocessing.html\n",
      "Please also refer to the documentation for alternative solver options:\n",
      "    https://scikit-learn.org/stable/modules/linear_model.html#logistic-regression\n",
      "C:\\Users\\daisu\\anaconda3\\lib\\site-packages\\sklearn\\linear_model\\_logistic.py:763: ConvergenceWarning: lbfgs failed to converge (status=1):\n",
      "STOP: TOTAL NO. of ITERATIONS REACHED LIMIT.\n",
      "\n",
      "Increase the number of iterations (max_iter) or scale the data as shown in:\n",
      "    https://scikit-learn.org/stable/modules/preprocessing.html\n",
      "Please also refer to the documentation for alternative solver options:\n",
      "    https://scikit-learn.org/stable/modules/linear_model.html#logistic-regression\n"
     ]
    },
    {
     "data": {
      "text/plain": [
       "0.8971428571428571"
      ]
     },
     "execution_count": 547,
     "metadata": {},
     "output_type": "execute_result"
    }
   ],
   "source": [
    "score_dataset(X.iloc[:, :-1],y, LogisticRegression())"
   ]
  },
  {
   "cell_type": "markdown",
   "id": "stylish-argentina",
   "metadata": {},
   "source": [
    "### Neural Network"
   ]
  },
  {
   "cell_type": "code",
   "execution_count": 543,
   "id": "suspended-trinity",
   "metadata": {},
   "outputs": [
    {
     "data": {
      "text/plain": [
       "0.6028571428571429"
      ]
     },
     "execution_count": 543,
     "metadata": {},
     "output_type": "execute_result"
    }
   ],
   "source": [
    "score_dataset(X.iloc[:, :-1],y,MLPClassifier(hidden_layer_sizes=(15,),))"
   ]
  }
 ],
 "metadata": {
  "kernelspec": {
   "display_name": "Python 3",
   "language": "python",
   "name": "python3"
  },
  "language_info": {
   "codemirror_mode": {
    "name": "ipython",
    "version": 3
   },
   "file_extension": ".py",
   "mimetype": "text/x-python",
   "name": "python",
   "nbconvert_exporter": "python",
   "pygments_lexer": "ipython3",
   "version": "3.8.3"
  }
 },
 "nbformat": 4,
 "nbformat_minor": 5
}
