{
 "cells": [
  {
   "cell_type": "markdown",
   "id": "f3520e42-b71d-46bf-bbc9-09ee27c8f159",
   "metadata": {},
   "source": [
    "### Create and import dataset"
   ]
  },
  {
   "cell_type": "code",
   "execution_count": 9,
   "id": "09903a2a-a06e-4995-9066-d72c69b09f2f",
   "metadata": {},
   "outputs": [],
   "source": [
    "from typing import List, Union\n",
    "from google.cloud import aiplatform\n",
    "from google.cloud import aiplatform_v1beta1\n",
    "from google.protobuf import json_format\n",
    "from google.protobuf.struct_pb2 import Value\n",
    "\n",
    "from func import (create_and_import_dataset_time_series_gcs_sample, \n",
    "                create_batch_prediction_job_bigquery_sample,\n",
    "                create_training_pipeline_forecasting_sample)"
   ]
  },
  {
   "cell_type": "code",
   "execution_count": null,
   "id": "a1bbd13a-1b2c-48ca-87f2-aaf6bf993237",
   "metadata": {},
   "outputs": [],
   "source": [
    "project: str = \"project-daisuke-318402\"\n",
    "display_name: str = \"eth\"\n",
    "model_name: str = f\"projects/{project}/locations/us-central1/models/2573176067367895040\"\n",
    "instances_format: str = \"csv\"\n",
    "gcs_source_uri: str ='gs://dk-bucket/test.csv'\n",
    "predictions_format: str = \"bigquery\"\n",
    "bigquery_destination_output_uri: str  = 'bq://project-daisuke-318402.eth'\n",
    "location: str = \"us-central1\""
   ]
  },
  {
   "cell_type": "code",
   "execution_count": null,
   "id": "ddc3a032-229b-4582-91d9-b9c6520d7efd",
   "metadata": {},
   "outputs": [],
   "source": [
    "create_and_import_dataset_time_series_gcs_sample(   \n",
    "    display_name: str = display_name,\n",
    "    project: str = project,\n",
    "    location: str = location,\n",
    "    gcs_source: Union[str, List[str]] = ,)"
   ]
  },
  {
   "cell_type": "markdown",
   "id": "d67ac5b0-c565-44f6-ad32-26d4eba66700",
   "metadata": {},
   "source": [
    "### Create training pipeline forecasting"
   ]
  },
  {
   "cell_type": "code",
   "execution_count": null,
   "id": "eb1fbd14-8fcb-4f68-8790-943d81c9eaab",
   "metadata": {},
   "outputs": [],
   "source": [
    "#https://cloud.google.com/python/docs/reference/aiplatform/1.3.0/google.cloud.aiplatform.AutoMLForecastingTrainingJob#google_cloud_aiplatform_AutoMLForecastingTrainingJob_run\n",
    "create_training_pipeline_forecasting_sample(\n",
    "    project: str,\n",
    "    display_name: str,\n",
    "    dataset_id: str,\n",
    "    location: str = \"us-central1\",\n",
    "    model_display_name: str = \"my_model\",\n",
    "    target_column: str = \"target_column\",\n",
    "    time_column: str = \"date\",\n",
    "    time_series_identifier_column: str = \"time_series_id\",\n",
    "    unavailable_at_forecast_columns: List[str] = [],\n",
    "    available_at_forecast_columns: List[str] = [],\n",
    "    forecast_horizon: int = 1440,\n",
    "    data_granularity_unit: str = \"minute\",\n",
    "    data_granularity_count: int = 10,\n",
    "    training_fraction_split: float = 0.8,\n",
    "    validation_fraction_split: float = 0.1,\n",
    "    test_fraction_split: float = 0.1,\n",
    "    budget_milli_node_hours: int = 4000,\n",
    "    timestamp_split_column_name: str = \"timestamp_split\",\n",
    "    weight_column: str = \"weight\",\n",
    "    time_series_attribute_columns: List[str] = [],\n",
    "    context_window: int = 1500,\n",
    "    export_evaluated_data_items: bool = True,\n",
    "    export_evaluated_data_items_bigquery_destination_uri: Optional[str] = None,\n",
    "    export_evaluated_data_items_override_destination: bool = False,\n",
    "    quantiles: Optional[List[float]] = None,\n",
    "    validation_options: Optional[str] = None,\n",
    "    predefined_split_column_name: Optional[str] = None,\n",
    "    sync: bool = True,\n",
    ")"
   ]
  },
  {
   "cell_type": "code",
   "execution_count": null,
   "id": "99e32179-a15b-4207-9456-98d71ee4b7fa",
   "metadata": {},
   "outputs": [],
   "source": [
    "create_batch_prediction_job_bigquery_sample(\n",
    "    project: str = project,\n",
    "    display_name: str,\n",
    "    model_name: str,\n",
    "    instances_format: str,\n",
    "    gcs_source_uri: str,\n",
    "    predictions_format: str,\n",
    "    bigquery_destination_output_uri: str,\n",
    "    location: str = \"us-central1\",\n",
    "    api_endpoint: str = \"us-central1-aiplatform.googleapis.com\",\n",
    ")"
   ]
  }
 ],
 "metadata": {
  "environment": {
   "kernel": "python3",
   "name": "tf2-gpu.2-6.m102",
   "type": "gcloud",
   "uri": "gcr.io/deeplearning-platform-release/tf2-gpu.2-6:m102"
  },
  "kernelspec": {
   "display_name": "Python 3 (ipykernel)",
   "language": "python",
   "name": "python3"
  },
  "language_info": {
   "codemirror_mode": {
    "name": "ipython",
    "version": 3
   },
   "file_extension": ".py",
   "mimetype": "text/x-python",
   "name": "python",
   "nbconvert_exporter": "python",
   "pygments_lexer": "ipython3",
   "version": "3.7.12"
  }
 },
 "nbformat": 4,
 "nbformat_minor": 5
}
