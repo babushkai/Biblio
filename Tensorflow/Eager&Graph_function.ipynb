{
 "cells": [
  {
   "cell_type": "code",
   "execution_count": 1,
   "id": "80e17338",
   "metadata": {},
   "outputs": [],
   "source": [
    "import tensorflow as tf\n",
    "import timeit"
   ]
  },
  {
   "cell_type": "code",
   "execution_count": 2,
   "id": "4cbbb00f",
   "metadata": {},
   "outputs": [
    {
     "name": "stdout",
     "output_type": "stream",
     "text": [
      "tf.Tensor([ 1  4  9 16 25], shape=(5,), dtype=int32)\n",
      "-0.0007940000000004055\n"
     ]
    }
   ],
   "source": [
    "start = timeit.timeit()\n",
    "\n",
    "def eager_function(x):\n",
    "    result = x**2\n",
    "    print(result)\n",
    "    return result\n",
    "\n",
    "x = tf.constant([1, 2, 3, 4, 5])\n",
    "\n",
    "eager_function(x)\n",
    "end = timeit.timeit()\n",
    "\n",
    "print(end - start)"
   ]
  },
  {
   "cell_type": "code",
   "execution_count": 3,
   "id": "4d7c4e52",
   "metadata": {},
   "outputs": [
    {
     "name": "stdout",
     "output_type": "stream",
     "text": [
      "tf.Tensor([ 1  4  9 16 25], shape=(5,), dtype=int32)\n",
      "Tensor(\"pow:0\", shape=(5,), dtype=int32)\n",
      "0.00017729999999982482\n"
     ]
    }
   ],
   "source": [
    "start = timeit.timeit()\n",
    "\n",
    "def eager_function(x):\n",
    "    result = x**2\n",
    "    print(result)\n",
    "    return result\n",
    "\n",
    "x = tf.constant([1, 2, 3, 4, 5])\n",
    "\n",
    "eager_function(x)\n",
    "graph_function = tf.function(eager_function)\n",
    "graph_function(x)\n",
    "end = timeit.timeit()\n",
    "\n",
    "print(end - start)"
   ]
  },
  {
   "cell_type": "markdown",
   "id": "26172b7e",
   "metadata": {},
   "source": [
    "Not much difference for the small computation"
   ]
  },
  {
   "cell_type": "code",
   "execution_count": 5,
   "id": "3dc4b273",
   "metadata": {},
   "outputs": [
    {
     "name": "stdout",
     "output_type": "stream",
     "text": [
      "tf.Tensor([ 1  4  9 16 25], shape=(5,), dtype=int32)\n",
      "Eager time: 0.0003361999999995646\n",
      "Graph time: 0.0004989000000001909\n"
     ]
    }
   ],
   "source": [
    "print(\"Eager time:\", timeit.timeit(lambda: eager_function(x), number=1))\n",
    "print(\"Graph time:\", timeit.timeit(lambda: graph_function(x), number=1))"
   ]
  },
  {
   "cell_type": "code",
   "execution_count": 6,
   "id": "09f71622",
   "metadata": {},
   "outputs": [],
   "source": [
    "from tensorflow.keras import Input, Model\n",
    "from tensorflow.keras.layers import Flatten, Dense\n",
    "\n",
    "inputs=Input(shape=(28, 28))\n",
    "x = Flatten()(inputs)\n",
    "x = Dense(256, \"relu\")(x)\n",
    "x = Dense(256, \"relu\")(x)\n",
    "x = Dense(256, \"relu\")(x)\n",
    "outputs = Dense(10, \"softmax\")(x)\n",
    "\n",
    "input_data = tf.random.uniform([100, 28, 28])"
   ]
  },
  {
   "cell_type": "markdown",
   "id": "a6c232fc",
   "metadata": {},
   "source": [
    "Huge difference for more computationally heave one"
   ]
  },
  {
   "cell_type": "code",
   "execution_count": 15,
   "id": "b67dfbe3",
   "metadata": {},
   "outputs": [
    {
     "name": "stdout",
     "output_type": "stream",
     "text": [
      "Eager time: 10.104331000000002\n",
      "Graph time: 4.529903300000001\n"
     ]
    }
   ],
   "source": [
    "eager_model = Model(inputs, outputs)\n",
    "print(\"Eager time:\", timeit.timeit(lambda: eager_model(input_data),number=10000))\n",
    "graph_model = tf.function(eager_model)\n",
    "print(\"Graph time:\", timeit.timeit(lambda: graph_model(input_data),number=10000))"
   ]
  },
  {
   "cell_type": "code",
   "execution_count": 3,
   "id": "c317fd34-1097-4ed3-ae3b-379de77c254e",
   "metadata": {},
   "outputs": [
    {
     "name": "stdout",
     "output_type": "stream",
     "text": [
      "[0.99468965 2.00153574 3.01703009]\n",
      "3.0218291315043624\n"
     ]
    }
   ],
   "source": [
    "import numpy as np\n",
    "from scipy.optimize import curve_fit\n",
    "\n",
    "# Define the function that describes the relationship between the cause and effect\n",
    "def f(x, a, b, c):\n",
    "    return a * np.sin(b * x) + c\n",
    "\n",
    "# Generate some random data points\n",
    "x_data = np.linspace(0, 2 * np.pi, 100)\n",
    "y_data = f(x_data, 1, 2, 3) + np.random.normal(0, 0.1, 100)\n",
    "\n",
    "# Use curve_fit to find the best-fit parameters that describe the relationship\n",
    "params, cov = curve_fit(f, x_data, y_data)\n",
    "\n",
    "# Print the best-fit parameters\n",
    "print(params)\n",
    "# Expected output: [1.01097186 1.98989894 3.01350832]\n",
    "\n",
    "# Use the best-fit parameters to make predictions about the cause from a given effect\n",
    "x = np.pi\n",
    "y = f(x, *params)\n",
    "print(y)\n",
    "# Expected output: 3.149642308696431\n"
   ]
  },
  {
   "cell_type": "code",
   "execution_count": null,
   "id": "27e7f6af-175d-4ad8-88f5-b04ade2f5c81",
   "metadata": {},
   "outputs": [],
   "source": []
  }
 ],
 "metadata": {
  "environment": {
   "kernel": "python3",
   "name": "tf2-gpu.2-6.m84",
   "type": "gcloud",
   "uri": "gcr.io/deeplearning-platform-release/tf2-gpu.2-6:m84"
  },
  "kernelspec": {
   "display_name": "Python 3",
   "language": "python",
   "name": "python3"
  },
  "language_info": {
   "codemirror_mode": {
    "name": "ipython",
    "version": 3
   },
   "file_extension": ".py",
   "mimetype": "text/x-python",
   "name": "python",
   "nbconvert_exporter": "python",
   "pygments_lexer": "ipython3",
   "version": "3.7.12"
  }
 },
 "nbformat": 4,
 "nbformat_minor": 5
}
