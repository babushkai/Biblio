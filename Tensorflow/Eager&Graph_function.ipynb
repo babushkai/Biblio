{
 "cells": [
  {
   "cell_type": "code",
   "execution_count": 1,
   "metadata": {},
   "outputs": [],
   "source": [
    "import tensorflow as tf\n",
    "import timeit"
   ]
  },
  {
   "cell_type": "code",
   "execution_count": 2,
   "metadata": {},
   "outputs": [
    {
     "name": "stdout",
     "output_type": "stream",
     "text": [
      "tf.Tensor([ 1  4  9 16 25], shape=(5,), dtype=int32)\n",
      "-0.0007940000000004055\n"
     ]
    }
   ],
   "source": [
    "start = timeit.timeit()\n",
    "\n",
    "def eager_function(x):\n",
    "    result = x**2\n",
    "    print(result)\n",
    "    return result\n",
    "\n",
    "x = tf.constant([1, 2, 3, 4, 5])\n",
    "\n",
    "eager_function(x)\n",
    "end = timeit.timeit()\n",
    "\n",
    "print(end - start)"
   ]
  },
  {
   "cell_type": "code",
   "execution_count": 3,
   "metadata": {},
   "outputs": [
    {
     "name": "stdout",
     "output_type": "stream",
     "text": [
      "tf.Tensor([ 1  4  9 16 25], shape=(5,), dtype=int32)\n",
      "Tensor(\"pow:0\", shape=(5,), dtype=int32)\n",
      "0.00017729999999982482\n"
     ]
    }
   ],
   "source": [
    "start = timeit.timeit()\n",
    "\n",
    "def eager_function(x):\n",
    "    result = x**2\n",
    "    print(result)\n",
    "    return result\n",
    "\n",
    "x = tf.constant([1, 2, 3, 4, 5])\n",
    "\n",
    "eager_function(x)\n",
    "graph_function = tf.function(eager_function)\n",
    "graph_function(x)\n",
    "end = timeit.timeit()\n",
    "\n",
    "print(end - start)"
   ]
  },
  {
   "cell_type": "markdown",
   "metadata": {},
   "source": [
    "Not much difference for the small computation"
   ]
  },
  {
   "cell_type": "code",
   "execution_count": 5,
   "metadata": {},
   "outputs": [
    {
     "name": "stdout",
     "output_type": "stream",
     "text": [
      "tf.Tensor([ 1  4  9 16 25], shape=(5,), dtype=int32)\n",
      "Eager time: 0.0003361999999995646\n",
      "Graph time: 0.0004989000000001909\n"
     ]
    }
   ],
   "source": [
    "print(\"Eager time:\", timeit.timeit(lambda: eager_function(x), number=1))\n",
    "print(\"Graph time:\", timeit.timeit(lambda: graph_function(x), number=1))"
   ]
  },
  {
   "cell_type": "code",
   "execution_count": 6,
   "metadata": {},
   "outputs": [],
   "source": [
    "from tensorflow.keras import Input, Model\n",
    "from tensorflow.keras.layers import Flatten, Dense\n",
    "\n",
    "inputs=Input(shape=(28, 28))\n",
    "x = Flatten()(inputs)\n",
    "x = Dense(256, \"relu\")(x)\n",
    "x = Dense(256, \"relu\")(x)\n",
    "x = Dense(256, \"relu\")(x)\n",
    "outputs = Dense(10, \"softmax\")(x)\n",
    "\n",
    "input_data = tf.random.uniform([100, 28, 28])"
   ]
  },
  {
   "cell_type": "markdown",
   "metadata": {},
   "source": [
    "Huge difference for more computationally heave one"
   ]
  },
  {
   "cell_type": "code",
   "execution_count": 15,
   "metadata": {},
   "outputs": [
    {
     "name": "stdout",
     "output_type": "stream",
     "text": [
      "Eager time: 10.104331000000002\n",
      "Graph time: 4.529903300000001\n"
     ]
    }
   ],
   "source": [
    "eager_model = Model(inputs, outputs)\n",
    "print(\"Eager time:\", timeit.timeit(lambda: eager_model(input_data),number=10000))\n",
    "graph_model = tf.function(eager_model)\n",
    "print(\"Graph time:\", timeit.timeit(lambda: graph_model(input_data),number=10000))"
   ]
  }
 ],
 "metadata": {
  "kernelspec": {
   "display_name": "Python 3",
   "language": "python",
   "name": "python3"
  },
  "language_info": {
   "codemirror_mode": {
    "name": "ipython",
    "version": 3
   },
   "file_extension": ".py",
   "mimetype": "text/x-python",
   "name": "python",
   "nbconvert_exporter": "python",
   "pygments_lexer": "ipython3",
   "version": "3.7.7"
  }
 },
 "nbformat": 4,
 "nbformat_minor": 5
}
