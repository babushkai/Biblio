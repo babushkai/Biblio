{
 "cells": [
  {
   "cell_type": "code",
   "execution_count": 7,
   "id": "addressed-colony",
   "metadata": {},
   "outputs": [],
   "source": [
    "import tensorflow as tf"
   ]
  },
  {
   "cell_type": "code",
   "execution_count": 2,
   "id": "useful-inquiry",
   "metadata": {},
   "outputs": [],
   "source": [
    "@tf.function\n",
    "def add(a, b):\n",
    "    return a + b"
   ]
  },
  {
   "cell_type": "code",
   "execution_count": 3,
   "id": "spoken-column",
   "metadata": {},
   "outputs": [],
   "source": [
    "def linear_layer(x):\n",
    "    return 2*x + 1\n",
    "\n",
    "@tf.function\n",
    "def deep_net(x):\n",
    "    return tf.nn.relu(linear_layer(x))"
   ]
  },
  {
   "cell_type": "code",
   "execution_count": 4,
   "id": "animal-trauma",
   "metadata": {},
   "outputs": [
    {
     "data": {
      "text/plain": [
       "<tf.Tensor: shape=(), dtype=int32, numpy=25>"
      ]
     },
     "execution_count": 4,
     "metadata": {},
     "output_type": "execute_result"
    }
   ],
   "source": [
    "deep_net(12)"
   ]
  },
  {
   "cell_type": "markdown",
   "id": "geographic-chance",
   "metadata": {},
   "source": [
    "### Polymorphic"
   ]
  },
  {
   "cell_type": "code",
   "execution_count": 5,
   "id": "juvenile-spare",
   "metadata": {},
   "outputs": [],
   "source": [
    "@tf.function\n",
    "def double(a):\n",
    "    return a + a"
   ]
  },
  {
   "cell_type": "code",
   "execution_count": 6,
   "id": "solid-socket",
   "metadata": {},
   "outputs": [
    {
     "name": "stdout",
     "output_type": "stream",
     "text": [
      "2\n",
      "2.2\n",
      "b'aa'\n"
     ]
    }
   ],
   "source": [
    "print(double(tf.constant(1)).numpy())\n",
    "print(double(tf.constant(1.1)).numpy())\n",
    "print(double(tf.constant(\"a\")).numpy()) # byte literal"
   ]
  },
  {
   "cell_type": "markdown",
   "id": "crazy-abortion",
   "metadata": {},
   "source": [
    "### Algorithm\n",
    "Graph mode allows parrallel computing \\\n",
    "Also allows for a whole program optimization like a kernel fusion"
   ]
  },
  {
   "cell_type": "code",
   "execution_count": 39,
   "id": "decreased-raleigh",
   "metadata": {},
   "outputs": [],
   "source": [
    "import time\n",
    "def timer(func):\n",
    "    def inner(*args):\n",
    "        begin = time.time()\n",
    "        func(*args)\n",
    "        end = time.time()\n",
    "        print(\"\\nTotal time taken:\", func.__name__, end-begin)\n",
    "    return inner"
   ]
  },
  {
   "cell_type": "code",
   "execution_count": 45,
   "id": "tutorial-binary",
   "metadata": {},
   "outputs": [],
   "source": [
    "@timer\n",
    "def fizzbuzz(n):\n",
    "    counter = 0\n",
    "    fizzbuzz = 0\n",
    "    fizz = 0\n",
    "    buzz = 0\n",
    "    integer = 0\n",
    "    for n in range(1,n):\n",
    "        if n%3==0 and n%5==0:\n",
    "            fizzbuzz +=1\n",
    "        elif n%3==0:\n",
    "            fizz +=1\n",
    "        elif n%5==0:\n",
    "            buzz +=1\n",
    "        else:\n",
    "            integer +=1\n",
    "        counter +=1\n",
    "    return counter"
   ]
  },
  {
   "cell_type": "code",
   "execution_count": 50,
   "id": "accepted-centre",
   "metadata": {},
   "outputs": [
    {
     "name": "stdout",
     "output_type": "stream",
     "text": [
      "\n",
      "Total time taken: fizzbuzz 2.18684458732605\n"
     ]
    }
   ],
   "source": [
    "fizzbuzz(10000000)"
   ]
  },
  {
   "cell_type": "code",
   "execution_count": 51,
   "id": "everyday-convert",
   "metadata": {},
   "outputs": [],
   "source": [
    "@timer\n",
    "@tf.function\n",
    "def fizzbuzz(n):\n",
    "    counter = 0\n",
    "    fizzbuzz = 0\n",
    "    fizz = 0\n",
    "    buzz = 0\n",
    "    integer = 0\n",
    "    for n in range(1,n):\n",
    "        if n%3==0 and n%5==0:\n",
    "            fizzbuzz +=1\n",
    "        elif n%3==0:\n",
    "            fizz +=1\n",
    "        elif n%5==0:\n",
    "            buzz +=1\n",
    "        else:\n",
    "            integer +=1\n",
    "        counter +=1\n",
    "    return counter"
   ]
  },
  {
   "cell_type": "code",
   "execution_count": 52,
   "id": "assumed-today",
   "metadata": {},
   "outputs": [
    {
     "name": "stdout",
     "output_type": "stream",
     "text": [
      "\n",
      "Total time taken: fizzbuzz 50.069194078445435\n"
     ]
    }
   ],
   "source": [
    "fizzbuzz(10000000)"
   ]
  },
  {
   "cell_type": "code",
   "execution_count": 8,
   "id": "colonial-intermediate",
   "metadata": {},
   "outputs": [],
   "source": [
    "@timer\n",
    "@tf.function\n",
    "def fizzbuzz(n):\n",
    "    counter = 0\n",
    "    for n in range(1,n):\n",
    "        if n%3==0 and n%5==0:\n",
    "            print(\"FizzBuzz\")\n",
    "        elif n%3==0:\n",
    "            print(\"Fizz\")\n",
    "        elif n%5==0:\n",
    "            print( \"Buzz\")\n",
    "        else:\n",
    "            print(n)\n",
    "        counter +=1\n",
    "    return counter\n",
    "#print(tf.autograph.to_code(fizzbuzz.python_function))"
   ]
  },
  {
   "cell_type": "code",
   "execution_count": 91,
   "id": "convertible-implementation",
   "metadata": {},
   "outputs": [],
   "source": [
    "def count(n):\n",
    "    count = 0\n",
    "    for i in range(n):\n",
    "        count +=1"
   ]
  },
  {
   "cell_type": "code",
   "execution_count": 92,
   "id": "atomic-interval",
   "metadata": {},
   "outputs": [
    {
     "name": "stdout",
     "output_type": "stream",
     "text": [
      "0.005000114440917969\n"
     ]
    }
   ],
   "source": [
    "start = time.time()\n",
    "count(100000)\n",
    "end = time.time()\n",
    "print(end - start)"
   ]
  },
  {
   "cell_type": "code",
   "execution_count": 93,
   "id": "documented-essex",
   "metadata": {},
   "outputs": [],
   "source": [
    "@tf.function\n",
    "def count(n):\n",
    "    count = 0\n",
    "    for i in range(n):\n",
    "        count +=1"
   ]
  },
  {
   "cell_type": "code",
   "execution_count": 94,
   "id": "future-picture",
   "metadata": {},
   "outputs": [
    {
     "name": "stdout",
     "output_type": "stream",
     "text": [
      "0.09799981117248535\n"
     ]
    }
   ],
   "source": [
    "start = time.time()\n",
    "count(100000)\n",
    "end = time.time()\n",
    "print(end - start)"
   ]
  },
  {
   "cell_type": "code",
   "execution_count": 8,
   "id": "selective-asthma",
   "metadata": {},
   "outputs": [],
   "source": [
    "@tf.function\n",
    "def fibonacci(n):\n",
    "    if n<=0:\n",
    "        return False\n",
    "    elif n ==1:\n",
    "        return 0\n",
    "    elif n ==2:\n",
    "        return 1\n",
    "    else:\n",
    "        return (fibonacci(n-1) + fibonacci(n-2))"
   ]
  },
  {
   "cell_type": "code",
   "execution_count": null,
   "id": "useful-group",
   "metadata": {},
   "outputs": [
    {
     "name": "stdout",
     "output_type": "stream",
     "text": [
      "tf.Tensor(False, shape=(), dtype=bool)\n",
      "tf.Tensor(0, shape=(), dtype=int32)\n",
      "tf.Tensor(1, shape=(), dtype=int32)\n"
     ]
    }
   ],
   "source": [
    "for i in range(10):\n",
    "    print(fibonacci(i))"
   ]
  },
  {
   "cell_type": "markdown",
   "id": "immediate-lounge",
   "metadata": {},
   "source": [
    "### Graph code"
   ]
  },
  {
   "cell_type": "code",
   "execution_count": 4,
   "id": "amended-wagon",
   "metadata": {},
   "outputs": [
    {
     "name": "stdout",
     "output_type": "stream",
     "text": [
      "tf.Tensor(10.0, shape=(), dtype=float32)\n",
      "def tf__f(x, y):\n",
      "  do_return = False\n",
      "  retval_ = ag__.UndefinedReturnValue()\n",
      "  with ag__.FunctionScope('f', 'f_scope', ag__.ConversionOptions(recursive=True, user_requested=True, optional_features=(), internal_convert_user_code=True)) as f_scope:\n",
      "    ag__.converted_call(a.assign, f_scope.callopts, (y * b,), None, f_scope)\n",
      "    ag__.converted_call(b.assign_add, f_scope.callopts, (x * a,), None, f_scope)\n",
      "    do_return = True\n",
      "    retval_ = f_scope.mark_return_value(a + b)\n",
      "  do_return,\n",
      "  return ag__.retval(retval_)\n",
      "\n"
     ]
    }
   ],
   "source": [
    "a = tf.Variable(1.0)\n",
    "b = tf.Variable(2.0)\n",
    "\n",
    "@tf.function\n",
    "def f(x,y):\n",
    "    a.assign(y*b)\n",
    "    b.assign_add(x*a)\n",
    "    return a+b \n",
    "\n",
    "print(f(1.0, 2.0))\n",
    "print(tf.autograph.to_code(f.python_function))\n",
    "\n",
    "#converted_call do everything under the hood"
   ]
  }
 ],
 "metadata": {
  "kernelspec": {
   "display_name": "Python 3",
   "language": "python",
   "name": "python3"
  },
  "language_info": {
   "codemirror_mode": {
    "name": "ipython",
    "version": 3
   },
   "file_extension": ".py",
   "mimetype": "text/x-python",
   "name": "python",
   "nbconvert_exporter": "python",
   "pygments_lexer": "ipython3",
   "version": "3.8.3"
  }
 },
 "nbformat": 4,
 "nbformat_minor": 5
}
