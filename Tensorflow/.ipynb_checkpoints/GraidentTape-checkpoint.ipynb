{
 "cells": [
  {
   "cell_type": "code",
   "execution_count": 3,
   "id": "returning-atlanta",
   "metadata": {},
   "outputs": [],
   "source": [
    "import tensorflow as tf"
   ]
  },
  {
   "cell_type": "code",
   "execution_count": null,
   "id": "static-legislature",
   "metadata": {},
   "outputs": [],
   "source": [
    "# Loss Function\n",
    "def simple_loss(y, y_pred):\n",
    "    return tf.abs(y - y_pred)\n",
    "\n",
    "# Learning Rate\n",
    "LEARNING_RATE = 0.001"
   ]
  },
  {
   "cell_type": "code",
   "execution_count": 1,
   "id": "diverse-concept",
   "metadata": {},
   "outputs": [],
   "source": [
    "def fit_data(x, y):\n",
    "    with tf.GradientTape(persistent=True) as tape:\n",
    "        \n",
    "        # Make prediction\n",
    "        pred_y = w*x + b\n",
    "        \n",
    "        #Calculate loss\n",
    "        reg_loss = simple_loss(y, y_pred)\n",
    "        \n",
    "        # Calculate gradients\n",
    "        gradient_w = tape.gradient(reg_loss, w)\n",
    "        gradient_b = tape.gradient(reg_loss, b)\n",
    "        \n",
    "        # Update variables\n",
    "        w.assign_sub(gradient_w * LEARNING_RATE)\n",
    "        b.assign_sub(gradient_b * LEARNING_RATE)\n",
    "        "
   ]
  },
  {
   "cell_type": "code",
   "execution_count": 23,
   "id": "breathing-episode",
   "metadata": {},
   "outputs": [],
   "source": [
    "def train_step(images, labels):\n",
    "    with tf.GradientTape() as tape:\n",
    "        logits = model(images, training=True)\n",
    "        loss_value = loss_object(labels, logits)\n",
    "    \n",
    "    loss_history.append(loss_value.numpy().mean())\n",
    "    grads = tape.gradient(loss_value, model.trainable_variables)\n",
    "    optimizer.apply_gradients(zip(grads, model.trainable_variables))"
   ]
  },
  {
   "cell_type": "code",
   "execution_count": 21,
   "id": "gross-needle",
   "metadata": {},
   "outputs": [],
   "source": [
    "w = tf.Variable([[1.0]])\n",
    "\n",
    "with tf.GradientTape() as tape:\n",
    "    loss = (w * w) "
   ]
  },
  {
   "cell_type": "code",
   "execution_count": 22,
   "id": "challenging-newcastle",
   "metadata": {},
   "outputs": [
    {
     "data": {
      "text/plain": [
       "<tf.Tensor: shape=(1, 1), dtype=float32, numpy=array([[2.]], dtype=float32)>"
      ]
     },
     "execution_count": 22,
     "metadata": {},
     "output_type": "execute_result"
    }
   ],
   "source": [
    "tape.gradient(loss, w)"
   ]
  },
  {
   "cell_type": "code",
   "execution_count": 27,
   "id": "military-gathering",
   "metadata": {},
   "outputs": [
    {
     "name": "stdout",
     "output_type": "stream",
     "text": [
      "tf.Tensor(\n",
      "[[8. 8.]\n",
      " [8. 8.]], shape=(2, 2), dtype=float32)\n"
     ]
    }
   ],
   "source": [
    "x = tf.ones((2,2))\n",
    "with tf.GradientTape() as t:\n",
    "    t.watch(x)\n",
    "    y = tf.reduce_sum(x)\n",
    "    z = tf.square(y)   \n",
    "    dz_dx = t.gradient(z, x)\n",
    "    print(dz_dx)"
   ]
  },
  {
   "cell_type": "markdown",
   "id": "recreational-hartford",
   "metadata": {},
   "source": [
    "### Chain rule"
   ]
  },
  {
   "cell_type": "code",
   "execution_count": null,
   "id": "controlling-wilderness",
   "metadata": {},
   "outputs": [],
   "source": [
    "x = tf.constant(3.0)\n",
    "\n",
    "with tf.GradientTape(persistant=True) as t:\n",
    "    t.watch(x)\n",
    "    y = x * x\n",
    "    z = y * y\n",
    "dz_dx = t.gradient(z, x) # 108.0 (4*x^3 at x = 3)\n",
    "dy_dx = t.gradient(y, x) # 6.0\n",
    "del t # Drop the reference to the tape"
   ]
  },
  {
   "cell_type": "markdown",
   "id": "surprised-cheat",
   "metadata": {},
   "source": [
    "### Higher-order gradients"
   ]
  },
  {
   "cell_type": "code",
   "execution_count": 46,
   "id": "split-playing",
   "metadata": {},
   "outputs": [],
   "source": [
    "x = tf.Variable(1.0)\n",
    "\n",
    "with tf.GradientTape() as tape2:\n",
    "    with tf.GradientTape() as tape1:\n",
    "        y = x*x*x\n",
    "        \n",
    "        dy_dx = tape1.gradient(y, x)\n",
    "    \n",
    "        d2y_dx2 = tape2.gradient(dy_dx, x)\n",
    "        \n",
    "assert dy_dx.numpy() == 3.0, \"Error\"\n",
    "assert d2y_dx2.numpy() == 6.0, \"Error\""
   ]
  },
  {
   "cell_type": "markdown",
   "id": "sunrise-champagne",
   "metadata": {},
   "source": [
    "### Gradient Descent"
   ]
  },
  {
   "cell_type": "code",
   "execution_count": 47,
   "id": "challenging-faculty",
   "metadata": {},
   "outputs": [],
   "source": [
    "from __future__ import absolute_import, division, print_function, unicode_literals\n",
    "\n",
    "try:\n",
    "  # %tensorflow_version only exists in Colab.\n",
    "  %tensorflow_version 2.x\n",
    "except Exception:\n",
    "  pass\n",
    "\n",
    "\n",
    "import tensorflow as tf\n",
    "import numpy as np\n",
    "import matplotlib.pyplot as plt"
   ]
  },
  {
   "cell_type": "code",
   "execution_count": 48,
   "id": "decent-apartment",
   "metadata": {},
   "outputs": [],
   "source": [
    "class Model(object):\n",
    "  def __init__(self):\n",
    "    # Initialize the weights to `2.0` and the bias to `1.0`\n",
    "    # In practice, these should be initialized to random values (for example, with `tf.random.normal`)\n",
    "    self.w = tf.Variable(2.0)\n",
    "    self.b = tf.Variable(1.0)\n",
    "\n",
    "  def __call__(self, x):\n",
    "    return self.w * x + self.b\n",
    "\n",
    "model = Model()"
   ]
  },
  {
   "cell_type": "code",
   "execution_count": 49,
   "id": "divine-momentum",
   "metadata": {},
   "outputs": [],
   "source": [
    "def loss(predicted_y, target_y):\n",
    "  return tf.reduce_mean(tf.square(predicted_y - target_y))"
   ]
  },
  {
   "cell_type": "code",
   "execution_count": 89,
   "id": "floral-worcester",
   "metadata": {},
   "outputs": [],
   "source": [
    "w = 369342.0\n",
    "b = 31410.0\n",
    "NUM_EXAMPLES = 1000\n",
    "\n",
    "xs  = tf.random.normal(shape=[NUM_EXAMPLES])\n",
    "\n",
    "ys = (w * xs) + b"
   ]
  },
  {
   "cell_type": "code",
   "execution_count": 90,
   "id": "protective-royalty",
   "metadata": {},
   "outputs": [],
   "source": [
    "def train(model, inputs, outputs, learning_rate):\n",
    "  with tf.GradientTape() as t:\n",
    "    current_loss = loss(model(inputs), outputs)\n",
    "  dw, db = t.gradient(current_loss, [model.w, model.b])\n",
    "  model.w.assign_sub(learning_rate * dw)\n",
    "  model.b.assign_sub(learning_rate * db)\n",
    "\n",
    "  return current_loss"
   ]
  },
  {
   "cell_type": "code",
   "execution_count": 91,
   "id": "vanilla-sally",
   "metadata": {},
   "outputs": [
    {
     "name": "stdout",
     "output_type": "stream",
     "text": [
      "Epoch  0: w=2.00 b=1.00, loss=147904004096.00000\n",
      "Epoch  1: w=79952.33 b=1655.10, loss=90894704640.00000\n",
      "Epoch  2: w=142531.50 b=3980.13, loss=55925784576.00000\n",
      "Epoch  3: w=191526.72 b=6624.25, loss=34452299776.00000\n",
      "Epoch  4: w=229896.97 b=9353.43, loss=21250732032.00000\n",
      "Epoch  5: w=259954.59 b=12017.55, loss=13124881408.00000\n",
      "Epoch  6: w=283507.06 b=14525.45, loss=8117039616.00000\n",
      "Epoch  7: w=301967.50 b=16826.88, loss=5026835456.00000\n",
      "Epoch  8: w=316441.00 b=18899.33, loss=3117447936.00000\n",
      "Epoch  9: w=327792.00 b=20738.63, loss=1936074880.00000\n",
      "Epoch 10: w=336696.81 b=22352.30, loss=1204129664.00000\n",
      "Epoch 11: w=343684.75 b=23754.80, loss=749998016.00000\n",
      "Epoch 12: w=349170.16 b=24964.37, loss=467830688.00000\n",
      "Epoch 13: w=353477.44 b=26000.75, loss=292256608.00000\n",
      "Epoch 14: w=356860.75 b=26883.82, loss=182846688.00000\n",
      "Epoch 15: w=359519.12 b=27632.67, loss=114567056.00000\n",
      "Epoch 16: w=361608.59 b=28265.06, loss=71891896.00000\n",
      "Epoch 17: w=363251.47 b=28797.15, loss=45179636.00000\n",
      "Epoch 18: w=364543.62 b=29243.41, loss=28434408.00000\n",
      "Epoch 19: w=365560.28 b=29616.60, loss=17921654.00000\n",
      "Epoch 20: w=366360.47 b=29927.90, loss=11311807.00000\n",
      "Epoch 21: w=366990.47 b=30186.96, loss=7149952.50000\n",
      "Epoch 22: w=367486.69 b=30402.11, loss=4525503.00000\n",
      "Epoch 23: w=367877.66 b=30580.44, loss=2868257.50000\n",
      "Epoch 24: w=368185.81 b=30728.00, loss=1820283.25000\n",
      "Epoch 25: w=368428.78 b=30849.92, loss=1156685.62500\n",
      "Epoch 26: w=368620.41 b=30950.49, loss=735947.06250\n",
      "Epoch 27: w=368771.62 b=31033.35, loss=468794.81250\n",
      "Epoch 28: w=368890.97 b=31101.53, loss=298979.96875\n",
      "Epoch 29: w=368985.22 b=31157.57, loss=190888.67188\n",
      "Epoch 30: w=369059.66 b=31203.59, loss=122011.53906\n",
      "Epoch 31: w=369118.50 b=31241.33, loss=78056.85938\n",
      "Epoch 32: w=369165.00 b=31272.27, loss=49990.75781\n",
      "Epoch 33: w=369201.78 b=31297.60, loss=32044.05078\n",
      "Epoch 34: w=369230.88 b=31318.32, loss=20560.72070\n",
      "Epoch 35: w=369253.91 b=31335.26, loss=13202.26660\n",
      "Epoch 36: w=369272.12 b=31349.11, loss=8484.77246\n",
      "Epoch 37: w=369286.56 b=31360.41, loss=5457.03711\n",
      "Epoch 38: w=369298.00 b=31369.63, loss=3512.76123\n",
      "Epoch 39: w=369307.06 b=31377.16, loss=2262.65991\n",
      "Epoch 40: w=369314.25 b=31383.29, loss=1458.16028\n",
      "Epoch 41: w=369319.94 b=31388.28, loss=941.03296\n",
      "Epoch 42: w=369324.47 b=31392.35, loss=607.00085\n",
      "Epoch 43: w=369328.06 b=31395.66, loss=391.79791\n",
      "Epoch 44: w=369330.91 b=31398.35, loss=253.26360\n",
      "Epoch 45: w=369333.19 b=31400.54, loss=163.46288\n",
      "Epoch 46: w=369335.00 b=31402.32, loss=105.54572\n",
      "Epoch 47: w=369336.44 b=31403.77, loss=68.11175\n",
      "Epoch 48: w=369337.56 b=31404.95, loss=44.15944\n",
      "Epoch 49: w=369338.47 b=31405.90, loss=28.55877\n",
      "Epoch 50: w=369339.19 b=31406.68, loss=18.43195\n",
      "Epoch 51: w=369339.75 b=31407.31, loss=11.97838\n",
      "Epoch 52: w=369340.22 b=31407.82, loss=7.73591\n",
      "Epoch 53: w=369340.59 b=31408.23, loss=4.96839\n",
      "Epoch 54: w=369340.88 b=31408.57, loss=3.23318\n",
      "Epoch 55: w=369341.09 b=31408.84, loss=2.11103\n",
      "Epoch 56: w=369341.28 b=31409.06, loss=1.35570\n",
      "Epoch 57: w=369341.44 b=31409.24, loss=0.86352\n",
      "Epoch 58: w=369341.56 b=31409.38, loss=0.55843\n",
      "Epoch 59: w=369341.66 b=31409.50, loss=0.35588\n",
      "Epoch 60: w=369341.72 b=31409.60, loss=0.23190\n",
      "Epoch 61: w=369341.78 b=31409.68, loss=0.14566\n",
      "Epoch 62: w=369341.81 b=31409.74, loss=0.09892\n",
      "Epoch 63: w=369341.84 b=31409.79, loss=0.06750\n",
      "Epoch 64: w=369341.88 b=31409.83, loss=0.04691\n",
      "Epoch 65: w=369341.91 b=31409.86, loss=0.02584\n",
      "Epoch 66: w=369341.94 b=31409.89, loss=0.01746\n",
      "Epoch 67: w=369341.94 b=31409.91, loss=0.01145\n",
      "Epoch 68: w=369341.94 b=31409.93, loss=0.00865\n",
      "Epoch 69: w=369341.94 b=31409.94, loss=0.00760\n",
      "Epoch 70: w=369341.94 b=31409.95, loss=0.00653\n",
      "Epoch 71: w=369341.94 b=31409.96, loss=0.00572\n",
      "Epoch 72: w=369341.94 b=31409.97, loss=0.00493\n",
      "Epoch 73: w=369341.94 b=31409.97, loss=0.00487\n",
      "Epoch 74: w=369341.94 b=31409.98, loss=0.00473\n",
      "Epoch 75: w=369341.94 b=31409.98, loss=0.00469\n",
      "Epoch 76: w=369341.94 b=31409.99, loss=0.00448\n",
      "Epoch 77: w=369341.94 b=31409.99, loss=0.00448\n",
      "Epoch 78: w=369341.94 b=31409.99, loss=0.00448\n",
      "Epoch 79: w=369341.94 b=31409.99, loss=0.00448\n",
      "Epoch 80: w=369341.94 b=31409.99, loss=0.00448\n",
      "Epoch 81: w=369341.94 b=31409.99, loss=0.00448\n",
      "Epoch 82: w=369341.94 b=31409.99, loss=0.00448\n",
      "Epoch 83: w=369341.94 b=31409.99, loss=0.00448\n",
      "Epoch 84: w=369341.94 b=31409.99, loss=0.00448\n",
      "Epoch 85: w=369341.94 b=31409.99, loss=0.00448\n",
      "Epoch 86: w=369341.94 b=31409.99, loss=0.00448\n",
      "Epoch 87: w=369341.94 b=31409.99, loss=0.00448\n",
      "Epoch 88: w=369341.94 b=31409.99, loss=0.00448\n",
      "Epoch 89: w=369341.94 b=31409.99, loss=0.00448\n",
      "Epoch 90: w=369341.94 b=31409.99, loss=0.00448\n",
      "Epoch 91: w=369341.94 b=31409.99, loss=0.00448\n",
      "Epoch 92: w=369341.94 b=31409.99, loss=0.00448\n",
      "Epoch 93: w=369341.94 b=31409.99, loss=0.00448\n",
      "Epoch 94: w=369341.94 b=31409.99, loss=0.00448\n",
      "Epoch 95: w=369341.94 b=31409.99, loss=0.00448\n",
      "Epoch 96: w=369341.94 b=31409.99, loss=0.00448\n",
      "Epoch 97: w=369341.94 b=31409.99, loss=0.00448\n",
      "Epoch 98: w=369341.94 b=31409.99, loss=0.00448\n",
      "Epoch 99: w=369341.94 b=31409.99, loss=0.00448\n",
      "Epoch 100: w=369341.94 b=31409.99, loss=0.00448\n",
      "Epoch 101: w=369341.94 b=31409.99, loss=0.00448\n",
      "Epoch 102: w=369341.94 b=31409.99, loss=0.00448\n",
      "Epoch 103: w=369341.94 b=31409.99, loss=0.00448\n",
      "Epoch 104: w=369341.94 b=31409.99, loss=0.00448\n",
      "Epoch 105: w=369341.94 b=31409.99, loss=0.00448\n",
      "Epoch 106: w=369341.94 b=31409.99, loss=0.00448\n",
      "Epoch 107: w=369341.94 b=31409.99, loss=0.00448\n",
      "Epoch 108: w=369341.94 b=31409.99, loss=0.00448\n",
      "Epoch 109: w=369341.94 b=31409.99, loss=0.00448\n",
      "Epoch 110: w=369341.94 b=31409.99, loss=0.00448\n",
      "Epoch 111: w=369341.94 b=31409.99, loss=0.00448\n",
      "Epoch 112: w=369341.94 b=31409.99, loss=0.00448\n",
      "Epoch 113: w=369341.94 b=31409.99, loss=0.00448\n",
      "Epoch 114: w=369341.94 b=31409.99, loss=0.00448\n",
      "Epoch 115: w=369341.94 b=31409.99, loss=0.00448\n",
      "Epoch 116: w=369341.94 b=31409.99, loss=0.00448\n",
      "Epoch 117: w=369341.94 b=31409.99, loss=0.00448\n",
      "Epoch 118: w=369341.94 b=31409.99, loss=0.00448\n",
      "Epoch 119: w=369341.94 b=31409.99, loss=0.00448\n",
      "Epoch 120: w=369341.94 b=31409.99, loss=0.00448\n",
      "Epoch 121: w=369341.94 b=31409.99, loss=0.00448\n",
      "Epoch 122: w=369341.94 b=31409.99, loss=0.00448\n",
      "Epoch 123: w=369341.94 b=31409.99, loss=0.00448\n",
      "Epoch 124: w=369341.94 b=31409.99, loss=0.00448\n",
      "Epoch 125: w=369341.94 b=31409.99, loss=0.00448\n",
      "Epoch 126: w=369341.94 b=31409.99, loss=0.00448\n",
      "Epoch 127: w=369341.94 b=31409.99, loss=0.00448\n",
      "Epoch 128: w=369341.94 b=31409.99, loss=0.00448\n",
      "Epoch 129: w=369341.94 b=31409.99, loss=0.00448\n",
      "Epoch 130: w=369341.94 b=31409.99, loss=0.00448\n",
      "Epoch 131: w=369341.94 b=31409.99, loss=0.00448\n",
      "Epoch 132: w=369341.94 b=31409.99, loss=0.00448\n",
      "Epoch 133: w=369341.94 b=31409.99, loss=0.00448\n",
      "Epoch 134: w=369341.94 b=31409.99, loss=0.00448\n",
      "Epoch 135: w=369341.94 b=31409.99, loss=0.00448\n",
      "Epoch 136: w=369341.94 b=31409.99, loss=0.00448\n",
      "Epoch 137: w=369341.94 b=31409.99, loss=0.00448\n",
      "Epoch 138: w=369341.94 b=31409.99, loss=0.00448\n",
      "Epoch 139: w=369341.94 b=31409.99, loss=0.00448\n",
      "Epoch 140: w=369341.94 b=31409.99, loss=0.00448\n",
      "Epoch 141: w=369341.94 b=31409.99, loss=0.00448\n",
      "Epoch 142: w=369341.94 b=31409.99, loss=0.00448\n",
      "Epoch 143: w=369341.94 b=31409.99, loss=0.00448\n",
      "Epoch 144: w=369341.94 b=31409.99, loss=0.00448\n",
      "Epoch 145: w=369341.94 b=31409.99, loss=0.00448\n",
      "Epoch 146: w=369341.94 b=31409.99, loss=0.00448\n",
      "Epoch 147: w=369341.94 b=31409.99, loss=0.00448\n",
      "Epoch 148: w=369341.94 b=31409.99, loss=0.00448\n",
      "Epoch 149: w=369341.94 b=31409.99, loss=0.00448\n"
     ]
    }
   ],
   "source": [
    "model = Model()\n",
    "\n",
    "# Collect the history of W-values and b-values to plot later\n",
    "list_w, list_b = [], []\n",
    "epochs = range(150)\n",
    "losses = []\n",
    "for epoch in epochs:\n",
    "  list_w.append(model.w.numpy())\n",
    "  list_b.append(model.b.numpy())\n",
    "  current_loss = train(model, xs, ys, learning_rate=0.1)\n",
    "  losses.append(current_loss)\n",
    "  print('Epoch %2d: w=%1.2f b=%1.2f, loss=%2.5f' %\n",
    "        (epoch, list_w[-1], list_b[-1], current_loss))"
   ]
  },
  {
   "cell_type": "code",
   "execution_count": 92,
   "id": "welcome-settle",
   "metadata": {},
   "outputs": [
    {
     "data": {
      "image/png": "[encoded data removed]",
      "text/plain": [
       "<Figure size 432x288 with 1 Axes>"
      ]
     },
     "metadata": {
      "needs_background": "light"
     },
     "output_type": "display_data"
    }
   ],
   "source": [
    "plt.plot(epochs, list_w, 'r',\n",
    "       epochs, list_b, 'b')\n",
    "plt.plot([w] * len(epochs), 'r--',\n",
    "      [b] * len(epochs), 'b--')\n",
    "plt.legend(['w', 'b', 'True w', 'True b'])\n",
    "plt.show()"
   ]
  },
  {
   "cell_type": "code",
   "execution_count": 93,
   "id": "interim-north",
   "metadata": {},
   "outputs": [
    {
     "data": {
      "image/png": "[encoded data removed]",
      "text/plain": [
       "<Figure size 432x288 with 1 Axes>"
      ]
     },
     "metadata": {
      "needs_background": "light"
     },
     "output_type": "display_data"
    }
   ],
   "source": [
    "def plot_data(inputs, outputs, predicted_outputs):\n",
    "  real = plt.scatter(inputs, outputs, c='b', marker='.')\n",
    "  predicted = plt.scatter(inputs, predicted_outputs, c='r', marker='+')\n",
    "  plt.legend((real,predicted), ('Real Data', 'Predicted Data'))\n",
    "  plt.show()\n",
    "\n",
    "test_inputs  = tf.random.normal(shape=[NUM_EXAMPLES])\n",
    "test_outputs = test_inputs * w + b\n",
    "\n",
    "predicted_test_outputs = model(test_inputs)\n",
    "plot_data(test_inputs, test_outputs, predicted_test_outputs)"
   ]
  },
  {
   "cell_type": "code",
   "execution_count": 94,
   "id": "automated-church",
   "metadata": {},
   "outputs": [
    {
     "data": {
      "image/png": "[encoded data removed]",
      "text/plain": [
       "<Figure size 432x288 with 2 Axes>"
      ]
     },
     "metadata": {
      "needs_background": "light"
     },
     "output_type": "display_data"
    }
   ],
   "source": [
    "def plot_loss_for_weights(weights_list, losses):\n",
    "  for idx, weights in enumerate(weights_list):\n",
    "    plt.subplot(120 + idx + 1)\n",
    "    plt.plot(weights['values'], losses, 'r')\n",
    "    plt.plot(weights['values'], losses, 'bo')\n",
    "    plt.xlabel(weights['name'])\n",
    "    plt.ylabel('Loss')\n",
    "    \n",
    "    \n",
    "weights_list = [{ 'name' : \"w\",\n",
    "                  'values' : list_w\n",
    "                },\n",
    "                {\n",
    "                  'name' : \"b\",\n",
    "                  'values' : list_b\n",
    "                }]\n",
    "\n",
    "plot_loss_for_weights(weights_list, losses)"
   ]
  }
 ],
 "metadata": {
  "kernelspec": {
   "display_name": "Python 3",
   "language": "python",
   "name": "python3"
  },
  "language_info": {
   "codemirror_mode": {
    "name": "ipython",
    "version": 3
   },
   "file_extension": ".py",
   "mimetype": "text/x-python",
   "name": "python",
   "nbconvert_exporter": "python",
   "pygments_lexer": "ipython3",
   "version": "3.8.3"
  }
 },
 "nbformat": 4,
 "nbformat_minor": 5
}
