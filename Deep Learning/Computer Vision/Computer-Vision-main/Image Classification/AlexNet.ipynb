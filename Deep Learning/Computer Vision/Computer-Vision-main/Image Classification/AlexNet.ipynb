{
 "cells": [
  {
   "cell_type": "markdown",
   "id": "surrounded-reward",
   "metadata": {},
   "source": [
    "### AlexNet"
   ]
  },
  {
   "cell_type": "code",
   "execution_count": 3,
   "id": "broken-palestine",
   "metadata": {},
   "outputs": [],
   "source": [
    "from keras import Sequential\n",
    "from keras import layers"
   ]
  },
  {
   "cell_type": "code",
   "execution_count": 106,
   "id": "multiple-republican",
   "metadata": {},
   "outputs": [],
   "source": [
    "alex = Sequential()\n",
    "\n",
    "alex.add(layers.Conv2D(filters=96, kernel_size=(11,11),  strides=4, input_shape=(227, 227, 3)))\n",
    "alex.add(layers.MaxPooling2D(pool_size=(3,3), strides=(2,2),padding=\"valid\"))\n",
    "alex.add(layers.Conv2D(256,(5,5),(1,1), \"same\"))\n",
    "alex.add(layers.MaxPooling2D((3,3), (2,2)))\n",
    "alex.add(layers.Conv2D(384, (3,3), 1, \"same\"))\n",
    "alex.add(layers.Conv2D(384, (3,3), 1, \"same\"))\n",
    "alex.add(layers.Conv2D(256, (3,3), 1, \"same\"))\n",
    "alex.add(layers.MaxPooling2D((3,3), 2))\n",
    "alex.add(layers.Flatten())\n",
    "alex.add(layers.Dense(4096, activation=\"relu\"))\n",
    "alex.add(layers.Dense(4096, activation=\"relu\"))\n",
    "alex.add(layers.Dense(1000, activation=\"softmax\"))"
   ]
  },
  {
   "cell_type": "code",
   "execution_count": 107,
   "id": "iraqi-quebec",
   "metadata": {},
   "outputs": [
    {
     "name": "stdout",
     "output_type": "stream",
     "text": [
      "Model: \"sequential_64\"\n",
      "_________________________________________________________________\n",
      "Layer (type)                 Output Shape              Param #   \n",
      "=================================================================\n",
      "conv2d_115 (Conv2D)          (None, 55, 55, 96)        34944     \n",
      "_________________________________________________________________\n",
      "max_pooling2d_66 (MaxPooling (None, 27, 27, 96)        0         \n",
      "_________________________________________________________________\n",
      "conv2d_116 (Conv2D)          (None, 27, 27, 256)       614656    \n",
      "_________________________________________________________________\n",
      "max_pooling2d_67 (MaxPooling (None, 13, 13, 256)       0         \n",
      "_________________________________________________________________\n",
      "conv2d_117 (Conv2D)          (None, 13, 13, 384)       885120    \n",
      "_________________________________________________________________\n",
      "conv2d_118 (Conv2D)          (None, 13, 13, 384)       1327488   \n",
      "_________________________________________________________________\n",
      "conv2d_119 (Conv2D)          (None, 13, 13, 256)       884992    \n",
      "_________________________________________________________________\n",
      "max_pooling2d_68 (MaxPooling (None, 6, 6, 256)         0         \n",
      "_________________________________________________________________\n",
      "flatten_2 (Flatten)          (None, 9216)              0         \n",
      "_________________________________________________________________\n",
      "dense_1 (Dense)              (None, 4096)              37752832  \n",
      "_________________________________________________________________\n",
      "dense_2 (Dense)              (None, 4096)              16781312  \n",
      "_________________________________________________________________\n",
      "dense_3 (Dense)              (None, 1000)              4097000   \n",
      "=================================================================\n",
      "Total params: 62,378,344\n",
      "Trainable params: 62,378,344\n",
      "Non-trainable params: 0\n",
      "_________________________________________________________________\n"
     ]
    }
   ],
   "source": [
    "alex.summary()"
   ]
  },
  {
   "cell_type": "code",
   "execution_count": 115,
   "id": "capable-solid",
   "metadata": {},
   "outputs": [],
   "source": [
    "alex.compile(optimizer=\"adam\",\n",
    "            loss=\"categorical_crossentropy\",\n",
    "            metrics=\"accuracy\")"
   ]
  },
  {
   "cell_type": "code",
   "execution_count": null,
   "id": "contained-society",
   "metadata": {
    "jupyter": {
     "source_hidden": true
    }
   },
   "outputs": [],
   "source": [
    "reduce_lr = ReduceLROnPlateau(monitor='val_loss', factor=np.sqrt(0.1))    \n",
    " \n",
    "optimizer = keras.optimizers.sgd(lr = 0.01, momentum = 0.9)                  \n",
    " \n",
    "model.compile(loss='categorical_crossentropy', optimizer=optimizer, \n",
    "              metrics=['accuracy'])                                           \n",
    " \n",
    "model.fit(X_train, y_train, batch_size=128, epochs=90, \n",
    "          validation_data=(X_test, y_test), verbose=2, callbacks=[reduce_lr])"
   ]
  },
  {
   "cell_type": "code",
   "execution_count": 42,
   "id": "systematic-bulletin",
   "metadata": {},
   "outputs": [
    {
     "name": "stdout",
     "output_type": "stream",
     "text": [
      "Model: \"sequential_12\"\n",
      "_________________________________________________________________\n",
      "Layer (type)                 Output Shape              Param #   \n",
      "=================================================================\n",
      "conv2d_20 (Conv2D)           (None, 55, 55, 96)        34944     \n",
      "_________________________________________________________________\n",
      "activation (Activation)      (None, 55, 55, 96)        0         \n",
      "_________________________________________________________________\n",
      "max_pooling2d_7 (MaxPooling2 (None, 27, 27, 96)        0         \n",
      "_________________________________________________________________\n",
      "batch_normalization (BatchNo (None, 27, 27, 96)        384       \n",
      "_________________________________________________________________\n",
      "conv2d_21 (Conv2D)           (None, 27, 27, 256)       614656    \n",
      "_________________________________________________________________\n",
      "activation_1 (Activation)    (None, 27, 27, 256)       0         \n",
      "_________________________________________________________________\n",
      "max_pooling2d_8 (MaxPooling2 (None, 13, 13, 256)       0         \n",
      "_________________________________________________________________\n",
      "batch_normalization_1 (Batch (None, 13, 13, 256)       1024      \n",
      "_________________________________________________________________\n",
      "conv2d_22 (Conv2D)           (None, 13, 13, 384)       885120    \n",
      "_________________________________________________________________\n",
      "activation_2 (Activation)    (None, 13, 13, 384)       0         \n",
      "_________________________________________________________________\n",
      "batch_normalization_2 (Batch (None, 13, 13, 384)       1536      \n",
      "_________________________________________________________________\n",
      "conv2d_23 (Conv2D)           (None, 13, 13, 384)       1327488   \n",
      "_________________________________________________________________\n",
      "activation_3 (Activation)    (None, 13, 13, 384)       0         \n",
      "_________________________________________________________________\n",
      "batch_normalization_3 (Batch (None, 13, 13, 384)       1536      \n",
      "_________________________________________________________________\n",
      "conv2d_24 (Conv2D)           (None, 13, 13, 256)       884992    \n",
      "_________________________________________________________________\n",
      "activation_4 (Activation)    (None, 13, 13, 256)       0         \n",
      "_________________________________________________________________\n",
      "batch_normalization_4 (Batch (None, 13, 13, 256)       1024      \n",
      "_________________________________________________________________\n",
      "max_pooling2d_9 (MaxPooling2 (None, 6, 6, 256)         0         \n",
      "_________________________________________________________________\n",
      "flatten_6 (Flatten)          (None, 9216)              0         \n",
      "_________________________________________________________________\n",
      "dense_17 (Dense)             (None, 4096)              37752832  \n",
      "_________________________________________________________________\n",
      "dropout (Dropout)            (None, 4096)              0         \n",
      "_________________________________________________________________\n",
      "dense_18 (Dense)             (None, 4096)              16781312  \n",
      "_________________________________________________________________\n",
      "dropout_1 (Dropout)          (None, 4096)              0         \n",
      "_________________________________________________________________\n",
      "dense_19 (Dense)             (None, 1000)              4097000   \n",
      "=================================================================\n",
      "Total params: 62,383,848\n",
      "Trainable params: 62,381,096\n",
      "Non-trainable params: 2,752\n",
      "_________________________________________________________________\n"
     ]
    }
   ],
   "source": [
    "from keras.models import Sequential                                 \n",
    "from keras.regularizers import l2                                   \n",
    "from keras.layers import Conv2D, AveragePooling2D, Flatten, Dense,Activation,MaxPool2D, BatchNormalization, Dropout               \n",
    " \n",
    "model = Sequential()                                                \n",
    "# 1st layer (CONV + pool + batchnorm)\n",
    "model.add(Conv2D(filters= 96, kernel_size= (11,11), strides=(4,4), padding='valid', \n",
    "                 input_shape = (227,227,3)))\n",
    "model.add(Activation('relu'))                                       \n",
    "model.add(MaxPool2D(pool_size=(3,3), strides=(2,2)))\n",
    "model.add(BatchNormalization())\n",
    "    \n",
    "# 2nd layer (CONV + pool + batchnorm)\n",
    "model.add(Conv2D(filters=256, kernel_size=(5,5), strides=(1,1), padding='same',   \n",
    "                 kernel_regularizer=l2(0.0005)))\n",
    "model.add(Activation('relu'))\n",
    "model.add(MaxPool2D(pool_size=(3,3), strides=(2,2), padding='valid'))\n",
    "model.add(BatchNormalization())\n",
    "            \n",
    "# layer 3 (CONV + batchnorm)                                        \n",
    "model.add(Conv2D(filters=384, kernel_size=(3,3), strides=(1,1), padding='same', kernel_regularizer=l2(0.0005)))\n",
    "model.add(Activation('relu'))\n",
    "model.add(BatchNormalization())\n",
    "        \n",
    "# layer 4 (CONV + batchnorm)                                        \n",
    "model.add(Conv2D(filters=384, kernel_size=(3,3), strides=(1,1), padding='same',\n",
    "                 kernel_regularizer=l2(0.0005)))\n",
    "model.add(Activation('relu'))\n",
    "model.add(BatchNormalization())\n",
    "            \n",
    "# layer 5 (CONV + batchnorm)  \n",
    "model.add(Conv2D(filters=256, kernel_size=(3,3), strides=(1,1), padding='same',\n",
    "                 kernel_regularizer=l2(0.0005)))\n",
    "model.add(Activation('relu'))\n",
    "model.add(BatchNormalization())\n",
    "model.add(MaxPool2D(pool_size=(3,3), strides=(2,2), padding='valid'))\n",
    " \n",
    "model.add(Flatten())                                               \n",
    " \n",
    "# layer 6 (Dense layer + dropout)  \n",
    "model.add(Dense(units = 4096, activation = 'relu'))\n",
    "model.add(Dropout(0.5))\n",
    " \n",
    "# layer 7 (Dense layers) \n",
    "model.add(Dense(units = 4096, activation = 'relu'))\n",
    "model.add(Dropout(0.5))\n",
    "                           \n",
    "# layer 8 (softmax output layer) \n",
    "model.add(Dense(units = 1000, activation = 'softmax'))\n",
    " \n",
    "model.summary()     "
   ]
  }
 ],
 "metadata": {
  "kernelspec": {
   "display_name": "Python 3",
   "language": "python",
   "name": "python3"
  },
  "language_info": {
   "codemirror_mode": {
    "name": "ipython",
    "version": 3
   },
   "file_extension": ".py",
   "mimetype": "text/x-python",
   "name": "python",
   "nbconvert_exporter": "python",
   "pygments_lexer": "ipython3",
   "version": "3.8.3"
  }
 },
 "nbformat": 4,
 "nbformat_minor": 5
}
