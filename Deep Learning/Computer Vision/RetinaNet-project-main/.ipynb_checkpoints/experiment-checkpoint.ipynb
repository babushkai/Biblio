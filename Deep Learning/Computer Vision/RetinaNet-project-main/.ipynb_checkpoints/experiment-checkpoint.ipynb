{
 "cells": [
  {
   "cell_type": "code",
   "execution_count": 5,
   "id": "prompt-reducing",
   "metadata": {},
   "outputs": [],
   "source": [
    "import numpy as np\n",
    "import tensorflow as tf"
   ]
  },
  {
   "cell_type": "code",
   "execution_count": 3,
   "id": "aboriginal-structure",
   "metadata": {},
   "outputs": [
    {
     "data": {
      "text/plain": [
       "<tensorflow.python.keras.layers.convolutional.UpSampling2D at 0x1cc4855a0a0>"
      ]
     },
     "execution_count": 3,
     "metadata": {},
     "output_type": "execute_result"
    }
   ],
   "source": [
    "tf.keras.layers.UpSampling2D(\n",
    "size=(2,2), data_format=None, interpolation=\"nearest\")"
   ]
  },
  {
   "cell_type": "code",
   "execution_count": 12,
   "id": "dried-yesterday",
   "metadata": {},
   "outputs": [],
   "source": [
    "input_shape=(32, 224,224,3)\n",
    "x = np.arange(np.prod(input_shape)).reshape(input_shape)"
   ]
  },
  {
   "cell_type": "code",
   "execution_count": 23,
   "id": "closed-watts",
   "metadata": {},
   "outputs": [],
   "source": [
    "y = tf.keras.layers.UpSampling2D(size=(1,2))(x)"
   ]
  },
  {
   "cell_type": "code",
   "execution_count": 24,
   "id": "excellent-miller",
   "metadata": {},
   "outputs": [
    {
     "data": {
      "text/plain": [
       "TensorShape([32, 224, 448, 3])"
      ]
     },
     "execution_count": 24,
     "metadata": {},
     "output_type": "execute_result"
    }
   ],
   "source": [
    "y.shape"
   ]
  }
 ],
 "metadata": {
  "kernelspec": {
   "display_name": "Python 3",
   "language": "python",
   "name": "python3"
  },
  "language_info": {
   "codemirror_mode": {
    "name": "ipython",
    "version": 3
   },
   "file_extension": ".py",
   "mimetype": "text/x-python",
   "name": "python",
   "nbconvert_exporter": "python",
   "pygments_lexer": "ipython3",
   "version": "3.8.3"
  }
 },
 "nbformat": 4,
 "nbformat_minor": 5
}
