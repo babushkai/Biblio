{
 "cells": [
  {
   "cell_type": "markdown",
   "metadata": {
    "id": "Zt3nY3xZgC-Q"
   },
   "source": [
    "# Autograd: automatic differentiation\n",
    "\n",
    "When executing tensor operations, PyTorch can automatically construct on-the-fly the graph of operations to compute the gradient of any quantity with respect to any tensor involved.\n",
    "\n",
    "More information on autotomatic differentiation in Pytorch [here](https://pytorch.org/tutorials/beginner/blitz/autograd_tutorial.html#sphx-glr-beginner-blitz-autograd-tutorial-py)"
   ]
  },
  {
   "cell_type": "markdown",
   "metadata": {
    "id": "FznlXGW9NvPq"
   },
   "source": [
    "## Visualizing the computational graph"
   ]
  },
  {
   "cell_type": "code",
   "execution_count": 1,
   "metadata": {
    "executionInfo": {
     "elapsed": 4726,
     "status": "ok",
     "timestamp": 1618173359081,
     "user": {
      "displayName": "Lionel Fillatre",
      "photoUrl": "",
      "userId": "14463393848879581998"
     },
     "user_tz": -120
    },
    "id": "Hh6cps5cgC9g"
   },
   "outputs": [],
   "source": [
    "import matplotlib.pyplot as plt\n",
    "%matplotlib inline\n",
    "import torch"
   ]
  },
  {
   "cell_type": "markdown",
   "metadata": {
    "id": "UUvKk98Snblr"
   },
   "source": [
    "PyTorchViz is a small package to create visualizations of PyTorch execution graphs and traces."
   ]
  },
  {
   "cell_type": "code",
   "execution_count": 2,
   "metadata": {
    "colab": {
     "base_uri": "https://localhost:8080/"
    },
    "executionInfo": {
     "elapsed": 9922,
     "status": "ok",
     "timestamp": 1618173364293,
     "user": {
      "displayName": "Lionel Fillatre",
      "photoUrl": "",
      "userId": "14463393848879581998"
     },
     "user_tz": -120
    },
    "id": "_V6Sd1VEnKxQ",
    "outputId": "2138cc0f-c031-411b-eaee-17f6e82a5ab4"
   },
   "outputs": [
    {
     "name": "stdout",
     "output_type": "stream",
     "text": [
      "Collecting torchviz\n",
      "  Downloading https://files.pythonhosted.org/packages/79/e7/643808913211d6c1fc96a3a4333bf4c9276858fab00bcafaf98ea58a97be/torchviz-0.0.2.tar.gz\n",
      "Requirement already satisfied: torch in /usr/local/lib/python3.7/dist-packages (from torchviz) (1.8.1+cu101)\n",
      "Requirement already satisfied: graphviz in /usr/local/lib/python3.7/dist-packages (from torchviz) (0.10.1)\n",
      "Requirement already satisfied: numpy in /usr/local/lib/python3.7/dist-packages (from torch->torchviz) (1.19.5)\n",
      "Requirement already satisfied: typing-extensions in /usr/local/lib/python3.7/dist-packages (from torch->torchviz) (3.7.4.3)\n",
      "Building wheels for collected packages: torchviz\n",
      "  Building wheel for torchviz (setup.py) ... \u001b[?25l\u001b[?25hdone\n",
      "  Created wheel for torchviz: filename=torchviz-0.0.2-cp37-none-any.whl size=4152 sha256=a9ff2b31cd8de301d4c994afa5d7b5fee1c513379b653096dedddcd31d1fd93f\n",
      "  Stored in directory: /root/.cache/pip/wheels/01/26/58/026ffd533dbe8b3972eb423da9c7949beca68d1c98ed9e8624\n",
      "Successfully built torchviz\n",
      "Installing collected packages: torchviz\n",
      "Successfully installed torchviz-0.0.2\n"
     ]
    }
   ],
   "source": [
    "!pip install torchviz"
   ]
  },
  {
   "cell_type": "code",
   "execution_count": 2,
   "metadata": {
    "executionInfo": {
     "elapsed": 9920,
     "status": "ok",
     "timestamp": 1618173364294,
     "user": {
      "displayName": "Lionel Fillatre",
      "photoUrl": "",
      "userId": "14463393848879581998"
     },
     "user_tz": -120
    },
    "id": "Htgg-1C1ChI1"
   },
   "outputs": [],
   "source": [
    "import torchviz"
   ]
  },
  {
   "cell_type": "markdown",
   "metadata": {
    "id": "wYsJ94KYrquH"
   },
   "source": [
    "Inn order to enable automatic differentiation, PyTorch keeps track of all operations involving tensors for which the gradient may need to be computed (i.e., require_grad is True). The operations are recorded as a directed graph. \n",
    "\n",
    "Torch tensors are recalled [here](https://pytorch.org/docs/stable/tensors.html) \n",
    "\n"
   ]
  },
  {
   "cell_type": "code",
   "execution_count": 3,
   "metadata": {
    "colab": {
     "base_uri": "https://localhost:8080/"
    },
    "executionInfo": {
     "elapsed": 10684,
     "status": "ok",
     "timestamp": 1618173365069,
     "user": {
      "displayName": "Lionel Fillatre",
      "photoUrl": "",
      "userId": "14463393848879581998"
     },
     "user_tz": -120
    },
    "id": "xJQfkBHxsPLF",
    "outputId": "3792cffc-fd34-4f3d-d0ac-98adb9a0fe47"
   },
   "outputs": [
    {
     "name": "stdout",
     "output_type": "stream",
     "text": [
      "tensor([[1., 1.],\n",
      "        [1., 1.]])\n"
     ]
    }
   ],
   "source": [
    "x = torch.ones(2, 2)\n",
    "print(x)"
   ]
  },
  {
   "cell_type": "markdown",
   "metadata": {
    "id": "onirJsB5gC-R"
   },
   "source": [
    "A Tensor has a Boolean field *requires_grad*, set to False by default, which states if PyTorch should build the graph of operations so that gradients wrt to it can be computed."
   ]
  },
  {
   "cell_type": "code",
   "execution_count": 4,
   "metadata": {
    "colab": {
     "base_uri": "https://localhost:8080/"
    },
    "executionInfo": {
     "elapsed": 10675,
     "status": "ok",
     "timestamp": 1618173365070,
     "user": {
      "displayName": "Lionel Fillatre",
      "photoUrl": "",
      "userId": "14463393848879581998"
     },
     "user_tz": -120
    },
    "id": "7KOHka8fgC-R",
    "outputId": "9add5991-a8a3-41ce-c9b2-75d45fab9741"
   },
   "outputs": [
    {
     "data": {
      "text/plain": [
       "False"
      ]
     },
     "execution_count": 4,
     "metadata": {},
     "output_type": "execute_result"
    }
   ],
   "source": [
    "x.requires_grad"
   ]
  },
  {
   "cell_type": "code",
   "execution_count": 5,
   "metadata": {
    "colab": {
     "base_uri": "https://localhost:8080/"
    },
    "executionInfo": {
     "elapsed": 10666,
     "status": "ok",
     "timestamp": 1618173365071,
     "user": {
      "displayName": "Lionel Fillatre",
      "photoUrl": "",
      "userId": "14463393848879581998"
     },
     "user_tz": -120
    },
    "id": "qCupY_tygC-S",
    "outputId": "38eb3be7-d638-451d-a8f8-99160497d139"
   },
   "outputs": [
    {
     "data": {
      "text/plain": [
       "array([[1., 1.],\n",
       "       [1., 1.]], dtype=float32)"
      ]
     },
     "execution_count": 5,
     "metadata": {},
     "output_type": "execute_result"
    }
   ],
   "source": [
    "x.numpy()"
   ]
  },
  {
   "cell_type": "code",
   "execution_count": 6,
   "metadata": {
    "colab": {
     "base_uri": "https://localhost:8080/"
    },
    "executionInfo": {
     "elapsed": 10656,
     "status": "ok",
     "timestamp": 1618173365072,
     "user": {
      "displayName": "Lionel Fillatre",
      "photoUrl": "",
      "userId": "14463393848879581998"
     },
     "user_tz": -120
    },
    "id": "hWF-cjdugC-T",
    "outputId": "0265c753-8500-4394-8a05-ecece33d3415"
   },
   "outputs": [
    {
     "data": {
      "text/plain": [
       "True"
      ]
     },
     "execution_count": 6,
     "metadata": {},
     "output_type": "execute_result"
    }
   ],
   "source": [
    "x.requires_grad_(True)\n",
    "x.requires_grad"
   ]
  },
  {
   "cell_type": "markdown",
   "metadata": {
    "id": "E8UvVzIDsgy-"
   },
   "source": [
    "### Question: The following cell gives an error. Why?"
   ]
  },
  {
   "cell_type": "code",
   "execution_count": 7,
   "metadata": {
    "executionInfo": {
     "elapsed": 10653,
     "status": "ok",
     "timestamp": 1618173365072,
     "user": {
      "displayName": "Lionel Fillatre",
      "photoUrl": "",
      "userId": "14463393848879581998"
     },
     "user_tz": -120
    },
    "id": "-3hhJbzSsbKT"
   },
   "outputs": [],
   "source": [
    "#x.numpy()"
   ]
  },
  {
   "cell_type": "markdown",
   "metadata": {
    "id": "ZbK4X5CFr0f2"
   },
   "source": [
    "The detach() method constructs a new view on a tensor which is declared not to need gradients, i.e., it is to be excluded from further tracking of operations, and therefore the subgraph involving this view is not recorded."
   ]
  },
  {
   "cell_type": "code",
   "execution_count": 8,
   "metadata": {
    "colab": {
     "base_uri": "https://localhost:8080/"
    },
    "executionInfo": {
     "elapsed": 10644,
     "status": "ok",
     "timestamp": 1618173365073,
     "user": {
      "displayName": "Lionel Fillatre",
      "photoUrl": "",
      "userId": "14463393848879581998"
     },
     "user_tz": -120
    },
    "id": "4tbWCPc5gC-T",
    "outputId": "d4c3b0e9-e30c-4327-e98b-8b21b3f5913e"
   },
   "outputs": [
    {
     "data": {
      "text/plain": [
       "array([[1., 1.],\n",
       "       [1., 1.]], dtype=float32)"
      ]
     },
     "execution_count": 8,
     "metadata": {},
     "output_type": "execute_result"
    }
   ],
   "source": [
    "x.detach().numpy()"
   ]
  },
  {
   "cell_type": "code",
   "execution_count": 9,
   "metadata": {
    "colab": {
     "base_uri": "https://localhost:8080/"
    },
    "executionInfo": {
     "elapsed": 10634,
     "status": "ok",
     "timestamp": 1618173365073,
     "user": {
      "displayName": "Lionel Fillatre",
      "photoUrl": "",
      "userId": "14463393848879581998"
     },
     "user_tz": -120
    },
    "id": "raHZBNwMgC-U",
    "outputId": "9b29caa4-56f5-47e4-c328-c788ef01bc7a"
   },
   "outputs": [
    {
     "data": {
      "text/plain": [
       "array([[1., 1.],\n",
       "       [1., 1.]], dtype=float32)"
      ]
     },
     "execution_count": 9,
     "metadata": {},
     "output_type": "execute_result"
    }
   ],
   "source": [
    "x.data.numpy() # Torch.data returns the \"data\" (array_like) stored in the tensor"
   ]
  },
  {
   "cell_type": "code",
   "execution_count": 10,
   "metadata": {
    "colab": {
     "base_uri": "https://localhost:8080/"
    },
    "executionInfo": {
     "elapsed": 10626,
     "status": "ok",
     "timestamp": 1618173365075,
     "user": {
      "displayName": "Lionel Fillatre",
      "photoUrl": "",
      "userId": "14463393848879581998"
     },
     "user_tz": -120
    },
    "id": "6TWE8h-ygC-V",
    "outputId": "abadd0d5-94f9-4a93-e8a9-4963546d22fb"
   },
   "outputs": [
    {
     "data": {
      "text/plain": [
       "True"
      ]
     },
     "execution_count": 10,
     "metadata": {},
     "output_type": "execute_result"
    }
   ],
   "source": [
    "x.requires_grad"
   ]
  },
  {
   "cell_type": "code",
   "execution_count": 11,
   "metadata": {
    "colab": {
     "base_uri": "https://localhost:8080/",
     "height": 343
    },
    "executionInfo": {
     "elapsed": 10617,
     "status": "ok",
     "timestamp": 1618173365076,
     "user": {
      "displayName": "Lionel Fillatre",
      "photoUrl": "",
      "userId": "14463393848879581998"
     },
     "user_tz": -120
    },
    "id": "gACeHMOegC-W",
    "outputId": "5f64d87a-4a01-4f33-96c9-bbe708835b53"
   },
   "outputs": [
    {
     "name": "stdout",
     "output_type": "stream",
     "text": [
      "tensor([[3., 3.],\n",
      "        [3., 3.]], grad_fn=<AddBackward0>)\n"
     ]
    },
    {
     "data": {
      "image/svg+xml": [
       "<?xml version=\"1.0\" encoding=\"UTF-8\" standalone=\"no\"?>\r\n",
       "<!DOCTYPE svg PUBLIC \"-//W3C//DTD SVG 1.1//EN\"\r\n",
       " \"http://www.w3.org/Graphics/SVG/1.1/DTD/svg11.dtd\">\r\n",
       "<!-- Generated by graphviz version 2.38.0 (20140413.2041)\r\n",
       " -->\r\n",
       "<!-- Title: %3 Pages: 1 -->\r\n",
       "<svg width=\"109pt\" height=\"216pt\"\r\n",
       " viewBox=\"0.00 0.00 109.00 216.00\" xmlns=\"http://www.w3.org/2000/svg\" xmlns:xlink=\"http://www.w3.org/1999/xlink\">\r\n",
       "<g id=\"graph0\" class=\"graph\" transform=\"scale(1 1) rotate(0) translate(4 212)\">\r\n",
       "<title>%3</title>\r\n",
       "<polygon fill=\"white\" stroke=\"none\" points=\"-4,4 -4,-212 105,-212 105,4 -4,4\"/>\r\n",
       "<!-- 1582979867328 -->\r\n",
       "<g id=\"node1\" class=\"node\"><title>1582979867328</title>\r\n",
       "<polygon fill=\"#caff70\" stroke=\"black\" points=\"80,-31 21,-31 21,-0 80,-0 80,-31\"/>\r\n",
       "<text text-anchor=\"middle\" x=\"50.5\" y=\"-7\" font-family=\"monospace\" font-size=\"10.00\"> (2, 2)</text>\r\n",
       "</g>\r\n",
       "<!-- 1583064517504 -->\r\n",
       "<g id=\"node2\" class=\"node\"><title>1583064517504</title>\r\n",
       "<polygon fill=\"lightgrey\" stroke=\"black\" points=\"95,-86 6,-86 6,-67 95,-67 95,-86\"/>\r\n",
       "<text text-anchor=\"middle\" x=\"50.5\" y=\"-74\" font-family=\"monospace\" font-size=\"10.00\">AddBackward0</text>\r\n",
       "</g>\r\n",
       "<!-- 1583064517504&#45;&gt;1582979867328 -->\r\n",
       "<g id=\"edge3\" class=\"edge\"><title>1583064517504&#45;&gt;1582979867328</title>\r\n",
       "<path fill=\"none\" stroke=\"black\" d=\"M50.5,-66.7943C50.5,-60.0669 50.5,-50.404 50.5,-41.3425\"/>\r\n",
       "<polygon fill=\"black\" stroke=\"black\" points=\"54.0001,-41.1932 50.5,-31.1933 47.0001,-41.1933 54.0001,-41.1932\"/>\r\n",
       "</g>\r\n",
       "<!-- 1583064517600 -->\r\n",
       "<g id=\"node3\" class=\"node\"><title>1583064517600</title>\r\n",
       "<polygon fill=\"lightgrey\" stroke=\"black\" points=\"101,-141 0,-141 0,-122 101,-122 101,-141\"/>\r\n",
       "<text text-anchor=\"middle\" x=\"50.5\" y=\"-129\" font-family=\"monospace\" font-size=\"10.00\">AccumulateGrad</text>\r\n",
       "</g>\r\n",
       "<!-- 1583064517600&#45;&gt;1583064517504 -->\r\n",
       "<g id=\"edge1\" class=\"edge\"><title>1583064517600&#45;&gt;1583064517504</title>\r\n",
       "<path fill=\"none\" stroke=\"black\" d=\"M50.5,-121.748C50.5,-114.802 50.5,-104.845 50.5,-96.1349\"/>\r\n",
       "<polygon fill=\"black\" stroke=\"black\" points=\"54.0001,-96.089 50.5,-86.089 47.0001,-96.0891 54.0001,-96.089\"/>\r\n",
       "</g>\r\n",
       "<!-- 1583064489408 -->\r\n",
       "<g id=\"node4\" class=\"node\"><title>1583064489408</title>\r\n",
       "<polygon fill=\"lightblue\" stroke=\"black\" points=\"80,-208 21,-208 21,-177 80,-177 80,-208\"/>\r\n",
       "<text text-anchor=\"middle\" x=\"50.5\" y=\"-184\" font-family=\"monospace\" font-size=\"10.00\"> (2, 2)</text>\r\n",
       "</g>\r\n",
       "<!-- 1583064489408&#45;&gt;1583064517600 -->\r\n",
       "<g id=\"edge2\" class=\"edge\"><title>1583064489408&#45;&gt;1583064517600</title>\r\n",
       "<path fill=\"none\" stroke=\"black\" d=\"M50.5,-176.916C50.5,-169.221 50.5,-159.688 50.5,-151.43\"/>\r\n",
       "<polygon fill=\"black\" stroke=\"black\" points=\"54.0001,-151.249 50.5,-141.249 47.0001,-151.249 54.0001,-151.249\"/>\r\n",
       "</g>\r\n",
       "</g>\r\n",
       "</svg>\r\n"
      ],
      "text/plain": [
       "<graphviz.dot.Digraph at 0x17095ff8af0>"
      ]
     },
     "execution_count": 11,
     "metadata": {},
     "output_type": "execute_result"
    }
   ],
   "source": [
    "y = x + 2\n",
    "print(y)\n",
    "torchviz.make_dot(y)"
   ]
  },
  {
   "cell_type": "markdown",
   "metadata": {
    "id": "GnSYGWNcgC-W"
   },
   "source": [
    "**Broadcasting**\n",
    "\n",
    "Recall: Broadcasting **automatically** expands dimensions by replicating coefficients, when it is necessary to perform operations.\n",
    "\n",
    "1. If one of the tensors has fewer dimensions than the other, it is reshaped by adding as many dimensions of size 1 as necessary in the front; then\n",
    "2. for every mismatch, if one of the two tensor is of size one, it is expanded along this axis by replicating  coefficients.\n",
    "\n",
    "If there is a tensor size mismatch for one of the dimension and neither of them is one, the operation fails."
   ]
  },
  {
   "cell_type": "code",
   "execution_count": 12,
   "metadata": {
    "colab": {
     "base_uri": "https://localhost:8080/"
    },
    "executionInfo": {
     "elapsed": 10607,
     "status": "ok",
     "timestamp": 1618173365077,
     "user": {
      "displayName": "Lionel Fillatre",
      "photoUrl": "",
      "userId": "14463393848879581998"
     },
     "user_tz": -120
    },
    "id": "2CtszgyZgC-X",
    "outputId": "e2a8b94e-063a-4171-d7c1-a7c16db3881c"
   },
   "outputs": [
    {
     "name": "stdout",
     "output_type": "stream",
     "text": [
      "torch.Size([4, 1])\n",
      "tensor([[1.],\n",
      "        [2.],\n",
      "        [3.],\n",
      "        [4.]])\n",
      "torch.Size([1, 5])\n",
      "tensor([[ 5., -5.,  5., -5.,  5.]])\n",
      "tensor([[ 6., -4.,  6., -4.,  6.],\n",
      "        [ 7., -3.,  7., -3.,  7.],\n",
      "        [ 8., -2.,  8., -2.,  8.],\n",
      "        [ 9., -1.,  9., -1.,  9.]])\n"
     ]
    }
   ],
   "source": [
    "A = torch.tensor([[1.], [2.], [3.], [4.]])\n",
    "print(A.size())\n",
    "print(A)\n",
    "B = torch.tensor([[5., -5., 5., -5., 5.]])\n",
    "print(B.size())\n",
    "print(B)\n",
    "C = A + B\n",
    "print(C)"
   ]
  },
  {
   "cell_type": "markdown",
   "metadata": {
    "id": "cVCkQQeRgC-Y"
   },
   "source": [
    "Back to Autograd!"
   ]
  },
  {
   "cell_type": "code",
   "execution_count": 13,
   "metadata": {
    "colab": {
     "base_uri": "https://localhost:8080/"
    },
    "executionInfo": {
     "elapsed": 10597,
     "status": "ok",
     "timestamp": 1618173365077,
     "user": {
      "displayName": "Lionel Fillatre",
      "photoUrl": "",
      "userId": "14463393848879581998"
     },
     "user_tz": -120
    },
    "id": "hja6OM24gC-b",
    "outputId": "cfd85373-dfa0-434f-df98-ed28a24a38a7"
   },
   "outputs": [
    {
     "name": "stdout",
     "output_type": "stream",
     "text": [
      "tensor([[3., 3.],\n",
      "        [3., 3.]], grad_fn=<AddBackward0>)\n"
     ]
    }
   ],
   "source": [
    "x = torch.ones(2, 2)\n",
    "x.requires_grad_(True)\n",
    "y = x+2\n",
    "print(y)"
   ]
  },
  {
   "cell_type": "code",
   "execution_count": 14,
   "metadata": {
    "colab": {
     "base_uri": "https://localhost:8080/"
    },
    "executionInfo": {
     "elapsed": 10589,
     "status": "ok",
     "timestamp": 1618173365078,
     "user": {
      "displayName": "Lionel Fillatre",
      "photoUrl": "",
      "userId": "14463393848879581998"
     },
     "user_tz": -120
    },
    "id": "NI3ikwlogC-Y",
    "outputId": "6e7bf881-8964-4ae1-d7a3-270846369012"
   },
   "outputs": [
    {
     "data": {
      "text/plain": [
       "True"
      ]
     },
     "execution_count": 14,
     "metadata": {},
     "output_type": "execute_result"
    }
   ],
   "source": [
    "y.requires_grad"
   ]
  },
  {
   "cell_type": "markdown",
   "metadata": {
    "id": "w5XJD5O13vPw"
   },
   "source": [
    "Tensor and Function are interconnected and build up an acyclic graph, that encodes a complete history of computation. \n",
    "\n",
    "Each tensor has a .grad_fn attribute that references a Function that has created the Tensor (except for Tensors created by the user - their grad_fn is None)."
   ]
  },
  {
   "cell_type": "code",
   "execution_count": 15,
   "metadata": {
    "colab": {
     "base_uri": "https://localhost:8080/",
     "height": 411
    },
    "executionInfo": {
     "elapsed": 10579,
     "status": "ok",
     "timestamp": 1618173365079,
     "user": {
      "displayName": "Lionel Fillatre",
      "photoUrl": "",
      "userId": "14463393848879581998"
     },
     "user_tz": -120
    },
    "id": "EOt8d0S0gC-Z",
    "outputId": "12d5f974-2ec4-4e6e-834d-6627ac95cfe6"
   },
   "outputs": [
    {
     "name": "stdout",
     "output_type": "stream",
     "text": [
      "tensor([[1., 1.],\n",
      "        [1., 1.]], requires_grad=True)\n",
      "None\n",
      "tensor([[3., 3.],\n",
      "        [3., 3.]], grad_fn=<AddBackward0>)\n",
      "<AddBackward0 object at 0x0000017090FE17C0>\n"
     ]
    },
    {
     "data": {
      "image/svg+xml": [
       "<?xml version=\"1.0\" encoding=\"UTF-8\" standalone=\"no\"?>\r\n",
       "<!DOCTYPE svg PUBLIC \"-//W3C//DTD SVG 1.1//EN\"\r\n",
       " \"http://www.w3.org/Graphics/SVG/1.1/DTD/svg11.dtd\">\r\n",
       "<!-- Generated by graphviz version 2.38.0 (20140413.2041)\r\n",
       " -->\r\n",
       "<!-- Title: %3 Pages: 1 -->\r\n",
       "<svg width=\"109pt\" height=\"216pt\"\r\n",
       " viewBox=\"0.00 0.00 109.00 216.00\" xmlns=\"http://www.w3.org/2000/svg\" xmlns:xlink=\"http://www.w3.org/1999/xlink\">\r\n",
       "<g id=\"graph0\" class=\"graph\" transform=\"scale(1 1) rotate(0) translate(4 212)\">\r\n",
       "<title>%3</title>\r\n",
       "<polygon fill=\"white\" stroke=\"none\" points=\"-4,4 -4,-212 105,-212 105,4 -4,4\"/>\r\n",
       "<!-- 1583064590784 -->\r\n",
       "<g id=\"node1\" class=\"node\"><title>1583064590784</title>\r\n",
       "<polygon fill=\"#caff70\" stroke=\"black\" points=\"80,-31 21,-31 21,-0 80,-0 80,-31\"/>\r\n",
       "<text text-anchor=\"middle\" x=\"50.5\" y=\"-7\" font-family=\"monospace\" font-size=\"10.00\"> (2, 2)</text>\r\n",
       "</g>\r\n",
       "<!-- 1583064515872 -->\r\n",
       "<g id=\"node2\" class=\"node\"><title>1583064515872</title>\r\n",
       "<polygon fill=\"lightgrey\" stroke=\"black\" points=\"95,-86 6,-86 6,-67 95,-67 95,-86\"/>\r\n",
       "<text text-anchor=\"middle\" x=\"50.5\" y=\"-74\" font-family=\"monospace\" font-size=\"10.00\">AddBackward0</text>\r\n",
       "</g>\r\n",
       "<!-- 1583064515872&#45;&gt;1583064590784 -->\r\n",
       "<g id=\"edge3\" class=\"edge\"><title>1583064515872&#45;&gt;1583064590784</title>\r\n",
       "<path fill=\"none\" stroke=\"black\" d=\"M50.5,-66.7943C50.5,-60.0669 50.5,-50.404 50.5,-41.3425\"/>\r\n",
       "<polygon fill=\"black\" stroke=\"black\" points=\"54.0001,-41.1932 50.5,-31.1933 47.0001,-41.1933 54.0001,-41.1932\"/>\r\n",
       "</g>\r\n",
       "<!-- 1583064515392 -->\r\n",
       "<g id=\"node3\" class=\"node\"><title>1583064515392</title>\r\n",
       "<polygon fill=\"lightgrey\" stroke=\"black\" points=\"101,-141 0,-141 0,-122 101,-122 101,-141\"/>\r\n",
       "<text text-anchor=\"middle\" x=\"50.5\" y=\"-129\" font-family=\"monospace\" font-size=\"10.00\">AccumulateGrad</text>\r\n",
       "</g>\r\n",
       "<!-- 1583064515392&#45;&gt;1583064515872 -->\r\n",
       "<g id=\"edge1\" class=\"edge\"><title>1583064515392&#45;&gt;1583064515872</title>\r\n",
       "<path fill=\"none\" stroke=\"black\" d=\"M50.5,-121.748C50.5,-114.802 50.5,-104.845 50.5,-96.1349\"/>\r\n",
       "<polygon fill=\"black\" stroke=\"black\" points=\"54.0001,-96.089 50.5,-86.089 47.0001,-96.0891 54.0001,-96.089\"/>\r\n",
       "</g>\r\n",
       "<!-- 1583064554880 -->\r\n",
       "<g id=\"node4\" class=\"node\"><title>1583064554880</title>\r\n",
       "<polygon fill=\"lightblue\" stroke=\"black\" points=\"80,-208 21,-208 21,-177 80,-177 80,-208\"/>\r\n",
       "<text text-anchor=\"middle\" x=\"50.5\" y=\"-184\" font-family=\"monospace\" font-size=\"10.00\"> (2, 2)</text>\r\n",
       "</g>\r\n",
       "<!-- 1583064554880&#45;&gt;1583064515392 -->\r\n",
       "<g id=\"edge2\" class=\"edge\"><title>1583064554880&#45;&gt;1583064515392</title>\r\n",
       "<path fill=\"none\" stroke=\"black\" d=\"M50.5,-176.916C50.5,-169.221 50.5,-159.688 50.5,-151.43\"/>\r\n",
       "<polygon fill=\"black\" stroke=\"black\" points=\"54.0001,-151.249 50.5,-141.249 47.0001,-151.249 54.0001,-151.249\"/>\r\n",
       "</g>\r\n",
       "</g>\r\n",
       "</svg>\r\n"
      ],
      "text/plain": [
       "<graphviz.dot.Digraph at 0x17095ff8550>"
      ]
     },
     "execution_count": 15,
     "metadata": {},
     "output_type": "execute_result"
    }
   ],
   "source": [
    "print(x)\n",
    "print(x.grad_fn)\n",
    "print(y)\n",
    "print(y.grad_fn)\n",
    "torchviz.make_dot(y) "
   ]
  },
  {
   "cell_type": "code",
   "execution_count": 16,
   "metadata": {
    "colab": {
     "base_uri": "https://localhost:8080/",
     "height": 490
    },
    "executionInfo": {
     "elapsed": 10570,
     "status": "ok",
     "timestamp": 1618173365080,
     "user": {
      "displayName": "Lionel Fillatre",
      "photoUrl": "",
      "userId": "14463393848879581998"
     },
     "user_tz": -120
    },
    "id": "x5vVEet32cC_",
    "outputId": "3b438f95-f16e-42d3-d00d-e5830315d873"
   },
   "outputs": [
    {
     "name": "stdout",
     "output_type": "stream",
     "text": [
      "tensor([[27., 27.],\n",
      "        [27., 27.]], grad_fn=<MulBackward0>)\n"
     ]
    },
    {
     "data": {
      "image/svg+xml": [
       "<?xml version=\"1.0\" encoding=\"UTF-8\" standalone=\"no\"?>\r\n",
       "<!DOCTYPE svg PUBLIC \"-//W3C//DTD SVG 1.1//EN\"\r\n",
       " \"http://www.w3.org/Graphics/SVG/1.1/DTD/svg11.dtd\">\r\n",
       "<!-- Generated by graphviz version 2.38.0 (20140413.2041)\r\n",
       " -->\r\n",
       "<!-- Title: %3 Pages: 1 -->\r\n",
       "<svg width=\"109pt\" height=\"326pt\"\r\n",
       " viewBox=\"0.00 0.00 109.00 326.00\" xmlns=\"http://www.w3.org/2000/svg\" xmlns:xlink=\"http://www.w3.org/1999/xlink\">\r\n",
       "<g id=\"graph0\" class=\"graph\" transform=\"scale(1 1) rotate(0) translate(4 322)\">\r\n",
       "<title>%3</title>\r\n",
       "<polygon fill=\"white\" stroke=\"none\" points=\"-4,4 -4,-322 105,-322 105,4 -4,4\"/>\r\n",
       "<!-- 1583064487488 -->\r\n",
       "<g id=\"node1\" class=\"node\"><title>1583064487488</title>\r\n",
       "<polygon fill=\"#caff70\" stroke=\"black\" points=\"80,-31 21,-31 21,-0 80,-0 80,-31\"/>\r\n",
       "<text text-anchor=\"middle\" x=\"50.5\" y=\"-7\" font-family=\"monospace\" font-size=\"10.00\"> (2, 2)</text>\r\n",
       "</g>\r\n",
       "<!-- 1583064515584 -->\r\n",
       "<g id=\"node2\" class=\"node\"><title>1583064515584</title>\r\n",
       "<polygon fill=\"lightgrey\" stroke=\"black\" points=\"95,-86 6,-86 6,-67 95,-67 95,-86\"/>\r\n",
       "<text text-anchor=\"middle\" x=\"50.5\" y=\"-74\" font-family=\"monospace\" font-size=\"10.00\">MulBackward0</text>\r\n",
       "</g>\r\n",
       "<!-- 1583064515584&#45;&gt;1583064487488 -->\r\n",
       "<g id=\"edge6\" class=\"edge\"><title>1583064515584&#45;&gt;1583064487488</title>\r\n",
       "<path fill=\"none\" stroke=\"black\" d=\"M50.5,-66.7943C50.5,-60.0669 50.5,-50.404 50.5,-41.3425\"/>\r\n",
       "<polygon fill=\"black\" stroke=\"black\" points=\"54.0001,-41.1932 50.5,-31.1933 47.0001,-41.1933 54.0001,-41.1932\"/>\r\n",
       "</g>\r\n",
       "<!-- 1583064516544 -->\r\n",
       "<g id=\"node3\" class=\"node\"><title>1583064516544</title>\r\n",
       "<polygon fill=\"lightgrey\" stroke=\"black\" points=\"95,-141 6,-141 6,-122 95,-122 95,-141\"/>\r\n",
       "<text text-anchor=\"middle\" x=\"50.5\" y=\"-129\" font-family=\"monospace\" font-size=\"10.00\">MulBackward0</text>\r\n",
       "</g>\r\n",
       "<!-- 1583064516544&#45;&gt;1583064515584 -->\r\n",
       "<g id=\"edge1\" class=\"edge\"><title>1583064516544&#45;&gt;1583064515584</title>\r\n",
       "<path fill=\"none\" stroke=\"black\" d=\"M50.5,-121.748C50.5,-114.802 50.5,-104.845 50.5,-96.1349\"/>\r\n",
       "<polygon fill=\"black\" stroke=\"black\" points=\"54.0001,-96.089 50.5,-86.089 47.0001,-96.0891 54.0001,-96.089\"/>\r\n",
       "</g>\r\n",
       "<!-- 1583064515872 -->\r\n",
       "<g id=\"node4\" class=\"node\"><title>1583064515872</title>\r\n",
       "<polygon fill=\"lightgrey\" stroke=\"black\" points=\"95,-196 6,-196 6,-177 95,-177 95,-196\"/>\r\n",
       "<text text-anchor=\"middle\" x=\"50.5\" y=\"-184\" font-family=\"monospace\" font-size=\"10.00\">AddBackward0</text>\r\n",
       "</g>\r\n",
       "<!-- 1583064515872&#45;&gt;1583064516544 -->\r\n",
       "<g id=\"edge2\" class=\"edge\"><title>1583064515872&#45;&gt;1583064516544</title>\r\n",
       "<path fill=\"none\" stroke=\"black\" d=\"M45.3337,-176.748C43.8407,-169.802 43.4034,-159.845 44.0215,-151.135\"/>\r\n",
       "<polygon fill=\"black\" stroke=\"black\" points=\"47.5084,-151.466 45.369,-141.089 40.5705,-150.535 47.5084,-151.466\"/>\r\n",
       "</g>\r\n",
       "<!-- 1583064515872&#45;&gt;1583064516544 -->\r\n",
       "<g id=\"edge5\" class=\"edge\"><title>1583064515872&#45;&gt;1583064516544</title>\r\n",
       "<path fill=\"none\" stroke=\"black\" d=\"M55.6663,-176.748C57.1593,-169.802 57.5966,-159.845 56.9785,-151.135\"/>\r\n",
       "<polygon fill=\"black\" stroke=\"black\" points=\"60.4295,-150.535 55.631,-141.089 53.4916,-151.466 60.4295,-150.535\"/>\r\n",
       "</g>\r\n",
       "<!-- 1583064515392 -->\r\n",
       "<g id=\"node5\" class=\"node\"><title>1583064515392</title>\r\n",
       "<polygon fill=\"lightgrey\" stroke=\"black\" points=\"101,-251 0,-251 0,-232 101,-232 101,-251\"/>\r\n",
       "<text text-anchor=\"middle\" x=\"50.5\" y=\"-239\" font-family=\"monospace\" font-size=\"10.00\">AccumulateGrad</text>\r\n",
       "</g>\r\n",
       "<!-- 1583064515392&#45;&gt;1583064515872 -->\r\n",
       "<g id=\"edge3\" class=\"edge\"><title>1583064515392&#45;&gt;1583064515872</title>\r\n",
       "<path fill=\"none\" stroke=\"black\" d=\"M50.5,-231.748C50.5,-224.802 50.5,-214.845 50.5,-206.135\"/>\r\n",
       "<polygon fill=\"black\" stroke=\"black\" points=\"54.0001,-206.089 50.5,-196.089 47.0001,-206.089 54.0001,-206.089\"/>\r\n",
       "</g>\r\n",
       "<!-- 1583064554880 -->\r\n",
       "<g id=\"node6\" class=\"node\"><title>1583064554880</title>\r\n",
       "<polygon fill=\"lightblue\" stroke=\"black\" points=\"80,-318 21,-318 21,-287 80,-287 80,-318\"/>\r\n",
       "<text text-anchor=\"middle\" x=\"50.5\" y=\"-294\" font-family=\"monospace\" font-size=\"10.00\"> (2, 2)</text>\r\n",
       "</g>\r\n",
       "<!-- 1583064554880&#45;&gt;1583064515392 -->\r\n",
       "<g id=\"edge4\" class=\"edge\"><title>1583064554880&#45;&gt;1583064515392</title>\r\n",
       "<path fill=\"none\" stroke=\"black\" d=\"M50.5,-286.916C50.5,-279.221 50.5,-269.688 50.5,-261.43\"/>\r\n",
       "<polygon fill=\"black\" stroke=\"black\" points=\"54.0001,-261.249 50.5,-251.249 47.0001,-261.249 54.0001,-261.249\"/>\r\n",
       "</g>\r\n",
       "</g>\r\n",
       "</svg>\r\n"
      ],
      "text/plain": [
       "<graphviz.dot.Digraph at 0x17095ff8640>"
      ]
     },
     "execution_count": 16,
     "metadata": {},
     "output_type": "execute_result"
    }
   ],
   "source": [
    "z = y * y * 3\n",
    "print(z)\n",
    "torchviz.make_dot(z) "
   ]
  },
  {
   "cell_type": "code",
   "execution_count": 17,
   "metadata": {
    "colab": {
     "base_uri": "https://localhost:8080/",
     "height": 546
    },
    "executionInfo": {
     "elapsed": 10559,
     "status": "ok",
     "timestamp": 1618173365081,
     "user": {
      "displayName": "Lionel Fillatre",
      "photoUrl": "",
      "userId": "14463393848879581998"
     },
     "user_tz": -120
    },
    "id": "kQlr3Z-HgC-b",
    "outputId": "e4a3471e-5e4d-42af-9565-e409312b02f4"
   },
   "outputs": [
    {
     "name": "stdout",
     "output_type": "stream",
     "text": [
      "tensor(27., grad_fn=<MeanBackward0>)\n"
     ]
    },
    {
     "data": {
      "image/svg+xml": [
       "<?xml version=\"1.0\" encoding=\"UTF-8\" standalone=\"no\"?>\r\n",
       "<!DOCTYPE svg PUBLIC \"-//W3C//DTD SVG 1.1//EN\"\r\n",
       " \"http://www.w3.org/Graphics/SVG/1.1/DTD/svg11.dtd\">\r\n",
       "<!-- Generated by graphviz version 2.38.0 (20140413.2041)\r\n",
       " -->\r\n",
       "<!-- Title: %3 Pages: 1 -->\r\n",
       "<svg width=\"109pt\" height=\"381pt\"\r\n",
       " viewBox=\"0.00 0.00 109.00 381.00\" xmlns=\"http://www.w3.org/2000/svg\" xmlns:xlink=\"http://www.w3.org/1999/xlink\">\r\n",
       "<g id=\"graph0\" class=\"graph\" transform=\"scale(1 1) rotate(0) translate(4 377)\">\r\n",
       "<title>%3</title>\r\n",
       "<polygon fill=\"white\" stroke=\"none\" points=\"-4,4 -4,-377 105,-377 105,4 -4,4\"/>\r\n",
       "<!-- 1583064507712 -->\r\n",
       "<g id=\"node1\" class=\"node\"><title>1583064507712</title>\r\n",
       "<polygon fill=\"#caff70\" stroke=\"black\" points=\"77.5,-31 23.5,-31 23.5,-0 77.5,-0 77.5,-31\"/>\r\n",
       "<text text-anchor=\"middle\" x=\"50.5\" y=\"-7\" font-family=\"monospace\" font-size=\"10.00\"> ()</text>\r\n",
       "</g>\r\n",
       "<!-- 1583064515344 -->\r\n",
       "<g id=\"node2\" class=\"node\"><title>1583064515344</title>\r\n",
       "<polygon fill=\"lightgrey\" stroke=\"black\" points=\"98,-86 3,-86 3,-67 98,-67 98,-86\"/>\r\n",
       "<text text-anchor=\"middle\" x=\"50.5\" y=\"-74\" font-family=\"monospace\" font-size=\"10.00\">MeanBackward0</text>\r\n",
       "</g>\r\n",
       "<!-- 1583064515344&#45;&gt;1583064507712 -->\r\n",
       "<g id=\"edge7\" class=\"edge\"><title>1583064515344&#45;&gt;1583064507712</title>\r\n",
       "<path fill=\"none\" stroke=\"black\" d=\"M50.5,-66.7943C50.5,-60.0669 50.5,-50.404 50.5,-41.3425\"/>\r\n",
       "<polygon fill=\"black\" stroke=\"black\" points=\"54.0001,-41.1932 50.5,-31.1933 47.0001,-41.1933 54.0001,-41.1932\"/>\r\n",
       "</g>\r\n",
       "<!-- 1583064515584 -->\r\n",
       "<g id=\"node3\" class=\"node\"><title>1583064515584</title>\r\n",
       "<polygon fill=\"lightgrey\" stroke=\"black\" points=\"95,-141 6,-141 6,-122 95,-122 95,-141\"/>\r\n",
       "<text text-anchor=\"middle\" x=\"50.5\" y=\"-129\" font-family=\"monospace\" font-size=\"10.00\">MulBackward0</text>\r\n",
       "</g>\r\n",
       "<!-- 1583064515584&#45;&gt;1583064515344 -->\r\n",
       "<g id=\"edge1\" class=\"edge\"><title>1583064515584&#45;&gt;1583064515344</title>\r\n",
       "<path fill=\"none\" stroke=\"black\" d=\"M50.5,-121.748C50.5,-114.802 50.5,-104.845 50.5,-96.1349\"/>\r\n",
       "<polygon fill=\"black\" stroke=\"black\" points=\"54.0001,-96.089 50.5,-86.089 47.0001,-96.0891 54.0001,-96.089\"/>\r\n",
       "</g>\r\n",
       "<!-- 1583064516544 -->\r\n",
       "<g id=\"node4\" class=\"node\"><title>1583064516544</title>\r\n",
       "<polygon fill=\"lightgrey\" stroke=\"black\" points=\"95,-196 6,-196 6,-177 95,-177 95,-196\"/>\r\n",
       "<text text-anchor=\"middle\" x=\"50.5\" y=\"-184\" font-family=\"monospace\" font-size=\"10.00\">MulBackward0</text>\r\n",
       "</g>\r\n",
       "<!-- 1583064516544&#45;&gt;1583064515584 -->\r\n",
       "<g id=\"edge2\" class=\"edge\"><title>1583064516544&#45;&gt;1583064515584</title>\r\n",
       "<path fill=\"none\" stroke=\"black\" d=\"M50.5,-176.748C50.5,-169.802 50.5,-159.845 50.5,-151.135\"/>\r\n",
       "<polygon fill=\"black\" stroke=\"black\" points=\"54.0001,-151.089 50.5,-141.089 47.0001,-151.089 54.0001,-151.089\"/>\r\n",
       "</g>\r\n",
       "<!-- 1583064515872 -->\r\n",
       "<g id=\"node5\" class=\"node\"><title>1583064515872</title>\r\n",
       "<polygon fill=\"lightgrey\" stroke=\"black\" points=\"95,-251 6,-251 6,-232 95,-232 95,-251\"/>\r\n",
       "<text text-anchor=\"middle\" x=\"50.5\" y=\"-239\" font-family=\"monospace\" font-size=\"10.00\">AddBackward0</text>\r\n",
       "</g>\r\n",
       "<!-- 1583064515872&#45;&gt;1583064516544 -->\r\n",
       "<g id=\"edge3\" class=\"edge\"><title>1583064515872&#45;&gt;1583064516544</title>\r\n",
       "<path fill=\"none\" stroke=\"black\" d=\"M45.3337,-231.748C43.8407,-224.802 43.4034,-214.845 44.0215,-206.135\"/>\r\n",
       "<polygon fill=\"black\" stroke=\"black\" points=\"47.5084,-206.466 45.369,-196.089 40.5705,-205.535 47.5084,-206.466\"/>\r\n",
       "</g>\r\n",
       "<!-- 1583064515872&#45;&gt;1583064516544 -->\r\n",
       "<g id=\"edge6\" class=\"edge\"><title>1583064515872&#45;&gt;1583064516544</title>\r\n",
       "<path fill=\"none\" stroke=\"black\" d=\"M55.6663,-231.748C57.1593,-224.802 57.5966,-214.845 56.9785,-206.135\"/>\r\n",
       "<polygon fill=\"black\" stroke=\"black\" points=\"60.4295,-205.535 55.631,-196.089 53.4916,-206.466 60.4295,-205.535\"/>\r\n",
       "</g>\r\n",
       "<!-- 1583064515392 -->\r\n",
       "<g id=\"node6\" class=\"node\"><title>1583064515392</title>\r\n",
       "<polygon fill=\"lightgrey\" stroke=\"black\" points=\"101,-306 0,-306 0,-287 101,-287 101,-306\"/>\r\n",
       "<text text-anchor=\"middle\" x=\"50.5\" y=\"-294\" font-family=\"monospace\" font-size=\"10.00\">AccumulateGrad</text>\r\n",
       "</g>\r\n",
       "<!-- 1583064515392&#45;&gt;1583064515872 -->\r\n",
       "<g id=\"edge4\" class=\"edge\"><title>1583064515392&#45;&gt;1583064515872</title>\r\n",
       "<path fill=\"none\" stroke=\"black\" d=\"M50.5,-286.748C50.5,-279.802 50.5,-269.845 50.5,-261.135\"/>\r\n",
       "<polygon fill=\"black\" stroke=\"black\" points=\"54.0001,-261.089 50.5,-251.089 47.0001,-261.089 54.0001,-261.089\"/>\r\n",
       "</g>\r\n",
       "<!-- 1583064554880 -->\r\n",
       "<g id=\"node7\" class=\"node\"><title>1583064554880</title>\r\n",
       "<polygon fill=\"lightblue\" stroke=\"black\" points=\"80,-373 21,-373 21,-342 80,-342 80,-373\"/>\r\n",
       "<text text-anchor=\"middle\" x=\"50.5\" y=\"-349\" font-family=\"monospace\" font-size=\"10.00\"> (2, 2)</text>\r\n",
       "</g>\r\n",
       "<!-- 1583064554880&#45;&gt;1583064515392 -->\r\n",
       "<g id=\"edge5\" class=\"edge\"><title>1583064554880&#45;&gt;1583064515392</title>\r\n",
       "<path fill=\"none\" stroke=\"black\" d=\"M50.5,-341.916C50.5,-334.221 50.5,-324.688 50.5,-316.43\"/>\r\n",
       "<polygon fill=\"black\" stroke=\"black\" points=\"54.0001,-316.249 50.5,-306.249 47.0001,-316.249 54.0001,-316.249\"/>\r\n",
       "</g>\r\n",
       "</g>\r\n",
       "</svg>\r\n"
      ],
      "text/plain": [
       "<graphviz.dot.Digraph at 0x17095ff8fa0>"
      ]
     },
     "execution_count": 17,
     "metadata": {},
     "output_type": "execute_result"
    }
   ],
   "source": [
    "out = z.mean()\n",
    "print(out)\n",
    "torchviz.make_dot(out) "
   ]
  },
  {
   "cell_type": "markdown",
   "metadata": {
    "id": "mrBx5oslgC-c"
   },
   "source": [
    "After the computation is finished, i.e. _forward pass_, you can call ```.backward()``` and have all the gradients computed automatically."
   ]
  },
  {
   "cell_type": "code",
   "execution_count": 18,
   "metadata": {
    "executionInfo": {
     "elapsed": 11326,
     "status": "ok",
     "timestamp": 1618173365850,
     "user": {
      "displayName": "Lionel Fillatre",
      "photoUrl": "",
      "userId": "14463393848879581998"
     },
     "user_tz": -120
    },
    "id": "g5AzQ3qV5oti"
   },
   "outputs": [],
   "source": [
    "out.backward()"
   ]
  },
  {
   "cell_type": "markdown",
   "metadata": {
    "id": "niaze4W4gC-d"
   },
   "source": [
    "The gradients w.r.t. this variable is accumulated into ```.grad```."
   ]
  },
  {
   "cell_type": "code",
   "execution_count": 19,
   "metadata": {
    "colab": {
     "base_uri": "https://localhost:8080/"
    },
    "executionInfo": {
     "elapsed": 11316,
     "status": "ok",
     "timestamp": 1618173365851,
     "user": {
      "displayName": "Lionel Fillatre",
      "photoUrl": "",
      "userId": "14463393848879581998"
     },
     "user_tz": -120
    },
    "id": "OiDnd1jXgC-d",
    "outputId": "9a04f453-8de6-4bdc-c9f9-faecee86435e"
   },
   "outputs": [
    {
     "name": "stdout",
     "output_type": "stream",
     "text": [
      "tensor([[4.5000, 4.5000],\n",
      "        [4.5000, 4.5000]])\n"
     ]
    }
   ],
   "source": [
    "print(x.grad)"
   ]
  },
  {
   "cell_type": "markdown",
   "metadata": {
    "id": "7kJrfEsF29yh"
   },
   "source": [
    "### Question: Explain mathematically the value of \"x.grad\"\n"
   ]
  },
  {
   "cell_type": "markdown",
   "metadata": {
    "id": "bc_d1hxFgC-f"
   },
   "source": [
    "Let’s call the ``out``\n",
    "*Variable* “$o$”.\n",
    "We have that:\n",
    "\n",
    "$y_i = x_i+2$\n",
    "\n",
    "$z_i = 3 y_i^2$ \n",
    "\n",
    "$o = \\frac{1}{4}\\sum_i z_i$ \n",
    "\n",
    "**Forward pass:**\n",
    "\n",
    "$y_i\\bigr\\rvert_{x_i=1} = 3$\n",
    "\n",
    "$z_i\\bigr\\rvert_{y_i=3} = 27$\n",
    "\n",
    "$o\\bigr\\rvert_{z_i=27} = 27$.\n",
    "\n",
    "Taking partial derivatives give:\n",
    "\n",
    "$\\frac{\\partial o}{\\partial z_i} = \\frac{1}{4}$\n",
    "\n",
    "$\\frac{\\partial z_i}{\\partial y_i} = 6 y_i$\n",
    "\n",
    "$\\frac{\\partial y_i}{\\partial x_i} =1$\n",
    "\n",
    "\n",
    "hence by the **chain-rule:**\n",
    "\n",
    "$\\frac{\\partial o}{\\partial x_i}\\bigr\\rvert_{x_i=1} = \\frac{\\partial o}{\\partial z_i}\\bigr\\rvert_{z_i=27}\\frac{\\partial z_i}{\\partial y_i}\\bigr\\rvert_{y_i=3}\\frac{\\partial y_i}{\\partial x_i}\\bigr\\rvert_{x_i=1} = \\frac{1}{4} * 18 * 1 = 4.5$."
   ]
  },
  {
   "cell_type": "markdown",
   "metadata": {
    "id": "UwJCU8Uo4ZvD"
   },
   "source": [
    "[Why can I not see .grad of an intermediate variable?](https://discuss.pytorch.org/t/why-cant-i-see-grad-of-an-intermediate-variable/94)\n",
    "\n",
    "Gradients are only retained for leaf variables. \n",
    "\n",
    "Non-leaf variables’ gradients are not retained to be inspected later. This was done by design, to save memory."
   ]
  },
  {
   "cell_type": "code",
   "execution_count": 20,
   "metadata": {
    "colab": {
     "base_uri": "https://localhost:8080/"
    },
    "executionInfo": {
     "elapsed": 11307,
     "status": "ok",
     "timestamp": 1618173365851,
     "user": {
      "displayName": "Lionel Fillatre",
      "photoUrl": "",
      "userId": "14463393848879581998"
     },
     "user_tz": -120
    },
    "id": "16KkidoigC-e",
    "outputId": "db0a0d87-57bf-48fb-b9de-92b7a574a04d"
   },
   "outputs": [
    {
     "name": "stdout",
     "output_type": "stream",
     "text": [
      "None\n",
      "None\n"
     ]
    },
    {
     "name": "stderr",
     "output_type": "stream",
     "text": [
      "<ipython-input-20-e6d0027315c4>:1: UserWarning: The .grad attribute of a Tensor that is not a leaf Tensor is being accessed. Its .grad attribute won't be populated during autograd.backward(). If you indeed want the gradient for a non-leaf Tensor, use .retain_grad() on the non-leaf Tensor. If you access the non-leaf Tensor by mistake, make sure you access the leaf Tensor instead. See github.com/pytorch/pytorch/pull/30531 for more informations.\n",
      "  print(y.grad)\n",
      "<ipython-input-20-e6d0027315c4>:2: UserWarning: The .grad attribute of a Tensor that is not a leaf Tensor is being accessed. Its .grad attribute won't be populated during autograd.backward(). If you indeed want the gradient for a non-leaf Tensor, use .retain_grad() on the non-leaf Tensor. If you access the non-leaf Tensor by mistake, make sure you access the leaf Tensor instead. See github.com/pytorch/pytorch/pull/30531 for more informations.\n",
      "  print(out.grad)\n"
     ]
    }
   ],
   "source": [
    "print(y.grad)\n",
    "print(out.grad)"
   ]
  },
  {
   "cell_type": "code",
   "execution_count": 21,
   "metadata": {
    "colab": {
     "base_uri": "https://localhost:8080/",
     "height": 580
    },
    "executionInfo": {
     "elapsed": 11297,
     "status": "ok",
     "timestamp": 1618173365852,
     "user": {
      "displayName": "Lionel Fillatre",
      "photoUrl": "",
      "userId": "14463393848879581998"
     },
     "user_tz": -120
    },
    "id": "YSb96GMy5IdW",
    "outputId": "53c6ca38-b30b-48c0-efb1-583e01555bbd"
   },
   "outputs": [
    {
     "name": "stdout",
     "output_type": "stream",
     "text": [
      "tensor([[2., 2.],\n",
      "        [2., 2.]])\n",
      "tensor(10., grad_fn=<MeanBackward0>)\n"
     ]
    },
    {
     "data": {
      "image/svg+xml": [
       "<?xml version=\"1.0\" encoding=\"UTF-8\" standalone=\"no\"?>\r\n",
       "<!DOCTYPE svg PUBLIC \"-//W3C//DTD SVG 1.1//EN\"\r\n",
       " \"http://www.w3.org/Graphics/SVG/1.1/DTD/svg11.dtd\">\r\n",
       "<!-- Generated by graphviz version 2.38.0 (20140413.2041)\r\n",
       " -->\r\n",
       "<!-- Title: %3 Pages: 1 -->\r\n",
       "<svg width=\"143pt\" height=\"381pt\"\r\n",
       " viewBox=\"0.00 0.00 143.00 381.00\" xmlns=\"http://www.w3.org/2000/svg\" xmlns:xlink=\"http://www.w3.org/1999/xlink\">\r\n",
       "<g id=\"graph0\" class=\"graph\" transform=\"scale(1 1) rotate(0) translate(4 377)\">\r\n",
       "<title>%3</title>\r\n",
       "<polygon fill=\"white\" stroke=\"none\" points=\"-4,4 -4,-377 139,-377 139,4 -4,4\"/>\r\n",
       "<!-- 1583064635648 -->\r\n",
       "<g id=\"node1\" class=\"node\"><title>1583064635648</title>\r\n",
       "<polygon fill=\"#caff70\" stroke=\"black\" points=\"74.5,-31 20.5,-31 20.5,-0 74.5,-0 74.5,-31\"/>\r\n",
       "<text text-anchor=\"middle\" x=\"47.5\" y=\"-7\" font-family=\"monospace\" font-size=\"10.00\"> ()</text>\r\n",
       "</g>\r\n",
       "<!-- 1583064643328 -->\r\n",
       "<g id=\"node2\" class=\"node\"><title>1583064643328</title>\r\n",
       "<polygon fill=\"lightgrey\" stroke=\"black\" points=\"95,-86 0,-86 0,-67 95,-67 95,-86\"/>\r\n",
       "<text text-anchor=\"middle\" x=\"47.5\" y=\"-74\" font-family=\"monospace\" font-size=\"10.00\">MeanBackward0</text>\r\n",
       "</g>\r\n",
       "<!-- 1583064643328&#45;&gt;1583064635648 -->\r\n",
       "<g id=\"edge8\" class=\"edge\"><title>1583064643328&#45;&gt;1583064635648</title>\r\n",
       "<path fill=\"none\" stroke=\"black\" d=\"M47.5,-66.7943C47.5,-60.0669 47.5,-50.404 47.5,-41.3425\"/>\r\n",
       "<polygon fill=\"black\" stroke=\"black\" points=\"51.0001,-41.1932 47.5,-31.1933 44.0001,-41.1933 51.0001,-41.1932\"/>\r\n",
       "</g>\r\n",
       "<!-- 1583064643376 -->\r\n",
       "<g id=\"node3\" class=\"node\"><title>1583064643376</title>\r\n",
       "<polygon fill=\"lightgrey\" stroke=\"black\" points=\"92,-141 3,-141 3,-122 92,-122 92,-141\"/>\r\n",
       "<text text-anchor=\"middle\" x=\"47.5\" y=\"-129\" font-family=\"monospace\" font-size=\"10.00\">AddBackward0</text>\r\n",
       "</g>\r\n",
       "<!-- 1583064643376&#45;&gt;1583064643328 -->\r\n",
       "<g id=\"edge1\" class=\"edge\"><title>1583064643376&#45;&gt;1583064643328</title>\r\n",
       "<path fill=\"none\" stroke=\"black\" d=\"M47.5,-121.748C47.5,-114.802 47.5,-104.845 47.5,-96.1349\"/>\r\n",
       "<polygon fill=\"black\" stroke=\"black\" points=\"51.0001,-96.089 47.5,-86.089 44.0001,-96.0891 51.0001,-96.089\"/>\r\n",
       "</g>\r\n",
       "<!-- 1583064643472 -->\r\n",
       "<g id=\"node4\" class=\"node\"><title>1583064643472</title>\r\n",
       "<polygon fill=\"lightgrey\" stroke=\"black\" points=\"92,-196 3,-196 3,-177 92,-177 92,-196\"/>\r\n",
       "<text text-anchor=\"middle\" x=\"47.5\" y=\"-184\" font-family=\"monospace\" font-size=\"10.00\">MulBackward0</text>\r\n",
       "</g>\r\n",
       "<!-- 1583064643472&#45;&gt;1583064643376 -->\r\n",
       "<g id=\"edge2\" class=\"edge\"><title>1583064643472&#45;&gt;1583064643376</title>\r\n",
       "<path fill=\"none\" stroke=\"black\" d=\"M47.5,-176.748C47.5,-169.802 47.5,-159.845 47.5,-151.135\"/>\r\n",
       "<polygon fill=\"black\" stroke=\"black\" points=\"51.0001,-151.089 47.5,-141.089 44.0001,-151.089 51.0001,-151.089\"/>\r\n",
       "</g>\r\n",
       "<!-- 1583064643568 -->\r\n",
       "<g id=\"node5\" class=\"node\"><title>1583064643568</title>\r\n",
       "<polygon fill=\"lightgrey\" stroke=\"black\" points=\"129,-251 40,-251 40,-232 129,-232 129,-251\"/>\r\n",
       "<text text-anchor=\"middle\" x=\"84.5\" y=\"-239\" font-family=\"monospace\" font-size=\"10.00\">MulBackward0</text>\r\n",
       "</g>\r\n",
       "<!-- 1583064643568&#45;&gt;1583064643472 -->\r\n",
       "<g id=\"edge3\" class=\"edge\"><title>1583064643568&#45;&gt;1583064643472</title>\r\n",
       "<path fill=\"none\" stroke=\"black\" d=\"M78.3902,-231.748C73.2178,-224.339 65.6539,-213.504 59.3056,-204.411\"/>\r\n",
       "<polygon fill=\"black\" stroke=\"black\" points=\"62.0902,-202.285 53.4961,-196.089 56.3505,-206.292 62.0902,-202.285\"/>\r\n",
       "</g>\r\n",
       "<!-- 1583064643520 -->\r\n",
       "<g id=\"node6\" class=\"node\"><title>1583064643520</title>\r\n",
       "<polygon fill=\"lightgrey\" stroke=\"black\" points=\"135,-306 34,-306 34,-287 135,-287 135,-306\"/>\r\n",
       "<text text-anchor=\"middle\" x=\"84.5\" y=\"-294\" font-family=\"monospace\" font-size=\"10.00\">AccumulateGrad</text>\r\n",
       "</g>\r\n",
       "<!-- 1583064643520&#45;&gt;1583064643472 -->\r\n",
       "<g id=\"edge7\" class=\"edge\"><title>1583064643520&#45;&gt;1583064643472</title>\r\n",
       "<path fill=\"none\" stroke=\"black\" d=\"M67.6112,-286.952C54.7932,-279.426 38.1188,-267.151 30.5,-251 23.516,-236.195 29.6953,-218.045 36.4795,-204.947\"/>\r\n",
       "<polygon fill=\"black\" stroke=\"black\" points=\"39.6404,-206.471 41.5774,-196.054 33.5675,-202.989 39.6404,-206.471\"/>\r\n",
       "</g>\r\n",
       "<!-- 1583064643520&#45;&gt;1583064643568 -->\r\n",
       "<g id=\"edge4\" class=\"edge\"><title>1583064643520&#45;&gt;1583064643568</title>\r\n",
       "<path fill=\"none\" stroke=\"black\" d=\"M79.3337,-286.748C77.8407,-279.802 77.4034,-269.845 78.0215,-261.135\"/>\r\n",
       "<polygon fill=\"black\" stroke=\"black\" points=\"81.5084,-261.466 79.369,-251.089 74.5705,-260.535 81.5084,-261.466\"/>\r\n",
       "</g>\r\n",
       "<!-- 1583064643520&#45;&gt;1583064643568 -->\r\n",
       "<g id=\"edge6\" class=\"edge\"><title>1583064643520&#45;&gt;1583064643568</title>\r\n",
       "<path fill=\"none\" stroke=\"black\" d=\"M89.6663,-286.748C91.1593,-279.802 91.5966,-269.845 90.9785,-261.135\"/>\r\n",
       "<polygon fill=\"black\" stroke=\"black\" points=\"94.4295,-260.535 89.631,-251.089 87.4916,-261.466 94.4295,-260.535\"/>\r\n",
       "</g>\r\n",
       "<!-- 1583064670336 -->\r\n",
       "<g id=\"node7\" class=\"node\"><title>1583064670336</title>\r\n",
       "<polygon fill=\"lightblue\" stroke=\"black\" points=\"114,-373 55,-373 55,-342 114,-342 114,-373\"/>\r\n",
       "<text text-anchor=\"middle\" x=\"84.5\" y=\"-349\" font-family=\"monospace\" font-size=\"10.00\"> (2, 2)</text>\r\n",
       "</g>\r\n",
       "<!-- 1583064670336&#45;&gt;1583064643520 -->\r\n",
       "<g id=\"edge5\" class=\"edge\"><title>1583064670336&#45;&gt;1583064643520</title>\r\n",
       "<path fill=\"none\" stroke=\"black\" d=\"M84.5,-341.916C84.5,-334.221 84.5,-324.688 84.5,-316.43\"/>\r\n",
       "<polygon fill=\"black\" stroke=\"black\" points=\"88.0001,-316.249 84.5,-306.249 81.0001,-316.249 88.0001,-316.249\"/>\r\n",
       "</g>\r\n",
       "</g>\r\n",
       "</svg>\r\n"
      ],
      "text/plain": [
       "<graphviz.dot.Digraph at 0x170960176d0>"
      ]
     },
     "execution_count": 21,
     "metadata": {},
     "output_type": "execute_result"
    }
   ],
   "source": [
    "x = 2 * torch.ones(2, 2)\n",
    "print(x)\n",
    "x.requires_grad_(True)\n",
    "out = (x * x * x + 2 ).mean()\n",
    "print(out)\n",
    "torchviz.make_dot(out)"
   ]
  },
  {
   "cell_type": "code",
   "execution_count": 22,
   "metadata": {
    "executionInfo": {
     "elapsed": 11296,
     "status": "ok",
     "timestamp": 1618173365853,
     "user": {
      "displayName": "Lionel Fillatre",
      "photoUrl": "",
      "userId": "14463393848879581998"
     },
     "user_tz": -120
    },
    "id": "AEPS2hMfgC-g"
   },
   "outputs": [],
   "source": [
    "out.backward(torch.tensor(2.0))"
   ]
  },
  {
   "cell_type": "markdown",
   "metadata": {
    "id": "_uzoqTqP7H2H"
   },
   "source": [
    "### Question: Explain mathematically the value of \"x.grad\" in the following cell"
   ]
  },
  {
   "cell_type": "code",
   "execution_count": 23,
   "metadata": {
    "colab": {
     "base_uri": "https://localhost:8080/"
    },
    "executionInfo": {
     "elapsed": 11286,
     "status": "ok",
     "timestamp": 1618173365854,
     "user": {
      "displayName": "Lionel Fillatre",
      "photoUrl": "",
      "userId": "14463393848879581998"
     },
     "user_tz": -120
    },
    "id": "ngiu74HUgC-g",
    "outputId": "78f925cc-441f-4c71-cb42-a36d83a57876"
   },
   "outputs": [
    {
     "name": "stdout",
     "output_type": "stream",
     "text": [
      "tensor([[6., 6.],\n",
      "        [6., 6.]])\n"
     ]
    }
   ],
   "source": [
    "print(x.grad)"
   ]
  },
  {
   "cell_type": "markdown",
   "metadata": {
    "id": "ypBdAAq29Jcm"
   },
   "source": [
    "## How to compute the gradient when I want?\n",
    "\n"
   ]
  },
  {
   "cell_type": "code",
   "execution_count": 24,
   "metadata": {
    "colab": {
     "base_uri": "https://localhost:8080/"
    },
    "executionInfo": {
     "elapsed": 11277,
     "status": "ok",
     "timestamp": 1618173365855,
     "user": {
      "displayName": "Lionel Fillatre",
      "photoUrl": "",
      "userId": "14463393848879581998"
     },
     "user_tz": -120
    },
    "id": "0QxJzcmqgC-h",
    "outputId": "b3745aa4-6655-4d53-d1ab-12f9422c8b5f"
   },
   "outputs": [
    {
     "name": "stdout",
     "output_type": "stream",
     "text": [
      "tensor([[4.5000, 4.5000],\n",
      "        [4.5000, 4.5000]])\n"
     ]
    }
   ],
   "source": [
    "x = torch.ones(2, 2)\n",
    "x.requires_grad_(True)\n",
    "y = x+2\n",
    "z = 3 * y ** 2 \n",
    "out = z.mean()\n",
    "\n",
    "out.backward(retain_graph=True)\n",
    "\n",
    "print(x.grad)"
   ]
  },
  {
   "cell_type": "markdown",
   "metadata": {
    "id": "UPWKUoHo9rwC"
   },
   "source": [
    "Calling again the \"backward\" process does not launch an error"
   ]
  },
  {
   "cell_type": "code",
   "execution_count": 25,
   "metadata": {
    "executionInfo": {
     "elapsed": 11274,
     "status": "ok",
     "timestamp": 1618173365856,
     "user": {
      "displayName": "Lionel Fillatre",
      "photoUrl": "",
      "userId": "14463393848879581998"
     },
     "user_tz": -120
    },
    "id": "SNbrrv30gC-l"
   },
   "outputs": [],
   "source": [
    "out.backward(retain_graph=True)"
   ]
  },
  {
   "cell_type": "code",
   "execution_count": 26,
   "metadata": {
    "colab": {
     "base_uri": "https://localhost:8080/"
    },
    "executionInfo": {
     "elapsed": 11265,
     "status": "ok",
     "timestamp": 1618173365857,
     "user": {
      "displayName": "Lionel Fillatre",
      "photoUrl": "",
      "userId": "14463393848879581998"
     },
     "user_tz": -120
    },
    "id": "20hB_GAkgC-i",
    "outputId": "d0f4dc92-516b-4600-80d1-4af8f2547f22"
   },
   "outputs": [
    {
     "name": "stdout",
     "output_type": "stream",
     "text": [
      "tensor([[9., 9.],\n",
      "        [9., 9.]])\n"
     ]
    }
   ],
   "source": [
    "print(x.grad)"
   ]
  },
  {
   "cell_type": "code",
   "execution_count": 27,
   "metadata": {
    "colab": {
     "base_uri": "https://localhost:8080/"
    },
    "executionInfo": {
     "elapsed": 11257,
     "status": "ok",
     "timestamp": 1618173365858,
     "user": {
      "displayName": "Lionel Fillatre",
      "photoUrl": "",
      "userId": "14463393848879581998"
     },
     "user_tz": -120
    },
    "id": "gXuFJckx-FFf",
    "outputId": "e6e21b48-8b0e-4fbd-a922-2bc45f2b6310"
   },
   "outputs": [
    {
     "data": {
      "text/plain": [
       "(tensor(1.),)"
      ]
     },
     "execution_count": 27,
     "metadata": {},
     "output_type": "execute_result"
    }
   ],
   "source": [
    "torch.autograd.grad(out, out, retain_graph=True)"
   ]
  },
  {
   "cell_type": "code",
   "execution_count": 28,
   "metadata": {
    "colab": {
     "base_uri": "https://localhost:8080/"
    },
    "executionInfo": {
     "elapsed": 11247,
     "status": "ok",
     "timestamp": 1618173365858,
     "user": {
      "displayName": "Lionel Fillatre",
      "photoUrl": "",
      "userId": "14463393848879581998"
     },
     "user_tz": -120
    },
    "id": "swHcxn-CgC-j",
    "outputId": "9e207aba-54f8-4bbb-d02b-92e0460dc07b"
   },
   "outputs": [
    {
     "data": {
      "text/plain": [
       "(tensor([[0.2500, 0.2500],\n",
       "         [0.2500, 0.2500]]),)"
      ]
     },
     "execution_count": 28,
     "metadata": {},
     "output_type": "execute_result"
    }
   ],
   "source": [
    "torch.autograd.grad(out, z, retain_graph=True)"
   ]
  },
  {
   "cell_type": "code",
   "execution_count": 29,
   "metadata": {
    "colab": {
     "base_uri": "https://localhost:8080/"
    },
    "executionInfo": {
     "elapsed": 11237,
     "status": "ok",
     "timestamp": 1618173365859,
     "user": {
      "displayName": "Lionel Fillatre",
      "photoUrl": "",
      "userId": "14463393848879581998"
     },
     "user_tz": -120
    },
    "id": "M_Ko7_y1gC-k",
    "outputId": "b85e9ce6-4c94-4d88-97cd-72cdf7db8567"
   },
   "outputs": [
    {
     "data": {
      "text/plain": [
       "(tensor([[4.5000, 4.5000],\n",
       "         [4.5000, 4.5000]]),)"
      ]
     },
     "execution_count": 29,
     "metadata": {},
     "output_type": "execute_result"
    }
   ],
   "source": [
    "torch.autograd.grad(out, y, retain_graph=True)"
   ]
  },
  {
   "cell_type": "code",
   "execution_count": 30,
   "metadata": {
    "executionInfo": {
     "elapsed": 11236,
     "status": "ok",
     "timestamp": 1618173365860,
     "user": {
      "displayName": "Lionel Fillatre",
      "photoUrl": "",
      "userId": "14463393848879581998"
     },
     "user_tz": -120
    },
    "id": "OvjmLzDAgC-m"
   },
   "outputs": [],
   "source": [
    "out.backward(torch.tensor(2.0), retain_graph=True)"
   ]
  },
  {
   "cell_type": "code",
   "execution_count": 31,
   "metadata": {
    "colab": {
     "base_uri": "https://localhost:8080/"
    },
    "executionInfo": {
     "elapsed": 11223,
     "status": "ok",
     "timestamp": 1618173365860,
     "user": {
      "displayName": "Lionel Fillatre",
      "photoUrl": "",
      "userId": "14463393848879581998"
     },
     "user_tz": -120
    },
    "id": "gctEXtYhgC-n",
    "outputId": "ba96d375-a6ce-4116-8ea6-fc9c1297e488"
   },
   "outputs": [
    {
     "name": "stdout",
     "output_type": "stream",
     "text": [
      "tensor([[18., 18.],\n",
      "        [18., 18.]])\n"
     ]
    }
   ],
   "source": [
    "print(x.grad)"
   ]
  },
  {
   "cell_type": "markdown",
   "metadata": {
    "id": "vBtNQ8By_Aao"
   },
   "source": [
    "## A last example"
   ]
  },
  {
   "cell_type": "code",
   "execution_count": 32,
   "metadata": {
    "colab": {
     "base_uri": "https://localhost:8080/",
     "height": 473
    },
    "executionInfo": {
     "elapsed": 11214,
     "status": "ok",
     "timestamp": 1618173365861,
     "user": {
      "displayName": "Lionel Fillatre",
      "photoUrl": "",
      "userId": "14463393848879581998"
     },
     "user_tz": -120
    },
    "id": "Q_gpAR_6l_BC",
    "outputId": "707532da-8606-4324-a175-ed87c68e2d44"
   },
   "outputs": [
    {
     "name": "stdout",
     "output_type": "stream",
     "text": [
      "tensor([5., 5., 5., 5., 5., 5., 5., 5., 5., 5.])\n"
     ]
    },
    {
     "data": {
      "image/svg+xml": [
       "<?xml version=\"1.0\" encoding=\"UTF-8\" standalone=\"no\"?>\r\n",
       "<!DOCTYPE svg PUBLIC \"-//W3C//DTD SVG 1.1//EN\"\r\n",
       " \"http://www.w3.org/Graphics/SVG/1.1/DTD/svg11.dtd\">\r\n",
       "<!-- Generated by graphviz version 2.38.0 (20140413.2041)\r\n",
       " -->\r\n",
       "<!-- Title: %3 Pages: 1 -->\r\n",
       "<svg width=\"204pt\" height=\"326pt\"\r\n",
       " viewBox=\"0.00 0.00 204.00 326.00\" xmlns=\"http://www.w3.org/2000/svg\" xmlns:xlink=\"http://www.w3.org/1999/xlink\">\r\n",
       "<g id=\"graph0\" class=\"graph\" transform=\"scale(1 1) rotate(0) translate(4 322)\">\r\n",
       "<title>%3</title>\r\n",
       "<polygon fill=\"white\" stroke=\"none\" points=\"-4,4 -4,-322 200,-322 200,4 -4,4\"/>\r\n",
       "<!-- 1583064681152 -->\r\n",
       "<g id=\"node1\" class=\"node\"><title>1583064681152</title>\r\n",
       "<polygon fill=\"#caff70\" stroke=\"black\" points=\"124.5,-31 70.5,-31 70.5,-0 124.5,-0 124.5,-31\"/>\r\n",
       "<text text-anchor=\"middle\" x=\"97.5\" y=\"-7\" font-family=\"monospace\" font-size=\"10.00\"> ()</text>\r\n",
       "</g>\r\n",
       "<!-- 1583064644912 -->\r\n",
       "<g id=\"node2\" class=\"node\"><title>1583064644912</title>\r\n",
       "<polygon fill=\"lightgrey\" stroke=\"black\" points=\"142,-86 53,-86 53,-67 142,-67 142,-86\"/>\r\n",
       "<text text-anchor=\"middle\" x=\"97.5\" y=\"-74\" font-family=\"monospace\" font-size=\"10.00\">SumBackward0</text>\r\n",
       "</g>\r\n",
       "<!-- 1583064644912&#45;&gt;1583064681152 -->\r\n",
       "<g id=\"edge7\" class=\"edge\"><title>1583064644912&#45;&gt;1583064681152</title>\r\n",
       "<path fill=\"none\" stroke=\"black\" d=\"M97.5,-66.7943C97.5,-60.0669 97.5,-50.404 97.5,-41.3425\"/>\r\n",
       "<polygon fill=\"black\" stroke=\"black\" points=\"101,-41.1932 97.5,-31.1933 94.0001,-41.1933 101,-41.1932\"/>\r\n",
       "</g>\r\n",
       "<!-- 1583064643856 -->\r\n",
       "<g id=\"node3\" class=\"node\"><title>1583064643856</title>\r\n",
       "<polygon fill=\"lightgrey\" stroke=\"black\" points=\"142,-141 53,-141 53,-122 142,-122 142,-141\"/>\r\n",
       "<text text-anchor=\"middle\" x=\"97.5\" y=\"-129\" font-family=\"monospace\" font-size=\"10.00\">AddBackward0</text>\r\n",
       "</g>\r\n",
       "<!-- 1583064643856&#45;&gt;1583064644912 -->\r\n",
       "<g id=\"edge1\" class=\"edge\"><title>1583064643856&#45;&gt;1583064644912</title>\r\n",
       "<path fill=\"none\" stroke=\"black\" d=\"M97.5,-121.748C97.5,-114.802 97.5,-104.845 97.5,-96.1349\"/>\r\n",
       "<polygon fill=\"black\" stroke=\"black\" points=\"101,-96.089 97.5,-86.089 94.0001,-96.0891 101,-96.089\"/>\r\n",
       "</g>\r\n",
       "<!-- 1583064643904 -->\r\n",
       "<g id=\"node4\" class=\"node\"><title>1583064643904</title>\r\n",
       "<polygon fill=\"lightgrey\" stroke=\"black\" points=\"89,-196 0,-196 0,-177 89,-177 89,-196\"/>\r\n",
       "<text text-anchor=\"middle\" x=\"44.5\" y=\"-184\" font-family=\"monospace\" font-size=\"10.00\">PowBackward0</text>\r\n",
       "</g>\r\n",
       "<!-- 1583064643904&#45;&gt;1583064643856 -->\r\n",
       "<g id=\"edge2\" class=\"edge\"><title>1583064643904&#45;&gt;1583064643856</title>\r\n",
       "<path fill=\"none\" stroke=\"black\" d=\"M53.2519,-176.748C60.9697,-169.03 72.4047,-157.595 81.7165,-148.283\"/>\r\n",
       "<polygon fill=\"black\" stroke=\"black\" points=\"84.3148,-150.635 88.911,-141.089 79.365,-145.685 84.3148,-150.635\"/>\r\n",
       "</g>\r\n",
       "<!-- 1583064642608 -->\r\n",
       "<g id=\"node5\" class=\"node\"><title>1583064642608</title>\r\n",
       "<polygon fill=\"lightgrey\" stroke=\"black\" points=\"148,-251 47,-251 47,-232 148,-232 148,-251\"/>\r\n",
       "<text text-anchor=\"middle\" x=\"97.5\" y=\"-239\" font-family=\"monospace\" font-size=\"10.00\">AccumulateGrad</text>\r\n",
       "</g>\r\n",
       "<!-- 1583064642608&#45;&gt;1583064643904 -->\r\n",
       "<g id=\"edge3\" class=\"edge\"><title>1583064642608&#45;&gt;1583064643904</title>\r\n",
       "<path fill=\"none\" stroke=\"black\" d=\"M88.7481,-231.748C81.0303,-224.03 69.5953,-212.595 60.2835,-203.283\"/>\r\n",
       "<polygon fill=\"black\" stroke=\"black\" points=\"62.635,-200.685 53.089,-196.089 57.6852,-205.635 62.635,-200.685\"/>\r\n",
       "</g>\r\n",
       "<!-- 1583064642512 -->\r\n",
       "<g id=\"node7\" class=\"node\"><title>1583064642512</title>\r\n",
       "<polygon fill=\"lightgrey\" stroke=\"black\" points=\"196,-196 107,-196 107,-177 196,-177 196,-196\"/>\r\n",
       "<text text-anchor=\"middle\" x=\"151.5\" y=\"-184\" font-family=\"monospace\" font-size=\"10.00\">PowBackward0</text>\r\n",
       "</g>\r\n",
       "<!-- 1583064642608&#45;&gt;1583064642512 -->\r\n",
       "<g id=\"edge6\" class=\"edge\"><title>1583064642608&#45;&gt;1583064642512</title>\r\n",
       "<path fill=\"none\" stroke=\"black\" d=\"M106.417,-231.748C114.28,-224.03 125.931,-212.595 135.419,-203.283\"/>\r\n",
       "<polygon fill=\"black\" stroke=\"black\" points=\"138.064,-205.592 142.749,-196.089 133.16,-200.596 138.064,-205.592\"/>\r\n",
       "</g>\r\n",
       "<!-- 1583064681728 -->\r\n",
       "<g id=\"node6\" class=\"node\"><title>1583064681728</title>\r\n",
       "<polygon fill=\"lightblue\" stroke=\"black\" points=\"124.5,-318 70.5,-318 70.5,-287 124.5,-287 124.5,-318\"/>\r\n",
       "<text text-anchor=\"middle\" x=\"97.5\" y=\"-294\" font-family=\"monospace\" font-size=\"10.00\"> (10)</text>\r\n",
       "</g>\r\n",
       "<!-- 1583064681728&#45;&gt;1583064642608 -->\r\n",
       "<g id=\"edge4\" class=\"edge\"><title>1583064681728&#45;&gt;1583064642608</title>\r\n",
       "<path fill=\"none\" stroke=\"black\" d=\"M97.5,-286.916C97.5,-279.221 97.5,-269.688 97.5,-261.43\"/>\r\n",
       "<polygon fill=\"black\" stroke=\"black\" points=\"101,-261.249 97.5,-251.249 94.0001,-261.249 101,-261.249\"/>\r\n",
       "</g>\r\n",
       "<!-- 1583064642512&#45;&gt;1583064643856 -->\r\n",
       "<g id=\"edge5\" class=\"edge\"><title>1583064642512&#45;&gt;1583064643856</title>\r\n",
       "<path fill=\"none\" stroke=\"black\" d=\"M142.583,-176.748C134.72,-169.03 123.069,-157.595 113.581,-148.283\"/>\r\n",
       "<polygon fill=\"black\" stroke=\"black\" points=\"115.84,-145.596 106.251,-141.089 110.936,-150.592 115.84,-145.596\"/>\r\n",
       "</g>\r\n",
       "</g>\r\n",
       "</svg>\r\n"
      ],
      "text/plain": [
       "<graphviz.dot.Digraph at 0x17096017790>"
      ]
     },
     "execution_count": 32,
     "metadata": {},
     "output_type": "execute_result"
    }
   ],
   "source": [
    "x=torch.ones(10, requires_grad=True)\n",
    "\n",
    "y=x**2\n",
    "z=x**3\n",
    "r=(y+z).sum()\n",
    "\n",
    "r.backward()\n",
    "print(x.grad)\n",
    "torchviz.make_dot(r) "
   ]
  },
  {
   "cell_type": "markdown",
   "metadata": {
    "id": "kTN0-Pm0gC-o"
   },
   "source": [
    "## Gradient accumulation\n",
    "\n",
    "\n",
    "The gradients must be set to zero manually. Otherwise they will cumulate across several _.backward()_ calls. \n",
    "This accumulating behavior is desirable in particular to compute the gradient of a loss summed over several “mini-batches,” or the gradient of a sum of losses.\n"
   ]
  },
  {
   "cell_type": "code",
   "execution_count": 33,
   "metadata": {
    "colab": {
     "base_uri": "https://localhost:8080/"
    },
    "executionInfo": {
     "elapsed": 11207,
     "status": "ok",
     "timestamp": 1618173365862,
     "user": {
      "displayName": "Lionel Fillatre",
      "photoUrl": "",
      "userId": "14463393848879581998"
     },
     "user_tz": -120
    },
    "id": "ELCAEIdv_G3X",
    "outputId": "fc3b8724-db38-46bf-a098-7f7b3a8372b3"
   },
   "outputs": [
    {
     "name": "stdout",
     "output_type": "stream",
     "text": [
      "tensor([[4.]], grad_fn=<PowBackward0>)\n"
     ]
    }
   ],
   "source": [
    "x = torch.ones(1, 1,requires_grad = True)\n",
    "out = (x+1)**2\n",
    "print(out)"
   ]
  },
  {
   "cell_type": "code",
   "execution_count": 34,
   "metadata": {
    "colab": {
     "base_uri": "https://localhost:8080/"
    },
    "executionInfo": {
     "elapsed": 11200,
     "status": "ok",
     "timestamp": 1618173365862,
     "user": {
      "displayName": "Lionel Fillatre",
      "photoUrl": "",
      "userId": "14463393848879581998"
     },
     "user_tz": -120
    },
    "id": "lG7OEaY7gC-o",
    "outputId": "4acb844b-8e77-46ba-e533-7e9649448433"
   },
   "outputs": [
    {
     "name": "stdout",
     "output_type": "stream",
     "text": [
      "tensor([[4.]])\n",
      "tensor([[12.]])\n",
      "tensor([[16.]])\n"
     ]
    }
   ],
   "source": [
    "out.backward(torch.ones(1,1),retain_graph=True)\n",
    "print(x.grad)\n",
    "out.backward(2 * torch.ones(1,1),retain_graph=True)\n",
    "print(x.grad)\n",
    "out.backward(retain_graph=True)\n",
    "print(x.grad)"
   ]
  },
  {
   "cell_type": "code",
   "execution_count": 35,
   "metadata": {
    "colab": {
     "base_uri": "https://localhost:8080/"
    },
    "executionInfo": {
     "elapsed": 11193,
     "status": "ok",
     "timestamp": 1618173365863,
     "user": {
      "displayName": "Lionel Fillatre",
      "photoUrl": "",
      "userId": "14463393848879581998"
     },
     "user_tz": -120
    },
    "id": "64bGfnYegC-n",
    "outputId": "807c1090-6482-4c32-c8c5-2c9173c76917"
   },
   "outputs": [
    {
     "data": {
      "text/plain": [
       "tensor([[0.]])"
      ]
     },
     "execution_count": 35,
     "metadata": {},
     "output_type": "execute_result"
    }
   ],
   "source": [
    "# Manually zero the gradients after updating weights\n",
    "x.grad.data.zero_()"
   ]
  },
  {
   "cell_type": "code",
   "execution_count": 36,
   "metadata": {
    "colab": {
     "base_uri": "https://localhost:8080/"
    },
    "executionInfo": {
     "elapsed": 11187,
     "status": "ok",
     "timestamp": 1618173365864,
     "user": {
      "displayName": "Lionel Fillatre",
      "photoUrl": "",
      "userId": "14463393848879581998"
     },
     "user_tz": -120
    },
    "id": "-7XNSIw9gC-p",
    "outputId": "fbe6daa9-78a7-4893-a7b2-925c8875c237"
   },
   "outputs": [
    {
     "name": "stdout",
     "output_type": "stream",
     "text": [
      "tensor([[4.]])\n",
      "tensor([[8.]])\n",
      "tensor([[4.]])\n"
     ]
    }
   ],
   "source": [
    "out.backward(torch.ones(1,1),retain_graph=True)\n",
    "print(x.grad)\n",
    "x.grad.data.zero_()\n",
    "out.backward(2 * torch.ones(1,1),retain_graph=True)\n",
    "print(x.grad)\n",
    "x.grad.data.zero_()\n",
    "out.backward(retain_graph=True)\n",
    "print(x.grad)\n"
   ]
  },
  {
   "cell_type": "markdown",
   "metadata": {
    "id": "E-03ZcQggC-p"
   },
   "source": [
    "If you want to come back to the difference between detach and data see [Differences between .data and .detach](https://github.com/pytorch/pytorch/issues/6990)"
   ]
  },
  {
   "cell_type": "markdown",
   "metadata": {
    "id": "yTdzGEodgC-p"
   },
   "source": [
    "# Playing with a neural network in pytorch: non-linear regression"
   ]
  },
  {
   "cell_type": "markdown",
   "metadata": {
    "id": "VMoz9H5VuC5B"
   },
   "source": [
    "## Non-linear regression with a neural network"
   ]
  },
  {
   "cell_type": "markdown",
   "metadata": {
    "id": "cZsTaZ2NgC-z"
   },
   "source": [
    "An implementation of **(Batch) Gradient Descent** using the nn package. Here we have a super simple model with only one layer and no activation function!"
   ]
  },
  {
   "cell_type": "markdown",
   "metadata": {
    "id": "DDMmHyHmJfRC"
   },
   "source": [
    "Generate the dataset and visualize it."
   ]
  },
  {
   "cell_type": "code",
   "execution_count": 41,
   "metadata": {
    "colab": {
     "base_uri": "https://localhost:8080/",
     "height": 248
    },
    "executionInfo": {
     "elapsed": 11614,
     "status": "ok",
     "timestamp": 1618173366299,
     "user": {
      "displayName": "Lionel Fillatre",
      "photoUrl": "",
      "userId": "14463393848879581998"
     },
     "user_tz": -120
    },
    "id": "-mSHFwP337eD",
    "outputId": "334e25f1-58a9-4d5b-c2c4-37ce0f14bc54"
   },
   "outputs": [
    {
     "data": {
      "image/png": "[encoded data removed]",
      "text/plain": [
       "<Figure size 640x480 with 2 Axes>"
      ]
     },
     "metadata": {},
     "output_type": "display_data"
    }
   ],
   "source": [
    "from mpl_toolkits.mplot3d import Axes3D\n",
    "import matplotlib.pyplot as plt\n",
    "from matplotlib import cm\n",
    "from matplotlib.ticker import LinearLocator, FormatStrFormatter\n",
    "import numpy as np\n",
    "\n",
    "\n",
    "# Make data\n",
    "num_samples = 10\n",
    "X1 = np.linspace(-5, 5, num_samples) \n",
    "X2 = np.linspace(-5, 5, num_samples) \n",
    "X1grid, X2grid = np.meshgrid(X1, X2)\n",
    "Y = -(0.1*X1grid**2 + 3*np.sin(0.1*X2grid) + 0.1) \n",
    "\n",
    "#print(X1grid)\n",
    "#print(X2grid)\n",
    "#print(Y)\n",
    "\n",
    "# Plot the surface.\n",
    "fig = plt.figure()\n",
    "ax = fig.gca(projection='3d')\n",
    "surf = ax.plot_surface(X1grid, X2grid, Y, cmap=cm.coolwarm,\n",
    "                       linewidth=0, antialiased=False)\n",
    "\n",
    "# Add a color bar which maps values to colors.\n",
    "fig.colorbar(surf, shrink=0.5, aspect=5)\n",
    "plt.show()"
   ]
  },
  {
   "cell_type": "code",
   "execution_count": 38,
   "metadata": {
    "colab": {
     "base_uri": "https://localhost:8080/"
    },
    "executionInfo": {
     "elapsed": 11607,
     "status": "ok",
     "timestamp": 1618173366300,
     "user": {
      "displayName": "Lionel Fillatre",
      "photoUrl": "",
      "userId": "14463393848879581998"
     },
     "user_tz": -120
    },
    "id": "MMu65iQ17nPp",
    "outputId": "f23321dd-55d8-4e42-9925-94b77dfeea89"
   },
   "outputs": [
    {
     "name": "stdout",
     "output_type": "stream",
     "text": [
      "(100, 2)\n",
      "(100, 1)\n",
      "torch.Size([100, 2])\n"
     ]
    }
   ],
   "source": [
    "x1n = X1grid.ravel().reshape(-1, 1)\n",
    "x2n = X2grid.ravel().reshape(-1, 1)\n",
    "xn = np.concatenate((x1n,x2n),axis=1)\n",
    "yn = Y.ravel().reshape(-1, 1)\n",
    "#print(x1n.shape)\n",
    "#print(x2n.shape)\n",
    "print(xn.shape)\n",
    "print(yn.shape)\n",
    "\n",
    "# Convert in pytorch tensors\n",
    "x = torch.from_numpy(xn).float()\n",
    "y = torch.from_numpy(yn).float()\n",
    "#print(x)\n",
    "#print(y)\n",
    "print(x.shape)"
   ]
  },
  {
   "cell_type": "markdown",
   "metadata": {
    "id": "CkcyFiacL8fH"
   },
   "source": [
    "## Neural network with full implementation (gradient computation and estimate update)"
   ]
  },
  {
   "cell_type": "code",
   "execution_count": 39,
   "metadata": {
    "colab": {
     "base_uri": "https://localhost:8080/"
    },
    "executionInfo": {
     "elapsed": 14388,
     "status": "ok",
     "timestamp": 1618173369090,
     "user": {
      "displayName": "Lionel Fillatre",
      "photoUrl": "",
      "userId": "14463393848879581998"
     },
     "user_tz": -120
    },
    "id": "T4se-BEixM3Z",
    "outputId": "b136e365-614f-4e0f-f33d-5a8e38516a3e"
   },
   "outputs": [
    {
     "name": "stdout",
     "output_type": "stream",
     "text": [
      "0 158007.015625\n",
      "1000 38.08048629760742\n",
      "2000 16.992416381835938\n",
      "3000 11.937533378601074\n",
      "4000 10.042388916015625\n",
      "5000 9.07287311553955\n",
      "6000 8.521681785583496\n",
      "7000 8.13477611541748\n",
      "8000 7.843177795410156\n",
      "9000 7.61266565322876\n",
      "10000 7.424705505371094\n"
     ]
    }
   ],
   "source": [
    "import torch\n",
    "\n",
    "dtype = torch.float\n",
    "\n",
    "\n",
    "# N is batch size; D_in is input dimension;\n",
    "# H is hidden dimension; D_out is output dimension.\n",
    "N, D_in, H, D_out = num_samples**2, 2, 100, 1\n",
    "\n",
    "# Randomly initialize weights\n",
    "w1 = torch.randn(D_in, H, dtype=dtype)\n",
    "w2 = torch.randn(H, D_out,  dtype=dtype)\n",
    "\n",
    "learning_rate = 1e-6 \n",
    "for t in range(10001):\n",
    "    # Forward pass: compute predicted y\n",
    "    h = x.mm(w1)\n",
    "    \n",
    "    h_relu = h.clamp(min=0)\n",
    "    y_pred = h_relu.mm(w2)\n",
    "    #print(y_pred)\n",
    "\n",
    "    # Compute and print loss\n",
    "    loss = (y_pred - y).pow(2).sum().item()\n",
    "    if t % 1000 == 0:\n",
    "        print(t, loss)\n",
    "\n",
    "    # Backprop to compute gradients of w1 and w2 with respect to loss\n",
    "    grad_y_pred = 2.0 * (y_pred - y)\n",
    "    grad_w2 = h_relu.t().mm(grad_y_pred)\n",
    "    grad_h_relu = grad_y_pred.mm(w2.t())\n",
    "    grad_h = grad_h_relu.clone()\n",
    "    grad_h[h < 0] = 0\n",
    "    grad_w1 = x.t().mm(grad_h)\n",
    "\n",
    "    # Update weights using gradient descent\n",
    "    w1 -= learning_rate * grad_w1\n",
    "    w2 -= learning_rate * grad_w2"
   ]
  },
  {
   "cell_type": "markdown",
   "metadata": {
    "id": "xhipoBZvJJz7"
   },
   "source": [
    "Compare the first values"
   ]
  },
  {
   "cell_type": "code",
   "execution_count": 41,
   "metadata": {
    "colab": {
     "base_uri": "https://localhost:8080/"
    },
    "executionInfo": {
     "elapsed": 14382,
     "status": "ok",
     "timestamp": 1618173369091,
     "user": {
      "displayName": "Lionel Fillatre",
      "photoUrl": "",
      "userId": "14463393848879581998"
     },
     "user_tz": -120
    },
    "id": "RDBc5npAAHzN",
    "outputId": "31605fc6-af92-4088-8e4d-1c489d490d5d"
   },
   "outputs": [
    {
     "name": "stdout",
     "output_type": "stream",
     "text": [
      "tensor([[-1.1617],\n",
      "        [-0.1741],\n",
      "        [ 0.5667],\n",
      "        [ 1.0605],\n",
      "        [ 1.3074]])\n",
      "tensor([[-0.7098],\n",
      "        [ 0.0103],\n",
      "        [ 0.4933],\n",
      "        [ 1.2329],\n",
      "        [ 1.4168]])\n"
     ]
    }
   ],
   "source": [
    "print(y[0:5])\n",
    "print(y_pred[0:5])"
   ]
  },
  {
   "cell_type": "markdown",
   "metadata": {
    "id": "xA3rUb9XIhCc"
   },
   "source": [
    "Plot the approximation in 1D"
   ]
  },
  {
   "cell_type": "code",
   "execution_count": 43,
   "metadata": {
    "executionInfo": {
     "elapsed": 14381,
     "status": "ok",
     "timestamp": 1618173369092,
     "user": {
      "displayName": "Lionel Fillatre",
      "photoUrl": "",
      "userId": "14463393848879581998"
     },
     "user_tz": -120
    },
    "id": "q2rQUIq1OiiH"
   },
   "outputs": [],
   "source": [
    "def plotApproximation(y,y_pred):\n",
    "  plt.figure(figsize=(6, 4))\n",
    "  plt.plot(y.detach().numpy(),'b-')\n",
    "  plt.plot(y_pred.detach().numpy(),'r-*')\n",
    "  plt.xlabel('$x$')\n",
    "  plt.ylabel('$y$')\n",
    "  plt.title('Approximation with the neural network')\n",
    "  plt.show()"
   ]
  },
  {
   "cell_type": "code",
   "execution_count": 44,
   "metadata": {
    "colab": {
     "base_uri": "https://localhost:8080/",
     "height": 295
    },
    "executionInfo": {
     "elapsed": 14749,
     "status": "ok",
     "timestamp": 1618173369469,
     "user": {
      "displayName": "Lionel Fillatre",
      "photoUrl": "",
      "userId": "14463393848879581998"
     },
     "user_tz": -120
    },
    "id": "ibZbvbe3Otom",
    "outputId": "735fc538-42ee-4a35-e718-1e8963e7d2d1"
   },
   "outputs": [
    {
     "data": {
      "image/png": "[encoded data removed]",
      "text/plain": [
       "<Figure size 600x400 with 1 Axes>"
      ]
     },
     "metadata": {},
     "output_type": "display_data"
    }
   ],
   "source": [
    "plotApproximation(y,y_pred)"
   ]
  },
  {
   "cell_type": "code",
   "execution_count": 45,
   "metadata": {
    "colab": {
     "base_uri": "https://localhost:8080/",
     "height": 295
    },
    "executionInfo": {
     "elapsed": 15143,
     "status": "ok",
     "timestamp": 1618173369871,
     "user": {
      "displayName": "Lionel Fillatre",
      "photoUrl": "",
      "userId": "14463393848879581998"
     },
     "user_tz": -120
    },
    "id": "VzSSkdQq0sXr",
    "outputId": "7f554a27-d1d5-4e79-aee1-5bf5b47d6e0f"
   },
   "outputs": [
    {
     "data": {
      "image/png": "[encoded data removed]",
      "text/plain": [
       "<Figure size 600x400 with 1 Axes>"
      ]
     },
     "metadata": {},
     "output_type": "display_data"
    }
   ],
   "source": [
    "plt.figure(figsize=(6, 4))\n",
    "plt.plot(y.numpy()-y_pred.numpy())\n",
    "plt.title('Residuals')\n",
    "plt.xlabel('$x$')\n",
    "plt.ylabel('$y-\\hat{y}$')\n",
    "plt.show()"
   ]
  },
  {
   "cell_type": "markdown",
   "metadata": {
    "id": "Fqw-HzS5gC-0"
   },
   "source": [
    "Last step, we use directly the optim package to update the weights and bias."
   ]
  },
  {
   "cell_type": "markdown",
   "metadata": {
    "id": "cKkd4LMWvX93"
   },
   "source": [
    "## Neural network with automatic gradient computation (but still the explicit estimate update)\n",
    "\n",
    "\n",
    "A fully-connected ReLU network with one hidden layer, trained to predict y from x\n",
    "by minimizing squared Euclidean distance.\n",
    "\n",
    "This implementation uses the nn package from PyTorch to build the network.\n",
    "PyTorch autograd makes it easy to define computational graphs and take gradients,\n",
    "but raw autograd can be a bit too low-level for defining complex neural networks;\n",
    "this is where the nn package can help. The nn package defines a set of Modules,\n",
    "which you can think of as a neural network layer that has produces output from\n",
    "input and may have some trainable weights."
   ]
  },
  {
   "cell_type": "markdown",
   "metadata": {
    "id": "9aqqho33M21_"
   },
   "source": [
    "### Question: use autograd to compute the gradient. You can start from the full implementation of the neural network."
   ]
  },
  {
   "cell_type": "code",
   "execution_count": 45,
   "metadata": {
    "colab": {
     "base_uri": "https://localhost:8080/"
    },
    "executionInfo": {
     "elapsed": 19994,
     "status": "ok",
     "timestamp": 1618173374731,
     "user": {
      "displayName": "Lionel Fillatre",
      "photoUrl": "",
      "userId": "14463393848879581998"
     },
     "user_tz": -120
    },
    "id": "9gm8w-aJvb0f",
    "outputId": "18f9fe57-1a75-41ef-b0d4-82131c599871"
   },
   "outputs": [
    {
     "name": "stdout",
     "output_type": "stream",
     "text": [
      "0 537.333740234375\n",
      "1000 22.434322357177734\n",
      "2000 11.521238327026367\n",
      "3000 8.246954917907715\n",
      "4000 6.870781898498535\n",
      "5000 6.048308849334717\n",
      "6000 5.44930362701416\n",
      "7000 4.979558944702148\n",
      "8000 4.601644515991211\n",
      "9000 4.294413089752197\n",
      "10000 4.042839527130127\n"
     ]
    }
   ],
   "source": [
    "import torch\n",
    "\n",
    "# N is batch size; D_in is input dimension;\n",
    "# H is hidden dimension; D_out is output dimension.\n",
    "N, D_in, H, D_out = num_samples**2, 2, 100, 1\n",
    "\n",
    "# Use the nn package to define our model as a sequence of layers. nn.Sequential\n",
    "# is a Module which contains other Modules, and applies them in sequence to\n",
    "# produce its output. Each Linear Module computes output from input using a\n",
    "# linear function, and holds internal Tensors for its weight and bias.\n",
    "model = torch.nn.Sequential(\n",
    "    torch.nn.Linear(D_in, H),\n",
    "    torch.nn.ReLU(),\n",
    "    torch.nn.Linear(H, D_out),\n",
    ")\n",
    "\n",
    "# The nn package also contains definitions of popular loss functions; in this\n",
    "# case we will use Mean Squared Error (MSE) as our loss function.\n",
    "loss_fn = torch.nn.MSELoss(reduction='sum')\n",
    "\n",
    "learning_rate = 1e-6\n",
    "for t in range(10001):\n",
    "    # Forward pass: compute predicted y by passing x to the model. Module objects\n",
    "    # override the __call__ operator so you can call them like functions. When\n",
    "    # doing so you pass a Tensor of input data to the Module and it produces\n",
    "    # a Tensor of output data.\n",
    "    y_pred = model(x)\n",
    "\n",
    "    # Compute and print loss. We pass Tensors containing the predicted and true\n",
    "    # values of y, and the loss function returns a Tensor containing the\n",
    "    # loss.\n",
    "    loss = loss_fn(y_pred, y)\n",
    "    if t % 1000 == 0:\n",
    "        print(t, loss.item())\n",
    "\n",
    "    # Zero the gradients before running the backward pass.\n",
    "    model.zero_grad()\n",
    "\n",
    "    # Backward pass: compute gradient of the loss with respect to all the learnable\n",
    "    # parameters of the model. Internally, the parameters of each Module are stored\n",
    "    # in Tensors with requires_grad=True, so this call will compute gradients for\n",
    "    # all learnable parameters in the model.\n",
    "    loss.backward()\n",
    "\n",
    "    # Update the weights using gradient descent. Each parameter is a Tensor, so\n",
    "    # we can access its gradients like we did before.\n",
    "    with torch.no_grad():\n",
    "        for param in model.parameters():\n",
    "            param -= learning_rate * param.grad"
   ]
  },
  {
   "cell_type": "code",
   "execution_count": 46,
   "metadata": {
    "colab": {
     "base_uri": "https://localhost:8080/",
     "height": 295
    },
    "executionInfo": {
     "elapsed": 20467,
     "status": "ok",
     "timestamp": 1618173375212,
     "user": {
      "displayName": "Lionel Fillatre",
      "photoUrl": "",
      "userId": "14463393848879581998"
     },
     "user_tz": -120
    },
    "id": "j828Mw1pO_H1",
    "outputId": "4c82976b-bdf2-4f13-820d-7e8f3c9cd95b"
   },
   "outputs": [
    {
     "data": {
      "image/png": "[encoded data removed]",
      "text/plain": [
       "<Figure size 432x288 with 1 Axes>"
      ]
     },
     "metadata": {
      "needs_background": "light",
      "tags": []
     },
     "output_type": "display_data"
    }
   ],
   "source": [
    "plotApproximation(y,y_pred)"
   ]
  },
  {
   "cell_type": "markdown",
   "metadata": {
    "id": "xOJBAjFAMc63"
   },
   "source": [
    "## Neural network with automatic gradient computation and automatic estimate update\n",
    "\n",
    "A fully-connected ReLU network with one hidden layer, trained to predict y from x\n",
    "by minimizing squared Euclidean distance.\n",
    "\n",
    "This implementation uses the nn package from PyTorch to build the network.\n",
    "\n",
    "Rather than manually updating the weights of the model as we have been doing,\n",
    "we use the optim package to define an Optimizer that will update the weights\n",
    "for us. The optim package defines many optimization algorithms that are commonly\n",
    "used for deep learning, including SGD+momentum, RMSProp, Adam, etc."
   ]
  },
  {
   "cell_type": "markdown",
   "metadata": {
    "id": "auFqUkCrNJPx"
   },
   "source": [
    "### Question: use the Torch optimizer to do the gradient descent. You can start from the full implementation of the neural network with automatic differentiation.\n",
    "\n",
    "Details on Optimizer are [here](https://pytorch.org/docs/stable/optim.html)"
   ]
  },
  {
   "cell_type": "code",
   "execution_count": 47,
   "metadata": {
    "colab": {
     "base_uri": "https://localhost:8080/"
    },
    "executionInfo": {
     "elapsed": 25385,
     "status": "ok",
     "timestamp": 1618173380139,
     "user": {
      "displayName": "Lionel Fillatre",
      "photoUrl": "",
      "userId": "14463393848879581998"
     },
     "user_tz": -120
    },
    "id": "9dRfOhN3vnQN",
    "outputId": "cf39219b-3b86-4ebf-807b-87bf1c954633"
   },
   "outputs": [
    {
     "name": "stdout",
     "output_type": "stream",
     "text": [
      "0 126.45037841796875\n",
      "1000 15.572267532348633\n",
      "2000 8.55385971069336\n",
      "3000 6.226253032684326\n",
      "4000 5.237213134765625\n",
      "5000 4.670036315917969\n",
      "6000 4.2701497077941895\n",
      "7000 3.960371494293213\n",
      "8000 3.7117037773132324\n",
      "9000 3.5089428424835205\n",
      "10000 3.3426308631896973\n"
     ]
    }
   ],
   "source": [
    "import torch\n",
    "\n",
    "# N is batch size; D_in is input dimension;\n",
    "# H is hidden dimension; D_out is output dimension.\n",
    "N, D_in, H, D_out = num_samples**2, 2, 100, 1\n",
    "\n",
    "# Use the nn package to define our model and loss function.\n",
    "model = torch.nn.Sequential(\n",
    "    torch.nn.Linear(D_in, H),\n",
    "    torch.nn.ReLU(),\n",
    "    torch.nn.Linear(H, D_out),\n",
    ")\n",
    "loss_fn = torch.nn.MSELoss(reduction='sum')\n",
    "\n",
    "# Use the optim package to define an Optimizer that will update the weights of\n",
    "# the model for us. Here we will use Adam; the optim package contains many other\n",
    "# optimization algoriths. The first argument to the Adam constructor tells the\n",
    "# optimizer which Tensors it should update.\n",
    "learning_rate = 1e-6\n",
    "#optimizer = torch.optim.Adam(model.parameters(), lr=learning_rate)\n",
    "optimizer = torch.optim.SGD(model.parameters(), lr=learning_rate)\n",
    "for t in range(10001):\n",
    "    # Forward pass: compute predicted y by passing x to the model.\n",
    "    y_pred = model(x)\n",
    "\n",
    "    # Compute and print loss.\n",
    "    loss = loss_fn(y_pred, y)\n",
    "    if t % 1000 == 0:\n",
    "        print(t, loss.item())\n",
    "\n",
    "    # Before the backward pass, use the optimizer object to zero all of the\n",
    "    # gradients for the variables it will update (which are the learnable\n",
    "    # weights of the model). This is because by default, gradients are\n",
    "    # accumulated in buffers( i.e, not overwritten) whenever .backward()\n",
    "    # is called. Checkout docs of torch.autograd.backward for more details.\n",
    "    optimizer.zero_grad()\n",
    "\n",
    "    # Backward pass: compute gradient of the loss with respect to model\n",
    "    # parameters\n",
    "    loss.backward()\n",
    "\n",
    "    # Calling the step function on an Optimizer makes an update to its\n",
    "    # parameters\n",
    "    optimizer.step()"
   ]
  },
  {
   "cell_type": "code",
   "execution_count": 48,
   "metadata": {
    "colab": {
     "base_uri": "https://localhost:8080/",
     "height": 295
    },
    "executionInfo": {
     "elapsed": 25922,
     "status": "ok",
     "timestamp": 1618173380683,
     "user": {
      "displayName": "Lionel Fillatre",
      "photoUrl": "",
      "userId": "14463393848879581998"
     },
     "user_tz": -120
    },
    "id": "l3wESBOnPAzx",
    "outputId": "3ba13a4d-20b1-4e58-ad24-d089a3d6af67"
   },
   "outputs": [
    {
     "data": {
      "image/png": "[encoded data removed]",
      "text/plain": [
       "<Figure size 432x288 with 1 Axes>"
      ]
     },
     "metadata": {
      "needs_background": "light",
      "tags": []
     },
     "output_type": "display_data"
    }
   ],
   "source": [
    "plotApproximation(y,y_pred)"
   ]
  }
 ],
 "metadata": {
  "colab": {
   "collapsed_sections": [],
   "name": "DSTI_DL_Lab2_April2021_solution.ipynb",
   "provenance": [
    {
     "file_id": "1PVRPOeJYXYLFJik1D0klJ2djFnMzdA9L",
     "timestamp": 1584786080144
    },
    {
     "file_id": "1Oqqv39a5LSa4dzWn4XMmEdONAloY4ASC",
     "timestamp": 1570979627787
    },
    {
     "file_id": "1KOuMuh8RKiWRk9jswod-tvc9lGFTJS2T",
     "timestamp": 1570367072773
    }
   ],
   "toc_visible": true
  },
  "kernelspec": {
   "display_name": "Python 3",
   "language": "python",
   "name": "python3"
  },
  "language_info": {
   "codemirror_mode": {
    "name": "ipython",
    "version": 3
   },
   "file_extension": ".py",
   "mimetype": "text/x-python",
   "name": "python",
   "nbconvert_exporter": "python",
   "pygments_lexer": "ipython3",
   "version": "3.8.3"
  }
 },
 "nbformat": 4,
 "nbformat_minor": 4
}
