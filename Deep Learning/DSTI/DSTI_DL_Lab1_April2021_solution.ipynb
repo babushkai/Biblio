{
 "cells": [
  {
   "cell_type": "markdown",
   "metadata": {
    "id": "mYjIe2Y5gC9e"
   },
   "source": [
    "# Torch basics"
   ]
  },
  {
   "cell_type": "code",
   "execution_count": null,
   "metadata": {
    "id": "Hh6cps5cgC9g"
   },
   "outputs": [],
   "source": [
    "import matplotlib.pyplot as plt\n",
    "%matplotlib inline\n",
    "import torch\n",
    "import numpy as np"
   ]
  },
  {
   "cell_type": "code",
   "execution_count": null,
   "metadata": {
    "colab": {
     "base_uri": "https://localhost:8080/",
     "height": 35
    },
    "executionInfo": {
     "elapsed": 991,
     "status": "ok",
     "timestamp": 1618173022834,
     "user": {
      "displayName": "Lionel Fillatre",
      "photoUrl": "",
      "userId": "14463393848879581998"
     },
     "user_tz": -120
    },
    "id": "Pe1KgPFqgC9m",
    "outputId": "98fe74f1-019c-4516-89bd-943a2e9099e4"
   },
   "outputs": [
    {
     "data": {
      "application/vnd.google.colaboratory.intrinsic+json": {
       "type": "string"
      },
      "text/plain": [
       "'1.8.1+cu101'"
      ]
     },
     "execution_count": 159,
     "metadata": {
      "tags": []
     },
     "output_type": "execute_result"
    }
   ],
   "source": [
    "torch.__version__"
   ]
  },
  {
   "cell_type": "markdown",
   "metadata": {
    "id": "lMn2UjdXgC9r"
   },
   "source": [
    "Largely inspired from the tutorial [What is PyTorch?](https://pytorch.org/tutorials/beginner/former_torchies/tensor_tutorial.html)\n",
    "\n",
    "Tensors are used to encode the signal to process, but also the internal states and parameters of models.\n",
    "\n",
    "Manipulating data through this constrained structure allows to use CPUs and GPUs at peak performance.\n",
    "\n"
   ]
  },
  {
   "cell_type": "markdown",
   "metadata": {
    "id": "loUAlh7dyVpN"
   },
   "source": [
    "## Tensors"
   ]
  },
  {
   "cell_type": "markdown",
   "metadata": {
    "id": "hlUFi857xt6Q"
   },
   "source": [
    "Construct a 3x5 matrix, uninitialized:"
   ]
  },
  {
   "cell_type": "code",
   "execution_count": null,
   "metadata": {
    "id": "2kLcNt8IgC9r"
   },
   "outputs": [],
   "source": [
    "# Sets the default floating point dtype. \n",
    "# This type will be used as default floating point type for type inference in torch.tensor().\n",
    "torch.set_default_tensor_type('torch.FloatTensor') "
   ]
  },
  {
   "cell_type": "code",
   "execution_count": null,
   "metadata": {
    "colab": {
     "base_uri": "https://localhost:8080/"
    },
    "executionInfo": {
     "elapsed": 979,
     "status": "ok",
     "timestamp": 1618173022835,
     "user": {
      "displayName": "Lionel Fillatre",
      "photoUrl": "",
      "userId": "14463393848879581998"
     },
     "user_tz": -120
    },
    "id": "RjUhHCJMgC9u",
    "outputId": "1e57c384-08ad-4d71-d082-4c7bd2e35a9d"
   },
   "outputs": [
    {
     "name": "stdout",
     "output_type": "stream",
     "text": [
      "torch.FloatTensor\n",
      "tensor([[7.0324e-01, 3.0824e-41, 3.3631e-44, 0.0000e+00,        nan],\n",
      "        [0.0000e+00, 4.4721e+21, 1.5956e+25, 4.7399e+16, 2.3308e-09],\n",
      "        [7.9770e+17, 4.9072e-14, 0.0000e+00, 0.0000e+00, 0.0000e+00]])\n"
     ]
    }
   ],
   "source": [
    "x = torch.empty(3,5)\n",
    "print(x.type())\n",
    "print(x)"
   ]
  },
  {
   "cell_type": "code",
   "execution_count": null,
   "metadata": {
    "colab": {
     "base_uri": "https://localhost:8080/"
    },
    "executionInfo": {
     "elapsed": 972,
     "status": "ok",
     "timestamp": 1618173022835,
     "user": {
      "displayName": "Lionel Fillatre",
      "photoUrl": "",
      "userId": "14463393848879581998"
     },
     "user_tz": -120
    },
    "id": "MnRsrLh5gC9w",
    "outputId": "34c48291-2ad4-4f04-e0dd-b52c20fffed6"
   },
   "outputs": [
    {
     "name": "stdout",
     "output_type": "stream",
     "text": [
      "tensor([[ 0.2028, -0.1889,  0.8648,  1.0850,  0.5657],\n",
      "        [-2.0657,  0.3131, -0.2730,  0.6710,  1.2851],\n",
      "        [-1.1133, -0.1020, -0.1863,  0.2814, -0.0338]])\n"
     ]
    }
   ],
   "source": [
    "x = torch.randn(3,5)\n",
    "print(x)"
   ]
  },
  {
   "cell_type": "code",
   "execution_count": null,
   "metadata": {
    "colab": {
     "base_uri": "https://localhost:8080/"
    },
    "executionInfo": {
     "elapsed": 964,
     "status": "ok",
     "timestamp": 1618173022836,
     "user": {
      "displayName": "Lionel Fillatre",
      "photoUrl": "",
      "userId": "14463393848879581998"
     },
     "user_tz": -120
    },
    "id": "lfgpO7kUgC9z",
    "outputId": "fff3b873-976a-4bd7-ff05-6183b8220820"
   },
   "outputs": [
    {
     "name": "stdout",
     "output_type": "stream",
     "text": [
      "torch.Size([3, 5])\n"
     ]
    }
   ],
   "source": [
    "print(x.size())"
   ]
  },
  {
   "cell_type": "markdown",
   "metadata": {
    "id": "NNLzvVKigC92"
   },
   "source": [
    "torch.Size is in fact a [tuple](https://docs.python.org/3/tutorial/datastructures.html#tuples-and-sequences), so it supports the same operations."
   ]
  },
  {
   "cell_type": "code",
   "execution_count": null,
   "metadata": {
    "colab": {
     "base_uri": "https://localhost:8080/"
    },
    "executionInfo": {
     "elapsed": 956,
     "status": "ok",
     "timestamp": 1618173022837,
     "user": {
      "displayName": "Lionel Fillatre",
      "photoUrl": "",
      "userId": "14463393848879581998"
     },
     "user_tz": -120
    },
    "id": "W-o3sFH3gC92",
    "outputId": "2ba1badc-852c-4b2d-d9ac-b4fdbfd82233"
   },
   "outputs": [
    {
     "data": {
      "text/plain": [
       "5"
      ]
     },
     "execution_count": 164,
     "metadata": {
      "tags": []
     },
     "output_type": "execute_result"
    }
   ],
   "source": [
    "x.size()[1]"
   ]
  },
  {
   "cell_type": "code",
   "execution_count": null,
   "metadata": {
    "colab": {
     "base_uri": "https://localhost:8080/"
    },
    "executionInfo": {
     "elapsed": 947,
     "status": "ok",
     "timestamp": 1618173022837,
     "user": {
      "displayName": "Lionel Fillatre",
      "photoUrl": "",
      "userId": "14463393848879581998"
     },
     "user_tz": -120
    },
    "id": "LkQAasgtgC95",
    "outputId": "5ae23849-68fe-49ff-9452-8da4e155a82e"
   },
   "outputs": [
    {
     "data": {
      "text/plain": [
       "True"
      ]
     },
     "execution_count": 165,
     "metadata": {
      "tags": []
     },
     "output_type": "execute_result"
    }
   ],
   "source": [
    "x.size() == (3,5)"
   ]
  },
  {
   "cell_type": "markdown",
   "metadata": {
    "id": "GDufwT0Kstxv"
   },
   "source": [
    "Importance of the brackets when defining a tensor"
   ]
  },
  {
   "cell_type": "code",
   "execution_count": null,
   "metadata": {
    "colab": {
     "base_uri": "https://localhost:8080/"
    },
    "executionInfo": {
     "elapsed": 941,
     "status": "ok",
     "timestamp": 1618173022839,
     "user": {
      "displayName": "Lionel Fillatre",
      "photoUrl": "",
      "userId": "14463393848879581998"
     },
     "user_tz": -120
    },
    "id": "wa9IPaaqsaPg",
    "outputId": "60a95c36-c384-41b6-f473-bddfedf07a1d"
   },
   "outputs": [
    {
     "name": "stdout",
     "output_type": "stream",
     "text": [
      "<class 'torch.Tensor'>\n",
      "torch.float32\n",
      "torch.Size([1])\n",
      "<class 'torch.Tensor'>\n",
      "torch.float32\n",
      "torch.Size([])\n"
     ]
    }
   ],
   "source": [
    "a = torch.tensor([2.0])\n",
    "print(type(a))\n",
    "print(a.dtype)\n",
    "print(a.size())\n",
    "\n",
    "b = torch.tensor(2.0)\n",
    "print(type(b))\n",
    "print(b.dtype)\n",
    "print(b.size())"
   ]
  },
  {
   "cell_type": "markdown",
   "metadata": {
    "id": "XeAg1TcMhyf4"
   },
   "source": [
    "Select some columns"
   ]
  },
  {
   "cell_type": "code",
   "execution_count": null,
   "metadata": {
    "colab": {
     "base_uri": "https://localhost:8080/"
    },
    "executionInfo": {
     "elapsed": 934,
     "status": "ok",
     "timestamp": 1618173022840,
     "user": {
      "displayName": "Lionel Fillatre",
      "photoUrl": "",
      "userId": "14463393848879581998"
     },
     "user_tz": -120
    },
    "id": "DZaC-fXlgY6G",
    "outputId": "b0144ca1-8a7b-4820-864d-b5e16281c5c9"
   },
   "outputs": [
    {
     "name": "stdout",
     "output_type": "stream",
     "text": [
      "tensor([False, False, False, False, False])\n",
      "tensor([False,  True, False, False,  True])\n",
      "tensor([[-0.1889,  0.5657],\n",
      "        [ 0.3131,  1.2851],\n",
      "        [-0.1020, -0.0338]])\n"
     ]
    }
   ],
   "source": [
    "cols = torch.zeros(5, dtype=torch.bool)\n",
    "print(cols)\n",
    "cols[1] = True\n",
    "cols[4] = True\n",
    "print(cols)\n",
    "c = x[:, cols]  # selects all rows, 4th column and  5th column from a\n",
    "print(c)"
   ]
  },
  {
   "cell_type": "markdown",
   "metadata": {
    "id": "t9v3syrRf-13"
   },
   "source": [
    "All operations on the tensor that operate in-place on it will have an _ postfix. "
   ]
  },
  {
   "cell_type": "code",
   "execution_count": null,
   "metadata": {
    "colab": {
     "base_uri": "https://localhost:8080/"
    },
    "executionInfo": {
     "elapsed": 926,
     "status": "ok",
     "timestamp": 1618173022841,
     "user": {
      "displayName": "Lionel Fillatre",
      "photoUrl": "",
      "userId": "14463393848879581998"
     },
     "user_tz": -120
    },
    "id": "zr3PP5oVf1SV",
    "outputId": "59ac4ef9-a9c8-4ca1-c41e-5c3c7bfaf7df"
   },
   "outputs": [
    {
     "name": "stdout",
     "output_type": "stream",
     "text": [
      "tensor([[3.5000, 3.5000, 3.5000, 3.5000, 3.5000],\n",
      "        [3.5000, 3.5000, 3.5000, 3.5000, 3.5000],\n",
      "        [3.5000, 3.5000, 3.5000, 3.5000, 3.5000]])\n"
     ]
    }
   ],
   "source": [
    "# x will be filled with the value 3.5\n",
    "x.fill_(3.5)\n",
    "print(x)"
   ]
  },
  {
   "cell_type": "markdown",
   "metadata": {
    "id": "SXPtlUXsgC96"
   },
   "source": [
    "## Bridge to numpy"
   ]
  },
  {
   "cell_type": "code",
   "execution_count": null,
   "metadata": {
    "colab": {
     "base_uri": "https://localhost:8080/"
    },
    "executionInfo": {
     "elapsed": 918,
     "status": "ok",
     "timestamp": 1618173022841,
     "user": {
      "displayName": "Lionel Fillatre",
      "photoUrl": "",
      "userId": "14463393848879581998"
     },
     "user_tz": -120
    },
    "id": "61srdUzCgC97",
    "outputId": "04ca5cc6-6da9-4813-8fc5-9f1e992b198a"
   },
   "outputs": [
    {
     "name": "stdout",
     "output_type": "stream",
     "text": [
      "[[3.5 3.5 3.5 3.5 3.5]\n",
      " [3.5 3.5 3.5 3.5 3.5]\n",
      " [3.5 3.5 3.5 3.5 3.5]]\n"
     ]
    }
   ],
   "source": [
    "y = x.numpy()\n",
    "print(y)"
   ]
  },
  {
   "cell_type": "code",
   "execution_count": null,
   "metadata": {
    "colab": {
     "base_uri": "https://localhost:8080/"
    },
    "executionInfo": {
     "elapsed": 912,
     "status": "ok",
     "timestamp": 1618173022843,
     "user": {
      "displayName": "Lionel Fillatre",
      "photoUrl": "",
      "userId": "14463393848879581998"
     },
     "user_tz": -120
    },
    "id": "tFv5BzYsgC99",
    "outputId": "611365c0-cabb-4060-824b-6a2f2e01bb92"
   },
   "outputs": [
    {
     "name": "stdout",
     "output_type": "stream",
     "text": [
      "tensor([1., 1., 1., 1., 1.], dtype=torch.float64)\n"
     ]
    }
   ],
   "source": [
    "a = np.ones(5)\n",
    "b = torch.from_numpy(a)\n",
    "print(b)\n",
    " "
   ]
  },
  {
   "cell_type": "code",
   "execution_count": null,
   "metadata": {
    "colab": {
     "base_uri": "https://localhost:8080/"
    },
    "executionInfo": {
     "elapsed": 905,
     "status": "ok",
     "timestamp": 1618173022844,
     "user": {
      "displayName": "Lionel Fillatre",
      "photoUrl": "",
      "userId": "14463393848879581998"
     },
     "user_tz": -120
    },
    "id": "lfpk2tfpgC9-",
    "outputId": "87d69b8b-ad57-434b-cc4b-6aa3eb7edb36"
   },
   "outputs": [
    {
     "name": "stdout",
     "output_type": "stream",
     "text": [
      "tensor([[ 1.3512,  0.2815,  0.7301,  1.9304,  1.0339],\n",
      "        [ 0.0386,  0.1774,  0.7193, -0.4664,  1.1719],\n",
      "        [ 0.5175,  2.5771, -0.6884,  1.1131, -0.7516]])\n",
      "tensor([1, 1, 1, 1, 1])\n"
     ]
    }
   ],
   "source": [
    "xr = torch.randn(3, 5)\n",
    "a = np.ones(5).astype(int)\n",
    "b = torch.from_numpy(a)\n",
    "print(xr)\n",
    "print(b)"
   ]
  },
  {
   "cell_type": "markdown",
   "metadata": {
    "id": "C6sKTTlZ0RmP"
   },
   "source": [
    "### Question: print the type of the content (data) of variables a, b and xr"
   ]
  },
  {
   "cell_type": "code",
   "execution_count": null,
   "metadata": {
    "colab": {
     "base_uri": "https://localhost:8080/"
    },
    "executionInfo": {
     "elapsed": 897,
     "status": "ok",
     "timestamp": 1618173022844,
     "user": {
      "displayName": "Lionel Fillatre",
      "photoUrl": "",
      "userId": "14463393848879581998"
     },
     "user_tz": -120
    },
    "id": "k07dBWLRxARt",
    "outputId": "281471a7-f161-45a6-a57c-a1f5368d3c6f"
   },
   "outputs": [
    {
     "name": "stdout",
     "output_type": "stream",
     "text": [
      "int64\n",
      "torch.int64\n",
      "torch.float32\n"
     ]
    }
   ],
   "source": [
    "print(a.dtype) # Array or tensor data type\n",
    "print(b.dtype)\n",
    "print(xr.dtype)"
   ]
  },
  {
   "cell_type": "markdown",
   "metadata": {
    "id": "7fwWdAYjUuiN"
   },
   "source": [
    "## Operations\n",
    "\n",
    "There are multiple syntaxes for operations. In the following\n",
    "example, we will take a look at the addition operation.\n",
    "\n",
    "Addition: syntax 1"
   ]
  },
  {
   "cell_type": "code",
   "execution_count": null,
   "metadata": {
    "colab": {
     "base_uri": "https://localhost:8080/"
    },
    "executionInfo": {
     "elapsed": 890,
     "status": "ok",
     "timestamp": 1618173022845,
     "user": {
      "displayName": "Lionel Fillatre",
      "photoUrl": "",
      "userId": "14463393848879581998"
     },
     "user_tz": -120
    },
    "id": "4iASmmTAUxG0",
    "outputId": "409a08fa-b711-4a0a-c5a5-0abcabc3aaf9"
   },
   "outputs": [
    {
     "name": "stdout",
     "output_type": "stream",
     "text": [
      "tensor([[1.1414, 0.9489, 1.6905],\n",
      "        [0.4772, 0.8775, 1.3691],\n",
      "        [1.3758, 0.9262, 1.8257],\n",
      "        [1.0144, 1.7194, 1.7117],\n",
      "        [1.4982, 0.4327, 1.6680]])\n"
     ]
    }
   ],
   "source": [
    "x = torch.rand(5, 3) \n",
    "y = torch.rand(5, 3)\n",
    "print(x + y)"
   ]
  },
  {
   "cell_type": "markdown",
   "metadata": {
    "id": "H5NxjdPhVQP8"
   },
   "source": [
    "Addition: syntax 2"
   ]
  },
  {
   "cell_type": "code",
   "execution_count": null,
   "metadata": {
    "colab": {
     "base_uri": "https://localhost:8080/"
    },
    "executionInfo": {
     "elapsed": 883,
     "status": "ok",
     "timestamp": 1618173022846,
     "user": {
      "displayName": "Lionel Fillatre",
      "photoUrl": "",
      "userId": "14463393848879581998"
     },
     "user_tz": -120
    },
    "id": "GwCo8DOcVRHq",
    "outputId": "b0cfcddd-8d60-4e0d-c1ae-8c5161f4ba82"
   },
   "outputs": [
    {
     "name": "stdout",
     "output_type": "stream",
     "text": [
      "tensor([[1.1414, 0.9489, 1.6905],\n",
      "        [0.4772, 0.8775, 1.3691],\n",
      "        [1.3758, 0.9262, 1.8257],\n",
      "        [1.0144, 1.7194, 1.7117],\n",
      "        [1.4982, 0.4327, 1.6680]])\n"
     ]
    }
   ],
   "source": [
    "print(torch.add(x, y))"
   ]
  },
  {
   "cell_type": "markdown",
   "metadata": {
    "id": "wNuL3H61VZvS"
   },
   "source": [
    "Addition: providing an output tensor as argument"
   ]
  },
  {
   "cell_type": "code",
   "execution_count": null,
   "metadata": {
    "colab": {
     "base_uri": "https://localhost:8080/"
    },
    "executionInfo": {
     "elapsed": 1062,
     "status": "ok",
     "timestamp": 1618173023034,
     "user": {
      "displayName": "Lionel Fillatre",
      "photoUrl": "",
      "userId": "14463393848879581998"
     },
     "user_tz": -120
    },
    "id": "hX1ffSunVail",
    "outputId": "2965cdf2-9e07-4e2b-81ee-1891e5c9131b"
   },
   "outputs": [
    {
     "name": "stdout",
     "output_type": "stream",
     "text": [
      "tensor([[1.1414, 0.9489, 1.6905],\n",
      "        [0.4772, 0.8775, 1.3691],\n",
      "        [1.3758, 0.9262, 1.8257],\n",
      "        [1.0144, 1.7194, 1.7117],\n",
      "        [1.4982, 0.4327, 1.6680]])\n"
     ]
    }
   ],
   "source": [
    "result = torch.empty(5, 3)\n",
    "torch.add(x, y, out=result)\n",
    "print(result)"
   ]
  },
  {
   "cell_type": "markdown",
   "metadata": {
    "id": "-VK0_f0rVejB"
   },
   "source": [
    "Addition: in-place"
   ]
  },
  {
   "cell_type": "code",
   "execution_count": null,
   "metadata": {
    "colab": {
     "base_uri": "https://localhost:8080/"
    },
    "executionInfo": {
     "elapsed": 1054,
     "status": "ok",
     "timestamp": 1618173023035,
     "user": {
      "displayName": "Lionel Fillatre",
      "photoUrl": "",
      "userId": "14463393848879581998"
     },
     "user_tz": -120
    },
    "id": "rj0GKMgSVlGV",
    "outputId": "9f744a72-9d73-48e3-b771-a8660255d9ef"
   },
   "outputs": [
    {
     "name": "stdout",
     "output_type": "stream",
     "text": [
      "tensor([[1.1414, 0.9489, 1.6905],\n",
      "        [0.4772, 0.8775, 1.3691],\n",
      "        [1.3758, 0.9262, 1.8257],\n",
      "        [1.0144, 1.7194, 1.7117],\n",
      "        [1.4982, 0.4327, 1.6680]])\n"
     ]
    }
   ],
   "source": [
    "# adds x to y\n",
    "y.add_(x)\n",
    "print(y)"
   ]
  },
  {
   "cell_type": "markdown",
   "metadata": {
    "id": "EgNBadgeVscS"
   },
   "source": [
    "**Note:** Any operation that mutates a tensor in-place is post-fixed with an ``_``.\n",
    "    For example: ``x.copy_(y)``, ``x.t_()``, will change ``x``.\n",
    "\n"
   ]
  },
  {
   "cell_type": "markdown",
   "metadata": {
    "id": "kOPtMoOkgC-G"
   },
   "source": [
    "Any operation that mutates a tensor in-place is post-fixed with an ```_```\n",
    "\n",
    "For example: ```x.copy_(y)```, ```x.t_()```, will change ```x```."
   ]
  },
  {
   "cell_type": "code",
   "execution_count": null,
   "metadata": {
    "colab": {
     "base_uri": "https://localhost:8080/"
    },
    "executionInfo": {
     "elapsed": 1045,
     "status": "ok",
     "timestamp": 1618173023035,
     "user": {
      "displayName": "Lionel Fillatre",
      "photoUrl": "",
      "userId": "14463393848879581998"
     },
     "user_tz": -120
    },
    "id": "hrOV0mQIgC-G",
    "outputId": "30bd9d4b-42ee-43fe-d817-b3250f61f824"
   },
   "outputs": [
    {
     "name": "stdout",
     "output_type": "stream",
     "text": [
      "tensor([[0.4752, 0.3438, 0.9312, 0.8667, 0.5058],\n",
      "        [0.5989, 0.0672, 0.7086, 0.8662, 0.1734],\n",
      "        [0.8940, 0.9447, 0.9384, 0.9443, 0.9977]])\n"
     ]
    }
   ],
   "source": [
    "print(x.t())"
   ]
  },
  {
   "cell_type": "code",
   "execution_count": null,
   "metadata": {
    "colab": {
     "base_uri": "https://localhost:8080/"
    },
    "executionInfo": {
     "elapsed": 1038,
     "status": "ok",
     "timestamp": 1618173023036,
     "user": {
      "displayName": "Lionel Fillatre",
      "photoUrl": "",
      "userId": "14463393848879581998"
     },
     "user_tz": -120
    },
    "id": "LfNnD4vSgC-H",
    "outputId": "0dca62df-fbf5-4159-c97e-2e6dede8ce97"
   },
   "outputs": [
    {
     "name": "stdout",
     "output_type": "stream",
     "text": [
      "tensor([[0.4752, 0.5989, 0.8940],\n",
      "        [0.3438, 0.0672, 0.9447],\n",
      "        [0.9312, 0.7086, 0.9384],\n",
      "        [0.8667, 0.8662, 0.9443],\n",
      "        [0.5058, 0.1734, 0.9977]])\n"
     ]
    }
   ],
   "source": [
    "print(x)"
   ]
  },
  {
   "cell_type": "code",
   "execution_count": null,
   "metadata": {
    "colab": {
     "base_uri": "https://localhost:8080/"
    },
    "executionInfo": {
     "elapsed": 1029,
     "status": "ok",
     "timestamp": 1618173023036,
     "user": {
      "displayName": "Lionel Fillatre",
      "photoUrl": "",
      "userId": "14463393848879581998"
     },
     "user_tz": -120
    },
    "id": "5YdHeI8lgC-I",
    "outputId": "1d57c525-3bde-4880-ea8a-c6d31aae61f9"
   },
   "outputs": [
    {
     "name": "stdout",
     "output_type": "stream",
     "text": [
      "tensor([[0.4752, 0.3438, 0.9312, 0.8667, 0.5058],\n",
      "        [0.5989, 0.0672, 0.7086, 0.8662, 0.1734],\n",
      "        [0.8940, 0.9447, 0.9384, 0.9443, 0.9977]])\n"
     ]
    }
   ],
   "source": [
    "x.t_()\n",
    "print(x)"
   ]
  },
  {
   "cell_type": "markdown",
   "metadata": {
    "id": "UfxHIL-mWyZl"
   },
   "source": [
    "You can use standard NumPy-like indexing with all bells and whistles!"
   ]
  },
  {
   "cell_type": "code",
   "execution_count": null,
   "metadata": {
    "colab": {
     "base_uri": "https://localhost:8080/"
    },
    "executionInfo": {
     "elapsed": 1020,
     "status": "ok",
     "timestamp": 1618173023036,
     "user": {
      "displayName": "Lionel Fillatre",
      "photoUrl": "",
      "userId": "14463393848879581998"
     },
     "user_tz": -120
    },
    "id": "Cz4M97B2Wtyu",
    "outputId": "b0bf6984-3435-4899-b91f-aeedf8775c24"
   },
   "outputs": [
    {
     "name": "stdout",
     "output_type": "stream",
     "text": [
      "tensor([0.3438, 0.0672, 0.9447])\n"
     ]
    }
   ],
   "source": [
    "print(x[:, 1])"
   ]
  },
  {
   "cell_type": "markdown",
   "metadata": {
    "id": "M6tsVH8zW8yB"
   },
   "source": [
    "Resizing (very useful): If you want to resize/reshape tensor, you can use ``torch.view``:"
   ]
  },
  {
   "cell_type": "code",
   "execution_count": null,
   "metadata": {
    "colab": {
     "base_uri": "https://localhost:8080/"
    },
    "executionInfo": {
     "elapsed": 1012,
     "status": "ok",
     "timestamp": 1618173023037,
     "user": {
      "displayName": "Lionel Fillatre",
      "photoUrl": "",
      "userId": "14463393848879581998"
     },
     "user_tz": -120
    },
    "id": "k0qjaFPDW_3I",
    "outputId": "547b32c9-0930-4e69-f698-d13214ae0e5d"
   },
   "outputs": [
    {
     "name": "stdout",
     "output_type": "stream",
     "text": [
      "torch.Size([4, 4]) torch.Size([16]) torch.Size([2, 8])\n"
     ]
    }
   ],
   "source": [
    "x = torch.randn(4, 4)\n",
    "y = x.view(16)\n",
    "z = x.view(-1, 8)  # the size -1 is inferred from other dimensions\n",
    "print(x.size(), y.size(), z.size())"
   ]
  },
  {
   "cell_type": "markdown",
   "metadata": {
    "id": "fP8sTTCgXRak"
   },
   "source": [
    "If you have a one element tensor, use ``.item()`` to get the value as a\n",
    "Python number"
   ]
  },
  {
   "cell_type": "code",
   "execution_count": null,
   "metadata": {
    "colab": {
     "base_uri": "https://localhost:8080/"
    },
    "executionInfo": {
     "elapsed": 1004,
     "status": "ok",
     "timestamp": 1618173023037,
     "user": {
      "displayName": "Lionel Fillatre",
      "photoUrl": "",
      "userId": "14463393848879581998"
     },
     "user_tz": -120
    },
    "id": "zaG9x6SHXSPw",
    "outputId": "7583c386-fde9-4548-9fc8-58dff523bb71"
   },
   "outputs": [
    {
     "name": "stdout",
     "output_type": "stream",
     "text": [
      "tensor([1.0989])\n",
      "1.0988737344741821\n"
     ]
    }
   ],
   "source": [
    "x = torch.randn(1)\n",
    "print(x)\n",
    "print(x.item())"
   ]
  },
  {
   "cell_type": "markdown",
   "metadata": {
    "id": "mqCvPrp-XmZQ"
   },
   "source": [
    "**Read later:**\n",
    "\n",
    "\n",
    "  100+ Tensor operations, including transposing, indexing, slicing,\n",
    "  mathematical operations, linear algebra, random numbers, etc.,\n",
    "  are described\n",
    "  [here](https://pytorch.org/docs/torch)."
   ]
  },
  {
   "cell_type": "markdown",
   "metadata": {
    "id": "8Jk-JGYpeCNz"
   },
   "source": [
    "## 3D Tensors"
   ]
  },
  {
   "cell_type": "markdown",
   "metadata": {
    "id": "RTGbU2E-eLWF"
   },
   "source": [
    "### Question: What is the size of the following tensor?"
   ]
  },
  {
   "cell_type": "code",
   "execution_count": null,
   "metadata": {
    "colab": {
     "base_uri": "https://localhost:8080/"
    },
    "executionInfo": {
     "elapsed": 1215,
     "status": "ok",
     "timestamp": 1618173023257,
     "user": {
      "displayName": "Lionel Fillatre",
      "photoUrl": "",
      "userId": "14463393848879581998"
     },
     "user_tz": -120
    },
    "id": "d-Dg4nyOeD4f",
    "outputId": "8b0513f4-13b3-479c-b7d3-a2ccf1e0ce21"
   },
   "outputs": [
    {
     "name": "stdout",
     "output_type": "stream",
     "text": [
      "tensor([[[1, 2, 3],\n",
      "         [4, 5, 6]],\n",
      "\n",
      "        [[1, 2, 3],\n",
      "         [4, 5, 6]],\n",
      "\n",
      "        [[1, 2, 3],\n",
      "         [4, 5, 6]]])\n"
     ]
    }
   ],
   "source": [
    "y = torch.tensor([\n",
    "     [\n",
    "       [1, 2, 3],\n",
    "       [4, 5, 6]\n",
    "     ],\n",
    "     [\n",
    "       [1, 2, 3],\n",
    "       [4, 5, 6]\n",
    "     ],\n",
    "     [\n",
    "       [1, 2, 3],\n",
    "       [4, 5, 6]\n",
    "     ]\n",
    "   ])\n",
    "print(y)"
   ]
  },
  {
   "cell_type": "code",
   "execution_count": null,
   "metadata": {
    "colab": {
     "base_uri": "https://localhost:8080/"
    },
    "executionInfo": {
     "elapsed": 1206,
     "status": "ok",
     "timestamp": 1618173023258,
     "user": {
      "displayName": "Lionel Fillatre",
      "photoUrl": "",
      "userId": "14463393848879581998"
     },
     "user_tz": -120
    },
    "id": "2gBU82BTe0_y",
    "outputId": "5350f912-b13a-48f2-fc72-d69224acd365"
   },
   "outputs": [
    {
     "name": "stdout",
     "output_type": "stream",
     "text": [
      "torch.Size([3, 2, 3])\n"
     ]
    }
   ],
   "source": [
    "print(y.shape)"
   ]
  },
  {
   "cell_type": "markdown",
   "metadata": {
    "id": "dOUGbVEUe9DC"
   },
   "source": [
    "### Question: Explain the result of the next cell"
   ]
  },
  {
   "cell_type": "code",
   "execution_count": null,
   "metadata": {
    "colab": {
     "base_uri": "https://localhost:8080/"
    },
    "executionInfo": {
     "elapsed": 1198,
     "status": "ok",
     "timestamp": 1618173023258,
     "user": {
      "displayName": "Lionel Fillatre",
      "photoUrl": "",
      "userId": "14463393848879581998"
     },
     "user_tz": -120
    },
    "id": "14O04VMTe9eg",
    "outputId": "0eebcc10-6b42-440e-d6df-4e5d76dfd59c"
   },
   "outputs": [
    {
     "data": {
      "text/plain": [
       "tensor([[ 3,  6,  9],\n",
       "        [12, 15, 18]])"
      ]
     },
     "execution_count": 185,
     "metadata": {
      "tags": []
     },
     "output_type": "execute_result"
    }
   ],
   "source": [
    "torch.sum(y, dim=0)"
   ]
  },
  {
   "cell_type": "markdown",
   "metadata": {
    "id": "Ev68h5j1ZUNH"
   },
   "source": [
    "## Broadcasting semantics\n",
    "\n",
    "In short, if a PyTorch operation supports broadcast, then its Tensor arguments can be automatically expanded to be of equal sizes (without making copies of the data).\n",
    "\n",
    "Two tensors are “broadcastable” if the following rules hold:\n",
    "\n",
    "*   Each tensor has at least one dimension.\n",
    "*   When iterating over the dimension sizes, **starting at the trailing dimension**, the dimension sizes must either be equal, one of them is 1, or one of them does not exist.\n",
    "\n",
    "If two tensors x, y are “broadcastable”, the resulting tensor size is calculated as follows:\n",
    "* If the number of dimensions of x and y are not equal, prepend 1 to the dimensions of the tensor with fewer dimensions to make them equal length.\n",
    "* Then, for each dimension size, the resulting dimension size is the max of the sizes of x and y along that dimension.\n",
    "\n",
    "More details [here](https://pytorch.org/docs/stable/notes/broadcasting.html)\n",
    "\n"
   ]
  },
  {
   "cell_type": "code",
   "execution_count": null,
   "metadata": {
    "colab": {
     "base_uri": "https://localhost:8080/"
    },
    "executionInfo": {
     "elapsed": 1190,
     "status": "ok",
     "timestamp": 1618173023259,
     "user": {
      "displayName": "Lionel Fillatre",
      "photoUrl": "",
      "userId": "14463393848879581998"
     },
     "user_tz": -120
    },
    "id": "P3f9hXLxZXQa",
    "outputId": "e16c9c61-5fa0-470b-c4fe-8bbc496408fa"
   },
   "outputs": [
    {
     "name": "stdout",
     "output_type": "stream",
     "text": [
      "torch.Size([5, 3, 4, 1])\n"
     ]
    }
   ],
   "source": [
    "# can line up trailing dimensions to make reading easier\n",
    "x=torch.empty(5,1,4,1)\n",
    "y=torch.empty(  3,1,1)\n",
    "print((x+y).size())\n",
    "\n"
   ]
  },
  {
   "cell_type": "code",
   "execution_count": null,
   "metadata": {
    "colab": {
     "base_uri": "https://localhost:8080/"
    },
    "executionInfo": {
     "elapsed": 1181,
     "status": "ok",
     "timestamp": 1618173023259,
     "user": {
      "displayName": "Lionel Fillatre",
      "photoUrl": "",
      "userId": "14463393848879581998"
     },
     "user_tz": -120
    },
    "id": "LsYo7aBqaJ5F",
    "outputId": "d3ba97f6-f563-4e4a-a840-7a0c960997a9"
   },
   "outputs": [
    {
     "name": "stdout",
     "output_type": "stream",
     "text": [
      "torch.Size([3, 1, 7])\n"
     ]
    }
   ],
   "source": [
    "# but not necessary:\n",
    "x=torch.empty(1)\n",
    "y=torch.empty(3,1,7)\n",
    "print((x+y).size())\n",
    "\n"
   ]
  },
  {
   "cell_type": "markdown",
   "metadata": {
    "id": "0n_Y_hY6fxeL"
   },
   "source": [
    "### Question: The following command does not work. Why?\n",
    "\n"
   ]
  },
  {
   "cell_type": "code",
   "execution_count": null,
   "metadata": {
    "id": "Vq3SqanjaO6U"
   },
   "outputs": [],
   "source": [
    "x=torch.empty(5,2,4,1)\n",
    "y=torch.empty(  3,1,1)\n",
    "#print((x+y).size())\n"
   ]
  },
  {
   "cell_type": "code",
   "execution_count": null,
   "metadata": {
    "colab": {
     "base_uri": "https://localhost:8080/"
    },
    "executionInfo": {
     "elapsed": 1167,
     "status": "ok",
     "timestamp": 1618173023260,
     "user": {
      "displayName": "Lionel Fillatre",
      "photoUrl": "",
      "userId": "14463393848879581998"
     },
     "user_tz": -120
    },
    "id": "ha4-WRJ0g4l9",
    "outputId": "824b41fc-cfb7-40db-dfde-4eea80d9b32a"
   },
   "outputs": [
    {
     "name": "stdout",
     "output_type": "stream",
     "text": [
      "tensor([[[3., 3., 3., 3.],\n",
      "         [3., 3., 3., 3.]],\n",
      "\n",
      "        [[3., 3., 3., 3.],\n",
      "         [3., 3., 3., 3.]],\n",
      "\n",
      "        [[3., 3., 3., 3.],\n",
      "         [3., 3., 3., 3.]]])\n"
     ]
    }
   ],
   "source": [
    "x=2*torch.ones(  2,4)\n",
    "y=torch.ones(3,2,4)\n",
    "print(x+y)"
   ]
  },
  {
   "cell_type": "markdown",
   "metadata": {
    "id": "Afol8pk8VPUn"
   },
   "source": [
    "### Question: What is the diffence between \"x = xr\" and \"x = xr.clone()\"? "
   ]
  },
  {
   "cell_type": "code",
   "execution_count": null,
   "metadata": {
    "colab": {
     "base_uri": "https://localhost:8080/"
    },
    "executionInfo": {
     "elapsed": 1163,
     "status": "ok",
     "timestamp": 1618173023260,
     "user": {
      "displayName": "Lionel Fillatre",
      "photoUrl": "",
      "userId": "14463393848879581998"
     },
     "user_tz": -120
    },
    "id": "ROIvJcOngC-E",
    "outputId": "e3da68c8-fa6f-431b-baef-f8d895d82f75"
   },
   "outputs": [
    {
     "name": "stdout",
     "output_type": "stream",
     "text": [
      "tensor([[0., 0., 0., 0., 0.],\n",
      "        [0., 0., 0., 0., 0.],\n",
      "        [0., 0., 0., 0., 0.]])\n",
      "tensor([[ 1.3512,  0.2815,  0.7301,  1.9304,  1.0339],\n",
      "        [ 0.0386,  0.1774,  0.7193, -0.4664,  1.1719],\n",
      "        [ 0.5175,  2.5771, -0.6884,  1.1131, -0.7516]])\n"
     ]
    }
   ],
   "source": [
    "x = xr.clone()\n",
    "x.add_(-xr)\n",
    "print(x)\n",
    "print(xr)"
   ]
  },
  {
   "cell_type": "markdown",
   "metadata": {
    "id": "UWxZLzMrgC-J"
   },
   "source": [
    "Also be careful, changing the torch tensor modify the numpy array and vice-versa..."
   ]
  },
  {
   "cell_type": "code",
   "execution_count": null,
   "metadata": {
    "colab": {
     "base_uri": "https://localhost:8080/"
    },
    "executionInfo": {
     "elapsed": 1156,
     "status": "ok",
     "timestamp": 1618173023261,
     "user": {
      "displayName": "Lionel Fillatre",
      "photoUrl": "",
      "userId": "14463393848879581998"
     },
     "user_tz": -120
    },
    "id": "lkcW43iugC-J",
    "outputId": "bf603720-0b96-4668-ee7f-77743fed2033"
   },
   "outputs": [
    {
     "name": "stdout",
     "output_type": "stream",
     "text": [
      "tensor([[1., 1., 1., 1.],\n",
      "        [1., 1., 1., 1.]])\n",
      "[[1. 1. 1. 1.]\n",
      " [1. 1. 1. 1.]]\n"
     ]
    }
   ],
   "source": [
    "y=torch.ones(2,4)\n",
    "print(y)\n",
    "z = y.numpy()\n",
    "print(z)"
   ]
  },
  {
   "cell_type": "code",
   "execution_count": null,
   "metadata": {
    "colab": {
     "base_uri": "https://localhost:8080/"
    },
    "executionInfo": {
     "elapsed": 1152,
     "status": "ok",
     "timestamp": 1618173023261,
     "user": {
      "displayName": "Lionel Fillatre",
      "photoUrl": "",
      "userId": "14463393848879581998"
     },
     "user_tz": -120
    },
    "id": "qvRrtvz1gC-K",
    "outputId": "7284a1d7-6dcd-46c0-df53-e4dbaa1d341e"
   },
   "outputs": [
    {
     "name": "stdout",
     "output_type": "stream",
     "text": [
      "z= [[2. 2. 2. 2.]\n",
      " [2. 2. 2. 2.]]\n",
      "y= tensor([[2., 2., 2., 2.],\n",
      "        [2., 2., 2., 2.]]) \n",
      "\n",
      "z= [[-2. -2. -2. -2.]\n",
      " [-2. -2. -2. -2.]]\n",
      "y= tensor([[-2., -2., -2., -2.],\n",
      "        [-2., -2., -2., -2.]])\n"
     ]
    }
   ],
   "source": [
    "np.add(z, 1, out=z)\n",
    "print(\"z=\", z)\n",
    "print(\"y=\", y,\"\\n\")\n",
    "torch.add(y, -4, out=y)\n",
    "print(\"z=\",z)\n",
    "print(\"y=\",y)"
   ]
  },
  {
   "cell_type": "markdown",
   "metadata": {
    "id": "AmGizC3pMbm8"
   },
   "source": [
    "## Computational graphs"
   ]
  },
  {
   "cell_type": "code",
   "execution_count": null,
   "metadata": {
    "id": "O5Kw7MQpMxWB"
   },
   "outputs": [],
   "source": [
    "import matplotlib.pyplot as plt\n",
    "%matplotlib inline\n",
    "import torch"
   ]
  },
  {
   "cell_type": "code",
   "execution_count": null,
   "metadata": {
    "colab": {
     "base_uri": "https://localhost:8080/"
    },
    "executionInfo": {
     "elapsed": 7760,
     "status": "ok",
     "timestamp": 1618173029878,
     "user": {
      "displayName": "Lionel Fillatre",
      "photoUrl": "",
      "userId": "14463393848879581998"
     },
     "user_tz": -120
    },
    "id": "2Gza10WeM10G",
    "outputId": "0fbc6e8e-5097-4391-cc7d-ff8a7eb7b0f7"
   },
   "outputs": [
    {
     "name": "stdout",
     "output_type": "stream",
     "text": [
      "Collecting torchviz\n",
      "  Downloading https://files.pythonhosted.org/packages/79/e7/643808913211d6c1fc96a3a4333bf4c9276858fab00bcafaf98ea58a97be/torchviz-0.0.2.tar.gz\n",
      "Requirement already satisfied: torch in /usr/local/lib/python3.7/dist-packages (from torchviz) (1.8.1+cu101)\n",
      "Requirement already satisfied: graphviz in /usr/local/lib/python3.7/dist-packages (from torchviz) (0.10.1)\n",
      "Requirement already satisfied: typing-extensions in /usr/local/lib/python3.7/dist-packages (from torch->torchviz) (3.7.4.3)\n",
      "Requirement already satisfied: numpy in /usr/local/lib/python3.7/dist-packages (from torch->torchviz) (1.19.5)\n",
      "Building wheels for collected packages: torchviz\n",
      "  Building wheel for torchviz (setup.py) ... \u001b[?25l\u001b[?25hdone\n",
      "  Created wheel for torchviz: filename=torchviz-0.0.2-cp37-none-any.whl size=4152 sha256=0fd307e547ce5a0a3812da2ce901c67ce142f42e906365a482243d7fe625e5c0\n",
      "  Stored in directory: /root/.cache/pip/wheels/01/26/58/026ffd533dbe8b3972eb423da9c7949beca68d1c98ed9e8624\n",
      "Successfully built torchviz\n",
      "Installing collected packages: torchviz\n",
      "Successfully installed torchviz-0.0.2\n"
     ]
    }
   ],
   "source": [
    "!pip install torchviz"
   ]
  },
  {
   "cell_type": "code",
   "execution_count": null,
   "metadata": {
    "id": "1nEbmC7TM1mw"
   },
   "outputs": [],
   "source": [
    "import torchviz"
   ]
  },
  {
   "cell_type": "code",
   "execution_count": null,
   "metadata": {
    "colab": {
     "base_uri": "https://localhost:8080/",
     "height": 467
    },
    "executionInfo": {
     "elapsed": 8035,
     "status": "ok",
     "timestamp": 1618173030162,
     "user": {
      "displayName": "Lionel Fillatre",
      "photoUrl": "",
      "userId": "14463393848879581998"
     },
     "user_tz": -120
    },
    "id": "5Z2dMtEOMuWb",
    "outputId": "f68695da-b6ed-4c77-e622-09f797e5ee1e"
   },
   "outputs": [
    {
     "name": "stdout",
     "output_type": "stream",
     "text": [
      "tensor([[1., 1.],\n",
      "        [1., 1.]], requires_grad=True)\n",
      "tensor([[0.7924]], requires_grad=True)\n",
      "tensor([[2.7924, 2.7924],\n",
      "        [2.7924, 2.7924]], grad_fn=<AddBackward0>)\n"
     ]
    },
    {
     "data": {
      "image/svg+xml": [
       "<?xml version=\"1.0\" encoding=\"UTF-8\" standalone=\"no\"?>\n",
       "<!DOCTYPE svg PUBLIC \"-//W3C//DTD SVG 1.1//EN\"\n",
       " \"http://www.w3.org/Graphics/SVG/1.1/DTD/svg11.dtd\">\n",
       "<!-- Generated by graphviz version 2.40.1 (20161225.0304)\n",
       " -->\n",
       "<!-- Title: %3 Pages: 1 -->\n",
       "<svg width=\"228pt\" height=\"271pt\"\n",
       " viewBox=\"0.00 0.00 228.00 271.00\" xmlns=\"http://www.w3.org/2000/svg\" xmlns:xlink=\"http://www.w3.org/1999/xlink\">\n",
       "<g id=\"graph0\" class=\"graph\" transform=\"scale(1 1) rotate(0) translate(4 267)\">\n",
       "<title>%3</title>\n",
       "<polygon fill=\"#ffffff\" stroke=\"transparent\" points=\"-4,4 -4,-267 224,-267 224,4 -4,4\"/>\n",
       "<!-- 140520990488608 -->\n",
       "<g id=\"node1\" class=\"node\">\n",
       "<title>140520990488608</title>\n",
       "<polygon fill=\"#caff70\" stroke=\"#000000\" points=\"139,-31 80,-31 80,0 139,0 139,-31\"/>\n",
       "<text text-anchor=\"middle\" x=\"109.5\" y=\"-7\" font-family=\"monospace\" font-size=\"10.00\" fill=\"#000000\"> (2, 2)</text>\n",
       "</g>\n",
       "<!-- 140520990482064 -->\n",
       "<g id=\"node2\" class=\"node\">\n",
       "<title>140520990482064</title>\n",
       "<polygon fill=\"#d3d3d3\" stroke=\"#000000\" points=\"154,-86 65,-86 65,-67 154,-67 154,-86\"/>\n",
       "<text text-anchor=\"middle\" x=\"109.5\" y=\"-74\" font-family=\"monospace\" font-size=\"10.00\" fill=\"#000000\">AddBackward0</text>\n",
       "</g>\n",
       "<!-- 140520990482064&#45;&gt;140520990488608 -->\n",
       "<g id=\"edge6\" class=\"edge\">\n",
       "<title>140520990482064&#45;&gt;140520990488608</title>\n",
       "<path fill=\"none\" stroke=\"#000000\" d=\"M109.5,-66.9688C109.5,-60.1289 109.5,-50.5621 109.5,-41.5298\"/>\n",
       "<polygon fill=\"#000000\" stroke=\"#000000\" points=\"113.0001,-41.3678 109.5,-31.3678 106.0001,-41.3678 113.0001,-41.3678\"/>\n",
       "</g>\n",
       "<!-- 140520990481744 -->\n",
       "<g id=\"node3\" class=\"node\">\n",
       "<title>140520990481744</title>\n",
       "<polygon fill=\"#d3d3d3\" stroke=\"#000000\" points=\"154,-141 65,-141 65,-122 154,-122 154,-141\"/>\n",
       "<text text-anchor=\"middle\" x=\"109.5\" y=\"-129\" font-family=\"monospace\" font-size=\"10.00\" fill=\"#000000\">MulBackward0</text>\n",
       "</g>\n",
       "<!-- 140520990481744&#45;&gt;140520990482064 -->\n",
       "<g id=\"edge1\" class=\"edge\">\n",
       "<title>140520990481744&#45;&gt;140520990482064</title>\n",
       "<path fill=\"none\" stroke=\"#000000\" d=\"M109.5,-121.9197C109.5,-114.9083 109.5,-105.1442 109.5,-96.4652\"/>\n",
       "<polygon fill=\"#000000\" stroke=\"#000000\" points=\"113.0001,-96.3408 109.5,-86.3408 106.0001,-96.3409 113.0001,-96.3408\"/>\n",
       "</g>\n",
       "<!-- 140520990482192 -->\n",
       "<g id=\"node4\" class=\"node\">\n",
       "<title>140520990482192</title>\n",
       "<polygon fill=\"#d3d3d3\" stroke=\"#000000\" points=\"101,-196 0,-196 0,-177 101,-177 101,-196\"/>\n",
       "<text text-anchor=\"middle\" x=\"50.5\" y=\"-184\" font-family=\"monospace\" font-size=\"10.00\" fill=\"#000000\">AccumulateGrad</text>\n",
       "</g>\n",
       "<!-- 140520990482192&#45;&gt;140520990481744 -->\n",
       "<g id=\"edge2\" class=\"edge\">\n",
       "<title>140520990482192&#45;&gt;140520990481744</title>\n",
       "<path fill=\"none\" stroke=\"#000000\" d=\"M60.777,-176.9197C69.2176,-169.0514 81.377,-157.7164 91.4369,-148.3385\"/>\n",
       "<polygon fill=\"#000000\" stroke=\"#000000\" points=\"94.0154,-150.7198 98.9435,-141.3408 89.2422,-145.5995 94.0154,-150.7198\"/>\n",
       "</g>\n",
       "<!-- 140520990503392 -->\n",
       "<g id=\"node5\" class=\"node\">\n",
       "<title>140520990503392</title>\n",
       "<polygon fill=\"#add8e6\" stroke=\"#000000\" points=\"80,-263 21,-263 21,-232 80,-232 80,-263\"/>\n",
       "<text text-anchor=\"middle\" x=\"50.5\" y=\"-239\" font-family=\"monospace\" font-size=\"10.00\" fill=\"#000000\"> (1, 1)</text>\n",
       "</g>\n",
       "<!-- 140520990503392&#45;&gt;140520990482192 -->\n",
       "<g id=\"edge3\" class=\"edge\">\n",
       "<title>140520990503392&#45;&gt;140520990482192</title>\n",
       "<path fill=\"none\" stroke=\"#000000\" d=\"M50.5,-231.791C50.5,-224.0249 50.5,-214.5706 50.5,-206.3129\"/>\n",
       "<polygon fill=\"#000000\" stroke=\"#000000\" points=\"54.0001,-206.0647 50.5,-196.0648 47.0001,-206.0648 54.0001,-206.0647\"/>\n",
       "</g>\n",
       "<!-- 140520990482256 -->\n",
       "<g id=\"node6\" class=\"node\">\n",
       "<title>140520990482256</title>\n",
       "<polygon fill=\"#d3d3d3\" stroke=\"#000000\" points=\"220,-196 119,-196 119,-177 220,-177 220,-196\"/>\n",
       "<text text-anchor=\"middle\" x=\"169.5\" y=\"-184\" font-family=\"monospace\" font-size=\"10.00\" fill=\"#000000\">AccumulateGrad</text>\n",
       "</g>\n",
       "<!-- 140520990482256&#45;&gt;140520990481744 -->\n",
       "<g id=\"edge4\" class=\"edge\">\n",
       "<title>140520990482256&#45;&gt;140520990481744</title>\n",
       "<path fill=\"none\" stroke=\"#000000\" d=\"M159.0488,-176.9197C150.4651,-169.0514 138.0997,-157.7164 127.8693,-148.3385\"/>\n",
       "<polygon fill=\"#000000\" stroke=\"#000000\" points=\"129.9721,-145.5181 120.2355,-141.3408 125.242,-150.6782 129.9721,-145.5181\"/>\n",
       "</g>\n",
       "<!-- 140520990487968 -->\n",
       "<g id=\"node7\" class=\"node\">\n",
       "<title>140520990487968</title>\n",
       "<polygon fill=\"#add8e6\" stroke=\"#000000\" points=\"199,-263 140,-263 140,-232 199,-232 199,-263\"/>\n",
       "<text text-anchor=\"middle\" x=\"169.5\" y=\"-239\" font-family=\"monospace\" font-size=\"10.00\" fill=\"#000000\"> (2, 2)</text>\n",
       "</g>\n",
       "<!-- 140520990487968&#45;&gt;140520990482256 -->\n",
       "<g id=\"edge5\" class=\"edge\">\n",
       "<title>140520990487968&#45;&gt;140520990482256</title>\n",
       "<path fill=\"none\" stroke=\"#000000\" d=\"M169.5,-231.791C169.5,-224.0249 169.5,-214.5706 169.5,-206.3129\"/>\n",
       "<polygon fill=\"#000000\" stroke=\"#000000\" points=\"173.0001,-206.0647 169.5,-196.0648 166.0001,-206.0648 173.0001,-206.0647\"/>\n",
       "</g>\n",
       "</g>\n",
       "</svg>\n"
      ],
      "text/plain": [
       "<graphviz.dot.Digraph at 0x7fcd97b89e50>"
      ]
     },
     "execution_count": 196,
     "metadata": {
      "tags": []
     },
     "output_type": "execute_result"
    }
   ],
   "source": [
    "x = torch.ones(2, 2, requires_grad=True)\n",
    "w = torch.rand(1, 1, requires_grad=True)\n",
    "print(x)\n",
    "print(w)\n",
    "y = w * x + 2\n",
    "print(y)\n",
    "torchviz.make_dot(y)"
   ]
  },
  {
   "cell_type": "markdown",
   "metadata": {
    "id": "uSvS2bdKidcc"
   },
   "source": [
    "\n",
    "## Playing with pytorch: linear regression"
   ]
  },
  {
   "cell_type": "markdown",
   "metadata": {
    "id": "UzjNRT-OSCzL"
   },
   "source": [
    "Code for plotting the surface"
   ]
  },
  {
   "cell_type": "code",
   "execution_count": null,
   "metadata": {
    "id": "KhuyxIm1Rd0W"
   },
   "outputs": [],
   "source": [
    "import matplotlib.pyplot as plt\n",
    "import numpy as np\n",
    "from mpl_toolkits.mplot3d import Axes3D\n",
    "\n",
    "def plot_figs(fig_num, elev, azim, x, y, weights, bias):\n",
    "    fig = plt.figure(fig_num, figsize=(4, 3))\n",
    "    plt.clf()\n",
    "    ax = Axes3D(fig, elev=elev, azim=azim)\n",
    "    ax.scatter(x[:, 0], x[:, 1], y)\n",
    "    ax.plot_surface(np.array([[0, 0], [1, 1]]),\n",
    "                    np.array([[0, 1], [0, 1]]),\n",
    "                    (np.dot(np.array([[0, 0, 1, 1],\n",
    "                                          [0, 1, 0, 1]]).T, weights) + bias).reshape((2, 2)),\n",
    "                    alpha=.5)\n",
    "    ax.set_xlabel('x_1')\n",
    "    ax.set_ylabel('x_2')\n",
    "    ax.set_zlabel('y')\n",
    "    \n",
    "def plot_views(x, y, w, b):\n",
    "    # Generate the different figures from different views\n",
    "    elev = 43.5\n",
    "    azim = -110\n",
    "    plot_figs(1, elev, azim, x, y, w, b[0])\n",
    "\n",
    "    plt.show()"
   ]
  },
  {
   "cell_type": "markdown",
   "metadata": {
    "id": "Bkt2h0X6SFmR"
   },
   "source": [
    "Code for generating the 2D points"
   ]
  },
  {
   "cell_type": "code",
   "execution_count": null,
   "metadata": {
    "colab": {
     "base_uri": "https://localhost:8080/"
    },
    "executionInfo": {
     "elapsed": 8028,
     "status": "ok",
     "timestamp": 1618173030163,
     "user": {
      "displayName": "Lionel Fillatre",
      "photoUrl": "",
      "userId": "14463393848879581998"
     },
     "user_tz": -120
    },
    "id": "14tvkKCyMwYD",
    "outputId": "f101acad-50b9-4f99-a8d4-ede9555d2332"
   },
   "outputs": [
    {
     "name": "stdout",
     "output_type": "stream",
     "text": [
      "torch.Size([30, 2])\n",
      "torch.Size([2, 1])\n",
      "torch.Size([1])\n",
      "torch.Size([30, 1])\n"
     ]
    }
   ],
   "source": [
    "#Data generation (2D points)\n",
    "w_source = torch.tensor([2., -3.], dtype=torch.float).view(-1,1)\n",
    "b_source  = torch.tensor([1.], dtype=torch.float)\n",
    "\n",
    "x = torch.empty(30, 2).uniform_(0, 1) # input of the regression model\n",
    "\n",
    "print(x.shape)\n",
    "print(w_source.shape)\n",
    "print(b_source.shape)\n",
    "\n",
    "y = torch.matmul(x,w_source)+b_source # output of the regression model\n",
    "print(y.shape)"
   ]
  },
  {
   "cell_type": "markdown",
   "metadata": {
    "id": "KW6YMS6tSMVr"
   },
   "source": [
    "Plot the dataset"
   ]
  },
  {
   "cell_type": "code",
   "execution_count": null,
   "metadata": {
    "colab": {
     "base_uri": "https://localhost:8080/",
     "height": 247
    },
    "executionInfo": {
     "elapsed": 8307,
     "status": "ok",
     "timestamp": 1618173030447,
     "user": {
      "displayName": "Lionel Fillatre",
      "photoUrl": "",
      "userId": "14463393848879581998"
     },
     "user_tz": -120
    },
    "id": "rMRbqdZaRjCz",
    "outputId": "1206cfe8-8d98-4b5b-9d2e-0c3a0164956f"
   },
   "outputs": [
    {
     "data": {
      "image/png": "[encoded data removed]",
      "text/plain": [
       "<Figure size 288x216 with 1 Axes>"
      ]
     },
     "metadata": {
      "needs_background": "light",
      "tags": []
     },
     "output_type": "display_data"
    }
   ],
   "source": [
    "plot_views(x.numpy(), y.numpy(), w_source.numpy(), b_source.numpy())"
   ]
  },
  {
   "cell_type": "code",
   "execution_count": null,
   "metadata": {
    "colab": {
     "base_uri": "https://localhost:8080/"
    },
    "executionInfo": {
     "elapsed": 8304,
     "status": "ok",
     "timestamp": 1618173030448,
     "user": {
      "displayName": "Lionel Fillatre",
      "photoUrl": "",
      "userId": "14463393848879581998"
     },
     "user_tz": -120
    },
    "id": "bsGaEFPRiduc",
    "outputId": "e39ae362-6cd5-48b9-80b3-f7d35f76e8a5"
   },
   "outputs": [
    {
     "name": "stdout",
     "output_type": "stream",
     "text": [
      "Initial values of the parameters:\n",
      "tensor([[0.6364],\n",
      "        [0.4034]])\n",
      "tensor([[0.9139]])\n"
     ]
    }
   ],
   "source": [
    "# randomly initialize learnable weights and bias\n",
    "w_t_init = torch.empty(2, 1).uniform_(-1, 1) \n",
    "b_t_init = torch.empty(1, 1).uniform_(-1, 1)\n",
    "\n",
    "print(\"Initial values of the parameters:\")\n",
    "print(w_t_init) \n",
    "print(b_t_init)\n",
    "\n"
   ]
  },
  {
   "cell_type": "markdown",
   "metadata": {
    "id": "y2GD_KIBUTgS"
   },
   "source": [
    "### Question: calculate the gradient of the loss and code it."
   ]
  },
  {
   "cell_type": "markdown",
   "metadata": {
    "id": "CDEXKHBf2hQc"
   },
   "source": [
    "Criterion to minimize:\n",
    "\n",
    "$$\n",
    "J(w_t,b_t)=\\sum_{i=1}^{30}{(\\hat{y}_i-y_i)}^2=\\sum_{i=1}^{30}{(x_iw_t+b_t-y_i)}^2={\\parallel x w_t+b_t 1_{30}-y\\parallel}^2\n",
    "$$\n",
    "\n",
    "Gradient:\n",
    "\n",
    "$$\n",
    "\\frac{\\partial J(w_t,b_t)}{\\partial w_t}=2x^Txw_t+2x^T 1_{30} b_t-2x^T y=2x^T(xw_t+1_{30} b_t-y)\n",
    "$$\n",
    "\n",
    "$$\n",
    "\\frac{\\partial J(w_t,b_t)}{\\partial b_t}=2\\sum_{i=1}^{30}{(x_iw_t+b_t-y_i)}\n",
    "$$"
   ]
  },
  {
   "cell_type": "code",
   "execution_count": null,
   "metadata": {
    "id": "xSwsgVkpPE2i"
   },
   "outputs": [],
   "source": [
    "# our model forward pass\n",
    "def forward_t(x):\n",
    "    return x.mm(w_t)+b_t\n",
    "\n",
    "# Loss function\n",
    "def loss_t(x, y):\n",
    "    y_pred = forward_t(x)\n",
    "    return (y_pred - y).pow(2).sum()\n",
    "\n",
    "# compute gradient\n",
    "def gradient_t(x, y):  # d_loss/d_w, d_loss/d_c\n",
    "    return 2*torch.mm(torch.t(x),x.mm(w_t)+b_t - y), 2 * (x.mm(w_t)+b_t - y).sum()\n",
    "\n"
   ]
  },
  {
   "cell_type": "markdown",
   "metadata": {
    "id": "7x8wNpUISp88"
   },
   "source": [
    "Main loop for computing the estimate (gradient descent)"
   ]
  },
  {
   "cell_type": "markdown",
   "metadata": {
    "id": "pAAxsXCqUSuR"
   },
   "source": [
    "### Question: code the gradient descent algorithm within the main loop."
   ]
  },
  {
   "cell_type": "code",
   "execution_count": null,
   "metadata": {
    "colab": {
     "base_uri": "https://localhost:8080/"
    },
    "executionInfo": {
     "elapsed": 8899,
     "status": "ok",
     "timestamp": 1618173031052,
     "user": {
      "displayName": "Lionel Fillatre",
      "photoUrl": "",
      "userId": "14463393848879581998"
     },
     "user_tz": -120
    },
    "id": "zmh-_IHaidxp",
    "outputId": "82c35c85-39c6-4d38-8ffe-3532db406475"
   },
   "outputs": [
    {
     "name": "stdout",
     "output_type": "stream",
     "text": [
      "progress: epoch: 0 loss tensor(68.1582)\n",
      "progress: epoch: 1 loss tensor(29.3588)\n",
      "progress: epoch: 2 loss tensor(26.2256)\n",
      "progress: epoch: 3 loss tensor(23.5535)\n",
      "progress: epoch: 4 loss tensor(21.1585)\n",
      "progress: epoch: 5 loss tensor(19.0112)\n",
      "progress: epoch: 6 loss tensor(17.0857)\n",
      "progress: epoch: 7 loss tensor(15.3587)\n",
      "progress: epoch: 8 loss tensor(13.8097)\n",
      "progress: epoch: 9 loss tensor(12.4199)\n",
      "progress: epoch: 10 loss tensor(11.1729)\n",
      "progress: epoch: 11 loss tensor(10.0537)\n",
      "progress: epoch: 12 loss tensor(9.0492)\n",
      "progress: epoch: 13 loss tensor(8.1473)\n",
      "progress: epoch: 14 loss tensor(7.3374)\n",
      "progress: epoch: 15 loss tensor(6.6101)\n",
      "progress: epoch: 16 loss tensor(5.9567)\n",
      "progress: epoch: 17 loss tensor(5.3696)\n",
      "progress: epoch: 18 loss tensor(4.8419)\n",
      "progress: epoch: 19 loss tensor(4.3676)\n",
      "progress: epoch: 20 loss tensor(3.9411)\n",
      "progress: epoch: 21 loss tensor(3.5575)\n",
      "progress: epoch: 22 loss tensor(3.2125)\n",
      "progress: epoch: 23 loss tensor(2.9020)\n",
      "progress: epoch: 24 loss tensor(2.6225)\n",
      "progress: epoch: 25 loss tensor(2.3709)\n",
      "progress: epoch: 26 loss tensor(2.1442)\n",
      "progress: epoch: 27 loss tensor(1.9401)\n",
      "progress: epoch: 28 loss tensor(1.7561)\n",
      "progress: epoch: 29 loss tensor(1.5903)\n",
      "progress: epoch: 30 loss tensor(1.4407)\n",
      "progress: epoch: 31 loss tensor(1.3058)\n",
      "progress: epoch: 32 loss tensor(1.1841)\n",
      "progress: epoch: 33 loss tensor(1.0742)\n",
      "progress: epoch: 34 loss tensor(0.9749)\n",
      "progress: epoch: 35 loss tensor(0.8853)\n",
      "progress: epoch: 36 loss tensor(0.8043)\n",
      "progress: epoch: 37 loss tensor(0.7310)\n",
      "progress: epoch: 38 loss tensor(0.6648)\n",
      "progress: epoch: 39 loss tensor(0.6049)\n",
      "progress: epoch: 40 loss tensor(0.5506)\n",
      "progress: epoch: 41 loss tensor(0.5015)\n",
      "progress: epoch: 42 loss tensor(0.4570)\n",
      "progress: epoch: 43 loss tensor(0.4166)\n",
      "progress: epoch: 44 loss tensor(0.3800)\n",
      "progress: epoch: 45 loss tensor(0.3469)\n",
      "progress: epoch: 46 loss tensor(0.3167)\n",
      "progress: epoch: 47 loss tensor(0.2894)\n",
      "progress: epoch: 48 loss tensor(0.2645)\n",
      "progress: epoch: 49 loss tensor(0.2419)\n",
      "progress: epoch: 50 loss tensor(0.2214)\n",
      "progress: epoch: 51 loss tensor(0.2027)\n",
      "progress: epoch: 52 loss tensor(0.1857)\n",
      "progress: epoch: 53 loss tensor(0.1702)\n",
      "progress: epoch: 54 loss tensor(0.1561)\n",
      "progress: epoch: 55 loss tensor(0.1432)\n",
      "progress: epoch: 56 loss tensor(0.1315)\n",
      "progress: epoch: 57 loss tensor(0.1207)\n",
      "progress: epoch: 58 loss tensor(0.1109)\n",
      "progress: epoch: 59 loss tensor(0.1020)\n",
      "progress: epoch: 60 loss tensor(0.0938)\n",
      "progress: epoch: 61 loss tensor(0.0863)\n",
      "progress: epoch: 62 loss tensor(0.0795)\n",
      "progress: epoch: 63 loss tensor(0.0732)\n",
      "progress: epoch: 64 loss tensor(0.0675)\n",
      "progress: epoch: 65 loss tensor(0.0622)\n",
      "progress: epoch: 66 loss tensor(0.0574)\n",
      "progress: epoch: 67 loss tensor(0.0530)\n",
      "progress: epoch: 68 loss tensor(0.0489)\n",
      "progress: epoch: 69 loss tensor(0.0452)\n",
      "progress: epoch: 70 loss tensor(0.0418)\n",
      "progress: epoch: 71 loss tensor(0.0386)\n",
      "progress: epoch: 72 loss tensor(0.0357)\n",
      "progress: epoch: 73 loss tensor(0.0330)\n",
      "progress: epoch: 74 loss tensor(0.0306)\n",
      "progress: epoch: 75 loss tensor(0.0283)\n",
      "progress: epoch: 76 loss tensor(0.0262)\n",
      "progress: epoch: 77 loss tensor(0.0243)\n",
      "progress: epoch: 78 loss tensor(0.0225)\n",
      "progress: epoch: 79 loss tensor(0.0209)\n",
      "progress: epoch: 80 loss tensor(0.0194)\n",
      "progress: epoch: 81 loss tensor(0.0180)\n",
      "progress: epoch: 82 loss tensor(0.0167)\n",
      "progress: epoch: 83 loss tensor(0.0155)\n",
      "progress: epoch: 84 loss tensor(0.0144)\n",
      "progress: epoch: 85 loss tensor(0.0134)\n",
      "progress: epoch: 86 loss tensor(0.0124)\n",
      "progress: epoch: 87 loss tensor(0.0115)\n",
      "progress: epoch: 88 loss tensor(0.0107)\n",
      "progress: epoch: 89 loss tensor(0.0100)\n",
      "progress: epoch: 90 loss tensor(0.0093)\n",
      "progress: epoch: 91 loss tensor(0.0086)\n",
      "progress: epoch: 92 loss tensor(0.0080)\n",
      "progress: epoch: 93 loss tensor(0.0075)\n",
      "progress: epoch: 94 loss tensor(0.0070)\n",
      "progress: epoch: 95 loss tensor(0.0065)\n",
      "progress: epoch: 96 loss tensor(0.0060)\n",
      "progress: epoch: 97 loss tensor(0.0056)\n",
      "progress: epoch: 98 loss tensor(0.0052)\n",
      "progress: epoch: 99 loss tensor(0.0049)\n",
      "progress: epoch: 100 loss tensor(0.0046)\n",
      "progress: epoch: 101 loss tensor(0.0042)\n",
      "progress: epoch: 102 loss tensor(0.0040)\n",
      "progress: epoch: 103 loss tensor(0.0037)\n",
      "progress: epoch: 104 loss tensor(0.0034)\n",
      "progress: epoch: 105 loss tensor(0.0032)\n",
      "progress: epoch: 106 loss tensor(0.0030)\n",
      "progress: epoch: 107 loss tensor(0.0028)\n",
      "progress: epoch: 108 loss tensor(0.0026)\n",
      "progress: epoch: 109 loss tensor(0.0024)\n",
      "progress: epoch: 110 loss tensor(0.0023)\n",
      "progress: epoch: 111 loss tensor(0.0021)\n",
      "progress: epoch: 112 loss tensor(0.0020)\n",
      "progress: epoch: 113 loss tensor(0.0018)\n",
      "progress: epoch: 114 loss tensor(0.0017)\n",
      "progress: epoch: 115 loss tensor(0.0016)\n",
      "progress: epoch: 116 loss tensor(0.0015)\n",
      "progress: epoch: 117 loss tensor(0.0014)\n",
      "progress: epoch: 118 loss tensor(0.0013)\n",
      "progress: epoch: 119 loss tensor(0.0012)\n",
      "progress: epoch: 120 loss tensor(0.0011)\n",
      "progress: epoch: 121 loss tensor(0.0011)\n",
      "progress: epoch: 122 loss tensor(0.0010)\n",
      "progress: epoch: 123 loss tensor(0.0009)\n",
      "progress: epoch: 124 loss tensor(0.0009)\n",
      "progress: epoch: 125 loss tensor(0.0008)\n",
      "progress: epoch: 126 loss tensor(0.0008)\n",
      "progress: epoch: 127 loss tensor(0.0007)\n",
      "progress: epoch: 128 loss tensor(0.0007)\n",
      "progress: epoch: 129 loss tensor(0.0006)\n",
      "progress: epoch: 130 loss tensor(0.0006)\n",
      "progress: epoch: 131 loss tensor(0.0005)\n",
      "progress: epoch: 132 loss tensor(0.0005)\n",
      "progress: epoch: 133 loss tensor(0.0005)\n",
      "progress: epoch: 134 loss tensor(0.0004)\n",
      "progress: epoch: 135 loss tensor(0.0004)\n",
      "progress: epoch: 136 loss tensor(0.0004)\n",
      "progress: epoch: 137 loss tensor(0.0004)\n",
      "progress: epoch: 138 loss tensor(0.0003)\n",
      "progress: epoch: 139 loss tensor(0.0003)\n",
      "progress: epoch: 140 loss tensor(0.0003)\n",
      "progress: epoch: 141 loss tensor(0.0003)\n",
      "progress: epoch: 142 loss tensor(0.0003)\n",
      "progress: epoch: 143 loss tensor(0.0002)\n",
      "progress: epoch: 144 loss tensor(0.0002)\n",
      "progress: epoch: 145 loss tensor(0.0002)\n",
      "progress: epoch: 146 loss tensor(0.0002)\n",
      "progress: epoch: 147 loss tensor(0.0002)\n",
      "progress: epoch: 148 loss tensor(0.0002)\n",
      "progress: epoch: 149 loss tensor(0.0002)\n",
      "progress: epoch: 150 loss tensor(0.0002)\n",
      "progress: epoch: 151 loss tensor(0.0001)\n",
      "progress: epoch: 152 loss tensor(0.0001)\n",
      "progress: epoch: 153 loss tensor(0.0001)\n",
      "progress: epoch: 154 loss tensor(0.0001)\n",
      "progress: epoch: 155 loss tensor(0.0001)\n",
      "progress: epoch: 156 loss tensor(0.0001)\n",
      "progress: epoch: 157 loss tensor(9.5540e-05)\n",
      "progress: epoch: 158 loss tensor(8.9376e-05)\n",
      "progress: epoch: 159 loss tensor(8.3617e-05)\n",
      "progress: epoch: 160 loss tensor(7.8222e-05)\n",
      "progress: epoch: 161 loss tensor(7.3182e-05)\n",
      "progress: epoch: 162 loss tensor(6.8463e-05)\n",
      "progress: epoch: 163 loss tensor(6.4047e-05)\n",
      "progress: epoch: 164 loss tensor(5.9924e-05)\n",
      "progress: epoch: 165 loss tensor(5.6063e-05)\n",
      "progress: epoch: 166 loss tensor(5.2451e-05)\n",
      "progress: epoch: 167 loss tensor(4.9074e-05)\n",
      "progress: epoch: 168 loss tensor(4.5914e-05)\n",
      "progress: epoch: 169 loss tensor(4.2958e-05)\n",
      "progress: epoch: 170 loss tensor(4.0193e-05)\n",
      "progress: epoch: 171 loss tensor(3.7605e-05)\n",
      "progress: epoch: 172 loss tensor(3.5185e-05)\n",
      "progress: epoch: 173 loss tensor(3.2922e-05)\n",
      "progress: epoch: 174 loss tensor(3.0803e-05)\n",
      "progress: epoch: 175 loss tensor(2.8820e-05)\n",
      "progress: epoch: 176 loss tensor(2.6968e-05)\n",
      "progress: epoch: 177 loss tensor(2.5232e-05)\n",
      "progress: epoch: 178 loss tensor(2.3611e-05)\n",
      "progress: epoch: 179 loss tensor(2.2089e-05)\n",
      "progress: epoch: 180 loss tensor(2.0670e-05)\n",
      "progress: epoch: 181 loss tensor(1.9340e-05)\n",
      "progress: epoch: 182 loss tensor(1.8097e-05)\n",
      "progress: epoch: 183 loss tensor(1.6934e-05)\n",
      "progress: epoch: 184 loss tensor(1.5847e-05)\n",
      "progress: epoch: 185 loss tensor(1.4826e-05)\n",
      "progress: epoch: 186 loss tensor(1.3873e-05)\n",
      "progress: epoch: 187 loss tensor(1.2982e-05)\n",
      "progress: epoch: 188 loss tensor(1.2147e-05)\n",
      "progress: epoch: 189 loss tensor(1.1367e-05)\n",
      "progress: epoch: 190 loss tensor(1.0636e-05)\n",
      "progress: epoch: 191 loss tensor(9.9510e-06)\n",
      "progress: epoch: 192 loss tensor(9.3115e-06)\n",
      "progress: epoch: 193 loss tensor(8.7139e-06)\n",
      "progress: epoch: 194 loss tensor(8.1535e-06)\n",
      "progress: epoch: 195 loss tensor(7.6294e-06)\n",
      "progress: epoch: 196 loss tensor(7.1388e-06)\n",
      "progress: epoch: 197 loss tensor(6.6807e-06)\n",
      "progress: epoch: 198 loss tensor(6.2519e-06)\n",
      "progress: epoch: 199 loss tensor(5.8508e-06)\n"
     ]
    }
   ],
   "source": [
    "learning_rate = 1e-2\n",
    "\n",
    "w_t = w_t_init.clone()\n",
    "b_t = b_t_init.clone()\n",
    "\n",
    "for epoch in range(200):\n",
    "    l = loss_t(x,y)\n",
    "    grad_w, grad_b = gradient_t(x,y)\n",
    "    w_t = w_t-learning_rate*grad_w\n",
    "    b_t = b_t-learning_rate*grad_b\n",
    "    print(\"progress:\", \"epoch:\", epoch, \"loss\",l)"
   ]
  },
  {
   "cell_type": "code",
   "execution_count": null,
   "metadata": {
    "colab": {
     "base_uri": "https://localhost:8080/"
    },
    "executionInfo": {
     "elapsed": 9056,
     "status": "ok",
     "timestamp": 1618173031213,
     "user": {
      "displayName": "Lionel Fillatre",
      "photoUrl": "",
      "userId": "14463393848879581998"
     },
     "user_tz": -120
    },
    "id": "87XspCGIid0t",
    "outputId": "ddaa1678-637e-4f88-8b25-96a10cc32ccb"
   },
   "outputs": [
    {
     "name": "stdout",
     "output_type": "stream",
     "text": [
      "Estimation of the parameters:\n",
      "tensor([[ 2.0009],\n",
      "        [-2.9989]])\n",
      "tensor([[0.9989]])\n"
     ]
    }
   ],
   "source": [
    "# After training\n",
    "print(\"Estimation of the parameters:\")\n",
    "print(w_t)\n",
    "print(b_t)"
   ]
  },
  {
   "cell_type": "markdown",
   "metadata": {
    "id": "sceg1L15TqSy"
   },
   "source": [
    "### Question: Test a higger learning rate (e.g., learning_rate = 1). Explain what you observe."
   ]
  },
  {
   "cell_type": "markdown",
   "metadata": {
    "id": "gqWJFYZSTX_m"
   },
   "source": [
    "### Question: How to improve the quality of the estimate?"
   ]
  }
 ],
 "metadata": {
  "colab": {
   "collapsed_sections": [],
   "name": "DSTI_DL_Lab1_April2021_solution.ipynb",
   "provenance": [
    {
     "file_id": "1dWLt0NwaFfqeIFDcqUvAbvtUZX0WsfaA",
     "timestamp": 1584569161578
    },
    {
     "file_id": "1FSHBnWienaS-J9cZvZqFvgKqKvFE8TzL",
     "timestamp": 1570973830446
    },
    {
     "file_id": "1KOuMuh8RKiWRk9jswod-tvc9lGFTJS2T",
     "timestamp": 1570913885656
    }
   ],
   "toc_visible": true
  },
  "kernelspec": {
   "display_name": "Python 3",
   "language": "python",
   "name": "python3"
  },
  "language_info": {
   "codemirror_mode": {
    "name": "ipython",
    "version": 3
   },
   "file_extension": ".py",
   "mimetype": "text/x-python",
   "name": "python",
   "nbconvert_exporter": "python",
   "pygments_lexer": "ipython3",
   "version": "3.8.3"
  }
 },
 "nbformat": 4,
 "nbformat_minor": 4
}
