{
 "cells": [
  {
   "cell_type": "markdown",
   "metadata": {},
   "source": [
    "# Kalman Filter"
   ]
  },
  {
   "cell_type": "markdown",
   "metadata": {},
   "source": [
    "Interpolation\n",
    "\n",
    "$X_a = X_b + K(X_{obs} - HX_b)$ \\\n",
    "$X_{obs}-HX_b =$ Innovation Vector"
   ]
  },
  {
   "cell_type": "markdown",
   "metadata": {},
   "source": [
    "$e_b = $background error $= X_t - X_b$ \\\n",
    "$e_a = $analysis error $= X_t - X_a$ \\\n",
    "$e_o = $observation error $= X_t - X_{obs}$ "
   ]
  },
  {
   "cell_type": "markdown",
   "metadata": {},
   "source": [
    "$e_a = X_t - X_a = X_t - (X_b + K(X_{obs} - HX_b) \\\\\n",
    "=(X_t - X_b) - K(X_{obs} - HX_b) \\\\\n",
    "= e_b - K(X_{obs} - HX_t + HX_t - HX_b) \\\\\n",
    "= e_b - K(-e_o + He_b) \\\\\n",
    "= (I_n - KH)e_b + Ke_0$\n"
   ]
  },
  {
   "cell_type": "markdown",
   "metadata": {},
   "source": [
    "$e_a = (I-KH)e_b + Ke_o \\\\\n",
    "E(e_a e_a^T) = E((I-KH)E_b + Ke_0)((I-KH)e_b + Ke_0)^T) \\\\\n",
    "= E(((I-KH)e_b e_b^T (I-KH)^T) + E((I-KH)e_b e_o^T K^T) + E(K e_o e_b^T(I-KH)^T) + E(K e_o e_o^T K^T) \\\\\n",
    "= (I-KH)E(e_b e_b^T)(I-KH)^T +(I-KH)E(e_b e_o^T)K^T + KE(e_o e_b^T)(I-KH)^T + KE(e_o e_o^T)K^T\\\\\n",
    "$\n"
   ]
  },
  {
   "cell_type": "markdown",
   "metadata": {},
   "source": [
    "We assume that $e_o$ and $e_b$ are uncorrelated \\\n",
    "$E(e_o e_b^T) = 0$"
   ]
  },
  {
   "cell_type": "markdown",
   "metadata": {},
   "source": [
    "$P_a(k) = (I-KH)P_b(I-KH)^T + KRK^T$"
   ]
  },
  {
   "cell_type": "markdown",
   "metadata": {},
   "source": [
    "Choose K that minimizes $P_a$"
   ]
  },
  {
   "cell_type": "markdown",
   "metadata": {},
   "source": [
    "$P_a'(K;L) = lim_{\\epsilon→0} \\frac{P_a(K+\\epsilon L) - P_a(K)}{\\epsilon}$ \\\n",
    "$P_a(K+\\epsilon L) = (I - (K+\\epsilon L)H)P_b(I-(K+\\epsilon L)H)^T \\\\\n",
    "= (I-KH)P_b(I-KH)^T - \\epsilon LHP_b(I-KH)^T - \\epsilon(I-KH)P_b(LH)^T \\\\\n",
    "+ KRK^T + \\epsilon LRK^T + \\epsilon KRL^T + \\epsilon^2 LRL^T$"
   ]
  },
  {
   "cell_type": "markdown",
   "metadata": {},
   "source": [
    "$P_a'(K;L) = -LHP_b(I-KH)^T - (I-KH)P_b(LH)^T + LRK^T + KRL^T = 0  \\ \\forall L$"
   ]
  },
  {
   "cell_type": "markdown",
   "metadata": {},
   "source": [
    "$L(RK^T - HP_b(I-KH)^T)+(KR-(I-KH)P_b H^T)L^T = 0 \\ \\forall L \\\\\n",
    "LA + A^TL^T = 0$ if $A=0$"
   ]
  },
  {
   "cell_type": "markdown",
   "metadata": {},
   "source": [
    "The matrix K that minimizes $P_a$ satisfies: \\\n",
    "$KR - (I-KH)P_b H^T = 0 \\\\\n",
    "KR-P_b H^T + KHP_bH^T = 0 \\\\\n",
    "K(R + HP_bH^T) = P_b H^T　\\\\\n",
    "→　K= P_b H^T(R+HP_bH^T)^{-1}$"
   ]
  },
  {
   "cell_type": "markdown",
   "metadata": {},
   "source": [
    "Assume that R and P_b are invertible"
   ]
  },
  {
   "cell_type": "markdown",
   "metadata": {},
   "source": [
    "$\\underline{K = BH^T(HBH^T + R)^{-1}}$ is the **Kalman Filter(gain) matrix**"
   ]
  },
  {
   "cell_type": "markdown",
   "metadata": {},
   "source": [
    "best interpolation = $X_a = X_b + K(X_{obs} - HX_b)$ \\\n",
    "BLUE(best linear unbiased estimator)"
   ]
  },
  {
   "cell_type": "markdown",
   "metadata": {},
   "source": [
    "In dimension 1: $k = b(b+r)^{-1} = \\frac{b}{b+r}$ \n",
    "\n",
    "$x_a = x_b + k(x_o - x_b) \\\\\n",
    "= x_b + \\frac{b}{b+r}(x_o - x_b) \\\\\n",
    "= \\frac{b x_o + r x_b}{b+r}$"
   ]
  },
  {
   "cell_type": "code",
   "execution_count": 1,
   "metadata": {},
   "outputs": [],
   "source": [
    "# Lorenz model\n",
    "import numpy as np\n",
    "import matplotlib.pyplot as plt"
   ]
  },
  {
   "cell_type": "code",
   "execution_count": 2,
   "metadata": {},
   "outputs": [],
   "source": [
    "# model parameters (=> \"chaotic\" system)\n",
    "s = 10.0\n",
    "r = 28.0\n",
    "b = 8.0/3.0"
   ]
  },
  {
   "cell_type": "code",
   "execution_count": 3,
   "metadata": {},
   "outputs": [],
   "source": [
    "# time window, time step, ...\n",
    "T = 5.0\n",
    "N = 4000\n",
    "dt = T/N"
   ]
  },
  {
   "cell_type": "code",
   "execution_count": 4,
   "metadata": {},
   "outputs": [],
   "source": [
    "# observation frequency\n",
    "freqobs = 100 # every 100 time steps, we have one observation"
   ]
  },
  {
   "cell_type": "code",
   "execution_count": 5,
   "metadata": {},
   "outputs": [],
   "source": [
    "# solve direct model\n",
    "def lorenz(X0): # X0 is a vector dimension 3\n",
    "    X = np.zeros((N+1,3))\n",
    "    X[0,:] = X0 # initialisation\n",
    "    for i in range(N): # time loop\n",
    "        X[i+1,0] = X[i,0] + dt * s*(X[i,1]-X[i,0]) # x component\n",
    "        X[i+1,1] = X[i,1] + dt * (r*X[i,0]-X[i,1]-X[i,0]*X[i,2]) # y component\n",
    "        X[i+1,2] = X[i,2] + dt * (X[i,0]*X[i,1]-b*X[i,2]) # z component\n",
    "    return X\n"
   ]
  },
  {
   "cell_type": "code",
   "execution_count": 6,
   "metadata": {},
   "outputs": [],
   "source": [
    "# direct simulation\n",
    "X0test = np.array([-4.62,-6.61,17.94])\n",
    "Xtest = lorenz(X0test)"
   ]
  },
  {
   "cell_type": "code",
   "execution_count": 7,
   "metadata": {},
   "outputs": [
    {
     "data": {
      "text/plain": [
       "[<matplotlib.lines.Line2D at 0x1b863b6e220>]"
      ]
     },
     "execution_count": 7,
     "metadata": {},
     "output_type": "execute_result"
    },
    {
     "data": {
      "image/png": "[encoded data removed]",
      "text/plain": [
       "<Figure size 432x288 with 1 Axes>"
      ]
     },
     "metadata": {
      "needs_background": "light"
     },
     "output_type": "display_data"
    }
   ],
   "source": [
    "# plot solution\n",
    "plt.plot(Xtest[:,1])"
   ]
  },
  {
   "cell_type": "code",
   "execution_count": 8,
   "metadata": {},
   "outputs": [],
   "source": [
    "# twin experiments: we generate our observations from our model and a known initial condition\n",
    "Xobs = lorenz(X0test)\n",
    "# possibly add noise\n",
    "noise = np.random.randn(N+1,3)\n",
    "noiselevel = 1.0\n",
    "###noiselevel = 0.0\n",
    "Xobs = Xobs + noiselevel*noise\n",
    "# from now, use Xobs at some particular (observation) times, and try to recover X0test\n",
    "# assume we observe everything => H = Id\n",
    "R = noiselevel*np.identity(3)\n",
    "Rinv = np.linalg.inv(R)\n",
    "###Rinv = np.identity(3)"
   ]
  },
  {
   "cell_type": "code",
   "execution_count": 9,
   "metadata": {},
   "outputs": [],
   "source": [
    "# background solution:\n",
    "Xb0 = np.array([-4.0,-6.0,18.0])\n",
    "###Xb0 = X0test\n",
    "Xb = lorenz(Xb0) # the trajectory we get without data assimilation\n",
    "B = np.identity(3)\n",
    "Binv = np.linalg.inv(B)"
   ]
  },
  {
   "cell_type": "code",
   "execution_count": 10,
   "metadata": {},
   "outputs": [],
   "source": [
    "# Kalman\n",
    "def kalman(X0): # X0 is a vector dimension 3\n",
    "    X = np.zeros((N+1,3))\n",
    "    X[0,:] = X0 # initialisation\n",
    "    Pf = B # initialisation\n",
    "    for i in range(N): # time loop\n",
    "        # solution update\n",
    "        X[i+1,0] = X[i,0] + dt * s*(X[i,1]-X[i,0]) # x component\n",
    "        X[i+1,1] = X[i,1] + dt * (r*X[i,0]-X[i,1]-X[i,0]*X[i,2]) # y component\n",
    "        X[i+1,2] = X[i,2] + dt * (X[i,0]*X[i,1]-b*X[i,2]) # z component\n",
    "        # covariance matrices update\n",
    "#        newPf = one step of TLM * oldPf * one step adjoint model\n",
    "        # if observation time\n",
    "        if np.mod(i+1,freqobs) == 0:\n",
    "            # analysis\n",
    "            # Kalman matrix\n",
    "            K = np.matmul(Pf,np.linalg.inv(Pf+R)) #Pf*(Pf+R)^-1\n",
    "            # analysis\n",
    "            Xa = X[i+1,:]+K.dot(Xobs[i+1,:]-X[i+1,:])\n",
    "            X[i+1,:] = Xa\n",
    "    return X\n"
   ]
  },
  {
   "cell_type": "code",
   "execution_count": 11,
   "metadata": {},
   "outputs": [],
   "source": [
    "Xtest = kalman(X0test)"
   ]
  },
  {
   "cell_type": "code",
   "execution_count": 12,
   "metadata": {},
   "outputs": [
    {
     "data": {
      "text/plain": [
       "[<matplotlib.lines.Line2D at 0x1b863c23c40>,\n",
       " <matplotlib.lines.Line2D at 0x1b863c23d30>,\n",
       " <matplotlib.lines.Line2D at 0x1b863c23df0>]"
      ]
     },
     "execution_count": 12,
     "metadata": {},
     "output_type": "execute_result"
    },
    {
     "data": {
      "image/png": "[encoded data removed]",
      "text/plain": [
       "<Figure size 432x288 with 1 Axes>"
      ]
     },
     "metadata": {
      "needs_background": "light"
     },
     "output_type": "display_data"
    }
   ],
   "source": [
    "plt.plot(Xtest)"
   ]
  }
 ],
 "metadata": {
  "kernelspec": {
   "display_name": "Python 3",
   "language": "python",
   "name": "python3"
  },
  "language_info": {
   "codemirror_mode": {
    "name": "ipython",
    "version": 3
   },
   "file_extension": ".py",
   "mimetype": "text/x-python",
   "name": "python",
   "nbconvert_exporter": "python",
   "pygments_lexer": "ipython3",
   "version": "3.7.7"
  }
 },
 "nbformat": 4,
 "nbformat_minor": 4
}
