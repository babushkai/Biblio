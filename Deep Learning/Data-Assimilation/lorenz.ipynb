{
 "cells": [
  {
   "cell_type": "code",
   "execution_count": 1,
   "metadata": {},
   "outputs": [],
   "source": [
    "# Lorenz model\n",
    "import numpy as np\n",
    "import matplotlib.pyplot as plt"
   ]
  },
  {
   "cell_type": "code",
   "execution_count": 2,
   "metadata": {},
   "outputs": [],
   "source": [
    "# model parameters (=> \"chaotic\" system)\n",
    "s = 10.0\n",
    "r = 28.0\n",
    "b = 8.0/3.0"
   ]
  },
  {
   "cell_type": "code",
   "execution_count": 20,
   "metadata": {},
   "outputs": [],
   "source": [
    "# time window, time step, ...\n",
    "T = 5.0\n",
    "N = 4000\n",
    "dt = T/N"
   ]
  },
  {
   "cell_type": "code",
   "execution_count": 21,
   "metadata": {},
   "outputs": [],
   "source": [
    "# observation frequency\n",
    "freqobs = 100 # every 100 time steps, we have one observation\n"
   ]
  },
  {
   "cell_type": "code",
   "execution_count": 22,
   "metadata": {},
   "outputs": [],
   "source": [
    "# solve direct model\n",
    "def lorenz(X0): # X0 is a vector dimension 3\n",
    "    X = np.zeros((N+1,3))\n",
    "    X[0,:] = X0 # initialisation\n",
    "    for i in range(N): # time loop\n",
    "        X[i+1,0] = X[i,0] + dt * s*(X[i,1]-X[i,0]) # x component\n",
    "        X[i+1,1] = X[i,1] + dt * (r*X[i,0]-X[i,1]-X[i,0]*X[i,2]) # y component\n",
    "        X[i+1,2] = X[i,2] + dt * (X[i,0]*X[i,1]-b*X[i,2]) # z component\n",
    "    return X\n"
   ]
  },
  {
   "cell_type": "code",
   "execution_count": 23,
   "metadata": {},
   "outputs": [],
   "source": [
    "# direct simulation\n",
    "X0test = np.array([-4.62,-6.61,17.94])\n",
    "Xtest = lorenz(X0test)"
   ]
  },
  {
   "cell_type": "code",
   "execution_count": 24,
   "metadata": {},
   "outputs": [
    {
     "data": {
      "text/plain": [
       "[<matplotlib.lines.Line2D at 0x1880c1e4eb0>]"
      ]
     },
     "execution_count": 24,
     "metadata": {},
     "output_type": "execute_result"
    },
    {
     "data": {
      "image/png": "[encoded data removed]",
      "text/plain": [
       "<Figure size 432x288 with 1 Axes>"
      ]
     },
     "metadata": {
      "needs_background": "light"
     },
     "output_type": "display_data"
    }
   ],
   "source": [
    "# plot solution\n",
    "plt.plot(Xtest[:,1])"
   ]
  },
  {
   "cell_type": "code",
   "execution_count": 25,
   "metadata": {},
   "outputs": [],
   "source": [
    "# twin experiments: we generate our observations from our model and a known initial condition\n",
    "Xobs = lorenz(X0test)\n",
    "# possibly add noise\n",
    "noise = np.random.randn(N+1,3)\n",
    "noiselevel = 1.0\n",
    "###noiselevel = 0.0\n",
    "Xobs = Xobs + noiselevel*noise\n",
    "# from now, use Xobs at some particular (observation) times, and try to recover X0test\n",
    "# assume we observe everything => H = Id\n",
    "R = noiselevel*np.identity(3)\n",
    "Rinv = np.linalg.inv(R)\n",
    "###Rinv = np.identity(3)"
   ]
  },
  {
   "cell_type": "code",
   "execution_count": 26,
   "metadata": {},
   "outputs": [],
   "source": [
    "# background solution:\n",
    "Xb0 = np.array([-4.0,-6.0,18.0])\n",
    "###Xb0 = X0test\n",
    "Xb = lorenz(Xb0) # the trajectory we get without data assimilation\n",
    "B = np.identity(3)\n",
    "Binv = np.linalg.inv(B)"
   ]
  },
  {
   "cell_type": "code",
   "execution_count": 27,
   "metadata": {},
   "outputs": [],
   "source": [
    "# cost function\n",
    "def cost(X0): # J(X0)\n",
    "    # background part\n",
    "    J = 0.5*np.dot(X0-Xb0,Binv.dot(X0-Xb0))\n",
    "    # observation part\n",
    "    # solve direct model\n",
    "    X = lorenz(X0)\n",
    "    for i in range(0,N+1,freqobs):\n",
    "        J = J + 0.5*np.dot(X[i,:]-Xobs[i,:],Rinv.dot(X[i,:]-Xobs[i,:]))\n",
    "    return J"
   ]
  },
  {
   "cell_type": "code",
   "execution_count": 28,
   "metadata": {},
   "outputs": [
    {
     "data": {
      "text/plain": [
       "55.69508672704045"
      ]
     },
     "execution_count": 28,
     "metadata": {},
     "output_type": "execute_result"
    }
   ],
   "source": [
    "cost(X0test)"
   ]
  },
  {
   "cell_type": "code",
   "execution_count": 33,
   "metadata": {},
   "outputs": [],
   "source": [
    "# resolution of adjoint model\n",
    "def lorenzadj(X): # X is the full direct trajectory\n",
    "    P = np.zeros((N+1,3))\n",
    "    P[N,:] = 0.0 # initialisation with a final condition\n",
    "    # in case of observations at the final time: add forcing term\n",
    "    if np.mod(N,freqobs) == 0:\n",
    "        P[N,:] = P[N,:] - Rinv.dot(X[N,:]-Xobs[N,:])\n",
    "    for i in range(N,0,-1): # backwards time loop\n",
    "        P[i-1,0] = P[i,0] + dt * (-s*P[i,0]+(r-X[i-1,2])*P[i,1]+X[i-1,1]*P[i,2]) # p component\n",
    "        P[i-1,1] = P[i,1] + dt * (s*P[i,0]-P[i,1]+X[i-1,0]*P[i,2]) # q component\n",
    "        P[i-1,2] = P[i,2] + dt * (-X[i-1,0]*P[i,1]-b*P[i,2]) # r component\n",
    "        # in case of observations, add forcing term\n",
    "        if np.mod(i-1,freqobs) == 0:\n",
    "            P[i-1,:] = P[i-1,:] - Rinv.dot(X[i-1,:]-Xobs[i-1,:])\n",
    "    return P\n"
   ]
  },
  {
   "cell_type": "code",
   "execution_count": 34,
   "metadata": {},
   "outputs": [],
   "source": [
    "# gradient of the cost function\n",
    "def costadj(X0): # gradJ(X0)\n",
    "    # compute the direct solution\n",
    "    X = lorenz(X0)\n",
    "    # compute the adjoint solution\n",
    "    P = lorenzadj(X)\n",
    "    # gradient\n",
    "    gradJ = Binv.dot(X0-Xb0)-P[0,:]\n",
    "    return gradJ"
   ]
  },
  {
   "cell_type": "code",
   "execution_count": 35,
   "metadata": {},
   "outputs": [
    {
     "data": {
      "text/plain": [
       "array([-378.79905324, -166.4157759 ,  743.92832669])"
      ]
     },
     "execution_count": 35,
     "metadata": {},
     "output_type": "execute_result"
    }
   ],
   "source": [
    "cost(X0test)\n",
    "costadj(X0test)"
   ]
  },
  {
   "cell_type": "code",
   "execution_count": 37,
   "metadata": {},
   "outputs": [
    {
     "name": "stdout",
     "output_type": "stream",
     "text": [
      "55.69508672704045 55.69508668919694\n"
     ]
    },
    {
     "data": {
      "text/plain": [
       "-378.43506106582936"
      ]
     },
     "execution_count": 37,
     "metadata": {},
     "output_type": "execute_result"
    }
   ],
   "source": [
    "# check if the gradient is correct!!!\n",
    "# estimate the 1st component of the gradient = dJ/dx\n",
    "Y = np.array([1,0,0])\n",
    "epsilon = 0.0000000001\n",
    "print(cost(X0test),cost(X0test+epsilon*Y))\n",
    "(cost(X0test+epsilon*Y)-cost(X0test))/epsilon"
   ]
  },
  {
   "cell_type": "code",
   "execution_count": null,
   "metadata": {},
   "outputs": [],
   "source": []
  }
 ],
 "metadata": {
  "environment": {
   "kernel": "python3",
   "name": "tf2-gpu.2-6.m86",
   "type": "gcloud",
   "uri": "gcr.io/deeplearning-platform-release/tf2-gpu.2-6:m86"
  },
  "kernelspec": {
   "display_name": "Python 3",
   "language": "python",
   "name": "python3"
  },
  "language_info": {
   "codemirror_mode": {
    "name": "ipython",
    "version": 3
   },
   "file_extension": ".py",
   "mimetype": "text/x-python",
   "name": "python",
   "nbconvert_exporter": "python",
   "pygments_lexer": "ipython3",
   "version": "3.7.12"
  }
 },
 "nbformat": 4,
 "nbformat_minor": 4
}
