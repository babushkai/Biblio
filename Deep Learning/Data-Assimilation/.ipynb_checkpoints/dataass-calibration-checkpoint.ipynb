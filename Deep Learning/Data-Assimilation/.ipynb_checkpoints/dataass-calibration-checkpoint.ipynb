{
 "cells": [
  {
   "cell_type": "code",
   "execution_count": 6,
   "metadata": {},
   "outputs": [],
   "source": [
    "# Lorenz model\n",
    "import numpy as np\n",
    "import matplotlib.pyplot as plt"
   ]
  },
  {
   "cell_type": "code",
   "execution_count": 7,
   "metadata": {},
   "outputs": [],
   "source": [
    "# true model parameters (=> \"chaotic\" system)\n",
    "st = 10.0\n",
    "rt = 28.0\n",
    "bt = 8.0/3.0"
   ]
  },
  {
   "cell_type": "code",
   "execution_count": 8,
   "metadata": {},
   "outputs": [],
   "source": [
    "# time window, time step, ...\n",
    "T = 5.0\n",
    "N = 4000\n",
    "dt = T/N"
   ]
  },
  {
   "cell_type": "code",
   "execution_count": 9,
   "metadata": {},
   "outputs": [],
   "source": [
    "# observation frequency\n",
    "freqobs = 100 # every 100 time steps, we have one observation\n"
   ]
  },
  {
   "cell_type": "code",
   "execution_count": 10,
   "metadata": {},
   "outputs": [],
   "source": [
    "# solve direct model\n",
    "def lorenz(X0,s,r,b): # X0 is a vector dimension 3\n",
    "    X = np.zeros((N+1,3))\n",
    "    X[0,:] = X0 # initialisation\n",
    "    for i in range(N): # time loop\n",
    "        X[i+1,0] = X[i,0] + dt * s*(X[i,1]-X[i,0]) # x component\n",
    "        X[i+1,1] = X[i,1] + dt * (r*X[i,0]-X[i,1]-X[i,0]*X[i,2]) # y component\n",
    "        X[i+1,2] = X[i,2] + dt * (X[i,0]*X[i,1]-b*X[i,2]) # z component\n",
    "    return X\n"
   ]
  },
  {
   "cell_type": "code",
   "execution_count": 13,
   "metadata": {},
   "outputs": [],
   "source": [
    "# direct simulation\n",
    "X0test = np.array([-4.62,-6.61,17.94])\n",
    "Xtest = lorenz(X0test,2,3,4)"
   ]
  },
  {
   "cell_type": "code",
   "execution_count": 14,
   "metadata": {},
   "outputs": [
    {
     "data": {
      "text/plain": [
       "[<matplotlib.lines.Line2D at 0x2612b2de320>]"
      ]
     },
     "execution_count": 14,
     "metadata": {},
     "output_type": "execute_result"
    },
    {
     "data": {
      "image/png": "[encoded data removed]",
      "text/plain": [
       "<Figure size 432x288 with 1 Axes>"
      ]
     },
     "metadata": {},
     "output_type": "display_data"
    }
   ],
   "source": [
    "# plot solution\n",
    "plt.plot(Xtest[:,1])"
   ]
  },
  {
   "cell_type": "code",
   "execution_count": 35,
   "metadata": {},
   "outputs": [],
   "source": [
    "# twin experiments: we generate our observations from our model and a known initial condition\n",
    "Xobs = lorenz(X0test,st,rt,bt)\n",
    "# possibly add noise\n",
    "noise = np.random.randn(N+1,3)\n",
    "#noiselevel = 1.0\n",
    "noiselevel = 0.0\n",
    "Xobs = Xobs + noiselevel*noise\n",
    "# from now, use Xobs at some particular (observation) times, and try to recover X0test\n",
    "# assume we observe everything => H = Id\n",
    "R = (0.000001+noiselevel)*np.identity(3)\n",
    "Rinv = np.linalg.inv(R)\n",
    "#Rinv = np.identity(3)"
   ]
  },
  {
   "cell_type": "code",
   "execution_count": 75,
   "metadata": {},
   "outputs": [],
   "source": [
    "# background solution:\n",
    "###Xb0 = np.array([-4.0,-6.0,18.0])\n",
    "Xb0 = X0test # exact solution for the background\n",
    "sb = 10.1\n",
    "rb = 28.1\n",
    "bb = 2.7\n",
    "Xb = lorenz(Xb0,sb,rb,bb) # the trajectory we get without data assimilation\n",
    "B = np.identity(3)\n",
    "Binv = np.linalg.inv(B)"
   ]
  },
  {
   "cell_type": "code",
   "execution_count": 76,
   "metadata": {},
   "outputs": [],
   "source": [
    "# cost function\n",
    "def cost(vec): # J(X0,s,r,b)\n",
    "    # background part\n",
    "    X0 = vec[0:3]\n",
    "    s = vec[3]\n",
    "    r = vec[4]\n",
    "    b = vec[5]\n",
    "    J = 0.5*np.dot(X0-Xb0,Binv.dot(X0-Xb0))\n",
    "    # observation part\n",
    "    # solve direct model\n",
    "    X = lorenz(X0,s,r,b)\n",
    "    for i in range(0,N+1,freqobs):\n",
    "        J = J + 0.5*np.dot(X[i,:]-Xobs[i,:],Rinv.dot(X[i,:]-Xobs[i,:]))\n",
    "    return J"
   ]
  },
  {
   "cell_type": "code",
   "execution_count": 77,
   "metadata": {},
   "outputs": [
    {
     "data": {
      "text/plain": [
       "70362570.32491265"
      ]
     },
     "execution_count": 77,
     "metadata": {},
     "output_type": "execute_result"
    }
   ],
   "source": [
    "vectest = np.array([0.,0.,0.,0.,0.,0.])\n",
    "vectest[0:3] = X0test\n",
    "vectest[3] = sb\n",
    "vectest[4] = rb\n",
    "vectest[5] = bb\n",
    "cost(vectest)\n"
   ]
  },
  {
   "cell_type": "code",
   "execution_count": 78,
   "metadata": {},
   "outputs": [],
   "source": [
    "# resolution of adjoint model\n",
    "def lorenzadj(X,s,r,b): # X is the full direct trajectory\n",
    "    P = np.zeros((N+1,3))\n",
    "    P[N,:] = 0.0 # initialisation with a final condition\n",
    "    # in case of observations at the final time: add forcing term\n",
    "    if np.mod(N,freqobs) == 0:\n",
    "        P[N,:] = P[N,:] - Rinv.dot(X[N,:]-Xobs[N,:])\n",
    "    for i in range(N,0,-1): # backwards time loop\n",
    "        P[i-1,0] = P[i,0] + dt * (-s*P[i,0]+(r-X[i-1,2])*P[i,1]+X[i-1,1]*P[i,2]) # p component\n",
    "        P[i-1,1] = P[i,1] + dt * (s*P[i,0]-P[i,1]+X[i-1,0]*P[i,2]) # q component\n",
    "        P[i-1,2] = P[i,2] + dt * (-X[i-1,0]*P[i,1]-b*P[i,2]) # r component\n",
    "        # in case of observations, add forcing term\n",
    "        if np.mod(i-1,freqobs) == 0:\n",
    "            P[i-1,:] = P[i-1,:] - Rinv.dot(X[i-1,:]-Xobs[i-1,:])\n",
    "    return P\n"
   ]
  },
  {
   "cell_type": "code",
   "execution_count": 47,
   "metadata": {},
   "outputs": [],
   "source": [
    "# gradient of the cost function\n",
    "def costadj(vec): # gradJ(X0,s,r,b)\n",
    "    gradJ = np.zeros(6)\n",
    "    X0 = vec[0:3]\n",
    "    s = vec[3]\n",
    "    r = vec[4]\n",
    "    b = vec[5]\n",
    "    # compute the direct solution\n",
    "    X = lorenz(X0,s,r,b)\n",
    "    # compute the adjoint solution\n",
    "    P = lorenzadj(X,s,r,b)\n",
    "    # gradient w.r.t. the initial condition:\n",
    "    gradJ[0:3] = Binv.dot(X0-Xb0)-P[0,:]\n",
    "    # gradient w.r.t. model parameters\n",
    "    gradJ[3] = -dt*np.dot(X[0:N,1]-X[0:N,0],P[1:N+1,0]) # (y-x)*p\n",
    "    gradJ[4] = -dt*np.dot(X[0:N,0],P[1:N+1,1]) # x_n * q_{n+1}\n",
    "    gradJ[5] = dt*np.dot(X[0:N,2],P[1:N+1,2]) # z_n * r_{n+1}\n",
    "    return gradJ"
   ]
  },
  {
   "cell_type": "code",
   "execution_count": 49,
   "metadata": {},
   "outputs": [
    {
     "name": "stdout",
     "output_type": "stream",
     "text": [
      "9737049507.050377 [ 4.50648898e+09  2.01539312e+09 -7.84987530e+09  4.52307643e+09\n",
      "  9.92101797e+09 -3.04367923e+10]\n"
     ]
    }
   ],
   "source": [
    "print(cost(vectest),costadj(vectest))"
   ]
  },
  {
   "cell_type": "code",
   "execution_count": 55,
   "metadata": {},
   "outputs": [
    {
     "name": "stdout",
     "output_type": "stream",
     "text": [
      "9737049507.050377 9737049504.006989\n"
     ]
    },
    {
     "data": {
      "text/plain": [
       "-30433883666.992188"
      ]
     },
     "execution_count": 55,
     "metadata": {},
     "output_type": "execute_result"
    }
   ],
   "source": [
    "# check if the gradient is correct!!!\n",
    "# estimate the 1st component of the gradient = dJ/dx\n",
    "Y = np.array([0,0,0,0,0,1])\n",
    "epsilon = 0.0000000001\n",
    "print(cost(vectest),cost(vectest+epsilon*Y))\n",
    "(cost(vectest+epsilon*Y)-cost(vectest))/epsilon"
   ]
  },
  {
   "cell_type": "code",
   "execution_count": 56,
   "metadata": {},
   "outputs": [],
   "source": [
    "# let's optimize!\n",
    "from scipy.optimize import minimize\n"
   ]
  },
  {
   "cell_type": "code",
   "execution_count": 79,
   "metadata": {},
   "outputs": [],
   "source": [
    "res = minimize(cost,vectest,method='BFGS',jac=costadj,options={'maxiter': 400})"
   ]
  },
  {
   "cell_type": "code",
   "execution_count": 80,
   "metadata": {},
   "outputs": [
    {
     "data": {
      "text/plain": [
       "      fun: 4.406386429869735e-19\n",
       " hess_inv: array([[ 5.97333024e-07, -4.26917421e-07,  1.92316039e-07,\n",
       "         2.32228302e-08, -1.18175712e-08,  8.78633451e-10],\n",
       "       [-4.26917454e-07,  3.48197351e-07, -1.36828769e-07,\n",
       "         2.44189618e-08, -3.52439842e-09, -1.00707778e-09],\n",
       "       [ 1.92316084e-07, -1.36828755e-07,  1.05486658e-07,\n",
       "         1.33939232e-08,  1.72014301e-08, -4.58307036e-09],\n",
       "       [ 2.32227925e-08,  2.44189905e-08,  1.33938685e-08,\n",
       "         9.06733707e-08, -2.35711936e-08, -4.06911117e-09],\n",
       "       [-1.18175361e-08, -3.52440716e-09,  1.72014568e-08,\n",
       "        -2.35711732e-08,  1.80382237e-08, -1.34717196e-09],\n",
       "       [ 8.78629534e-10, -1.00707916e-09, -4.58307017e-09,\n",
       "        -4.06911609e-09, -1.34716949e-09,  7.54001309e-10]])\n",
       "      jac: array([-9.36567633e-05, -4.43274184e-05,  1.78461113e-04, -3.56250409e-06,\n",
       "       -1.88018092e-04,  7.76147001e-04])\n",
       "  message: 'Desired error not necessarily achieved due to precision loss.'\n",
       "     nfev: 161\n",
       "      nit: 50\n",
       "     njev: 150\n",
       "   status: 2\n",
       "  success: False\n",
       "        x: array([-4.62      , -6.61      , 17.94      , 10.        , 28.        ,\n",
       "        2.66666667])"
      ]
     },
     "execution_count": 80,
     "metadata": {},
     "output_type": "execute_result"
    }
   ],
   "source": [
    "res"
   ]
  },
  {
   "cell_type": "code",
   "execution_count": null,
   "metadata": {},
   "outputs": [],
   "source": []
  }
 ],
 "metadata": {
  "kernelspec": {
   "display_name": "Python 3",
   "language": "python",
   "name": "python3"
  },
  "language_info": {
   "codemirror_mode": {
    "name": "ipython",
    "version": 3
   },
   "file_extension": ".py",
   "mimetype": "text/x-python",
   "name": "python",
   "nbconvert_exporter": "python",
   "pygments_lexer": "ipython3",
   "version": "3.8.1"
  }
 },
 "nbformat": 4,
 "nbformat_minor": 4
}
