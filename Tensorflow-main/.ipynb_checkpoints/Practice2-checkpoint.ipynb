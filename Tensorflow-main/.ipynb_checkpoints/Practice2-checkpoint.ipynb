{
 "cells": [
  {
   "cell_type": "code",
   "execution_count": 1,
   "id": "adjusted-finding",
   "metadata": {},
   "outputs": [],
   "source": [
    "import tensorflow as tf"
   ]
  },
  {
   "cell_type": "code",
   "execution_count": 2,
   "id": "connected-charleston",
   "metadata": {},
   "outputs": [
    {
     "data": {
      "text/plain": [
       "'channels_last'"
      ]
     },
     "execution_count": 2,
     "metadata": {},
     "output_type": "execute_result"
    }
   ],
   "source": [
    "# Returns the default image data format convention.\n",
    "tf.keras.backend.image_data_format()"
   ]
  },
  {
   "cell_type": "code",
   "execution_count": 4,
   "id": "quality-insert",
   "metadata": {},
   "outputs": [],
   "source": [
    "a = tf.keras"
   ]
  },
  {
   "cell_type": "code",
   "execution_count": 5,
   "id": "spanish-fancy",
   "metadata": {},
   "outputs": [],
   "source": [
    "# Addiition\n",
    "b = tf.add(1,2)"
   ]
  },
  {
   "cell_type": "code",
   "execution_count": 6,
   "id": "temporal-greece",
   "metadata": {},
   "outputs": [],
   "source": [
    "c = tf.add([1,2], [3,4])"
   ]
  },
  {
   "cell_type": "code",
   "execution_count": 4,
   "id": "bronze-japan",
   "metadata": {},
   "outputs": [
    {
     "data": {
      "text/plain": [
       "<tf.Tensor: shape=(), dtype=int32, numpy=25>"
      ]
     },
     "execution_count": 4,
     "metadata": {},
     "output_type": "execute_result"
    }
   ],
   "source": [
    "tf.square(5)"
   ]
  },
  {
   "cell_type": "code",
   "execution_count": 5,
   "id": "changed-adult",
   "metadata": {},
   "outputs": [
    {
     "data": {
      "text/plain": [
       "<tf.Tensor: shape=(2,), dtype=int32, numpy=array([1, 9])>"
      ]
     },
     "execution_count": 5,
     "metadata": {},
     "output_type": "execute_result"
    }
   ],
   "source": [
    "tf.square([1,3])"
   ]
  },
  {
   "cell_type": "code",
   "execution_count": 6,
   "id": "affected-garden",
   "metadata": {},
   "outputs": [
    {
     "data": {
      "text/plain": [
       "<tf.Tensor: shape=(), dtype=int32, numpy=26>"
      ]
     },
     "execution_count": 6,
     "metadata": {},
     "output_type": "execute_result"
    }
   ],
   "source": [
    "tf.reduce_sum([2,3,4,5,12])"
   ]
  },
  {
   "cell_type": "code",
   "execution_count": 7,
   "id": "returning-noise",
   "metadata": {},
   "outputs": [
    {
     "data": {
      "text/plain": [
       "<tf.Tensor: shape=(2, 3, 2), dtype=int32, numpy=\n",
       "array([[[2, 1],\n",
       "        [1, 3],\n",
       "        [2, 4]],\n",
       "\n",
       "       [[1, 2],\n",
       "        [1, 3],\n",
       "        [2, 4]]])>"
      ]
     },
     "execution_count": 7,
     "metadata": {},
     "output_type": "execute_result"
    }
   ],
   "source": [
    "tf.constant([[[2,1], \n",
    "                [1,3], \n",
    "                [2,4]],\n",
    "               \n",
    "               [[1,2], \n",
    "                [1,3], \n",
    "                [2,4]]])"
   ]
  },
  {
   "cell_type": "code",
   "execution_count": 8,
   "id": "american-fireplace",
   "metadata": {},
   "outputs": [
    {
     "data": {
      "text/plain": [
       "<tf.Tensor: shape=(), dtype=int32, numpy=26>"
      ]
     },
     "execution_count": 8,
     "metadata": {},
     "output_type": "execute_result"
    }
   ],
   "source": [
    "# Whatever dimension, you get a scalar\n",
    "tf.reduce_sum([[[2,1], \n",
    "                [1,3], \n",
    "                [2,4]],\n",
    "               \n",
    "               [[1,2], \n",
    "                [1,3], \n",
    "                [2,4]]])"
   ]
  },
  {
   "cell_type": "code",
   "execution_count": 9,
   "id": "subsequent-arbor",
   "metadata": {},
   "outputs": [
    {
     "data": {
      "text/plain": [
       "<tf.Tensor: shape=(3, 2), dtype=int32, numpy=\n",
       "array([[3, 3],\n",
       "       [2, 6],\n",
       "       [4, 8]])>"
      ]
     },
     "execution_count": 9,
     "metadata": {},
     "output_type": "execute_result"
    }
   ],
   "source": [
    "# Channel\n",
    "tf.reduce_sum([[[2,1], \n",
    "                [1,3], \n",
    "                [2,4]],\n",
    "               \n",
    "               [[1,2], \n",
    "                [1,3], \n",
    "                [2,4]]], axis=0)"
   ]
  },
  {
   "cell_type": "code",
   "execution_count": 10,
   "id": "electric-wisdom",
   "metadata": {},
   "outputs": [
    {
     "data": {
      "text/plain": [
       "<tf.Tensor: shape=(2, 2), dtype=int32, numpy=\n",
       "array([[5, 8],\n",
       "       [4, 9]])>"
      ]
     },
     "execution_count": 10,
     "metadata": {},
     "output_type": "execute_result"
    }
   ],
   "source": [
    "# Row\n",
    "tf.reduce_sum([[[2,1], \n",
    "                [1,3], \n",
    "                [2,4]],\n",
    "               \n",
    "               [[1,2], \n",
    "                [1,3], \n",
    "                [2,4]]], axis=1)"
   ]
  },
  {
   "cell_type": "code",
   "execution_count": 11,
   "id": "banned-economy",
   "metadata": {},
   "outputs": [
    {
     "data": {
      "text/plain": [
       "<tf.Tensor: shape=(2, 3), dtype=int32, numpy=\n",
       "array([[3, 4, 6],\n",
       "       [3, 4, 6]])>"
      ]
     },
     "execution_count": 11,
     "metadata": {},
     "output_type": "execute_result"
    }
   ],
   "source": [
    "# Column\n",
    "tf.reduce_sum([[[2,1], \n",
    "                [1,3], \n",
    "                [2,4]],\n",
    "               \n",
    "               [[1,2], \n",
    "                [1,3], \n",
    "                [2,4]]], axis=2)"
   ]
  },
  {
   "cell_type": "code",
   "execution_count": 12,
   "id": "destroyed-idaho",
   "metadata": {},
   "outputs": [
    {
     "data": {
      "text/plain": [
       "<tf.Tensor: shape=(1, 1, 1), dtype=int32, numpy=array([[[26]]])>"
      ]
     },
     "execution_count": 12,
     "metadata": {},
     "output_type": "execute_result"
    }
   ],
   "source": [
    "# Single value in the same dimension\n",
    "tf.reduce_sum([[[2,1], \n",
    "                [1,3], \n",
    "                [2,4]],\n",
    "               \n",
    "               [[1,2], \n",
    "                [1,3], \n",
    "                [2,4]]], keepdims=True)"
   ]
  },
  {
   "cell_type": "code",
   "execution_count": 13,
   "id": "given-strategy",
   "metadata": {},
   "outputs": [],
   "source": [
    "x = tf.matmul([[2]],\n",
    "             [[2, 3]])"
   ]
  },
  {
   "cell_type": "code",
   "execution_count": 14,
   "id": "engaged-missile",
   "metadata": {},
   "outputs": [
    {
     "name": "stdout",
     "output_type": "stream",
     "text": [
      "tf.Tensor([[4 6]], shape=(1, 2), dtype=int32)\n",
      "(1, 2)\n",
      "<dtype: 'int32'>\n"
     ]
    }
   ],
   "source": [
    "print(x)\n",
    "print(x.shape)\n",
    "print(x.dtype)"
   ]
  },
  {
   "cell_type": "code",
   "execution_count": 15,
   "id": "relevant-abuse",
   "metadata": {},
   "outputs": [
    {
     "data": {
      "text/plain": [
       "<tf.Tensor: shape=(1, 2), dtype=int32, numpy=array([[4, 6]])>"
      ]
     },
     "execution_count": 15,
     "metadata": {},
     "output_type": "execute_result"
    }
   ],
   "source": [
    "# Tensor to np.array to tensor\n",
    "tf.convert_to_tensor(x.numpy())"
   ]
  },
  {
   "cell_type": "markdown",
   "id": "bright-intranet",
   "metadata": {},
   "source": [
    "・　TensorFlow operations automatically convert NumPy ndarrays to Tensors. \\\n",
    "・　NumPy operations automatically convert Tensors to NumPy ndarrays."
   ]
  },
  {
   "cell_type": "code",
   "execution_count": 16,
   "id": "subsequent-rendering",
   "metadata": {},
   "outputs": [
    {
     "name": "stdout",
     "output_type": "stream",
     "text": [
      "[[1. 1. 1.]\n",
      " [1. 1. 1.]\n",
      " [1. 1. 1.]]\n",
      "\n",
      " TensorFlow operations convert numpy arrays to Tensors automatically\n",
      "tf.Tensor(\n",
      "[[42. 42. 42.]\n",
      " [42. 42. 42.]\n",
      " [42. 42. 42.]], shape=(3, 3), dtype=float64)\n",
      "\n",
      " And NumPy operations convert Tensors to numpy arrays automatically\n",
      "[[42. 42. 42.]\n",
      " [42. 42. 42.]\n",
      " [42. 42. 42.]]\n"
     ]
    }
   ],
   "source": [
    "import numpy as np\n",
    "\n",
    "ndarray = np.ones([3,3])\n",
    "print(ndarray)\n",
    "\n",
    "print(\"\\n TensorFlow operations convert numpy arrays to Tensors automatically\")\n",
    "tensor = tf.multiply(ndarray, 42)\n",
    "print(tensor)\n",
    "\n",
    "print(\"\\n And NumPy operations convert Tensors to numpy arrays automatically\")\n",
    "print(tensor.numpy())"
   ]
  },
  {
   "cell_type": "markdown",
   "id": "blond-fashion",
   "metadata": {},
   "source": [
    "### GPU accelaration\n",
    "\n",
    "Many TensorFlow operations are accelerated using the GPU for computation. \\\n",
    "Without any annotations, TensorFlow automatically decides whether to use the GPU or CPU \\\n",
    "for an operation - copying the tensor between CPU and GPU memory, if necessary. Tensors \\\n",
    "produced by an operation are typically bakced by the memory of the device on which the operation \\\n",
    "excuted"
   ]
  },
  {
   "cell_type": "code",
   "execution_count": 17,
   "id": "animated-office",
   "metadata": {},
   "outputs": [
    {
     "name": "stdout",
     "output_type": "stream",
     "text": [
      "Is there a GPU available: \n",
      "[]\n",
      "Is the Tensor on GPU #0:  \n",
      "False\n"
     ]
    }
   ],
   "source": [
    "# Check the version of CUDA\n",
    "# Need to install cuDNN SDK\n",
    "\n",
    "x = tf.random.uniform([3,3])\n",
    "\n",
    "print(\"Is there a GPU available: \"),\n",
    "print(tf.config.experimental.list_physical_devices(\"GPU\"))\n",
    "\n",
    "print(\"Is the Tensor on GPU #0:  \"),\n",
    "print(x.device.endswith('GPU:0'))"
   ]
  },
  {
   "cell_type": "markdown",
   "id": "operating-punishment",
   "metadata": {},
   "source": [
    "### Create a source **Dataset**\n",
    "\n"
   ]
  },
  {
   "cell_type": "code",
   "execution_count": 18,
   "id": "cordless-conditioning",
   "metadata": {},
   "outputs": [],
   "source": [
    "ds_tensors = tf.data.Dataset.from_tensor_slices([1,2,3,4,5,6])"
   ]
  },
  {
   "cell_type": "code",
   "execution_count": 21,
   "id": "ordered-tracy",
   "metadata": {},
   "outputs": [],
   "source": [
    "import tempfile\n",
    "\n",
    "_, sample = tempfile.mkstemp()\n",
    "\n",
    "with open(sample, \"w\") as f:\n",
    "    f.write(\"\"\"\n",
    "            first\n",
    "            second\n",
    "            third \"\"\")\n",
    "\n",
    "ds_file = tf.data.TextLineDataset(sample)"
   ]
  },
  {
   "cell_type": "code",
   "execution_count": 25,
   "id": "micro-acoustic",
   "metadata": {},
   "outputs": [],
   "source": [
    "import tensorflow as tf\n",
    "\n",
    "from tensorflow.keras.layers import Dense, Flatten, Conv2D\n",
    "from tensorflow.keras import Model"
   ]
  },
  {
   "cell_type": "code",
   "execution_count": 70,
   "id": "indoor-appointment",
   "metadata": {},
   "outputs": [],
   "source": [
    "mnist = tf.keras.datasets.mnist\n",
    "\n",
    "(x_train, y_train), (x_test, y_test) = mnist.load_data()\n",
    "x_train, x_test = x_train / 255.0, x_test / 255.0\n",
    "\n",
    "# Add a channels dimension\n",
    "x_train = x_train[..., tf.newaxis].astype(\"float32\")\n",
    "x_test = x_test[..., tf.newaxis].astype(\"float32\")"
   ]
  },
  {
   "cell_type": "code",
   "execution_count": 71,
   "id": "caroline-croatia",
   "metadata": {},
   "outputs": [],
   "source": [
    "train_ds = tf.data.Dataset.from_tensor_slices(\n",
    "    (x_train, y_train)).shuffle(10000).batch(32)\n",
    "\n",
    "test_ds = tf.data.Dataset.from_tensor_slices((x_test, y_test)).batch(32)"
   ]
  },
  {
   "cell_type": "code",
   "execution_count": 72,
   "id": "nearby-future",
   "metadata": {},
   "outputs": [],
   "source": [
    "class MyModel(Model):\n",
    "  def __init__(self):\n",
    "    super(MyModel, self).__init__()\n",
    "    self.conv1 = Conv2D(32, 3, activation='relu')\n",
    "    self.flatten = Flatten()\n",
    "    self.d1 = Dense(128, activation='relu')\n",
    "    self.d2 = Dense(10)\n",
    "\n",
    "  def call(self, x):\n",
    "    x = self.conv1(x)\n",
    "    x = self.flatten(x)\n",
    "    x = self.d1(x)\n",
    "    return self.d2(x)\n",
    "\n",
    "# Create an instance of the model\n",
    "model = MyModel()"
   ]
  },
  {
   "cell_type": "code",
   "execution_count": 73,
   "id": "absolute-orlando",
   "metadata": {},
   "outputs": [],
   "source": [
    "loss_object = tf.keras.losses.SparseCategoricalCrossentropy(from_logits=True)\n",
    "\n",
    "optimizer = tf.keras.optimizers.Adam()"
   ]
  },
  {
   "cell_type": "code",
   "execution_count": 74,
   "id": "failing-application",
   "metadata": {},
   "outputs": [],
   "source": [
    "train_loss = tf.keras.metrics.Mean(name='train_loss')\n",
    "train_accuracy = tf.keras.metrics.SparseCategoricalAccuracy(name='train_accuracy')\n",
    "\n",
    "test_loss = tf.keras.metrics.Mean(name='test_loss')\n",
    "test_accuracy = tf.keras.metrics.SparseCategoricalAccuracy(name='test_accuracy')"
   ]
  },
  {
   "cell_type": "code",
   "execution_count": 75,
   "id": "sapphire-romania",
   "metadata": {},
   "outputs": [],
   "source": [
    "@tf.function\n",
    "def train_step(images, labels):\n",
    "  with tf.GradientTape() as tape:\n",
    "    # training=True is only needed if there are layers with different\n",
    "    # behavior during training versus inference (e.g. Dropout).\n",
    "    predictions = model(images, training=True)\n",
    "    loss = loss_object(labels, predictions)\n",
    "  gradients = tape.gradient(loss, model.trainable_variables)\n",
    "  optimizer.apply_gradients(zip(gradients, model.trainable_variables))\n",
    "\n",
    "  train_loss(loss)\n",
    "  train_accuracy(labels, predictions)"
   ]
  },
  {
   "cell_type": "code",
   "execution_count": 76,
   "id": "binary-warrant",
   "metadata": {},
   "outputs": [],
   "source": [
    "@tf.function\n",
    "def test_step(images, labels):\n",
    "  # training=False is only needed if there are layers with different\n",
    "  # behavior during training versus inference (e.g. Dropout).\n",
    "  predictions = model(images, training=False)\n",
    "  t_loss = loss_object(labels, predictions)\n",
    "\n",
    "  test_loss(t_loss)\n",
    "  test_accuracy(labels, predictions)"
   ]
  },
  {
   "cell_type": "code",
   "execution_count": 77,
   "id": "pleased-portfolio",
   "metadata": {},
   "outputs": [
    {
     "name": "stdout",
     "output_type": "stream",
     "text": [
      "Epoch 1, Loss: 0.13338951766490936, Accuracy: 95.97166442871094, Test Loss: 0.0559290312230587, Test Accuracy: 98.04000091552734\n",
      "Epoch 2, Loss: 0.04207608103752136, Accuracy: 98.66500091552734, Test Loss: 0.04803626984357834, Test Accuracy: 98.43999481201172\n",
      "Epoch 3, Loss: 0.02125851809978485, Accuracy: 99.31666564941406, Test Loss: 0.062436044216156006, Test Accuracy: 98.11000061035156\n",
      "Epoch 4, Loss: 0.014002603478729725, Accuracy: 99.53166961669922, Test Loss: 0.0581834502518177, Test Accuracy: 98.2699966430664\n",
      "Epoch 5, Loss: 0.00854333397001028, Accuracy: 99.711669921875, Test Loss: 0.0652100071310997, Test Accuracy: 98.0999984741211\n"
     ]
    }
   ],
   "source": [
    "EPOCHS = 5\n",
    "\n",
    "for epoch in range(EPOCHS):\n",
    "  # Reset the metrics at the start of the next epoch\n",
    "  train_loss.reset_states()\n",
    "  train_accuracy.reset_states()\n",
    "  test_loss.reset_states()\n",
    "  test_accuracy.reset_states()\n",
    "\n",
    "  for images, labels in train_ds:\n",
    "    train_step(images, labels)\n",
    "\n",
    "  for test_images, test_labels in test_ds:\n",
    "    test_step(test_images, test_labels)\n",
    "\n",
    "  print(\n",
    "    f'Epoch {epoch + 1}, '\n",
    "    f'Loss: {train_loss.result()}, '\n",
    "    f'Accuracy: {train_accuracy.result() * 100}, '\n",
    "    f'Test Loss: {test_loss.result()}, '\n",
    "    f'Test Accuracy: {test_accuracy.result() * 100}'\n",
    "  )"
   ]
  }
 ],
 "metadata": {
  "kernelspec": {
   "display_name": "Python 3",
   "language": "python",
   "name": "python3"
  },
  "language_info": {
   "codemirror_mode": {
    "name": "ipython",
    "version": 3
   },
   "file_extension": ".py",
   "mimetype": "text/x-python",
   "name": "python",
   "nbconvert_exporter": "python",
   "pygments_lexer": "ipython3",
   "version": "3.8.3"
  }
 },
 "nbformat": 4,
 "nbformat_minor": 5
}
